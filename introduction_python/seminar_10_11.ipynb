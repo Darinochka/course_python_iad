{
 "cells": [
  {
   "cell_type": "markdown",
   "id": "fbf172d6",
   "metadata": {},
   "source": [
    "Материалы:\n",
    "\n",
    "- https://www.youtube.com/watch?v=maMReTuUOWA\n",
    "\n",
    "- http://uneex.org/LecturesCMC/PythonIntro2020/14_Async\n",
    "\n",
    "- https://www.youtube.com/watch?v=5SyA3lsO_hQ\n",
    "\n",
    "- https://docs.python.org/3/library/asyncio.html\n",
    "\n",
    "- https://realpython.com/async-io-python/#the-asyncio-package-and-asyncawait\n",
    "\n",
    "- https://realpython.com/python-concurrency/#how-to-speed-up-an-io-bound-program\n",
    "\n",
    "- Fluent Python 2021 pre-release, Luciano Ramalho главы 19-21"
   ]
  },
  {
   "cell_type": "markdown",
   "id": "b8662053",
   "metadata": {},
   "source": [
    "# Speeding up"
   ]
  },
  {
   "cell_type": "markdown",
   "id": "d4b65bd1",
   "metadata": {},
   "source": [
    "Перед обсуждением более сложных концептов, вспомним необходимые термины и зайдем чуть издалека"
   ]
  },
  {
   "cell_type": "markdown",
   "id": "23065cb1",
   "metadata": {},
   "source": [
    "## Generators and coroutines"
   ]
  },
  {
   "cell_type": "markdown",
   "id": "23734901",
   "metadata": {},
   "source": [
    "### Gen. functions with yield"
   ]
  },
  {
   "cell_type": "markdown",
   "id": "7d40250e",
   "metadata": {},
   "source": [
    "#### Функция-генератор"
   ]
  },
  {
   "cell_type": "code",
   "execution_count": null,
   "id": "a4238697",
   "metadata": {
    "ExecuteTime": {
     "end_time": "2021-11-24T19:44:14.720878Z",
     "start_time": "2021-11-24T19:44:14.717753Z"
    }
   },
   "outputs": [],
   "source": [
    "def gen_fun():\n",
    "    yield 42\n",
    "    yield 43\n",
    "    yield 44"
   ]
  },
  {
   "cell_type": "code",
   "execution_count": null,
   "id": "2b59f001",
   "metadata": {
    "ExecuteTime": {
     "end_time": "2021-11-24T19:44:16.046256Z",
     "start_time": "2021-11-24T19:44:16.043090Z"
    }
   },
   "outputs": [],
   "source": [
    "for v in gen_fun():\n",
    "    print(v)"
   ]
  },
  {
   "cell_type": "markdown",
   "id": "e2ab8e8b",
   "metadata": {},
   "source": [
    "#### Объект-генератор"
   ]
  },
  {
   "cell_type": "code",
   "execution_count": null,
   "id": "1e62f90f",
   "metadata": {
    "ExecuteTime": {
     "end_time": "2021-11-24T19:44:19.261641Z",
     "start_time": "2021-11-24T19:44:19.258889Z"
    }
   },
   "outputs": [],
   "source": [
    "obj_fun = gen_fun()"
   ]
  },
  {
   "cell_type": "code",
   "execution_count": null,
   "id": "e48504b1",
   "metadata": {
    "ExecuteTime": {
     "end_time": "2021-11-24T19:44:20.985399Z",
     "start_time": "2021-11-24T19:44:20.978446Z"
    }
   },
   "outputs": [],
   "source": [
    "next(obj_fun)"
   ]
  },
  {
   "cell_type": "code",
   "execution_count": null,
   "id": "8b2315fa",
   "metadata": {
    "ExecuteTime": {
     "end_time": "2021-11-24T19:44:27.285541Z",
     "start_time": "2021-11-24T19:44:27.282031Z"
    }
   },
   "outputs": [],
   "source": [
    "obj_fun.__next__()"
   ]
  },
  {
   "cell_type": "code",
   "execution_count": null,
   "id": "8b275c3f",
   "metadata": {
    "ExecuteTime": {
     "end_time": "2021-11-24T19:44:28.863566Z",
     "start_time": "2021-11-24T19:44:28.859430Z"
    }
   },
   "outputs": [],
   "source": [
    "obj_fun.send(None)"
   ]
  },
  {
   "cell_type": "code",
   "execution_count": null,
   "id": "3557ca96",
   "metadata": {
    "ExecuteTime": {
     "end_time": "2021-11-24T19:44:55.772914Z",
     "start_time": "2021-11-24T19:44:53.922052Z"
    }
   },
   "outputs": [],
   "source": [
    "next(obj_fun)"
   ]
  },
  {
   "cell_type": "markdown",
   "id": "7a494585",
   "metadata": {},
   "source": [
    "#### Пример стрима"
   ]
  },
  {
   "cell_type": "markdown",
   "id": "901cacf3",
   "metadata": {},
   "source": [
    "Генераторы могут быть полезны, когда вы хотите сделать некоторую бесконечную последовательность и работать с ней \"на лету\".\n",
    "Можно делать стримы. Например, нагенерировать последовательно Фибоначчи в виде генератора, постепенно читать из больших файлов и т.д."
   ]
  },
  {
   "cell_type": "markdown",
   "id": "9858aa34",
   "metadata": {},
   "source": [
    "Давайте попробуем написать такую последовательность!\n",
    "\n",
    "**Task. Напишите бесконечный генератор простых чисел**"
   ]
  },
  {
   "cell_type": "code",
   "execution_count": null,
   "id": "5f6b6cc8",
   "metadata": {
    "ExecuteTime": {
     "end_time": "2021-11-30T21:01:34.480409Z",
     "start_time": "2021-11-30T21:01:34.476735Z"
    }
   },
   "outputs": [],
   "source": [
    "from math import sqrt, floor\n",
    "\n",
    "\n",
    "def create_prime_stream():\n",
    "    n = 1\n",
    "    while True:\n",
    "        n += 1\n",
    "        for i in range(2, floor(sqrt(n))+1):\n",
    "            if n % i == 0:\n",
    "                break\n",
    "        else:\n",
    "            yield n"
   ]
  },
  {
   "cell_type": "code",
   "execution_count": null,
   "id": "084fdbef",
   "metadata": {
    "ExecuteTime": {
     "end_time": "2021-12-01T08:00:05.746316Z",
     "start_time": "2021-12-01T08:00:05.743436Z"
    }
   },
   "outputs": [],
   "source": [
    "prime_stream = create_prime_stream()"
   ]
  },
  {
   "cell_type": "code",
   "execution_count": null,
   "id": "06a200d5",
   "metadata": {
    "ExecuteTime": {
     "end_time": "2021-12-01T08:00:09.633618Z",
     "start_time": "2021-12-01T08:00:07.336703Z"
    }
   },
   "outputs": [],
   "source": [
    "for prime_value in prime_stream:\n",
    "    print(prime_value)"
   ]
  },
  {
   "cell_type": "markdown",
   "id": "5447cbdd",
   "metadata": {},
   "source": [
    "#### Можно делать и return"
   ]
  },
  {
   "cell_type": "code",
   "execution_count": 11,
   "id": "4f45fb96",
   "metadata": {
    "ExecuteTime": {
     "end_time": "2021-11-24T19:54:54.796034Z",
     "start_time": "2021-11-24T19:54:54.792931Z"
    }
   },
   "outputs": [],
   "source": [
    "def gen_fun():\n",
    "    yield 42\n",
    "    yield 43\n",
    "    yield 44\n",
    "    return 'string'"
   ]
  },
  {
   "cell_type": "code",
   "execution_count": 12,
   "id": "9a72e1ce",
   "metadata": {
    "ExecuteTime": {
     "end_time": "2021-11-24T19:54:54.981318Z",
     "start_time": "2021-11-24T19:54:54.978764Z"
    }
   },
   "outputs": [],
   "source": [
    "obj_fun = gen_fun()"
   ]
  },
  {
   "cell_type": "code",
   "execution_count": 13,
   "id": "d95dc199",
   "metadata": {
    "ExecuteTime": {
     "end_time": "2021-11-24T19:54:55.141305Z",
     "start_time": "2021-11-24T19:54:55.136927Z"
    }
   },
   "outputs": [
    {
     "data": {
      "text/plain": [
       "42"
      ]
     },
     "execution_count": 13,
     "metadata": {},
     "output_type": "execute_result"
    }
   ],
   "source": [
    "next(obj_fun)"
   ]
  },
  {
   "cell_type": "code",
   "execution_count": 14,
   "id": "da450763",
   "metadata": {
    "ExecuteTime": {
     "end_time": "2021-11-24T19:54:55.310036Z",
     "start_time": "2021-11-24T19:54:55.305975Z"
    }
   },
   "outputs": [
    {
     "data": {
      "text/plain": [
       "43"
      ]
     },
     "execution_count": 14,
     "metadata": {},
     "output_type": "execute_result"
    }
   ],
   "source": [
    "next(obj_fun)"
   ]
  },
  {
   "cell_type": "code",
   "execution_count": 15,
   "id": "a47f8462",
   "metadata": {
    "ExecuteTime": {
     "end_time": "2021-11-24T19:54:55.615756Z",
     "start_time": "2021-11-24T19:54:55.612742Z"
    }
   },
   "outputs": [
    {
     "data": {
      "text/plain": [
       "44"
      ]
     },
     "execution_count": 15,
     "metadata": {},
     "output_type": "execute_result"
    }
   ],
   "source": [
    "next(obj_fun)"
   ]
  },
  {
   "cell_type": "code",
   "execution_count": 16,
   "id": "c497707f",
   "metadata": {
    "ExecuteTime": {
     "end_time": "2021-11-24T19:54:57.197120Z",
     "start_time": "2021-11-24T19:54:57.184733Z"
    }
   },
   "outputs": [
    {
     "name": "stdout",
     "output_type": "stream",
     "text": [
      "string\n"
     ]
    },
    {
     "ename": "StopIteration",
     "evalue": "string",
     "output_type": "error",
     "traceback": [
      "\u001b[1;31m---------------------------------------------------------------------------\u001b[0m",
      "\u001b[1;31mStopIteration\u001b[0m                             Traceback (most recent call last)",
      "\u001b[1;32m~\\AppData\\Local\\Temp/ipykernel_4436/2096793329.py\u001b[0m in \u001b[0;36m<module>\u001b[1;34m\u001b[0m\n\u001b[0;32m      3\u001b[0m \u001b[1;32mexcept\u001b[0m \u001b[0mStopIteration\u001b[0m \u001b[1;32mas\u001b[0m \u001b[0me\u001b[0m\u001b[1;33m:\u001b[0m\u001b[1;33m\u001b[0m\u001b[1;33m\u001b[0m\u001b[0m\n\u001b[0;32m      4\u001b[0m     \u001b[0mprint\u001b[0m\u001b[1;33m(\u001b[0m\u001b[0me\u001b[0m\u001b[1;33m.\u001b[0m\u001b[0mvalue\u001b[0m\u001b[1;33m)\u001b[0m\u001b[1;33m\u001b[0m\u001b[1;33m\u001b[0m\u001b[0m\n\u001b[1;32m----> 5\u001b[1;33m     \u001b[1;32mraise\u001b[0m\u001b[1;33m(\u001b[0m\u001b[0me\u001b[0m\u001b[1;33m)\u001b[0m\u001b[1;33m\u001b[0m\u001b[1;33m\u001b[0m\u001b[0m\n\u001b[0m",
      "\u001b[1;32m~\\AppData\\Local\\Temp/ipykernel_4436/2096793329.py\u001b[0m in \u001b[0;36m<module>\u001b[1;34m\u001b[0m\n\u001b[0;32m      1\u001b[0m \u001b[1;32mtry\u001b[0m\u001b[1;33m:\u001b[0m\u001b[1;33m\u001b[0m\u001b[1;33m\u001b[0m\u001b[0m\n\u001b[1;32m----> 2\u001b[1;33m     \u001b[0mnext\u001b[0m\u001b[1;33m(\u001b[0m\u001b[0mobj_fun\u001b[0m\u001b[1;33m)\u001b[0m\u001b[1;33m\u001b[0m\u001b[1;33m\u001b[0m\u001b[0m\n\u001b[0m\u001b[0;32m      3\u001b[0m \u001b[1;32mexcept\u001b[0m \u001b[0mStopIteration\u001b[0m \u001b[1;32mas\u001b[0m \u001b[0me\u001b[0m\u001b[1;33m:\u001b[0m\u001b[1;33m\u001b[0m\u001b[1;33m\u001b[0m\u001b[0m\n\u001b[0;32m      4\u001b[0m     \u001b[0mprint\u001b[0m\u001b[1;33m(\u001b[0m\u001b[0me\u001b[0m\u001b[1;33m.\u001b[0m\u001b[0mvalue\u001b[0m\u001b[1;33m)\u001b[0m\u001b[1;33m\u001b[0m\u001b[1;33m\u001b[0m\u001b[0m\n\u001b[0;32m      5\u001b[0m     \u001b[1;32mraise\u001b[0m\u001b[1;33m(\u001b[0m\u001b[0me\u001b[0m\u001b[1;33m)\u001b[0m\u001b[1;33m\u001b[0m\u001b[1;33m\u001b[0m\u001b[0m\n",
      "\u001b[1;31mStopIteration\u001b[0m: string"
     ]
    }
   ],
   "source": [
    "try:\n",
    "    next(obj_fun)\n",
    "except StopIteration as e:\n",
    "    print(e.value)\n",
    "    raise(e)"
   ]
  },
  {
   "cell_type": "markdown",
   "id": "a2b36345",
   "metadata": {},
   "source": [
    "### Coroutines"
   ]
  },
  {
   "cell_type": "markdown",
   "id": "3f7dde5b",
   "metadata": {},
   "source": [
    "#### Пример работы yield \"на вход\""
   ]
  },
  {
   "cell_type": "code",
   "execution_count": 1,
   "id": "a182b90b",
   "metadata": {
    "ExecuteTime": {
     "end_time": "2021-11-24T19:45:59.493707Z",
     "start_time": "2021-11-24T19:45:59.490606Z"
    }
   },
   "outputs": [],
   "source": [
    "from collections.abc import Generator"
   ]
  },
  {
   "cell_type": "code",
   "execution_count": 18,
   "id": "2d666b9b",
   "metadata": {
    "ExecuteTime": {
     "end_time": "2021-11-24T19:47:36.181188Z",
     "start_time": "2021-11-24T19:47:36.178003Z"
    }
   },
   "outputs": [],
   "source": [
    "def averager() -> Generator:\n",
    "    total = 0.\n",
    "    count = 0\n",
    "    avg = 0.\n",
    "    while True:\n",
    "        curr = yield avg\n",
    "        total += curr\n",
    "        count += 1\n",
    "        avg = total / count"
   ]
  },
  {
   "cell_type": "code",
   "execution_count": 19,
   "id": "743a7205",
   "metadata": {
    "ExecuteTime": {
     "end_time": "2021-11-24T19:47:39.966729Z",
     "start_time": "2021-11-24T19:47:39.962354Z"
    }
   },
   "outputs": [
    {
     "data": {
      "text/plain": [
       "0.0"
      ]
     },
     "execution_count": 19,
     "metadata": {},
     "output_type": "execute_result"
    }
   ],
   "source": [
    "coro_avg = averager()\n",
    "next(coro_avg)"
   ]
  },
  {
   "cell_type": "code",
   "execution_count": 20,
   "id": "b3ce9397",
   "metadata": {
    "ExecuteTime": {
     "end_time": "2021-11-24T19:47:40.663892Z",
     "start_time": "2021-11-24T19:47:40.659866Z"
    }
   },
   "outputs": [
    {
     "data": {
      "text/plain": [
       "10.0"
      ]
     },
     "execution_count": 20,
     "metadata": {},
     "output_type": "execute_result"
    }
   ],
   "source": [
    "coro_avg.send(10)"
   ]
  },
  {
   "cell_type": "code",
   "execution_count": 21,
   "id": "48ee825b",
   "metadata": {
    "ExecuteTime": {
     "end_time": "2021-11-24T19:47:41.439431Z",
     "start_time": "2021-11-24T19:47:41.435718Z"
    }
   },
   "outputs": [
    {
     "data": {
      "text/plain": [
       "12.5"
      ]
     },
     "execution_count": 21,
     "metadata": {},
     "output_type": "execute_result"
    }
   ],
   "source": [
    "coro_avg.send(15)"
   ]
  },
  {
   "cell_type": "markdown",
   "id": "8bbc7341",
   "metadata": {},
   "source": [
    "Очень похоже на рассмотренный ранее на курсе пример с замыканием. Корутина хранит состояние.\n",
    "\n",
    "В Python корутины -- это по сути те же генераторы, только мы еще помимо считывания данных, их туда дописываем"
   ]
  },
  {
   "cell_type": "code",
   "execution_count": 22,
   "id": "667d6079",
   "metadata": {
    "ExecuteTime": {
     "end_time": "2021-11-24T19:48:06.552138Z",
     "start_time": "2021-11-24T19:48:06.548132Z"
    }
   },
   "outputs": [
    {
     "data": {
      "text/plain": [
       "15.0"
      ]
     },
     "execution_count": 22,
     "metadata": {},
     "output_type": "execute_result"
    }
   ],
   "source": [
    "coro_avg.send(20)"
   ]
  },
  {
   "cell_type": "code",
   "execution_count": 23,
   "id": "36a0cf35",
   "metadata": {
    "ExecuteTime": {
     "end_time": "2021-11-24T19:48:07.900966Z",
     "start_time": "2021-11-24T19:48:07.898628Z"
    }
   },
   "outputs": [],
   "source": [
    "coro_avg.close()"
   ]
  },
  {
   "cell_type": "code",
   "execution_count": 24,
   "id": "42085795",
   "metadata": {
    "ExecuteTime": {
     "end_time": "2021-11-24T19:48:08.990182Z",
     "start_time": "2021-11-24T19:48:08.978537Z"
    }
   },
   "outputs": [
    {
     "ename": "StopIteration",
     "evalue": "",
     "output_type": "error",
     "traceback": [
      "\u001b[1;31m---------------------------------------------------------------------------\u001b[0m",
      "\u001b[1;31mStopIteration\u001b[0m                             Traceback (most recent call last)",
      "\u001b[1;32m~\\AppData\\Local\\Temp/ipykernel_4436/445105584.py\u001b[0m in \u001b[0;36m<module>\u001b[1;34m\u001b[0m\n\u001b[1;32m----> 1\u001b[1;33m \u001b[0mcoro_avg\u001b[0m\u001b[1;33m.\u001b[0m\u001b[0msend\u001b[0m\u001b[1;33m(\u001b[0m\u001b[1;36m20\u001b[0m\u001b[1;33m)\u001b[0m\u001b[1;33m\u001b[0m\u001b[1;33m\u001b[0m\u001b[0m\n\u001b[0m",
      "\u001b[1;31mStopIteration\u001b[0m: "
     ]
    }
   ],
   "source": [
    "coro_avg.send(20)"
   ]
  },
  {
   "cell_type": "markdown",
   "id": "201dd145",
   "metadata": {},
   "source": [
    "Неформально, **корутина** (или сопрограмма в старой терминологии) -- это такая функция, в которую можно входить много раз и каждый раз попадать именно в то место, из которого в прошлый раз выходил. А также при очеденом входе в такую функцию можно добавлять новые данные. После частичного выхода из сопрограммы, ее код перестает выполняться.\n",
    "\n",
    "Когда выполнение **корутины** приостанавливается, может происходить переключение на другие задачи.\n",
    "\n",
    "Итого, в python **корутина** -- это функция, которая может приостановить свое выполение до своего формального завеешения, и на некоторое время передавать ресурсы программы на выполнение другой **корутины**"
   ]
  },
  {
   "cell_type": "markdown",
   "id": "49ccaa16",
   "metadata": {},
   "source": [
    "#### yield from"
   ]
  },
  {
   "cell_type": "markdown",
   "id": "998cc0f6",
   "metadata": {},
   "source": [
    "Также обратим внимание на конструкцию **yield from**"
   ]
  },
  {
   "cell_type": "code",
   "execution_count": 2,
   "id": "0ba1553f",
   "metadata": {
    "ExecuteTime": {
     "end_time": "2021-11-24T19:50:30.486335Z",
     "start_time": "2021-11-24T19:50:30.482854Z"
    }
   },
   "outputs": [],
   "source": [
    "from time import sleep\n",
    "def secondary():\n",
    "    for i in range(10):\n",
    "        yield f\"SEC {i}\"\n",
    "\n",
    "def primary(name=\"Prim\"):\n",
    "    while True:\n",
    "        yield from secondary()\n",
    "        yield name"
   ]
  },
  {
   "cell_type": "code",
   "execution_count": 26,
   "id": "68dbf395",
   "metadata": {
    "ExecuteTime": {
     "end_time": "2021-11-24T19:50:44.419844Z",
     "start_time": "2021-11-24T19:50:32.402018Z"
    }
   },
   "outputs": [
    {
     "name": "stdout",
     "output_type": "stream",
     "text": [
      "0 SEC 0\n",
      "1 SEC 1\n",
      "2 SEC 2\n",
      "3 SEC 3\n",
      "4 SEC 4\n",
      "5 SEC 5\n",
      "6 SEC 6\n",
      "7 SEC 7\n",
      "8 SEC 8\n",
      "9 SEC 9\n",
      "10 Prim\n",
      "11 SEC 0\n"
     ]
    }
   ],
   "source": [
    "core = primary()\n",
    "\n",
    "n = 12\n",
    "for i in range(n):\n",
    "    sleep(1)\n",
    "    print(f'{i} {next(core)}')"
   ]
  },
  {
   "cell_type": "markdown",
   "id": "0e11ad27",
   "metadata": {},
   "source": [
    "Что если сделать два таких primary исполнителя?"
   ]
  },
  {
   "cell_type": "code",
   "execution_count": 3,
   "id": "f1fa5146",
   "metadata": {
    "ExecuteTime": {
     "end_time": "2021-11-24T19:54:00.602122Z",
     "start_time": "2021-11-24T19:53:30.560813Z"
    },
    "scrolled": true,
    "tags": []
   },
   "outputs": [
    {
     "name": "stdout",
     "output_type": "stream",
     "text": [
      "0| SEC 1 from first prim\n",
      "1| SEC 1 from second prim\n",
      "2| SEC 2 from second prim\n"
     ]
    },
    {
     "ename": "KeyboardInterrupt",
     "evalue": "",
     "output_type": "error",
     "traceback": [
      "\u001b[1;31m---------------------------------------------------------------------------\u001b[0m",
      "\u001b[1;31mKeyboardInterrupt\u001b[0m                         Traceback (most recent call last)",
      "\u001b[1;32m~\\AppData\\Local\\Temp/ipykernel_14424/3614136263.py\u001b[0m in \u001b[0;36m<module>\u001b[1;34m\u001b[0m\n\u001b[0;32m     18\u001b[0m \u001b[1;33m\u001b[0m\u001b[0m\n\u001b[0;32m     19\u001b[0m \u001b[1;32mfor\u001b[0m \u001b[0mi\u001b[0m \u001b[1;32min\u001b[0m \u001b[0mrange\u001b[0m\u001b[1;33m(\u001b[0m\u001b[0mn\u001b[0m\u001b[1;33m)\u001b[0m\u001b[1;33m:\u001b[0m\u001b[1;33m\u001b[0m\u001b[1;33m\u001b[0m\u001b[0m\n\u001b[1;32m---> 20\u001b[1;33m     \u001b[0msleep\u001b[0m\u001b[1;33m(\u001b[0m\u001b[1;36m1\u001b[0m\u001b[1;33m)\u001b[0m\u001b[1;33m\u001b[0m\u001b[1;33m\u001b[0m\u001b[0m\n\u001b[0m\u001b[0;32m     21\u001b[0m     \u001b[1;32mif\u001b[0m \u001b[0mrandom\u001b[0m\u001b[1;33m(\u001b[0m\u001b[1;33m)\u001b[0m \u001b[1;33m>\u001b[0m \u001b[0mthreshold\u001b[0m\u001b[1;33m:\u001b[0m\u001b[1;33m\u001b[0m\u001b[1;33m\u001b[0m\u001b[0m\n\u001b[0;32m     22\u001b[0m         \u001b[0mres\u001b[0m \u001b[1;33m=\u001b[0m \u001b[0mnext\u001b[0m\u001b[1;33m(\u001b[0m\u001b[0mcore_one\u001b[0m\u001b[1;33m)\u001b[0m\u001b[1;33m\u001b[0m\u001b[1;33m\u001b[0m\u001b[0m\n",
      "\u001b[1;31mKeyboardInterrupt\u001b[0m: "
     ]
    }
   ],
   "source": [
    "from random import random\n",
    "\n",
    "def secondary(src_name):\n",
    "    yield f'SEC 1 from {src_name}'\n",
    "    yield f'SEC 2 from {src_name}'\n",
    "\n",
    "def primary(name='prim'):\n",
    "    for i in range(1000):\n",
    "        yield from secondary(name)\n",
    "        yield f'{name}-{i}'\n",
    "\n",
    "\n",
    "core_one = primary('first prim')\n",
    "core_two = primary('second prim')\n",
    "\n",
    "n = 30\n",
    "threshold = 0.8\n",
    "\n",
    "for i in range(n):\n",
    "    sleep(1)\n",
    "    if random() > threshold:\n",
    "        res = next(core_one)\n",
    "    else:\n",
    "        res = next(core_two)\n",
    "    print(f'{i}| {res}')"
   ]
  },
  {
   "cell_type": "markdown",
   "id": "0b853eb0",
   "metadata": {},
   "source": [
    "Обратите внимание на глобальный счетчик. В каждом такте цикла мы возвращаемся к выполнению либо *core_one*, либо *core_2* в зависимости от выбранной вероятности. Один такт цикла -- один отрабатываемый yield"
   ]
  },
  {
   "cell_type": "markdown",
   "id": "b4a49d9b",
   "metadata": {},
   "source": [
    "#### Добавляем return"
   ]
  },
  {
   "cell_type": "markdown",
   "id": "ee3689b5",
   "metadata": {
    "ExecuteTime": {
     "end_time": "2021-11-24T07:09:30.897812Z",
     "start_time": "2021-11-24T07:09:30.894392Z"
    }
   },
   "source": [
    "А что если было возвращаемое значение?"
   ]
  },
  {
   "cell_type": "code",
   "execution_count": 28,
   "id": "4ae0b446",
   "metadata": {
    "ExecuteTime": {
     "end_time": "2021-11-24T19:58:12.936815Z",
     "start_time": "2021-11-24T19:58:02.921209Z"
    },
    "scrolled": true,
    "tags": []
   },
   "outputs": [
    {
     "name": "stdout",
     "output_type": "stream",
     "text": [
      "0 | SEC 1 from prim #0\n",
      "1 | SEC 2 from prim #0\n",
      "secondary-0: \n",
      "2 | SEC 1 from prim #1\n",
      "3 | SEC 2 from prim #1\n",
      "secondary-1: prim\n",
      "4 | SEC 1 from prim #2\n",
      "5 | SEC 2 from prim #2\n",
      "secondary-2: primprim\n",
      "6 | SEC 1 from prim #3\n",
      "7 | SEC 2 from prim #3\n",
      "secondary-3: primprimprim\n",
      "8 | SEC 1 from prim #4\n",
      "9 | SEC 2 from prim #4\n"
     ]
    }
   ],
   "source": [
    "def secondary(src_name, i):\n",
    "    yield f'SEC 1 from {src_name} #{i}'\n",
    "    yield f'SEC 2 from {src_name} #{i}'\n",
    "    return src_name * i\n",
    "    \n",
    "def primary(name='prim'):\n",
    "    for i in range(1000):\n",
    "        res = yield from secondary(name, i)\n",
    "        print(f'secondary-{i}: {res}')\n",
    "        \n",
    "core = primary()\n",
    "\n",
    "n = 10\n",
    "for i in range(n):\n",
    "    sleep(1)\n",
    "    print(f'{i} | {next(core)}')"
   ]
  },
  {
   "cell_type": "markdown",
   "id": "9e2a03fc",
   "metadata": {},
   "source": [
    "#### \"Общение\" генераторов с попощью send"
   ]
  },
  {
   "cell_type": "markdown",
   "id": "3fbe82d6",
   "metadata": {},
   "source": [
    "Также генераторы могут друг другу пересылать данные через **.send**"
   ]
  },
  {
   "cell_type": "code",
   "execution_count": null,
   "id": "38b1a54d",
   "metadata": {
    "ExecuteTime": {
     "end_time": "2021-11-24T09:03:38.966660Z",
     "start_time": "2021-11-24T09:03:09.590993Z"
    }
   },
   "outputs": [],
   "source": [
    "def value_computer(val):\n",
    "    x = yield f'computer: get val x '\n",
    "    y = yield f'computer: get val y '\n",
    "    return x ** 2 + y\n",
    "\n",
    "def value_provider():\n",
    "    res_one = yield from value_computer(1)\n",
    "    print(f'provider: got {res_one} from computer')\n",
    "    res_two = yield from value_computer(2)\n",
    "    print(f'provider: got {res_two} from computer')\n",
    "    \n",
    "    return res_one + res_two + 100\n",
    "\n",
    "command = value_provider()\n",
    "req = next(command)\n",
    "\n",
    "for i in range(4):\n",
    "    data = eval(input(req))\n",
    "    req = command.send(data)  # send в computer, у которого больше нет yield"
   ]
  },
  {
   "cell_type": "markdown",
   "id": "26532b92",
   "metadata": {},
   "source": [
    "#### Подходим к async своими руками"
   ]
  },
  {
   "cell_type": "markdown",
   "id": "2213b752",
   "metadata": {},
   "source": [
    "Теперь значения будем не руками передавать, а делать это из цикла. Например, если у нас сгенерирован int, будем засылать рандомную цифру, str -- букву"
   ]
  },
  {
   "cell_type": "markdown",
   "id": "b3aa786e",
   "metadata": {},
   "source": [
    "Делаем асинхронность своими руками"
   ]
  },
  {
   "cell_type": "code",
   "execution_count": null,
   "id": "3928f7d7",
   "metadata": {
    "ExecuteTime": {
     "end_time": "2021-11-24T09:32:37.982747Z",
     "start_time": "2021-11-24T09:32:37.977025Z"
    }
   },
   "outputs": [],
   "source": [
    "import random\n",
    "from collections import deque\n",
    "\n",
    "\n",
    "def computer():\n",
    "    '''\n",
    "    умножаем строчку на число\n",
    "    '''\n",
    "    return (yield int) * (yield str)\n",
    "\n",
    "def repeater(n):\n",
    "    '''\n",
    "    склеиваем n строчек\n",
    "    '''\n",
    "    res = ''\n",
    "    for i in range(n):\n",
    "#         print(f'repeater before iteration {i}: {res}')\n",
    "        res += yield from computer()\n",
    "#         print(f'repeater after iteration {i}: {res}')\n",
    "    \n",
    "    return res\n",
    "\n",
    "def runner(*commands):\n",
    "    curr_queue = deque((command, None) for command in reversed(commands))\n",
    "    res = []\n",
    "    \n",
    "    while curr_queue:\n",
    "#         print(curr_queue, res)\n",
    "        cmd, req_type = curr_queue.pop()\n",
    "#         print(cmd, req_type)\n",
    "        try:\n",
    "            if req_type is str:\n",
    "                random_char = random.choice('ABCDRTYUWETDGH')\n",
    "#                 print(f'computer got STR -> send {random_char}')\n",
    "                req_type = cmd.send(random_char)\n",
    "            elif req_type is int:\n",
    "                random_int = random.randint(1, 7)\n",
    "#                 print(f'computer got INT -> send {random_int}')\n",
    "                req_type = cmd.send(random_int)\n",
    "            elif req_type is None:\n",
    "                req_type = next(cmd)\n",
    "            else:\n",
    "                raise ValueError(req_type)\n",
    "        except StopIteration as e:\n",
    "            res.append(e.value)\n",
    "            cmd.close()\n",
    "            # когда получили StopIteration, генератор еще существует\n",
    "            # закрытие как защита от непредвиденного поведения\n",
    "        else:\n",
    "            curr_queue.appendleft((cmd, req_type))\n",
    "    return res"
   ]
  },
  {
   "cell_type": "code",
   "execution_count": null,
   "id": "b887310e",
   "metadata": {
    "ExecuteTime": {
     "end_time": "2021-11-24T09:25:16.197659Z",
     "start_time": "2021-11-24T09:25:16.187853Z"
    }
   },
   "outputs": [],
   "source": [
    "runner(repeater(3))"
   ]
  },
  {
   "cell_type": "code",
   "execution_count": null,
   "id": "a075464c",
   "metadata": {
    "ExecuteTime": {
     "end_time": "2021-11-24T09:32:40.365322Z",
     "start_time": "2021-11-24T09:32:40.362384Z"
    }
   },
   "outputs": [],
   "source": [
    "print(runner(repeater(10), repeater(2), repeater(6)))"
   ]
  },
  {
   "cell_type": "markdown",
   "id": "77655f13",
   "metadata": {},
   "source": [
    "Код выполняется в произвольном порядке (но все еще контролируемым программистом!)"
   ]
  },
  {
   "cell_type": "markdown",
   "id": "2a38b4f3",
   "metadata": {
    "ExecuteTime": {
     "end_time": "2021-11-24T07:44:12.051377Z",
     "start_time": "2021-11-24T07:44:12.047725Z"
    }
   },
   "source": [
    "*А теперь следите за руками*"
   ]
  },
  {
   "cell_type": "code",
   "execution_count": 1,
   "id": "51300811",
   "metadata": {
    "ExecuteTime": {
     "end_time": "2021-11-24T09:35:23.835804Z",
     "start_time": "2021-11-24T09:35:23.832943Z"
    }
   },
   "outputs": [],
   "source": [
    "import asyncio\n",
    "import types"
   ]
  },
  {
   "cell_type": "code",
   "execution_count": 31,
   "id": "626834e1",
   "metadata": {
    "ExecuteTime": {
     "end_time": "2021-11-24T09:36:13.014219Z",
     "start_time": "2021-11-24T09:36:13.008988Z"
    }
   },
   "outputs": [],
   "source": [
    "import random\n",
    "from collections import deque\n",
    "\n",
    "@types.coroutine\n",
    "def computer():\n",
    "    '''\n",
    "    умножаем строчку на число\n",
    "    '''\n",
    "    return (yield int) * (yield str)\n",
    "\n",
    "async def repeater(n):\n",
    "    '''\n",
    "    склеиваем n строчек\n",
    "    '''\n",
    "    res = ''\n",
    "    for i in range(n):\n",
    "        res += await computer()\n",
    "    \n",
    "    return res\n",
    "\n",
    "def runner(*commands):\n",
    "    curr_queue = deque((command, None) for command in reversed(commands))\n",
    "    res = []\n",
    "    \n",
    "    while curr_queue:\n",
    "        cmd, req_type = curr_queue.pop()\n",
    "        try:\n",
    "            if req_type is str:\n",
    "                req_type = cmd.send(random.choice('ABCDRTYUWETDGH'))\n",
    "            elif req_type is int:\n",
    "                req_type = cmd.send(random.randint(1, 7))\n",
    "            elif req_type is None:\n",
    "                req_type = cmd.send(None)\n",
    "            else:\n",
    "                raise ValueError(req_type)\n",
    "        except StopIteration as e:\n",
    "            res.append(e.value)\n",
    "            cmd.close()\n",
    "            # когда получили StopIteration, генератор еще существует\n",
    "            # закрытие как защита от непредвиденного поведения\n",
    "        else:\n",
    "            curr_queue.appendleft((cmd, req_type))\n",
    "    return res"
   ]
  },
  {
   "cell_type": "code",
   "execution_count": null,
   "id": "9a056e6c",
   "metadata": {
    "ExecuteTime": {
     "end_time": "2021-11-24T09:36:14.188628Z",
     "start_time": "2021-11-24T09:36:14.185227Z"
    }
   },
   "outputs": [],
   "source": [
    "print(runner(repeater(10), repeater(2), repeater(6)))"
   ]
  },
  {
   "cell_type": "markdown",
   "id": "db582e83",
   "metadata": {},
   "source": [
    "Мы сейчас практически из кода на чистом питоне перешли к использованию **asyncio**!  "
   ]
  },
  {
   "cell_type": "markdown",
   "id": "27bd3c3b",
   "metadata": {},
   "source": [
    "## Concurrency, processes, threads кто такие"
   ]
  },
  {
   "cell_type": "markdown",
   "id": "c36a7a92",
   "metadata": {},
   "source": [
    "**concurrency**\n",
    "\n",
    "The ability to handle multiple pending tasks, making progress one at a time or in parallel (if possible) so that each of them eventually succeeds or fails. A single-core CPU is capable of concurrency if it runs an OS scheduler that interleaves the execution of the pending tasks. Also known as multitasking"
   ]
  },
  {
   "cell_type": "markdown",
   "id": "6f390792",
   "metadata": {},
   "source": [
    "**parallelism**\n",
    "\n",
    "The ability to execute multiple computations at the same time. This requires a multi-core CPU, a GPU, or multiple computers in cluster."
   ]
  },
  {
   "cell_type": "markdown",
   "id": "7d942966",
   "metadata": {},
   "source": [
    "**process**\n",
    "\n",
    "An instance of a computer program while it is running, using memory and a slice of the CPU time. Modern operating systems are able to manage many processes concurrently, with each process isolated in its own private memory space. Processes communicate via pipes, sockets, or memory mapped files—all of which can only carry raw bytes, not live Python objects. A process can spawn sub-processes, each called achild process. These are also isolated from each other and from the parent."
   ]
  },
  {
   "cell_type": "markdown",
   "id": "a1eb8a85",
   "metadata": {},
   "source": [
    "Каждый инстанс интерпретатора Python -- это процесс. Для создания процессов в своей программе можно использовать модуль *multiprocessing*"
   ]
  },
  {
   "cell_type": "markdown",
   "id": "fd73cc93",
   "metadata": {},
   "source": [
    "**thread**\n",
    "\n",
    "An execution path within a single process. When a process starts, it uses a single thread: the main thread. Using operating system APIs, a process can create more threads that operate concurrently thanks to the operating system scheduler. Threads share the memory space of the process, which holds live Python objects. This allows easy communication between threads, but can also lead to corrupted data when more than one thread updates the same object concurrently."
   ]
  },
  {
   "cell_type": "markdown",
   "id": "4dbc9c6a",
   "metadata": {},
   "source": [
    "Python (CPython) использует один тред. Можно добавлять новые треды в программу с помощью модуля *threading*"
   ]
  },
  {
   "cell_type": "markdown",
   "id": "f8497d28",
   "metadata": {},
   "source": [
    "**contention**\n",
    "\n",
    "Dispute over a limited asset. Resource contention happens when multiple processes or threads try to access a shared resource—such as a lock or storage. There’s also CPU contention, when compute-intensive processes or threads must wait for their share of CPU time."
   ]
  },
  {
   "cell_type": "markdown",
   "id": "8b6f0602",
   "metadata": {},
   "source": [
    "**lock**\n",
    "\n",
    "An object that threads can use to coordinate and synchronize their actions and avoid corrupting data. While updating a shared data structure, a thread should hold an associated lock. This makes other well-behaved threads wait until the lock is released before accessing the same data structure. The simplest type of lock is also known as a mutex (for mutual exclusion)."
   ]
  },
  {
   "cell_type": "markdown",
   "id": "8a41c1ff",
   "metadata": {},
   "source": [
    "В Python есть такая вещь как GIL (Global Interpreter Lock). В один момент времени только один тред может держать данный лок\n",
    "\n",
    "- Интерпретатор каждые несколько мс делает паузы, освобождая лок и позволяя другому ожидающему треду (при наличии такового) продолжить работу\n",
    "\n",
    "- Мы не управляем GIL явно и в полной мере\n",
    "\n",
    "- GIL освобождается во время функций, производящих disk и network I/O, а также time.sleep()\n",
    "\n",
    "- Библиотеки, написанные на C/C++  могут обходить ограничения GIL и улучшать производительность (e.g. numpy)"
   ]
  },
  {
   "cell_type": "markdown",
   "id": "d20ea1ba",
   "metadata": {},
   "source": [
    "---"
   ]
  },
  {
   "cell_type": "markdown",
   "id": "cbfa8200",
   "metadata": {},
   "source": [
    "В качестве упражнения подумайте, как соотносятся между собой термины *Parallelism*, *Asynchronous programming*, *Threading*, *Multiprocessing*, *Concurrency*"
   ]
  },
  {
   "cell_type": "markdown",
   "id": "404d89f7",
   "metadata": {},
   "source": [
    "## AsyncIO введение"
   ]
  },
  {
   "cell_type": "markdown",
   "id": "41a393be",
   "metadata": {},
   "source": [
    "Выше мы с вами увидели, что от асинхронного кода, реализованного на генераторах, можно перейти к использованию стандратного модуля **AsyncIO**\n",
    "\n",
    "Все потому, что в основе **asyncio** стоит понятие *корутины*. А выше мы с вами уже увидели, что корутины можно реализовать с помощью обычных генераторов. Данный модуль позволяет сильно упростить реализацию асинхронного кода и \"отделить\" для пользователя понятие корутин от классических генераторов.  \n",
    "\n"
   ]
  },
  {
   "cell_type": "markdown",
   "id": "fb829d12",
   "metadata": {},
   "source": [
    "### К примерам"
   ]
  },
  {
   "cell_type": "markdown",
   "id": "6e12c4e8",
   "metadata": {},
   "source": [
    "#### Первая программа с async"
   ]
  },
  {
   "cell_type": "code",
   "execution_count": 32,
   "id": "96a6148e",
   "metadata": {
    "ExecuteTime": {
     "end_time": "2021-11-30T21:51:39.368523Z",
     "start_time": "2021-11-30T21:51:39.365469Z"
    }
   },
   "outputs": [],
   "source": [
    "from time import sleep\n",
    "\n",
    "def printer(text: str):\n",
    "    print(text)\n",
    "\n",
    "def sleeper(duration: int):\n",
    "    sleep(duration)\n",
    "    \n",
    "def main():\n",
    "    sleeper(5)\n",
    "    printer('Woke up')"
   ]
  },
  {
   "cell_type": "markdown",
   "id": "bc6e040a",
   "metadata": {
    "ExecuteTime": {
     "end_time": "2021-11-30T21:49:03.200766Z",
     "start_time": "2021-11-30T21:49:03.197172Z"
    }
   },
   "source": [
    "Запустим синхронно (последовательно)"
   ]
  },
  {
   "cell_type": "code",
   "execution_count": 33,
   "id": "a7783c0a",
   "metadata": {
    "ExecuteTime": {
     "end_time": "2021-11-30T21:51:44.988046Z",
     "start_time": "2021-11-30T21:51:39.980620Z"
    }
   },
   "outputs": [
    {
     "name": "stdout",
     "output_type": "stream",
     "text": [
      "Woke up\n",
      "Wall time: 5.01 s\n"
     ]
    }
   ],
   "source": [
    "%%time\n",
    "\n",
    "main()"
   ]
  },
  {
   "cell_type": "markdown",
   "id": "b6b738c6",
   "metadata": {},
   "source": [
    "Заиспользуем **asyncio**"
   ]
  },
  {
   "cell_type": "code",
   "execution_count": 34,
   "id": "70ca9069",
   "metadata": {
    "ExecuteTime": {
     "end_time": "2021-12-01T00:35:25.350245Z",
     "start_time": "2021-12-01T00:35:25.347321Z"
    }
   },
   "outputs": [],
   "source": [
    "import asyncio\n",
    "\n",
    "async def printer(text: str):\n",
    "    print(text)\n",
    "    \n",
    "async def sleeper(duration: int):\n",
    "    print(f'sleeping for {duration} seconds')\n",
    "    await asyncio.sleep(duration)\n",
    "\n",
    "def main():\n",
    "    sleeper(5)\n",
    "    printer('Woke up')"
   ]
  },
  {
   "cell_type": "code",
   "execution_count": null,
   "id": "22c6550d",
   "metadata": {
    "ExecuteTime": {
     "end_time": "2021-12-01T08:02:34.801693Z",
     "start_time": "2021-12-01T08:02:34.798912Z"
    }
   },
   "outputs": [],
   "source": [
    "main()# код на семинаре"
   ]
  },
  {
   "cell_type": "code",
   "execution_count": null,
   "id": "fe4234e1",
   "metadata": {},
   "outputs": [],
   "source": [
    "def main():\n",
    "    await sleeper(5)\n",
    "    await printer('Woke up')"
   ]
  },
  {
   "cell_type": "code",
   "execution_count": null,
   "id": "6b6af573",
   "metadata": {},
   "outputs": [],
   "source": [
    "async def main():\n",
    "    await sleeper(5)\n",
    "    await printer('Woke up')"
   ]
  },
  {
   "cell_type": "code",
   "execution_count": null,
   "id": "4a3a35e1",
   "metadata": {},
   "outputs": [],
   "source": [
    "await main()"
   ]
  },
  {
   "cell_type": "code",
   "execution_count": 41,
   "id": "09433b6a",
   "metadata": {},
   "outputs": [
    {
     "name": "stdout",
     "output_type": "stream",
     "text": [
      "Overwriting async_intro_intro_1.py\n"
     ]
    }
   ],
   "source": [
    "%%writefile async_intro_intro_1.py\n",
    "\n",
    "import asyncio\n",
    "\n",
    "async def printer(text: str):\n",
    "    print(text)\n",
    "    \n",
    "async def sleeper(duration: int):\n",
    "    print(f'sleeping for {duration} seconds')\n",
    "    await asyncio.sleep(duration)\n",
    "\n",
    "async def main():\n",
    "    sleeper(5)\n",
    "    printer('Woke up')\n",
    "\n",
    "async def main():\n",
    "    print(\"Runnint wait\")\n",
    "    task_sleep = asyncio.create_task(sleeper(5))\n",
    "    print('slept')\n",
    "    task_print = asyncio.create_task(print('woke up'))\n",
    "\n",
    "    print('Finish')\n",
    "    await task_sleep\n",
    "    await task_print\n",
    "\n",
    "asyncio.run(main())"
   ]
  },
  {
   "cell_type": "code",
   "execution_count": 42,
   "id": "6fda3b21",
   "metadata": {},
   "outputs": [
    {
     "name": "stdout",
     "output_type": "stream",
     "text": [
      "Runnint wait"
     ]
    },
    {
     "name": "stderr",
     "output_type": "stream",
     "text": [
      "Traceback (most recent call last):\n",
      "  File \"async_intro_intro_1.py\", line 25, in <module>\n",
      "    asyncio.run(main())\n",
      "  File \"D:\\Programs\\Anaconda\\lib\\asyncio\\runners.py\", line 44, in run\n",
      "    return loop.run_until_complete(main)\n",
      "  File \"D:\\Programs\\Anaconda\\lib\\asyncio\\base_events.py\", line 616, in run_until_complete\n",
      "    return future.result()\n",
      "  File \"async_intro_intro_1.py\", line 19, in main\n",
      "    task_print = asyncio.create_task(print('woke up'))\n",
      "  File \"D:\\Programs\\Anaconda\\lib\\asyncio\\tasks.py\", line 382, in create_task\n",
      "    task = loop.create_task(coro)\n",
      "  File \"D:\\Programs\\Anaconda\\lib\\asyncio\\base_events.py\", line 431, in create_task\n",
      "    task = tasks.Task(coro, loop=self, name=name)\n",
      "TypeError: a coroutine was expected, got None\n"
     ]
    },
    {
     "name": "stdout",
     "output_type": "stream",
     "text": [
      "\n",
      "slept\n",
      "woke up\n",
      "sleeping for 5 seconds\n"
     ]
    }
   ],
   "source": [
    "! python async_intro_intro_1.py"
   ]
  },
  {
   "cell_type": "code",
   "execution_count": null,
   "id": "e144253b",
   "metadata": {},
   "outputs": [],
   "source": []
  },
  {
   "cell_type": "markdown",
   "id": "644e568e",
   "metadata": {},
   "source": [
    "## AsyncIO пример работы с сетью"
   ]
  },
  {
   "cell_type": "code",
   "execution_count": null,
   "id": "58d95993",
   "metadata": {
    "ExecuteTime": {
     "end_time": "2021-12-01T00:58:09.395751Z",
     "start_time": "2021-12-01T00:58:09.393467Z"
    }
   },
   "outputs": [],
   "source": [
    "# ! pip install requests, aiohttp"
   ]
  },
  {
   "cell_type": "markdown",
   "id": "c534ecbe",
   "metadata": {
    "ExecuteTime": {
     "end_time": "2021-12-01T01:13:11.231090Z",
     "start_time": "2021-12-01T01:13:11.228197Z"
    }
   },
   "source": [
    "Выгрузим с гитхаба в отдельную папку примеры репозиториев, в которых встречаются заданные кейворды"
   ]
  },
  {
   "cell_type": "code",
   "execution_count": 44,
   "id": "1aff9924",
   "metadata": {},
   "outputs": [
    {
     "name": "stdout",
     "output_type": "stream",
     "text": [
      "\n",
      "8 searches done in 13.97s\n"
     ]
    }
   ],
   "source": [
    "import time\n",
    "from typing import Callable\n",
    "import requests\n",
    "\n",
    "import os\n",
    "\n",
    "BASE_DIR = 'github_downloads'\n",
    "URL = 'https://api.github.com/search/repositories'\n",
    "KEYWORDS = ['search', 'torch', 'tensorflow',\n",
    "            'requests', 'alice', 'data', 'deep', 'ML']\n",
    "\n",
    "def get_repos_data(query: str) -> dict:\n",
    "    response = requests.get(\n",
    "        URL,\n",
    "        params={'q': f'{query}+language:python'},\n",
    "    )\n",
    "    if response.ok:\n",
    "        return response.json()\n",
    "    else:\n",
    "        return {}\n",
    "\n",
    "\n",
    "def get_owners_ids(resp: dict) -> list:\n",
    "    owners = []\n",
    "    for item in resp.get('items', []):\n",
    "        owners.append(item['owner']['id'])\n",
    "    return owners\n",
    "\n",
    "\n",
    "def save_stats(ids: list, query_name: str):\n",
    "    os.makedirs(BASE_DIR, exist_ok=True)\n",
    "    with open(os.path.join(BASE_DIR, query_name), 'w') as f:\n",
    "        f.write(str(ids))\n",
    "\n",
    "\n",
    "def get_many_stats(queries: list) -> int:\n",
    "    for query in queries:\n",
    "        data = get_repos_data(query)\n",
    "        repo_owners = get_owners_ids(data)\n",
    "        save_stats(repo_owners, query)\n",
    "    return len(queries)\n",
    "\n",
    "def main(downloader: Callable[[list], dict]):\n",
    "    t_start = time.perf_counter()\n",
    "    count = downloader(KEYWORDS)\n",
    "    elapsed = time.perf_counter() - t_start\n",
    "    print(f'\\n{count} searches done in {elapsed:.2f}s')\n",
    "\n",
    "if __name__ == '__main__':\n",
    "    main(get_many_stats)"
   ]
  },
  {
   "cell_type": "markdown",
   "id": "1188d804",
   "metadata": {},
   "source": [
    "Как сделать код эффективнее?"
   ]
  },
  {
   "cell_type": "markdown",
   "id": "c86fa2ab",
   "metadata": {},
   "source": [
    "## AsyncIO progress-bar"
   ]
  },
  {
   "cell_type": "markdown",
   "id": "f272f84b",
   "metadata": {},
   "source": [
    "Разберем забавный пример на показ загрузки по время выполнения программы"
   ]
  },
  {
   "cell_type": "markdown",
   "id": "9cf6df31",
   "metadata": {},
   "source": [
    "Пусть есть такая заготовка (с ошибками). Что нужно изменить, чтобы программа заработала?"
   ]
  },
  {
   "cell_type": "code",
   "execution_count": 60,
   "id": "3818bca2",
   "metadata": {},
   "outputs": [
    {
     "name": "stdout",
     "output_type": "stream",
     "text": [
      "Overwriting task_loading_async.py\n"
     ]
    }
   ],
   "source": [
    "%%writefile task_loading_async.py\n",
    "\n",
    "import asyncio\n",
    "import itertools\n",
    "import time\n",
    "\n",
    "FPS = 5\n",
    "\n",
    "async def print_load(msg: str) -> None:\n",
    "    for smile in itertools.cycle(['(⊙﹏⊙)', '(Ф﹏Ф)']):  # infinite loop\n",
    "        status = f'\\r{smile} {msg}'\n",
    "        print(status, flush=True, end='')\n",
    "        \n",
    "        await asyncio.sleep(1 / FPS)\n",
    "\n",
    "#         try:\n",
    "#         except asyncio.CancelledError:\n",
    "#             print('Task is cancelled')\n",
    "#             break\n",
    "\n",
    "    blanks = ' ' * 50\n",
    "    print(f'\\r{blanks}\\r', end='')\n",
    "\n",
    "async def do_smth_slow() -> int:\n",
    "    await asyncio.sleep(30)\n",
    "    return 1337\n",
    "\n",
    "async def supervisor() -> int:\n",
    "    loading_icon_displayer_task = asyncio.create_task(print_load('loading...'))\n",
    "    slow_result_task = asyncio.create_task(do_smth_slow)\n",
    "    slow_result = await slow_result_task\n",
    "#     await loading_icon_displayer_task\n",
    "    await slow_result\n",
    "#     loading_icon_displayer.cancel()\n",
    "#     return slow_result\n",
    "\n",
    "def main() -> None:\n",
    "    res = asyncio.run(supervisor())\n",
    "    print(f'Result is {res}')\n",
    "\n",
    "if __name__ == '__main__':\n",
    "    main()\n"
   ]
  },
  {
   "cell_type": "code",
   "execution_count": 61,
   "id": "ff4477fa",
   "metadata": {
    "ExecuteTime": {
     "end_time": "2021-12-01T01:18:12.174685Z",
     "start_time": "2021-12-01T01:18:12.172415Z"
    }
   },
   "outputs": [
    {
     "name": "stderr",
     "output_type": "stream",
     "text": [
      "Traceback (most recent call last):\n",
      "  File \"task_loading_async.py\", line 41, in <module>\n",
      "    main()\n",
      "  File \"task_loading_async.py\", line 37, in main\n",
      "    res = asyncio.run(supervisor())\n",
      "  File \"D:\\Programs\\Anaconda\\lib\\asyncio\\runners.py\", line 44, in run\n",
      "    return loop.run_until_complete(main)\n",
      "  File \"D:\\Programs\\Anaconda\\lib\\asyncio\\base_events.py\", line 616, in run_until_complete\n",
      "    return future.result()\n",
      "  File \"task_loading_async.py\", line 29, in supervisor\n",
      "    slow_result_task = asyncio.create_task(do_smth_slow)\n",
      "  File \"D:\\Programs\\Anaconda\\lib\\asyncio\\tasks.py\", line 382, in create_task\n",
      "    task = loop.create_task(coro)\n",
      "  File \"D:\\Programs\\Anaconda\\lib\\asyncio\\base_events.py\", line 431, in create_task\n",
      "    task = tasks.Task(coro, loop=self, name=name)\n",
      "TypeError: a coroutine was expected, got <function do_smth_slow at 0x00000212D83A54C0>\n",
      "Task exception was never retrieved\n",
      "future: <Task finished name='Task-2' coro=<print_load() done, defined at task_loading_async.py:8> exception=UnicodeEncodeError('charmap', '\\r(\\u2299\\ufe4f\\u2299) loading...', 2, 5, 'character maps to <undefined>')>\n",
      "Traceback (most recent call last):\n",
      "  File \"task_loading_async.py\", line 11, in print_load\n",
      "    print(status, flush=True, end='')\n",
      "  File \"D:\\Programs\\Anaconda\\lib\\encodings\\cp1251.py\", line 19, in encode\n",
      "    return codecs.charmap_encode(input,self.errors,encoding_table)[0]\n",
      "UnicodeEncodeError: 'charmap' codec can't encode characters in position 2-4: character maps to <undefined>\n"
     ]
    }
   ],
   "source": [
    "! python task_loading_async.py"
   ]
  },
  {
   "cell_type": "code",
   "execution_count": 6,
   "id": "c1ad735d",
   "metadata": {},
   "outputs": [
    {
     "name": "stdout",
     "output_type": "stream",
     "text": [
      "Overwriting task_loading_async_solved.py\n"
     ]
    }
   ],
   "source": [
    "%%writefile task_loading_async_solved.py\n",
    "\n",
    "import asyncio\n",
    "import itertools\n",
    "import time\n",
    "\n",
    "FPS = 5\n",
    "\n",
    "async def print_load(msg: str) -> None:\n",
    "    for smile in itertools.cycle(['(⊙﹏⊙)', '(Ф﹏Ф)']):  # infinite loop\n",
    "        status = f'\\r{smile} {msg}'\n",
    "        print(status, flush=True, end='')\n",
    "\n",
    "        try:\n",
    "            await asyncio.sleep(1 / FPS)\n",
    "        except asyncio.CancelledError:\n",
    "            print('Task is cancelled')\n",
    "            break\n",
    "\n",
    "    blanks = ' ' * 50\n",
    "    print(f'\\r{blanks}\\r', end='')\n",
    "\n",
    "async def do_smth_slow() -> int:\n",
    "    await asyncio.sleep(30)\n",
    "    # time.sleep(30)\n",
    "    return 1337\n",
    "\n",
    "async def supervisor() -> int:\n",
    "    loading_icon_displayer = asyncio.create_task(print_load('loading...'))\n",
    "    slow_result_task = asyncio.create_task(do_smth_slow())\n",
    "    slow_result = await slow_result_task\n",
    "    loading_icon_displayer.cancel()\n",
    "    return slow_result\n",
    "\n",
    "def main() -> None:\n",
    "    res = asyncio.run(supervisor())\n",
    "    print(f'Result is {res}')\n",
    "\n",
    "if __name__ == '__main__':\n",
    "    main()"
   ]
  },
  {
   "cell_type": "code",
   "execution_count": 7,
   "id": "ab3d1ed0",
   "metadata": {},
   "outputs": [
    {
     "name": "stdout",
     "output_type": "stream",
     "text": [
      "\n",
      "(⊙﹏⊙) loading...\n",
      "(Ф﹏Ф) loading...\n",
      "(⊙﹏⊙) loading...\n",
      "(Ф﹏Ф) loading...\n",
      "(⊙﹏⊙) loading...\n",
      "(Ф﹏Ф) loading...\n",
      "(⊙﹏⊙) loading...\n",
      "(Ф﹏Ф) loading...\n",
      "(⊙﹏⊙) loading...\n",
      "(Ф﹏Ф) loading...\n",
      "(⊙﹏⊙) loading...\n",
      "(Ф﹏Ф) loading...\n",
      "(⊙﹏⊙) loading...\n",
      "(Ф﹏Ф) loading...\n",
      "(⊙﹏⊙) loading...\n",
      "(Ф﹏Ф) loading...\n",
      "(⊙﹏⊙) loading...\n",
      "(Ф﹏Ф) loading...\n",
      "(⊙﹏⊙) loading...\n",
      "(Ф﹏Ф) loading...\n",
      "(⊙﹏⊙) loading...\n",
      "(Ф﹏Ф) loading...\n",
      "(⊙﹏⊙) loading...\n",
      "(Ф﹏Ф) loading...\n",
      "(⊙﹏⊙) loading...\n",
      "(Ф﹏Ф) loading...\n",
      "(⊙﹏⊙) loading...\n",
      "(Ф﹏Ф) loading...\n",
      "(⊙﹏⊙) loading...\n",
      "(Ф﹏Ф) loading...\n",
      "(⊙﹏⊙) loading...\n",
      "(Ф﹏Ф) loading...\n",
      "(⊙﹏⊙) loading...\n",
      "(Ф﹏Ф) loading...\n",
      "(⊙﹏⊙) loading...\n",
      "(Ф﹏Ф) loading...\n",
      "(⊙﹏⊙) loading...\n",
      "(Ф﹏Ф) loading...\n",
      "(⊙﹏⊙) loading...\n",
      "(Ф﹏Ф) loading...\n",
      "(⊙﹏⊙) loading...\n",
      "(Ф﹏Ф) loading...\n",
      "(⊙﹏⊙) loading...\n",
      "(Ф﹏Ф) loading...\n",
      "(⊙﹏⊙) loading...\n",
      "(Ф﹏Ф) loading...\n",
      "(⊙﹏⊙) loading...\n",
      "(Ф﹏Ф) loading...\n",
      "(⊙﹏⊙) loading...\n",
      "(Ф﹏Ф) loading...\n",
      "(⊙﹏⊙) loading...\n",
      "(Ф﹏Ф) loading...\n",
      "(⊙﹏⊙) loading...\n",
      "(Ф﹏Ф) loading...\n",
      "(⊙﹏⊙) loading...\n",
      "(Ф﹏Ф) loading...\n",
      "(⊙﹏⊙) loading...\n",
      "(Ф﹏Ф) loading...\n",
      "(⊙﹏⊙) loading...\n",
      "(Ф﹏Ф) loading...\n",
      "(⊙﹏⊙) loading...\n",
      "(Ф﹏Ф) loading...\n",
      "(⊙﹏⊙) loading...\n",
      "(Ф﹏Ф) loading...\n",
      "(⊙﹏⊙) loading...\n",
      "(Ф﹏Ф) loading...\n",
      "(⊙﹏⊙) loading...\n",
      "(Ф﹏Ф) loading...\n",
      "(⊙﹏⊙) loading...\n",
      "(Ф﹏Ф) loading...\n",
      "(⊙﹏⊙) loading...\n",
      "(Ф﹏Ф) loading...\n",
      "(⊙﹏⊙) loading...\n",
      "(Ф﹏Ф) loading...\n",
      "(⊙﹏⊙) loading...\n",
      "(Ф﹏Ф) loading...\n",
      "(⊙﹏⊙) loading...\n",
      "(Ф﹏Ф) loading...\n",
      "(⊙﹏⊙) loading...\n",
      "(Ф﹏Ф) loading...\n",
      "(⊙﹏⊙) loading...\n",
      "(Ф﹏Ф) loading...\n",
      "(⊙﹏⊙) loading...\n",
      "(Ф﹏Ф) loading...\n",
      "(⊙﹏⊙) loading...\n",
      "(Ф﹏Ф) loading...\n",
      "(⊙﹏⊙) loading...\n",
      "(Ф﹏Ф) loading...\n",
      "(⊙﹏⊙) loading...\n",
      "(Ф﹏Ф) loading...\n",
      "(⊙﹏⊙) loading...\n",
      "(Ф﹏Ф) loading...\n",
      "(⊙﹏⊙) loading...\n",
      "(Ф﹏Ф) loading...\n",
      "(⊙﹏⊙) loading...\n",
      "(Ф﹏Ф) loading...\n",
      "(⊙﹏⊙) loading...\n",
      "(Ф﹏Ф) loading...\n",
      "(⊙﹏⊙) loading...\n",
      "(Ф﹏Ф) loading...\n",
      "(⊙﹏⊙) loading...\n",
      "(Ф﹏Ф) loading...\n",
      "(⊙﹏⊙) loading...\n",
      "(Ф﹏Ф) loading...\n",
      "(⊙﹏⊙) loading...\n",
      "(Ф﹏Ф) loading...\n",
      "(⊙﹏⊙) loading...\n",
      "(Ф﹏Ф) loading...\n",
      "(⊙﹏⊙) loading...\n",
      "(Ф﹏Ф) loading...\n",
      "(⊙﹏⊙) loading...\n",
      "(Ф﹏Ф) loading...\n",
      "(⊙﹏⊙) loading...\n",
      "(Ф﹏Ф) loading...\n",
      "(⊙﹏⊙) loading...\n",
      "(Ф﹏Ф) loading...\n",
      "(⊙﹏⊙) loading...\n",
      "(Ф﹏Ф) loading...\n",
      "(⊙﹏⊙) loading...\n",
      "(Ф﹏Ф) loading...\n",
      "(⊙﹏⊙) loading...\n",
      "(Ф﹏Ф) loading...\n",
      "(⊙﹏⊙) loading...\n",
      "(Ф﹏Ф) loading...\n",
      "(⊙﹏⊙) loading...\n",
      "(Ф﹏Ф) loading...\n",
      "(⊙﹏⊙) loading...\n",
      "(Ф﹏Ф) loading...\n",
      "(⊙﹏⊙) loading...\n",
      "(Ф﹏Ф) loading...\n",
      "(⊙﹏⊙) loading...\n",
      "(Ф﹏Ф) loading...\n",
      "(⊙﹏⊙) loading...\n",
      "(Ф﹏Ф) loading...\n",
      "(⊙﹏⊙) loading...\n",
      "(Ф﹏Ф) loading...\n",
      "(⊙﹏⊙) loading...\n",
      "(Ф﹏Ф) loading...\n",
      "(⊙﹏⊙) loading...\n",
      "(Ф﹏Ф) loading...\n",
      "(⊙﹏⊙) loading...\n",
      "(Ф﹏Ф) loading...\n",
      "(⊙﹏⊙) loading...\n",
      "(Ф﹏Ф) loading...\n",
      "(⊙﹏⊙) loading...\n",
      "(Ф﹏Ф) loading...\n",
      "(⊙﹏⊙) loading...\n",
      "(Ф﹏Ф) loading...Task is cancelled\n",
      "\n",
      "                                                  \n",
      "Result is 1337\n"
     ]
    }
   ],
   "source": [
    "! python task_loading_async_solved.py"
   ]
  },
  {
   "cell_type": "markdown",
   "id": "33668c86",
   "metadata": {},
   "source": [
    "## Примеры на использование тредов и процессов"
   ]
  },
  {
   "cell_type": "markdown",
   "id": "d0173f6c",
   "metadata": {},
   "source": [
    "Модуль [concurrent.futures](https://docs.python.org/3/library/concurrent.futures.html)\n",
    "\n",
    "Модуль [threading](https://docs.python.org/3/library/threading.html?highlight=threading#module-threading)\n",
    "\n",
    "Модуль [multiprocessing](https://docs.python.org/3/library/multiprocessing.html?highlight=multiprocessing#module-multiprocessing)"
   ]
  },
  {
   "cell_type": "markdown",
   "id": "5e78261d",
   "metadata": {},
   "source": [
    "`Часто для выполнение функций на больших массисивах встречал использование multiprocessing.Pool.map и библиотеки joblib`"
   ]
  },
  {
   "cell_type": "code",
   "execution_count": null,
   "id": "7bccb016",
   "metadata": {
    "ExecuteTime": {
     "end_time": "2021-12-01T01:31:13.367828Z",
     "start_time": "2021-12-01T01:31:13.289135Z"
    }
   },
   "outputs": [],
   "source": [
    "from multiprocessing import Process\n",
    "\n",
    "def f(name):\n",
    "    print('hello', name)\n",
    "\n",
    "if __name__ == '__main__':\n",
    "    p = Process(target=f, args=('bob',))\n",
    "    p.start()\n",
    "    p.join()"
   ]
  },
  {
   "cell_type": "code",
   "execution_count": null,
   "id": "c607bd15",
   "metadata": {
    "ExecuteTime": {
     "end_time": "2021-12-01T01:31:23.779353Z",
     "start_time": "2021-12-01T01:31:23.776293Z"
    }
   },
   "outputs": [],
   "source": [
    "help(Process.start)"
   ]
  },
  {
   "cell_type": "code",
   "execution_count": null,
   "id": "8ef99191",
   "metadata": {
    "ExecuteTime": {
     "end_time": "2021-12-01T01:31:39.243452Z",
     "start_time": "2021-12-01T01:31:39.239470Z"
    }
   },
   "outputs": [],
   "source": [
    "help(Process.join)"
   ]
  },
  {
   "cell_type": "code",
   "execution_count": null,
   "id": "5c20fd38",
   "metadata": {
    "ExecuteTime": {
     "end_time": "2021-12-01T01:30:41.989746Z",
     "start_time": "2021-12-01T01:30:41.984573Z"
    }
   },
   "outputs": [],
   "source": [
    "from threading import Thread\n",
    "\n",
    "def f(name):\n",
    "    print('hello', name)\n",
    "\n",
    "if __name__ == '__main__':\n",
    "    p = Thread(target=f, args=('bob',))\n",
    "    p.start()\n",
    "    p.join()"
   ]
  },
  {
   "cell_type": "markdown",
   "id": "c2eafa6b",
   "metadata": {},
   "source": [
    "Чтобы закрыть тред, нужно явно передать ему команду. Можно создать объект Event, и делать это через него"
   ]
  },
  {
   "cell_type": "markdown",
   "id": "1f74d475",
   "metadata": {},
   "source": [
    "    The threading.Event class is Python’s simplest signalling mechanism to coordinate threads. An Event instance has an internal boolean flag which starts as False. Calling Event.set() sets the flag to True. While the flag is false, if a thread calls Event.wait(), it is blocked until another thread calls Event.set(), at which time Event.wait() returns True. If a timeout in seconds is given to Event.wait(s), this call returns False when the timeout elapses"
   ]
  },
  {
   "cell_type": "markdown",
   "id": "682f99d8",
   "metadata": {},
   "source": [
    "### Разберем примеры **loading** с использованием тредов и процессов"
   ]
  },
  {
   "cell_type": "markdown",
   "id": "b566622a",
   "metadata": {},
   "source": [
    "- Заметим, что в threading.Thread по своей логике похож на asyncio.Task\n",
    "- Чтобы остановить тред, нужно явно передать ему сигнал. Например, done через Event. В asyncio есть Task.Cancell"
   ]
  },
  {
   "cell_type": "markdown",
   "id": "e09ccce8",
   "metadata": {},
   "source": [
    "Как могут сказаться отличия работы с памятью в программах на треды и процессы, если добавить туда относительно тяжелый список? Попробуйте сделать предположение без запуска кода"
   ]
  },
  {
   "cell_type": "markdown",
   "id": "5a444372",
   "metadata": {},
   "source": [
    "Что будет, если в серии программ **loading_.** заменить медленную функцию на такую?"
   ]
  },
  {
   "cell_type": "code",
   "execution_count": null,
   "id": "d3442047",
   "metadata": {
    "ExecuteTime": {
     "end_time": "2021-11-24T08:12:47.088810Z",
     "start_time": "2021-11-24T08:12:47.084715Z"
    }
   },
   "outputs": [],
   "source": [
    "def is_prime(n: int) -> bool:\n",
    "    if n < 2:\n",
    "        return False\n",
    "    if n == 2:\n",
    "        return True\n",
    "    if n % 2 == 0:\n",
    "        return False\n",
    "    root = math.isqrt(n)\n",
    "    for i in range(3, root + 1, 2):\n",
    "        if n % i == 0:\n",
    "            return False\n",
    "    return True"
   ]
  },
  {
   "cell_type": "markdown",
   "id": "215ac0d9",
   "metadata": {},
   "source": [
    "Как это повлияет на работу в версии с разными процессами, тредами или async? Почему? Попробуйте догадаться без запуска кода"
   ]
  },
  {
   "cell_type": "code",
   "execution_count": null,
   "id": "cecdf001",
   "metadata": {},
   "outputs": [],
   "source": []
  }
 ],
 "metadata": {
  "kernelspec": {
   "display_name": "Python 3 (ipykernel)",
   "language": "python",
   "name": "python3"
  },
  "language_info": {
   "codemirror_mode": {
    "name": "ipython",
    "version": 3
   },
   "file_extension": ".py",
   "mimetype": "text/x-python",
   "name": "python",
   "nbconvert_exporter": "python",
   "pygments_lexer": "ipython3",
   "version": "3.8.8"
  },
  "toc": {
   "base_numbering": 1,
   "nav_menu": {},
   "number_sections": true,
   "sideBar": true,
   "skip_h1_title": false,
   "title_cell": "Table of Contents",
   "title_sidebar": "Contents",
   "toc_cell": false,
   "toc_position": {
    "height": "calc(100% - 180px)",
    "left": "10px",
    "top": "150px",
    "width": "384px"
   },
   "toc_section_display": true,
   "toc_window_display": true
  },
  "widgets": {
   "application/vnd.jupyter.widget-state+json": {
    "state": {},
    "version_major": 2,
    "version_minor": 0
   }
  }
 },
 "nbformat": 4,
 "nbformat_minor": 5
}
