{
 "cells": [
  {
   "cell_type": "markdown",
   "id": "8531578a",
   "metadata": {},
   "source": [
    "# Useful decorators"
   ]
  },
  {
   "cell_type": "markdown",
   "id": "ff91d86a",
   "metadata": {},
   "source": [
    "## classmethod / staticmethod"
   ]
  },
  {
   "cell_type": "markdown",
   "id": "f01de1db",
   "metadata": {},
   "source": [
    "**@classmethod** заставляет декорируемую функцию оперировать самим классом, а не конкретным его инстансом (не требует создания объекта-инстанса класса) "
   ]
  },
  {
   "cell_type": "markdown",
   "id": "809bcab2",
   "metadata": {},
   "source": [
    "**@staticmethod** \"отвязывает\" декорируемую функцию от ее класса в том смысле, что функция теряет доступ к полям класса и полям инстанса класса. Но зато и не требует создания инстанса для своей работы"
   ]
  },
  {
   "cell_type": "code",
   "execution_count": 29,
   "id": "6a6c4dca",
   "metadata": {},
   "outputs": [],
   "source": [
    "class MethodsDemo:\n",
    "    \"\"\"\n",
    "    A sample class for classmethods and staticmethods\n",
    "    \"\"\"\n",
    "    NAME = 'methods_demo'\n",
    "    \n",
    "    def __init__(self, nickname='default', *args):\n",
    "        self.nickname = nickname\n",
    "        \n",
    "    def do(self, *args):\n",
    "#         print('self is', self)\n",
    "#         print(args)\n",
    "        return args\n",
    "    \n",
    "    def access_fields(self, *args):\n",
    "        return self.NAME, self.nickname\n",
    "    \n",
    "    @classmethod\n",
    "    def do_classmethod(*args):\n",
    "        return args\n",
    "    \n",
    "    @classmethod\n",
    "    def access_fields_cls(cls, *args):\n",
    "        return cls.NAME\n",
    "    \n",
    "    @classmethod\n",
    "    def generate_cls(cls, *args):\n",
    "        return cls(*args)\n",
    "    \n",
    "    @staticmethod\n",
    "    def do_staticmethod(*args):\n",
    "        return args"
   ]
  },
  {
   "cell_type": "code",
   "execution_count": 30,
   "id": "10bf78fd",
   "metadata": {},
   "outputs": [
    {
     "data": {
      "text/plain": [
       "['NAME',\n",
       " '__class__',\n",
       " '__delattr__',\n",
       " '__dict__',\n",
       " '__dir__',\n",
       " '__doc__',\n",
       " '__eq__',\n",
       " '__format__',\n",
       " '__ge__',\n",
       " '__getattribute__',\n",
       " '__gt__',\n",
       " '__hash__',\n",
       " '__init__',\n",
       " '__init_subclass__',\n",
       " '__le__',\n",
       " '__lt__',\n",
       " '__module__',\n",
       " '__ne__',\n",
       " '__new__',\n",
       " '__reduce__',\n",
       " '__reduce_ex__',\n",
       " '__repr__',\n",
       " '__setattr__',\n",
       " '__sizeof__',\n",
       " '__str__',\n",
       " '__subclasshook__',\n",
       " '__weakref__',\n",
       " 'access_fields',\n",
       " 'access_fields_cls',\n",
       " 'do',\n",
       " 'do_classmethod',\n",
       " 'do_staticmethod',\n",
       " 'generate_cls']"
      ]
     },
     "execution_count": 30,
     "metadata": {},
     "output_type": "execute_result"
    }
   ],
   "source": [
    "dir(MethodsDemo)"
   ]
  },
  {
   "cell_type": "markdown",
   "id": "5aeecf83",
   "metadata": {},
   "source": [
    "### Вызовы"
   ]
  },
  {
   "cell_type": "code",
   "execution_count": 4,
   "id": "1dc75885",
   "metadata": {},
   "outputs": [
    {
     "data": {
      "text/plain": [
       "(__main__.MethodsDemo, 'param')"
      ]
     },
     "execution_count": 4,
     "metadata": {},
     "output_type": "execute_result"
    }
   ],
   "source": [
    "MethodsDemo.do_classmethod('param')"
   ]
  },
  {
   "cell_type": "code",
   "execution_count": 5,
   "id": "7008a1dd",
   "metadata": {},
   "outputs": [
    {
     "data": {
      "text/plain": [
       "('param',)"
      ]
     },
     "execution_count": 5,
     "metadata": {},
     "output_type": "execute_result"
    }
   ],
   "source": [
    "MethodsDemo.do_staticmethod('param')"
   ]
  },
  {
   "cell_type": "code",
   "execution_count": 13,
   "id": "441a87b4",
   "metadata": {},
   "outputs": [
    {
     "data": {
      "text/plain": [
       "('param',)"
      ]
     },
     "execution_count": 13,
     "metadata": {},
     "output_type": "execute_result"
    }
   ],
   "source": [
    "MethodsDemo().do('param')"
   ]
  },
  {
   "cell_type": "markdown",
   "id": "728e9284",
   "metadata": {},
   "source": [
    "### Доступы к полям"
   ]
  },
  {
   "cell_type": "code",
   "execution_count": 15,
   "id": "9e0f56a6",
   "metadata": {},
   "outputs": [
    {
     "ename": "TypeError",
     "evalue": "access_fields() missing 1 required positional argument: 'self'",
     "output_type": "error",
     "traceback": [
      "\u001b[0;31m---------------------------------------------------------------------------\u001b[0m",
      "\u001b[0;31mTypeError\u001b[0m                                 Traceback (most recent call last)",
      "\u001b[0;32m/tmp/ipykernel_971357/3918477518.py\u001b[0m in \u001b[0;36m<module>\u001b[0;34m\u001b[0m\n\u001b[0;32m----> 1\u001b[0;31m \u001b[0mMethodsDemo\u001b[0m\u001b[0;34m.\u001b[0m\u001b[0maccess_fields\u001b[0m\u001b[0;34m(\u001b[0m\u001b[0;34m)\u001b[0m\u001b[0;34m\u001b[0m\u001b[0;34m\u001b[0m\u001b[0m\n\u001b[0m",
      "\u001b[0;31mTypeError\u001b[0m: access_fields() missing 1 required positional argument: 'self'"
     ]
    }
   ],
   "source": [
    "MethodsDemo.access_fields()"
   ]
  },
  {
   "cell_type": "code",
   "execution_count": 19,
   "id": "f3ccd1bb",
   "metadata": {},
   "outputs": [
    {
     "data": {
      "text/plain": [
       "('methods_demo', 'default')"
      ]
     },
     "execution_count": 19,
     "metadata": {},
     "output_type": "execute_result"
    }
   ],
   "source": [
    "MethodsDemo().access_fields()"
   ]
  },
  {
   "cell_type": "code",
   "execution_count": 23,
   "id": "b571d887",
   "metadata": {},
   "outputs": [
    {
     "data": {
      "text/plain": [
       "'methods_demo'"
      ]
     },
     "execution_count": 23,
     "metadata": {},
     "output_type": "execute_result"
    }
   ],
   "source": [
    "MethodsDemo.access_fields_cls()"
   ]
  },
  {
   "cell_type": "markdown",
   "id": "394981b6",
   "metadata": {},
   "source": [
    "staticmethod не имеет доступов к полям, classmethod имеет доступ только к полям класса"
   ]
  },
  {
   "cell_type": "code",
   "execution_count": 26,
   "id": "08d2dced",
   "metadata": {},
   "outputs": [
    {
     "data": {
      "text/plain": [
       "('methods_demo', 'new_nick')"
      ]
     },
     "execution_count": 26,
     "metadata": {},
     "output_type": "execute_result"
    }
   ],
   "source": [
    "MethodsDemo.generate_cls('new_nick').access_fields()"
   ]
  },
  {
   "cell_type": "code",
   "execution_count": 33,
   "id": "0c91e50f",
   "metadata": {},
   "outputs": [
    {
     "data": {
      "text/plain": [
       "mappingproxy({'__module__': '__main__',\n",
       "              '__doc__': '\\n    A sample class for classmethods and staticmethods\\n    ',\n",
       "              'NAME': 'methods_demo',\n",
       "              '__init__': <function __main__.MethodsDemo.__init__(self, nickname='default', *args)>,\n",
       "              'do': <function __main__.MethodsDemo.do(self, *args)>,\n",
       "              'access_fields': <function __main__.MethodsDemo.access_fields(self, *args)>,\n",
       "              'do_classmethod': <classmethod at 0x7f7e50533510>,\n",
       "              'access_fields_cls': <classmethod at 0x7f7e505335d0>,\n",
       "              'generate_cls': <classmethod at 0x7f7e50533690>,\n",
       "              'do_staticmethod': <staticmethod at 0x7f7e505336d0>,\n",
       "              '__dict__': <attribute '__dict__' of 'MethodsDemo' objects>,\n",
       "              '__weakref__': <attribute '__weakref__' of 'MethodsDemo' objects>})"
      ]
     },
     "execution_count": 33,
     "metadata": {},
     "output_type": "execute_result"
    }
   ],
   "source": [
    "MethodsDemo.__dict__"
   ]
  },
  {
   "cell_type": "code",
   "execution_count": 34,
   "id": "0107a92d",
   "metadata": {},
   "outputs": [
    {
     "data": {
      "text/plain": [
       "{'nickname': 'default'}"
      ]
     },
     "execution_count": 34,
     "metadata": {},
     "output_type": "execute_result"
    }
   ],
   "source": [
    "MethodsDemo().__dict__"
   ]
  },
  {
   "cell_type": "markdown",
   "id": "7cd38aee",
   "metadata": {},
   "source": [
    "## property"
   ]
  },
  {
   "cell_type": "code",
   "execution_count": 41,
   "id": "94d68e38",
   "metadata": {},
   "outputs": [],
   "source": [
    "class PropertyShow:\n",
    "    def __init__(self, var):\n",
    "        self._var = var\n",
    "    \n",
    "    @property\n",
    "    def x(self):\n",
    "        return self._var"
   ]
  },
  {
   "cell_type": "code",
   "execution_count": 42,
   "id": "b2661f72",
   "metadata": {},
   "outputs": [],
   "source": [
    "cls = PropertyShow(42)"
   ]
  },
  {
   "cell_type": "code",
   "execution_count": 47,
   "id": "e87b2734",
   "metadata": {},
   "outputs": [
    {
     "data": {
      "text/plain": [
       "42"
      ]
     },
     "execution_count": 47,
     "metadata": {},
     "output_type": "execute_result"
    }
   ],
   "source": [
    "cls.x"
   ]
  },
  {
   "cell_type": "code",
   "execution_count": 45,
   "id": "af198e3b",
   "metadata": {},
   "outputs": [
    {
     "data": {
      "text/plain": [
       "42"
      ]
     },
     "execution_count": 45,
     "metadata": {},
     "output_type": "execute_result"
    }
   ],
   "source": [
    "cls._var"
   ]
  },
  {
   "cell_type": "code",
   "execution_count": 49,
   "id": "6fa735d4",
   "metadata": {},
   "outputs": [],
   "source": [
    "class NotPropertyShow:\n",
    "    def __init__(self, var):\n",
    "        self._var = var\n",
    "    \n",
    "    def x(self):\n",
    "        return self._var"
   ]
  },
  {
   "cell_type": "code",
   "execution_count": 50,
   "id": "de291d52",
   "metadata": {},
   "outputs": [],
   "source": [
    "cls = NotPropertyShow(42)"
   ]
  },
  {
   "cell_type": "code",
   "execution_count": 51,
   "id": "2ba53b41",
   "metadata": {},
   "outputs": [
    {
     "data": {
      "text/plain": [
       "42"
      ]
     },
     "execution_count": 51,
     "metadata": {},
     "output_type": "execute_result"
    }
   ],
   "source": [
    "cls.x()"
   ]
  },
  {
   "cell_type": "code",
   "execution_count": 53,
   "id": "62ff25f0",
   "metadata": {},
   "outputs": [
    {
     "data": {
      "text/plain": [
       "42"
      ]
     },
     "execution_count": 53,
     "metadata": {},
     "output_type": "execute_result"
    }
   ],
   "source": [
    "cls._var"
   ]
  },
  {
   "cell_type": "markdown",
   "id": "acb946e8",
   "metadata": {},
   "source": [
    "To understand what's going on, read great SO answer [here](https://stackoverflow.com/questions/17330160/how-does-the-property-decorator-work-in-python)"
   ]
  },
  {
   "cell_type": "markdown",
   "id": "a6a05461",
   "metadata": {},
   "source": [
    "## class as a decorator"
   ]
  },
  {
   "cell_type": "markdown",
   "id": "ceb65b85",
   "metadata": {},
   "source": [
    "Экземпляры класса могут быть callable. А если функция может быть декоратором, то что мешает тогда классу? Должен быть определен magic метод `__call__`"
   ]
  },
  {
   "cell_type": "code",
   "execution_count": 54,
   "id": "92446db3",
   "metadata": {},
   "outputs": [],
   "source": [
    "class ClassDecorator:\n",
    "    def __init__(self, func):\n",
    "        self.entry_str = '[decorating inner func]'\n",
    "        self.function = func\n",
    "        self.close_str = '[letting the song flow]'\n",
    "\n",
    "     \n",
    "    def __call__(self):\n",
    "        print(self.entry_str)\n",
    "        self.function()\n",
    "        print(self.close_str)\n",
    "\n",
    " \n",
    " \n",
    "@ClassDecorator\n",
    "def function():\n",
    "    print('Vanderlyle crybaby cry...')"
   ]
  },
  {
   "cell_type": "code",
   "execution_count": 56,
   "id": "4c204065",
   "metadata": {},
   "outputs": [
    {
     "name": "stdout",
     "output_type": "stream",
     "text": [
      "[decorating inner func]\n",
      "Vanderlyle crybaby cry...\n",
      "[letting the song flow]\n"
     ]
    }
   ],
   "source": [
    "function()"
   ]
  },
  {
   "cell_type": "markdown",
   "id": "cf870a4f",
   "metadata": {},
   "source": [
    "Как и в декораторах-функциях, мы тоже можем возвращать значения (а не только использовать print) и делать параметры"
   ]
  },
  {
   "cell_type": "markdown",
   "id": "f32762db",
   "metadata": {},
   "source": [
    "Сделаем таймер"
   ]
  },
  {
   "cell_type": "code",
   "execution_count": 60,
   "id": "0003e077",
   "metadata": {},
   "outputs": [],
   "source": [
    "import time\n",
    "\n",
    "class Timer:\n",
    "    def __init__(self, func):\n",
    "        self.func = func\n",
    "    \n",
    "    def __call__(self, *args):\n",
    "        t_start = time.time()\n",
    "        res = self.func(*args)\n",
    "        total_time = time.time() - t_start\n",
    "        print(f'{self.func.__name__}({args}) -> {res} executed in {total_time:.2f}s')\n",
    "        return res"
   ]
  },
  {
   "cell_type": "code",
   "execution_count": 61,
   "id": "48658a66",
   "metadata": {},
   "outputs": [],
   "source": [
    "@Timer\n",
    "def slow_func(seconds_to_sleep):\n",
    "    time.sleep(seconds_to_sleep)\n",
    "    return 73"
   ]
  },
  {
   "cell_type": "code",
   "execution_count": 62,
   "id": "a86e77a6",
   "metadata": {},
   "outputs": [
    {
     "name": "stdout",
     "output_type": "stream",
     "text": [
      "slow_func((3,)) -> 73 executed in 3.00s\n"
     ]
    },
    {
     "data": {
      "text/plain": [
       "73"
      ]
     },
     "execution_count": 62,
     "metadata": {},
     "output_type": "execute_result"
    }
   ],
   "source": [
    "slow_func(3)"
   ]
  },
  {
   "cell_type": "markdown",
   "id": "6039aa2e",
   "metadata": {},
   "source": [
    "## class as decorated"
   ]
  },
  {
   "cell_type": "markdown",
   "id": "9347aeef",
   "metadata": {},
   "source": [
    "Класс может быть тоже декорирован функцией или классом"
   ]
  },
  {
   "cell_type": "code",
   "execution_count": 70,
   "id": "9878f6c1",
   "metadata": {},
   "outputs": [
    {
     "name": "stdout",
     "output_type": "stream",
     "text": [
      "Target running\n"
     ]
    },
    {
     "data": {
      "text/plain": [
       "{'arg_list': ('one', 1)}"
      ]
     },
     "execution_count": 70,
     "metadata": {},
     "output_type": "execute_result"
    }
   ],
   "source": [
    "def decorator_function(target):\n",
    "\n",
    "    def decorator_init(self, *args):\n",
    "        print(\"Decorator running\")\n",
    "    \n",
    "    print('I changed __init__ in class')\n",
    "    target.__init__ = decorator_init\n",
    "\n",
    "    return target\n",
    "\n",
    "\n",
    "class Target:\n",
    "\n",
    "    def __init__(self, *args):\n",
    "        self.arg_list = args\n",
    "        print(\"Target running\")\n",
    "\n",
    "\n",
    "t = Target('one', 1)\n",
    "t.__dict__"
   ]
  },
  {
   "cell_type": "code",
   "execution_count": 71,
   "id": "79d5aaf9",
   "metadata": {},
   "outputs": [
    {
     "name": "stdout",
     "output_type": "stream",
     "text": [
      "I changed __init__ in class\n"
     ]
    }
   ],
   "source": [
    "@decorator_function\n",
    "class Target:\n",
    "\n",
    "    def __init__(self, *args):\n",
    "        self.arg_list = args\n",
    "        print(\"Target running\")"
   ]
  },
  {
   "cell_type": "code",
   "execution_count": 72,
   "id": "96c3df79",
   "metadata": {},
   "outputs": [
    {
     "name": "stdout",
     "output_type": "stream",
     "text": [
      "Decorator running\n"
     ]
    },
    {
     "data": {
      "text/plain": [
       "{}"
      ]
     },
     "execution_count": 72,
     "metadata": {},
     "output_type": "execute_result"
    }
   ],
   "source": [
    "dt = Target('one', 1)\n",
    "dt.__dict__"
   ]
  },
  {
   "cell_type": "markdown",
   "id": "6a150370",
   "metadata": {},
   "source": [
    "# Descriptors"
   ]
  },
  {
   "cell_type": "markdown",
   "id": "b96e01ed",
   "metadata": {},
   "source": [
    "Короткое описание в [доке](https://docs.python.org/3/reference/datamodel.html#invoking-descriptors)"
   ]
  },
  {
   "cell_type": "markdown",
   "id": "23b5fb6e",
   "metadata": {},
   "source": [
    "Мы самом деле, мы с вами уже выше познакомились с частным примером такой сущности."
   ]
  },
  {
   "cell_type": "markdown",
   "id": "44dab0c8",
   "metadata": {},
   "source": [
    "Дескриптор -- это объект с определенными методами `__get__()`, `__set__()` и `__delete__()`"
   ]
  },
  {
   "cell_type": "markdown",
   "id": "56db4f0a",
   "metadata": {},
   "source": [
    "Обычно когда в Python мы хотим получить доступ к атрибуту класса, то сначала мы ищем его в `__dict__` инстанса класса, потом в классе, и далее выше по цепочке наследования."
   ]
  },
  {
   "cell_type": "markdown",
   "id": "ad1cab6f",
   "metadata": {},
   "source": [
    "## Basics"
   ]
  },
  {
   "cell_type": "code",
   "execution_count": 74,
   "id": "9d194198",
   "metadata": {},
   "outputs": [],
   "source": [
    "class BestConstant:\n",
    "    def __get__(self, obj, objtype=None):\n",
    "        print('Using descriptor')\n",
    "        return 73\n",
    "\n",
    "class Number:\n",
    "    x = 10\n",
    "    y = BestConstant()  # наш дескриптор"
   ]
  },
  {
   "cell_type": "code",
   "execution_count": 79,
   "id": "43e4590f",
   "metadata": {},
   "outputs": [],
   "source": [
    "num = Number()"
   ]
  },
  {
   "cell_type": "code",
   "execution_count": 80,
   "id": "10edb3e6",
   "metadata": {},
   "outputs": [
    {
     "name": "stdout",
     "output_type": "stream",
     "text": [
      "Using descriptor\n"
     ]
    },
    {
     "data": {
      "text/plain": [
       "(10, 73)"
      ]
     },
     "execution_count": 80,
     "metadata": {},
     "output_type": "execute_result"
    }
   ],
   "source": [
    "num.x, num.y"
   ]
  },
  {
   "cell_type": "code",
   "execution_count": 81,
   "id": "3309948b",
   "metadata": {},
   "outputs": [
    {
     "data": {
      "text/plain": [
       "({},\n",
       " mappingproxy({'__module__': '__main__',\n",
       "               'x': 10,\n",
       "               'y': <__main__.BestConstant at 0x7f7e2f2de190>,\n",
       "               '__dict__': <attribute '__dict__' of 'Number' objects>,\n",
       "               '__weakref__': <attribute '__weakref__' of 'Number' objects>,\n",
       "               '__doc__': None}))"
      ]
     },
     "execution_count": 81,
     "metadata": {},
     "output_type": "execute_result"
    }
   ],
   "source": [
    "num.__dict__, Number.__dict__"
   ]
  },
  {
   "cell_type": "code",
   "execution_count": 82,
   "id": "12a48fa8",
   "metadata": {},
   "outputs": [],
   "source": [
    "num.__dict__['y'] = 42"
   ]
  },
  {
   "cell_type": "code",
   "execution_count": 83,
   "id": "0976da7c",
   "metadata": {},
   "outputs": [
    {
     "data": {
      "text/plain": [
       "42"
      ]
     },
     "execution_count": 83,
     "metadata": {},
     "output_type": "execute_result"
    }
   ],
   "source": [
    "num.y"
   ]
  },
  {
   "cell_type": "code",
   "execution_count": 84,
   "id": "f2d68e02",
   "metadata": {},
   "outputs": [
    {
     "data": {
      "text/plain": [
       "{'y': 42}"
      ]
     },
     "execution_count": 84,
     "metadata": {},
     "output_type": "execute_result"
    }
   ],
   "source": [
    "num.__dict__"
   ]
  },
  {
   "cell_type": "markdown",
   "id": "0041d25c",
   "metadata": {},
   "source": [
    "Видим, что мы переписали значение. Дескриптор, у которого определен только get, называется non-data дескриптором"
   ]
  },
  {
   "cell_type": "code",
   "execution_count": 85,
   "id": "6b84154b",
   "metadata": {},
   "outputs": [],
   "source": [
    "class BestConstantComplete:\n",
    "    def __get__(self, obj, objtype=None):\n",
    "        print('using descriptor')\n",
    "        return obj._y\n",
    "    \n",
    "    def __set__(self, obj, value):\n",
    "        obj._y = value\n",
    "        \n",
    "    def __delete__(self, obj):\n",
    "        del obj._y\n",
    "\n",
    "class Number:\n",
    "    y = BestConstantComplete()  # наш дескриптор\n",
    "    \n",
    "    def __init__(self, x=10, y=42):\n",
    "        self.x = x\n",
    "        self.y = y"
   ]
  },
  {
   "cell_type": "code",
   "execution_count": 86,
   "id": "27fdf9bf",
   "metadata": {},
   "outputs": [],
   "source": [
    "num = Number()"
   ]
  },
  {
   "cell_type": "code",
   "execution_count": 87,
   "id": "ae0aabdb",
   "metadata": {},
   "outputs": [
    {
     "data": {
      "text/plain": [
       "{'x': 10, '_y': 42}"
      ]
     },
     "execution_count": 87,
     "metadata": {},
     "output_type": "execute_result"
    }
   ],
   "source": [
    "num.__dict__"
   ]
  },
  {
   "cell_type": "code",
   "execution_count": 89,
   "id": "966d9ec1",
   "metadata": {},
   "outputs": [
    {
     "name": "stdout",
     "output_type": "stream",
     "text": [
      "using descriptor\n"
     ]
    },
    {
     "data": {
      "text/plain": [
       "42"
      ]
     },
     "execution_count": 89,
     "metadata": {},
     "output_type": "execute_result"
    }
   ],
   "source": [
    "num.y"
   ]
  },
  {
   "cell_type": "code",
   "execution_count": 90,
   "id": "c7a2adf4",
   "metadata": {},
   "outputs": [],
   "source": [
    "num.y = 73"
   ]
  },
  {
   "cell_type": "code",
   "execution_count": 92,
   "id": "a8aef4bb",
   "metadata": {},
   "outputs": [
    {
     "name": "stdout",
     "output_type": "stream",
     "text": [
      "using descriptor\n"
     ]
    },
    {
     "data": {
      "text/plain": [
       "73"
      ]
     },
     "execution_count": 92,
     "metadata": {},
     "output_type": "execute_result"
    }
   ],
   "source": [
    "num.y"
   ]
  },
  {
   "cell_type": "code",
   "execution_count": 93,
   "id": "d50be6cf",
   "metadata": {},
   "outputs": [
    {
     "data": {
      "text/plain": [
       "{'x': 10, '_y': 73}"
      ]
     },
     "execution_count": 93,
     "metadata": {},
     "output_type": "execute_result"
    }
   ],
   "source": [
    "num.__dict__"
   ]
  },
  {
   "cell_type": "code",
   "execution_count": 94,
   "id": "32c11407",
   "metadata": {},
   "outputs": [],
   "source": [
    "num.__dict__['y'] = 100"
   ]
  },
  {
   "cell_type": "code",
   "execution_count": 95,
   "id": "14562dee",
   "metadata": {},
   "outputs": [
    {
     "data": {
      "text/plain": [
       "{'x': 10, '_y': 73, 'y': 100}"
      ]
     },
     "execution_count": 95,
     "metadata": {},
     "output_type": "execute_result"
    }
   ],
   "source": [
    "num.__dict__"
   ]
  },
  {
   "cell_type": "code",
   "execution_count": 97,
   "id": "15294cda",
   "metadata": {},
   "outputs": [
    {
     "name": "stdout",
     "output_type": "stream",
     "text": [
      "using descriptor\n"
     ]
    },
    {
     "data": {
      "text/plain": [
       "73"
      ]
     },
     "execution_count": 97,
     "metadata": {},
     "output_type": "execute_result"
    }
   ],
   "source": [
    "num.y"
   ]
  },
  {
   "cell_type": "markdown",
   "id": "f228ecc7",
   "metadata": {},
   "source": [
    "Если у дескриптора определен `__set__`, то Python при попытке достать атрибут по названию, будет доставать сначала дескриптор, даже если в `__dict__` объекта лежит что-то одноименное "
   ]
  },
  {
   "cell_type": "markdown",
   "id": "78aa857c",
   "metadata": {},
   "source": [
    "## Closer to Real world"
   ]
  },
  {
   "cell_type": "markdown",
   "id": "ca0b8ea7",
   "metadata": {},
   "source": [
    "Например, с помощью дескрипторов можно написать логгер запросов к полю класса.\n",
    "\n",
    "Пример из документации:"
   ]
  },
  {
   "cell_type": "code",
   "execution_count": 98,
   "id": "852feae9",
   "metadata": {},
   "outputs": [],
   "source": [
    "import logging\n",
    "\n",
    "logging.basicConfig(level=logging.INFO)\n",
    "\n",
    "class LoggedAgeAccess:\n",
    "\n",
    "    def __get__(self, obj, objtype=None):\n",
    "        value = obj._age\n",
    "        logging.info(f'Accessing \"age\" giving {value}')\n",
    "        return value\n",
    "\n",
    "    def __set__(self, obj, value):\n",
    "        logging.info(f'Updating age to {value}')\n",
    "        obj._age = value\n",
    "\n",
    "class Person:\n",
    "\n",
    "    age = LoggedAgeAccess()             # Descriptor instance\n",
    "\n",
    "    def __init__(self, name, age):\n",
    "        self.name = name                # Regular instance attribute\n",
    "        self.age = age                  # Calls __set__()\n",
    "\n",
    "    def birthday(self):\n",
    "        self.age += 1"
   ]
  },
  {
   "cell_type": "code",
   "execution_count": 99,
   "id": "d857145b",
   "metadata": {},
   "outputs": [
    {
     "name": "stderr",
     "output_type": "stream",
     "text": [
      "INFO:root:Updating age to 23\n"
     ]
    }
   ],
   "source": [
    "denis = Person('Denis Belyakov', 23)"
   ]
  },
  {
   "cell_type": "code",
   "execution_count": 100,
   "id": "fb8f8a9d",
   "metadata": {},
   "outputs": [
    {
     "data": {
      "text/plain": [
       "{'name': 'Denis Belyakov', '_age': 23}"
      ]
     },
     "execution_count": 100,
     "metadata": {},
     "output_type": "execute_result"
    }
   ],
   "source": [
    "vars(denis)"
   ]
  },
  {
   "cell_type": "code",
   "execution_count": 101,
   "id": "ee9be8c1",
   "metadata": {},
   "outputs": [
    {
     "data": {
      "text/plain": [
       "{'name': 'Denis Belyakov', '_age': 23}"
      ]
     },
     "execution_count": 101,
     "metadata": {},
     "output_type": "execute_result"
    }
   ],
   "source": [
    "denis.__dict__"
   ]
  },
  {
   "cell_type": "code",
   "execution_count": 102,
   "id": "e9c067bc",
   "metadata": {},
   "outputs": [
    {
     "name": "stderr",
     "output_type": "stream",
     "text": [
      "INFO:root:Accessing \"age\" giving 23\n"
     ]
    },
    {
     "data": {
      "text/plain": [
       "23"
      ]
     },
     "execution_count": 102,
     "metadata": {},
     "output_type": "execute_result"
    }
   ],
   "source": [
    "denis.age"
   ]
  },
  {
   "cell_type": "code",
   "execution_count": 103,
   "id": "a7bf4375",
   "metadata": {},
   "outputs": [
    {
     "data": {
      "text/plain": [
       "'Denis Belyakov'"
      ]
     },
     "execution_count": 103,
     "metadata": {},
     "output_type": "execute_result"
    }
   ],
   "source": [
    "denis.name"
   ]
  },
  {
   "cell_type": "code",
   "execution_count": 105,
   "id": "b622f18f",
   "metadata": {},
   "outputs": [
    {
     "data": {
      "text/plain": [
       "23"
      ]
     },
     "execution_count": 105,
     "metadata": {},
     "output_type": "execute_result"
    }
   ],
   "source": [
    "denis._age"
   ]
  },
  {
   "cell_type": "markdown",
   "id": "b15eb35e",
   "metadata": {},
   "source": [
    "## And yes, property"
   ]
  },
  {
   "cell_type": "code",
   "execution_count": 106,
   "id": "3a307949",
   "metadata": {},
   "outputs": [
    {
     "data": {
      "text/plain": [
       "mappingproxy({'__getattribute__': <slot wrapper '__getattribute__' of 'property' objects>,\n",
       "              '__get__': <slot wrapper '__get__' of 'property' objects>,\n",
       "              '__set__': <slot wrapper '__set__' of 'property' objects>,\n",
       "              '__delete__': <slot wrapper '__delete__' of 'property' objects>,\n",
       "              '__init__': <slot wrapper '__init__' of 'property' objects>,\n",
       "              '__new__': <function property.__new__(*args, **kwargs)>,\n",
       "              'getter': <method 'getter' of 'property' objects>,\n",
       "              'setter': <method 'setter' of 'property' objects>,\n",
       "              'deleter': <method 'deleter' of 'property' objects>,\n",
       "              'fget': <member 'fget' of 'property' objects>,\n",
       "              'fset': <member 'fset' of 'property' objects>,\n",
       "              'fdel': <member 'fdel' of 'property' objects>,\n",
       "              '__doc__': <member '__doc__' of 'property' objects>,\n",
       "              '__isabstractmethod__': <attribute '__isabstractmethod__' of 'property' objects>})"
      ]
     },
     "execution_count": 106,
     "metadata": {},
     "output_type": "execute_result"
    }
   ],
   "source": [
    "property.__dict__"
   ]
  },
  {
   "cell_type": "markdown",
   "id": "1098a34b",
   "metadata": {},
   "source": [
    "    The main motivation for descriptors is to provide a hook allowing objects stored in class variables to control what happens during attribute lookup."
   ]
  },
  {
   "cell_type": "markdown",
   "id": "0b83d560",
   "metadata": {},
   "source": [
    "Хорошая [лекция](http://uneex.org/LecturesCMC/PythonIntro2020/11_MiscOOP) на тему"
   ]
  },
  {
   "cell_type": "markdown",
   "id": "a93ca0a0",
   "metadata": {},
   "source": [
    "Развернутый [док](https://docs.python.org/3/howto/descriptor.html)"
   ]
  },
  {
   "cell_type": "markdown",
   "id": "50c5ae49",
   "metadata": {},
   "source": [
    "# Inheritance"
   ]
  },
  {
   "cell_type": "markdown",
   "id": "7e89371f",
   "metadata": {},
   "source": [
    "## Basics"
   ]
  },
  {
   "cell_type": "markdown",
   "id": "4f3173f7",
   "metadata": {},
   "source": [
    "Синтаксис простой"
   ]
  },
  {
   "cell_type": "code",
   "execution_count": 107,
   "id": "befb7987",
   "metadata": {},
   "outputs": [],
   "source": [
    "class BetterList(list):\n",
    "    # поля и методы\n",
    "    pass"
   ]
  },
  {
   "cell_type": "markdown",
   "id": "6daeeea3",
   "metadata": {},
   "source": [
    "Порядок видимости снизу вверх: объект -> класс -> родительский класс"
   ]
  },
  {
   "cell_type": "markdown",
   "id": "8963eefd",
   "metadata": {},
   "source": [
    "Для доступа к полям родителя используется `super()`"
   ]
  },
  {
   "cell_type": "code",
   "execution_count": 108,
   "id": "a30c7cfe",
   "metadata": {},
   "outputs": [],
   "source": [
    "class Parent:\n",
    "    def letter(self):\n",
    "        return 'D'\n",
    "    \n",
    "class Child(Parent):\n",
    "    def letter(self):\n",
    "        return super().letter() + 'B'"
   ]
  },
  {
   "cell_type": "code",
   "execution_count": 109,
   "id": "7c06072f",
   "metadata": {},
   "outputs": [],
   "source": [
    "a = Parent()\n",
    "b = Child()"
   ]
  },
  {
   "cell_type": "code",
   "execution_count": 110,
   "id": "6a3d0489",
   "metadata": {},
   "outputs": [
    {
     "data": {
      "text/plain": [
       "'D'"
      ]
     },
     "execution_count": 110,
     "metadata": {},
     "output_type": "execute_result"
    }
   ],
   "source": [
    "a.letter()"
   ]
  },
  {
   "cell_type": "code",
   "execution_count": 111,
   "id": "03669171",
   "metadata": {},
   "outputs": [
    {
     "data": {
      "text/plain": [
       "'DB'"
      ]
     },
     "execution_count": 111,
     "metadata": {},
     "output_type": "execute_result"
    }
   ],
   "source": [
    "b.letter()"
   ]
  },
  {
   "cell_type": "code",
   "execution_count": 112,
   "id": "fecb6854",
   "metadata": {},
   "outputs": [],
   "source": [
    "class Parent:\n",
    "    def __init__(self, letter='D'):\n",
    "        self._letter = letter\n",
    "        \n",
    "    def get_letter(self):\n",
    "        return self._letter\n",
    "    \n",
    "class Child(Parent):\n",
    "    def __init__(self, parent_letter='D', child_letter='B'):\n",
    "        super().__init__(parent_letter)\n",
    "        print(f'parent inited {self._letter}')\n",
    "        self.new_letter = child_letter\n",
    "        \n",
    "    def get_child_letter(self):\n",
    "        return self.new_letter"
   ]
  },
  {
   "cell_type": "code",
   "execution_count": 113,
   "id": "7e0184cd",
   "metadata": {},
   "outputs": [
    {
     "name": "stdout",
     "output_type": "stream",
     "text": [
      "parent inited D\n"
     ]
    }
   ],
   "source": [
    "a = Child()"
   ]
  },
  {
   "cell_type": "code",
   "execution_count": 114,
   "id": "6b0a41d0",
   "metadata": {},
   "outputs": [
    {
     "data": {
      "text/plain": [
       "'D'"
      ]
     },
     "execution_count": 114,
     "metadata": {},
     "output_type": "execute_result"
    }
   ],
   "source": [
    "a.get_letter()"
   ]
  },
  {
   "cell_type": "code",
   "execution_count": 115,
   "id": "95ecd2b4",
   "metadata": {},
   "outputs": [
    {
     "data": {
      "text/plain": [
       "'B'"
      ]
     },
     "execution_count": 115,
     "metadata": {},
     "output_type": "execute_result"
    }
   ],
   "source": [
    "a.get_child_letter()"
   ]
  },
  {
   "cell_type": "code",
   "execution_count": 116,
   "id": "930bc406",
   "metadata": {},
   "outputs": [
    {
     "data": {
      "text/plain": [
       "{'_letter': 'D', 'new_letter': 'B'}"
      ]
     },
     "execution_count": 116,
     "metadata": {},
     "output_type": "execute_result"
    }
   ],
   "source": [
    "a.__dict__"
   ]
  },
  {
   "cell_type": "markdown",
   "id": "e9163979",
   "metadata": {},
   "source": [
    "## Protecting names"
   ]
  },
  {
   "cell_type": "markdown",
   "id": "a7cd07d8",
   "metadata": {},
   "source": [
    "Фичи наследования в доопределении пространства имен и в возможности их перегрузки  "
   ]
  },
  {
   "cell_type": "markdown",
   "id": "48cb11e6",
   "metadata": {},
   "source": [
    "Предполагается, что если пользователь переопредляет имя, значит он этого хочет "
   ]
  },
  {
   "cell_type": "markdown",
   "id": "49f768b0",
   "metadata": {},
   "source": [
    "Если создатель класса не хочет, чтобы какое-то поле было явно перегружено, то можно, например, использовать дескрипторы или особый нейминг"
   ]
  },
  {
   "cell_type": "markdown",
   "id": "4f52e4e1",
   "metadata": {},
   "source": [
    "Есть общее соглашение, что переменные, названные с `_` не надо трогать вне класса, в котором они объявлены"
   ]
  },
  {
   "cell_type": "markdown",
   "id": "740372e4",
   "metadata": {},
   "source": [
    "Также в Python предусмотрен механизм с названием, начинающися с `__`"
   ]
  },
  {
   "cell_type": "code",
   "execution_count": 125,
   "id": "7c4c2b3a",
   "metadata": {},
   "outputs": [],
   "source": [
    "class StrictParent:\n",
    "    def __init__(self):\n",
    "        self.__letter = 'D'\n",
    "\n",
    "class Child(StrictParent):\n",
    "    def __init__(self):\n",
    "        super().__init__()\n",
    "        self._letter = 'B'"
   ]
  },
  {
   "cell_type": "code",
   "execution_count": 126,
   "id": "04aee0fc",
   "metadata": {},
   "outputs": [],
   "source": [
    "a = Child()"
   ]
  },
  {
   "cell_type": "code",
   "execution_count": 127,
   "id": "a9d22988",
   "metadata": {},
   "outputs": [
    {
     "data": {
      "text/plain": [
       "{'_StrictParent__letter': 'D', '_letter': 'B'}"
      ]
     },
     "execution_count": 127,
     "metadata": {},
     "output_type": "execute_result"
    }
   ],
   "source": [
    "a.__dict__"
   ]
  },
  {
   "cell_type": "markdown",
   "id": "62b951da",
   "metadata": {},
   "source": [
    "# Exceptions"
   ]
  },
  {
   "cell_type": "markdown",
   "id": "f930080d",
   "metadata": {},
   "source": [
    "Оператор **try-except-else-finally**"
   ]
  },
  {
   "cell_type": "code",
   "execution_count": 131,
   "id": "736e9c3d",
   "metadata": {},
   "outputs": [
    {
     "name": "stdout",
     "output_type": "stream",
     "text": [
      "impossible to modify object\n"
     ]
    }
   ],
   "source": [
    "a = '123'\n",
    "\n",
    "try:\n",
    "    a[0] = '10'\n",
    "except BaseException:\n",
    "    print('impossible to modify object')"
   ]
  },
  {
   "cell_type": "code",
   "execution_count": 129,
   "id": "c570f468",
   "metadata": {},
   "outputs": [
    {
     "ename": "TypeError",
     "evalue": "'str' object does not support item assignment",
     "output_type": "error",
     "traceback": [
      "\u001b[0;31m---------------------------------------------------------------------------\u001b[0m",
      "\u001b[0;31mTypeError\u001b[0m                                 Traceback (most recent call last)",
      "\u001b[0;32m/tmp/ipykernel_971357/1205832853.py\u001b[0m in \u001b[0;36m<module>\u001b[0;34m\u001b[0m\n\u001b[0;32m----> 1\u001b[0;31m \u001b[0ma\u001b[0m\u001b[0;34m[\u001b[0m\u001b[0;36m0\u001b[0m\u001b[0;34m]\u001b[0m \u001b[0;34m=\u001b[0m \u001b[0;34m'10'\u001b[0m\u001b[0;34m\u001b[0m\u001b[0;34m\u001b[0m\u001b[0m\n\u001b[0m",
      "\u001b[0;31mTypeError\u001b[0m: 'str' object does not support item assignment"
     ]
    }
   ],
   "source": [
    "a[0] = '10'"
   ]
  },
  {
   "cell_type": "code",
   "execution_count": 132,
   "id": "9e55879f",
   "metadata": {},
   "outputs": [
    {
     "data": {
      "text/plain": [
       "[TypeError, Exception, BaseException, object]"
      ]
     },
     "execution_count": 132,
     "metadata": {},
     "output_type": "execute_result"
    }
   ],
   "source": [
    "TypeError.mro()"
   ]
  },
  {
   "cell_type": "code",
   "execution_count": 141,
   "id": "cd7b1950",
   "metadata": {},
   "outputs": [
    {
     "name": "stdout",
     "output_type": "stream",
     "text": [
      "impossible to modify object\n"
     ]
    }
   ],
   "source": [
    "a = [1, 2, 3]\n",
    "a = '123'\n",
    "\n",
    "try:\n",
    "    a[0] = '10'\n",
    "except Exception as e:\n",
    "    print('impossible to modify object')\n",
    "else:\n",
    "    print('possible to modify object', a)"
   ]
  },
  {
   "cell_type": "markdown",
   "id": "d91fc4bb",
   "metadata": {},
   "source": [
    "Исключения — не «ошибки», а способ обработки некоторых условий не там, где они были обнаружены."
   ]
  },
  {
   "cell_type": "code",
   "execution_count": 135,
   "id": "0973e194",
   "metadata": {},
   "outputs": [
    {
     "ename": "TypeError",
     "evalue": "",
     "output_type": "error",
     "traceback": [
      "\u001b[0;31m---------------------------------------------------------------------------\u001b[0m",
      "\u001b[0;31mTypeError\u001b[0m                                 Traceback (most recent call last)",
      "\u001b[0;32m/tmp/ipykernel_971357/2270127484.py\u001b[0m in \u001b[0;36m<module>\u001b[0;34m\u001b[0m\n\u001b[0;32m----> 1\u001b[0;31m \u001b[0;32mraise\u001b[0m \u001b[0mTypeError\u001b[0m\u001b[0;34m\u001b[0m\u001b[0;34m\u001b[0m\u001b[0m\n\u001b[0m",
      "\u001b[0;31mTypeError\u001b[0m: "
     ]
    }
   ],
   "source": [
    "raise TypeError"
   ]
  },
  {
   "cell_type": "code",
   "execution_count": 136,
   "id": "173b837b",
   "metadata": {},
   "outputs": [
    {
     "ename": "TypeError",
     "evalue": "message",
     "output_type": "error",
     "traceback": [
      "\u001b[0;31m---------------------------------------------------------------------------\u001b[0m",
      "\u001b[0;31mTypeError\u001b[0m                                 Traceback (most recent call last)",
      "\u001b[0;32m/tmp/ipykernel_971357/567377029.py\u001b[0m in \u001b[0;36m<module>\u001b[0;34m\u001b[0m\n\u001b[0;32m----> 1\u001b[0;31m \u001b[0;32mraise\u001b[0m \u001b[0mTypeError\u001b[0m\u001b[0;34m(\u001b[0m\u001b[0;34m'message'\u001b[0m\u001b[0;34m)\u001b[0m\u001b[0;34m\u001b[0m\u001b[0;34m\u001b[0m\u001b[0m\n\u001b[0m",
      "\u001b[0;31mTypeError\u001b[0m: message"
     ]
    }
   ],
   "source": [
    "raise TypeError('message')"
   ]
  },
  {
   "cell_type": "markdown",
   "id": "1cbf12f6",
   "metadata": {},
   "source": [
    "Хорошая [лекция](http://uneex.org/LecturesCMC/PythonIntro2020/10_Inheritance) по механизму наследования в т.ч. с примерами исключений "
   ]
  },
  {
   "cell_type": "markdown",
   "id": "4e3cbcf6",
   "metadata": {},
   "source": [
    "**Bonus:**\n",
    "\n",
    "Напишите декоратор-класс, который бы:\n",
    "1. Проверял входные аргументы и вывод функции на соответствие типам, указанным в аннотациях \n",
    "2. Проверял, что все численные типы находятся в диапазоне от -1000 до 1000\n",
    "3. Длины типов-последовательностей не превосходят 1000\n",
    "4. В случае ошибок валидации возвращал информативное сообщение об ошибке в виде Exception\n",
    "5. Мог бы быть отключаемым по параметрам\n",
    "\n",
    "Для решения используйте дескрипторы, вам очень помогут упомянутые сегодня ссылки "
   ]
  },
  {
   "cell_type": "code",
   "execution_count": 142,
   "id": "8673237d",
   "metadata": {},
   "outputs": [],
   "source": [
    "def func(a: int, b: str) -> str:\n",
    "    pass"
   ]
  },
  {
   "cell_type": "markdown",
   "id": "fc715c42",
   "metadata": {},
   "source": [
    "---"
   ]
  },
  {
   "cell_type": "markdown",
   "id": "e86647f4",
   "metadata": {},
   "source": [
    "# Некоторые моменты по домашкам"
   ]
  },
  {
   "cell_type": "markdown",
   "id": "15d34fc2",
   "metadata": {},
   "source": [
    "**Общие комментарии:**\n",
    "\n",
    "- Используйте, пожалуйста, форматтер. В jupyter можно поставить через nbextensions, в тоже должен быть\n",
    "- snake_case, please\n",
    "- **Думайте над сложностью вашего алгоритма по времени и по памяти!** Самое быстрое в написании решение не всегда самое эффективное. Помните о сложностях операций над разными структурами в Python. Ищите крайние случаи\n",
    "- Читайте условия внимательнее, там иногда полезные вещи пишут :)\n",
    "\n",
    "\n",
    "- Если есть желание разобрать задачку, пишите ассистенту или в чат. Можем это сделать либо в конце семинара, либо в виде консультации"
   ]
  },
  {
   "cell_type": "markdown",
   "id": "a8492129",
   "metadata": {},
   "source": [
    "## **Найти максимальный отрицательный элемент, который не меньше -2000**"
   ]
  },
  {
   "cell_type": "code",
   "execution_count": 251,
   "id": "081a9aa8",
   "metadata": {},
   "outputs": [],
   "source": [
    "a = [-1 , 5, 9, -20, -25, -50, 214124]"
   ]
  },
  {
   "cell_type": "code",
   "execution_count": 144,
   "id": "49fa2207",
   "metadata": {},
   "outputs": [],
   "source": [
    "curr_max_value = -2000\n",
    "\n",
    "for elem in a:\n",
    "    if elem < 0 and elem > curr_max_value:\n",
    "        curr_max_value = elem"
   ]
  },
  {
   "cell_type": "code",
   "execution_count": 145,
   "id": "7f75bb1d",
   "metadata": {},
   "outputs": [
    {
     "data": {
      "text/plain": [
       "-1"
      ]
     },
     "execution_count": 145,
     "metadata": {},
     "output_type": "execute_result"
    }
   ],
   "source": [
    "curr_max_value"
   ]
  },
  {
   "cell_type": "markdown",
   "id": "5133ab78",
   "metadata": {},
   "source": [
    "Не очень удачное решение с точки зрения потребления памяти + лишний проход за линию"
   ]
  },
  {
   "cell_type": "code",
   "execution_count": 146,
   "id": "4b5af6c9",
   "metadata": {},
   "outputs": [
    {
     "data": {
      "text/plain": [
       "-1"
      ]
     },
     "execution_count": 146,
     "metadata": {},
     "output_type": "execute_result"
    }
   ],
   "source": [
    "b = []\n",
    "\n",
    "for elem in a:\n",
    "    if elem < 0:\n",
    "        b.append(elem)\n",
    "\n",
    "max(b)"
   ]
  },
  {
   "cell_type": "markdown",
   "id": "2ceefebe",
   "metadata": {},
   "source": [
    "Красиво, но тоже не самое оптимальное, т.к. кажется есть лишний проход за линию"
   ]
  },
  {
   "cell_type": "code",
   "execution_count": 147,
   "id": "a4f8f254",
   "metadata": {},
   "outputs": [
    {
     "data": {
      "text/plain": [
       "-1"
      ]
     },
     "execution_count": 147,
     "metadata": {},
     "output_type": "execute_result"
    }
   ],
   "source": [
    "max(filter(lambda x: x < 0, a))"
   ]
  },
  {
   "cell_type": "markdown",
   "id": "6471de8f",
   "metadata": {},
   "source": [
    "## Список, в котором элементы упорядочены по неубыванию. Сколько в нем различных элементов?"
   ]
  },
  {
   "cell_type": "code",
   "execution_count": 201,
   "id": "0505cc78",
   "metadata": {},
   "outputs": [
    {
     "data": {
      "text/plain": [
       "1000000"
      ]
     },
     "execution_count": 201,
     "metadata": {},
     "output_type": "execute_result"
    }
   ],
   "source": [
    "len_a = 1000000\n",
    "a = [i for i in range(len_a)]\n",
    "len(a)"
   ]
  },
  {
   "cell_type": "code",
   "execution_count": 239,
   "id": "31f01d37",
   "metadata": {},
   "outputs": [],
   "source": [
    "import sys\n",
    "\n",
    "def get_size_in_mb(obj):\n",
    "    return f'{sys.getsizeof(obj) / (1024 * 1024):.2f} Mb'"
   ]
  },
  {
   "cell_type": "markdown",
   "id": "8cafda18",
   "metadata": {},
   "source": [
    "### Хранение истории в списке и взятие его длины"
   ]
  },
  {
   "cell_type": "code",
   "execution_count": 228,
   "id": "e2e84ef6",
   "metadata": {},
   "outputs": [],
   "source": [
    "len_a = 100000\n",
    "a = [i for i in range(len_a)]"
   ]
  },
  {
   "cell_type": "code",
   "execution_count": 229,
   "id": "6cc4ab17",
   "metadata": {},
   "outputs": [
    {
     "name": "stdout",
     "output_type": "stream",
     "text": [
      "CPU times: user 50.9 s, sys: 0 ns, total: 50.9 s\n",
      "Wall time: 50.9 s\n"
     ]
    },
    {
     "data": {
      "text/plain": [
       "100000"
      ]
     },
     "execution_count": 229,
     "metadata": {},
     "output_type": "execute_result"
    }
   ],
   "source": [
    "%%time\n",
    "\n",
    "b = []\n",
    "cnt = 0\n",
    "\n",
    "for elem in a:\n",
    "    if elem not in b:\n",
    "        b.append(elem)\n",
    "        \n",
    "len(b)"
   ]
  },
  {
   "cell_type": "markdown",
   "id": "a032bd97",
   "metadata": {},
   "source": [
    "`if elem not in b` -- проход за линию внутри линейного цикла => квадратичная сложность алгоритма от размера входных данных. Если у вас много разных элементов, будет оооочень долго выполняться + лишний оверхед по памяти"
   ]
  },
  {
   "cell_type": "markdown",
   "id": "f60d0643",
   "metadata": {},
   "source": [
    "С такой сложностью на большем количестве данных слишком долго ждать. Для сравнения со следующими примерами по памяти можно ориентироваться на значение:"
   ]
  },
  {
   "cell_type": "code",
   "execution_count": 242,
   "id": "590e9f13",
   "metadata": {},
   "outputs": [
    {
     "name": "stdout",
     "output_type": "stream",
     "text": [
      "8.29 Mb\n"
     ]
    }
   ],
   "source": [
    "len_a = 1000000\n",
    "a = [i for i in range(len_a)]\n",
    "\n",
    "print(get_size_in_mb(a))"
   ]
  },
  {
   "cell_type": "markdown",
   "id": "5156f279",
   "metadata": {},
   "source": [
    "### Хранение истории в set и взятие его длины"
   ]
  },
  {
   "cell_type": "code",
   "execution_count": 243,
   "id": "71b0bdd0",
   "metadata": {},
   "outputs": [],
   "source": [
    "len_a = 1000000\n",
    "a = [i for i in range(len_a)]"
   ]
  },
  {
   "cell_type": "code",
   "execution_count": 244,
   "id": "cd1e77fc",
   "metadata": {},
   "outputs": [
    {
     "name": "stdout",
     "output_type": "stream",
     "text": [
      "CPU times: user 154 ms, sys: 12 ms, total: 166 ms\n",
      "Wall time: 164 ms\n"
     ]
    },
    {
     "data": {
      "text/plain": [
       "1000000"
      ]
     },
     "execution_count": 244,
     "metadata": {},
     "output_type": "execute_result"
    }
   ],
   "source": [
    "%%time\n",
    "\n",
    "b = set()\n",
    "cnt = 0\n",
    "\n",
    "for elem in a:\n",
    "    if elem not in b:\n",
    "        b.add(elem)\n",
    "        \n",
    "len(b)"
   ]
  },
  {
   "cell_type": "markdown",
   "id": "c44f8a6f",
   "metadata": {},
   "source": [
    "Сильно лучше по времени, но все еще оверхед по памяти"
   ]
  },
  {
   "cell_type": "code",
   "execution_count": 245,
   "id": "1ff573c6",
   "metadata": {},
   "outputs": [
    {
     "name": "stdout",
     "output_type": "stream",
     "text": [
      "32.00 Mb\n"
     ]
    }
   ],
   "source": [
    "print(get_size_in_mb(b))"
   ]
  },
  {
   "cell_type": "markdown",
   "id": "33ff6a82",
   "metadata": {},
   "source": [
    "### длина множества"
   ]
  },
  {
   "cell_type": "code",
   "execution_count": 246,
   "id": "504d3296",
   "metadata": {},
   "outputs": [
    {
     "data": {
      "text/plain": [
       "1000000"
      ]
     },
     "execution_count": 246,
     "metadata": {},
     "output_type": "execute_result"
    }
   ],
   "source": [
    "len(set(a))"
   ]
  },
  {
   "cell_type": "code",
   "execution_count": 247,
   "id": "b84bcbfa",
   "metadata": {},
   "outputs": [
    {
     "name": "stdout",
     "output_type": "stream",
     "text": [
      "32.00 Mb\n"
     ]
    }
   ],
   "source": [
    "print(get_size_in_mb(set(a)))"
   ]
  },
  {
   "cell_type": "markdown",
   "id": "c027021a",
   "metadata": {},
   "source": [
    "### Проход за линию"
   ]
  },
  {
   "cell_type": "code",
   "execution_count": 249,
   "id": "76422263",
   "metadata": {},
   "outputs": [
    {
     "name": "stdout",
     "output_type": "stream",
     "text": [
      "CPU times: user 159 ms, sys: 8 ms, total: 167 ms\n",
      "Wall time: 165 ms\n"
     ]
    },
    {
     "data": {
      "text/plain": [
       "1000000"
      ]
     },
     "execution_count": 249,
     "metadata": {},
     "output_type": "execute_result"
    }
   ],
   "source": [
    "%%time\n",
    "\n",
    "breaks = 0\n",
    "prev = None\n",
    "\n",
    "for elem in a:\n",
    "    if prev is None or elem != prev:\n",
    "        breaks += 1\n",
    "    prev = elem\n",
    "    \n",
    "breaks"
   ]
  },
  {
   "cell_type": "markdown",
   "id": "2ac2e11d",
   "metadata": {},
   "source": [
    "И без оверхеда по памяти"
   ]
  },
  {
   "cell_type": "markdown",
   "id": "1b8f770f",
   "metadata": {},
   "source": [
    "    Конечно, на такой простой задаче все это может казаться немного излишним, но если вы будете работать с реальными большими данными, помнить о костах по памяти и времени нужно"
   ]
  },
  {
   "cell_type": "code",
   "execution_count": null,
   "id": "f829cf12",
   "metadata": {},
   "outputs": [],
   "source": []
  }
 ],
 "metadata": {
  "kernelspec": {
   "display_name": "Python 3.7.4 64-bit ('base': conda)",
   "language": "python",
   "name": "python37464bitbaseconda673265f21f5749a2af8cc8a878fb0657"
  },
  "language_info": {
   "codemirror_mode": {
    "name": "ipython",
    "version": 3
   },
   "file_extension": ".py",
   "mimetype": "text/x-python",
   "name": "python",
   "nbconvert_exporter": "python",
   "pygments_lexer": "ipython3",
   "version": "3.7.6"
  },
  "latex_envs": {
   "LaTeX_envs_menu_present": true,
   "autoclose": false,
   "autocomplete": true,
   "bibliofile": "biblio.bib",
   "cite_by": "apalike",
   "current_citInitial": 1,
   "eqLabelWithNumbers": true,
   "eqNumInitial": 1,
   "hotkeys": {
    "equation": "Ctrl-E",
    "itemize": "Ctrl-I"
   },
   "labels_anchors": false,
   "latex_user_defs": false,
   "report_style_numbering": false,
   "user_envs_cfg": false
  },
  "toc": {
   "base_numbering": 1,
   "nav_menu": {},
   "number_sections": true,
   "sideBar": true,
   "skip_h1_title": false,
   "title_cell": "Table of Contents",
   "title_sidebar": "Contents",
   "toc_cell": false,
   "toc_position": {},
   "toc_section_display": true,
   "toc_window_display": true
  }
 },
 "nbformat": 4,
 "nbformat_minor": 5
}
