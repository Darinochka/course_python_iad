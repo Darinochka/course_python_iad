{
 "cells": [
  {
   "cell_type": "markdown",
   "id": "3612be79",
   "metadata": {},
   "source": [
    "# Sequences"
   ]
  },
  {
   "cell_type": "markdown",
   "id": "3c1a4b62",
   "metadata": {},
   "source": [
    "    \"As you may have noticed, several of the operations mentioned work equally for texts, lists and tables. Texts, lists and tables together are called trains. \n",
    "    […] The FOR command also works generically on trains\""
   ]
  },
  {
   "cell_type": "markdown",
   "id": "27186a4b",
   "metadata": {},
   "source": [
    "Мощь Python в том, что для многих схожих классов у нас есть общее множество поддерживаемых операций. Например, strings, lists, byte sequences, arrays и др. поддерживают iteration, slicing, sorting, contactenation и прочие общие операции.\n",
    "\n",
    "Understanding и embracing данного принципа помогает нам не изобретать велосипед, а использовать общий интерфейс, который дает реализуемым классам поддержку уже принятых методов "
   ]
  },
  {
   "cell_type": "markdown",
   "id": "544594d9",
   "metadata": {},
   "source": [
    "Рассмотрим некоторые примеры последовательностей, помимо изученного ранее string"
   ]
  },
  {
   "cell_type": "markdown",
   "id": "a8c64dca",
   "metadata": {},
   "source": [
    "## List"
   ]
  },
  {
   "cell_type": "markdown",
   "id": "a3cf826d",
   "metadata": {},
   "source": [
    "Most fundamental sequence, mutable and mixed-type"
   ]
  },
  {
   "cell_type": "code",
   "execution_count": 253,
   "id": "7ee7c59d",
   "metadata": {},
   "outputs": [],
   "source": [
    "a = [1, 2, 3]\n",
    "b = ['1', [2], 3, 4.]"
   ]
  },
  {
   "cell_type": "markdown",
   "id": "4d1fe483",
   "metadata": {},
   "source": [
    "### Базовые операции"
   ]
  },
  {
   "cell_type": "code",
   "execution_count": 2,
   "id": "48940786",
   "metadata": {},
   "outputs": [
    {
     "data": {
      "text/plain": [
       "[1, 2, 3, '1', [2], 3, 4.0]"
      ]
     },
     "execution_count": 2,
     "metadata": {},
     "output_type": "execute_result"
    }
   ],
   "source": [
    "a + b"
   ]
  },
  {
   "cell_type": "code",
   "execution_count": 3,
   "id": "d7b1e8f0",
   "metadata": {},
   "outputs": [
    {
     "data": {
      "text/plain": [
       "[1, 2, 3, 1, 2, 3, 1, 2, 3]"
      ]
     },
     "execution_count": 3,
     "metadata": {},
     "output_type": "execute_result"
    }
   ],
   "source": [
    "a * 3"
   ]
  },
  {
   "cell_type": "markdown",
   "id": "9a96f76e",
   "metadata": {},
   "source": [
    "`Слайсы!`"
   ]
  },
  {
   "cell_type": "code",
   "execution_count": 7,
   "id": "1da2815c",
   "metadata": {},
   "outputs": [
    {
     "data": {
      "text/plain": [
       "[4.0, 3, [2], '1']"
      ]
     },
     "execution_count": 7,
     "metadata": {},
     "output_type": "execute_result"
    }
   ],
   "source": [
    "b[::-1]"
   ]
  },
  {
   "cell_type": "markdown",
   "id": "002fbd87",
   "metadata": {},
   "source": [
    "Поддержка операций `in (not in), min, max, index (поиск), count`"
   ]
  },
  {
   "cell_type": "code",
   "execution_count": 10,
   "id": "245654bd",
   "metadata": {},
   "outputs": [
    {
     "data": {
      "text/plain": [
       "True"
      ]
     },
     "execution_count": 10,
     "metadata": {},
     "output_type": "execute_result"
    }
   ],
   "source": [
    "'1' not in a"
   ]
  },
  {
   "cell_type": "code",
   "execution_count": 9,
   "id": "3ba4d2ed",
   "metadata": {},
   "outputs": [
    {
     "data": {
      "text/plain": [
       "True"
      ]
     },
     "execution_count": 9,
     "metadata": {},
     "output_type": "execute_result"
    }
   ],
   "source": [
    "'1' in a + b"
   ]
  },
  {
   "cell_type": "markdown",
   "id": "1b3e248f",
   "metadata": {},
   "source": [
    "Для коллекций, содержащих разные типы, нужно явно определить компаратор"
   ]
  },
  {
   "cell_type": "code",
   "execution_count": 16,
   "id": "10ac3804",
   "metadata": {},
   "outputs": [
    {
     "data": {
      "text/plain": [
       "(1, 3)"
      ]
     },
     "execution_count": 16,
     "metadata": {},
     "output_type": "execute_result"
    }
   ],
   "source": [
    "min(a), max(a)"
   ]
  },
  {
   "cell_type": "code",
   "execution_count": 21,
   "id": "bdb1de74",
   "metadata": {},
   "outputs": [
    {
     "ename": "ValueError",
     "evalue": "4 is not in list",
     "output_type": "error",
     "traceback": [
      "\u001b[0;31m---------------------------------------------------------------------------\u001b[0m",
      "\u001b[0;31mValueError\u001b[0m                                Traceback (most recent call last)",
      "\u001b[0;32m/tmp/ipykernel_246707/317268405.py\u001b[0m in \u001b[0;36m<module>\u001b[0;34m\u001b[0m\n\u001b[0;32m----> 1\u001b[0;31m \u001b[0ma\u001b[0m\u001b[0;34m.\u001b[0m\u001b[0mindex\u001b[0m\u001b[0;34m(\u001b[0m\u001b[0;36m3\u001b[0m\u001b[0;34m)\u001b[0m\u001b[0;34m,\u001b[0m \u001b[0ma\u001b[0m\u001b[0;34m.\u001b[0m\u001b[0mindex\u001b[0m\u001b[0;34m(\u001b[0m\u001b[0;36m4\u001b[0m\u001b[0;34m)\u001b[0m\u001b[0;34m\u001b[0m\u001b[0;34m\u001b[0m\u001b[0m\n\u001b[0m",
      "\u001b[0;31mValueError\u001b[0m: 4 is not in list"
     ]
    }
   ],
   "source": [
    "a.index(3), a.index(4)"
   ]
  },
  {
   "cell_type": "code",
   "execution_count": 23,
   "id": "1f82a98f",
   "metadata": {},
   "outputs": [
    {
     "data": {
      "text/plain": [
       "(1, 0)"
      ]
     },
     "execution_count": 23,
     "metadata": {},
     "output_type": "execute_result"
    }
   ],
   "source": [
    "a.count(1), a.count(4)"
   ]
  },
  {
   "cell_type": "markdown",
   "id": "7d566ed5",
   "metadata": {},
   "source": [
    "И, конечно же, уже знакомые нам"
   ]
  },
  {
   "cell_type": "code",
   "execution_count": 25,
   "id": "073c5096",
   "metadata": {},
   "outputs": [
    {
     "data": {
      "text/plain": [
       "(3, 4)"
      ]
     },
     "execution_count": 25,
     "metadata": {},
     "output_type": "execute_result"
    }
   ],
   "source": [
    "len(a), len(b)"
   ]
  },
  {
   "cell_type": "code",
   "execution_count": 27,
   "id": "377ca50c",
   "metadata": {},
   "outputs": [
    {
     "data": {
      "text/plain": [
       "('[1, 2, 3]', '[1, 2, 3]')"
      ]
     },
     "execution_count": 27,
     "metadata": {},
     "output_type": "execute_result"
    }
   ],
   "source": [
    "repr(a), a.__repr__()"
   ]
  },
  {
   "cell_type": "code",
   "execution_count": 28,
   "id": "8c3a2a60",
   "metadata": {},
   "outputs": [
    {
     "data": {
      "text/plain": [
       "('[1, 2, 3]', '[1, 2, 3]')"
      ]
     },
     "execution_count": 28,
     "metadata": {},
     "output_type": "execute_result"
    }
   ],
   "source": [
    "str(a), a.__str__()"
   ]
  },
  {
   "cell_type": "markdown",
   "id": "ed7cbda0",
   "metadata": {},
   "source": [
    "**Inplace** изменения в список"
   ]
  },
  {
   "cell_type": "code",
   "execution_count": 29,
   "id": "98c3ca47",
   "metadata": {},
   "outputs": [
    {
     "data": {
      "text/plain": [
       "[1, 2, 3, 4]"
      ]
     },
     "execution_count": 29,
     "metadata": {},
     "output_type": "execute_result"
    }
   ],
   "source": [
    "a.append(4)\n",
    "a"
   ]
  },
  {
   "cell_type": "code",
   "execution_count": 30,
   "id": "4dcfd123",
   "metadata": {},
   "outputs": [
    {
     "data": {
      "text/plain": [
       "[1, 2, 3, 4, '1', [2], 3, 4.0]"
      ]
     },
     "execution_count": 30,
     "metadata": {},
     "output_type": "execute_result"
    }
   ],
   "source": [
    "a.extend(b)\n",
    "a"
   ]
  },
  {
   "cell_type": "code",
   "execution_count": 31,
   "id": "648d1860",
   "metadata": {},
   "outputs": [
    {
     "data": {
      "text/plain": [
       "[1, 2, 4, '1', [2], 3, 4.0]"
      ]
     },
     "execution_count": 31,
     "metadata": {},
     "output_type": "execute_result"
    }
   ],
   "source": [
    "a.remove(3)\n",
    "a"
   ]
  },
  {
   "cell_type": "code",
   "execution_count": 32,
   "id": "c63ae901",
   "metadata": {},
   "outputs": [
    {
     "data": {
      "text/plain": [
       "[100, 2, 4, '1', [2], 3, 4.0]"
      ]
     },
     "execution_count": 32,
     "metadata": {},
     "output_type": "execute_result"
    }
   ],
   "source": [
    "a[0] = 100\n",
    "a"
   ]
  },
  {
   "cell_type": "markdown",
   "id": "043c062f",
   "metadata": {},
   "source": [
    "**+=, *=**"
   ]
  },
  {
   "cell_type": "code",
   "execution_count": 141,
   "id": "3bd14267",
   "metadata": {},
   "outputs": [
    {
     "name": "stdout",
     "output_type": "stream",
     "text": [
      "139949936020128\n",
      "139949936020128\n",
      "139949936020128\n"
     ]
    }
   ],
   "source": [
    "a = [1, 2, 3]\n",
    "print(id(a))\n",
    "\n",
    "a *= 3\n",
    "print(id(a))\n",
    "\n",
    "a += [10, 11]\n",
    "print(id(a))"
   ]
  },
  {
   "cell_type": "markdown",
   "id": "dd15a5e2",
   "metadata": {},
   "source": [
    "`При использовании inplace операции над изменяемым обектом, адрес не меняется, это все тот же объект`"
   ]
  },
  {
   "cell_type": "markdown",
   "id": "7f564e7b",
   "metadata": {},
   "source": [
    "### Iterating"
   ]
  },
  {
   "cell_type": "code",
   "execution_count": 254,
   "id": "518297a1",
   "metadata": {},
   "outputs": [
    {
     "name": "stdout",
     "output_type": "stream",
     "text": [
      "1\n",
      "[2]\n",
      "3\n",
      "4.0\n"
     ]
    }
   ],
   "source": [
    "for element in b:\n",
    "    print(element)"
   ]
  },
  {
   "cell_type": "markdown",
   "id": "a774f59c",
   "metadata": {},
   "source": [
    "Можно итерироваться по нескольким сразу"
   ]
  },
  {
   "cell_type": "code",
   "execution_count": 255,
   "id": "8d34752d",
   "metadata": {},
   "outputs": [
    {
     "name": "stdout",
     "output_type": "stream",
     "text": [
      "1 10\n",
      "2 20\n",
      "3 30\n"
     ]
    }
   ],
   "source": [
    "c = [1, 2, 3]\n",
    "d = [10, 20, 30, 40]\n",
    "\n",
    "for val_one, val_two in zip(c, d):\n",
    "    print(val_one, val_two)"
   ]
  },
  {
   "cell_type": "markdown",
   "id": "c4b0d4dc",
   "metadata": {},
   "source": [
    "По значению и индексу"
   ]
  },
  {
   "cell_type": "code",
   "execution_count": 256,
   "id": "bc5a03fd",
   "metadata": {},
   "outputs": [
    {
     "name": "stdout",
     "output_type": "stream",
     "text": [
      "0 1\n",
      "1 [2]\n",
      "2 3\n",
      "3 4.0\n"
     ]
    }
   ],
   "source": [
    "for index, elem in enumerate(b, start=0):\n",
    "    print(index, elem)"
   ]
  },
  {
   "cell_type": "markdown",
   "id": "eb651fb3",
   "metadata": {},
   "source": [
    "### Внутреннее устройство"
   ]
  },
  {
   "cell_type": "markdown",
   "id": "61f807de",
   "metadata": {},
   "source": [
    "Как ни странно, список в Python -- это на самом деле массив :/\n",
    "\n",
    "То есть, внутри список предаставляется как непрерывный кусок памяти, каждый элемент -- это указатель на объект."
   ]
  },
  {
   "cell_type": "markdown",
   "id": "773ff6f7",
   "metadata": {},
   "source": [
    "![array](https://media.geeksforgeeks.org/wp-content/uploads/array-2.png)"
   ]
  },
  {
   "cell_type": "markdown",
   "id": "ced63a51",
   "metadata": {},
   "source": [
    "    The implementation uses a contiguous array of references to other objects, and keeps a pointer to this array and the array’s length in a list head structure.\n",
    "    \n",
    "    When items are appended or inserted, the array of references is resized. Some cleverness is applied to improve the performance of appending items repeatedly; when the array must be grown, some extra space is allocated so the next few times don’t require an actual resize. (Python docs)"
   ]
  },
  {
   "cell_type": "markdown",
   "id": "d10e96a2",
   "metadata": {},
   "source": [
    "**Что это дает на практике?**\n",
    "\n",
    "Важно понимать сложность базовых операций с нашей структурой данных. И в зависимости от этого подбирать правильную структуру данных под определенную задачу."
   ]
  },
  {
   "cell_type": "markdown",
   "id": "d4afe0fb",
   "metadata": {},
   "source": [
    "Recap:\n",
    "![o](https://wikimedia.org/api/rest_v1/media/math/render/svg/e45ededce98fd7f1d8866cff71d6311e6510e850), если $\\exists M, x_0$:\n",
    "![o_cond](https://wikimedia.org/api/rest_v1/media/math/render/svg/8248f95babb0ee9002984ae877f30dae8d710025)"
   ]
  },
  {
   "cell_type": "markdown",
   "id": "1ce86765",
   "metadata": {},
   "source": [
    "Так, основное для list:\n",
    "\n",
    "- Доступ по индексу -- O(1)\n",
    "- Дописывание в конец / удаление с конца -- в среднем O(1)\n",
    "- Вставка / удаление в произвольном месте -- O(n)\n",
    "- min, max -- O(n)\n",
    "\n",
    "O(1) означает выполнение за контантное время, O(n) -- время выполнения зависит от длины массива"
   ]
  },
  {
   "cell_type": "markdown",
   "id": "91256183",
   "metadata": {},
   "source": [
    "### List Comprehensions"
   ]
  },
  {
   "cell_type": "markdown",
   "id": "07a718a9",
   "metadata": {},
   "source": [
    "**Example**"
   ]
  },
  {
   "cell_type": "code",
   "execution_count": 52,
   "id": "92360e3d",
   "metadata": {},
   "outputs": [],
   "source": [
    "symbols = '$¢£¥€¤'"
   ]
  },
  {
   "cell_type": "code",
   "execution_count": 54,
   "id": "e355fbfc",
   "metadata": {},
   "outputs": [
    {
     "data": {
      "text/plain": [
       "[36, 162, 163, 165, 8364, 164]"
      ]
     },
     "execution_count": 54,
     "metadata": {},
     "output_type": "execute_result"
    }
   ],
   "source": [
    "codes = []\n",
    "for s in symbols:\n",
    "    codes.append(ord(s))\n",
    "\n",
    "codes"
   ]
  },
  {
   "cell_type": "code",
   "execution_count": 56,
   "id": "88d9d2d5",
   "metadata": {},
   "outputs": [
    {
     "data": {
      "text/plain": [
       "[36, 162, 163, 165, 8364, 164]"
      ]
     },
     "execution_count": 56,
     "metadata": {},
     "output_type": "execute_result"
    }
   ],
   "source": [
    "codes = [ord(s) for s in symbols]\n",
    "\n",
    "codes"
   ]
  },
  {
   "cell_type": "markdown",
   "id": "db2741b0",
   "metadata": {},
   "source": [
    "Поддерживают условия, а также могут быть вложенными"
   ]
  },
  {
   "cell_type": "code",
   "execution_count": 58,
   "id": "2f62e4d5",
   "metadata": {},
   "outputs": [
    {
     "data": {
      "text/plain": [
       "[8364]"
      ]
     },
     "execution_count": 58,
     "metadata": {},
     "output_type": "execute_result"
    }
   ],
   "source": [
    "[ord(s) for s in symbols if ord(s) > 200]"
   ]
  },
  {
   "cell_type": "code",
   "execution_count": 61,
   "id": "bff4ff2d",
   "metadata": {},
   "outputs": [
    {
     "data": {
      "text/plain": [
       "[-1, -1, -1, -1, 8364, -1]"
      ]
     },
     "execution_count": 61,
     "metadata": {},
     "output_type": "execute_result"
    }
   ],
   "source": [
    "[ord(s) if ord(s) > 200 else -1 for s in symbols]"
   ]
  },
  {
   "cell_type": "markdown",
   "id": "12920853",
   "metadata": {},
   "source": [
    "**Listcomp для убирания вложенности в списке**"
   ]
  },
  {
   "cell_type": "code",
   "execution_count": 68,
   "id": "dbe1ac9f",
   "metadata": {},
   "outputs": [],
   "source": [
    "a = [[1, 2], [3, 4], [5, 6], [7, 8]]\n",
    "\n",
    "b = [item for inner_list in a for item in inner_list]\n",
    "\n",
    "flattened_a = []\n",
    "for inner_list in a:\n",
    "    for item in inner_list:\n",
    "        flattened_a.append(item)\n",
    "\n",
    "assert b == [1, 2, 3, 4, 5, 6, 7, 8] \n",
    "assert flattened_a == [1, 2, 3, 4, 5, 6, 7, 8] "
   ]
  },
  {
   "cell_type": "markdown",
   "id": "85959940",
   "metadata": {},
   "source": [
    "### Generator expressions"
   ]
  },
  {
   "cell_type": "markdown",
   "id": "b2debc96",
   "metadata": {},
   "source": [
    "Как list comprehension, только создает и выдает элементы на лету"
   ]
  },
  {
   "cell_type": "code",
   "execution_count": 78,
   "id": "19234845",
   "metadata": {},
   "outputs": [
    {
     "data": {
      "text/plain": [
       "<generator object <genexpr> at 0x7f489b724cd0>"
      ]
     },
     "execution_count": 78,
     "metadata": {},
     "output_type": "execute_result"
    }
   ],
   "source": [
    "gen = (ord(s) for s in symbols)\n",
    "gen"
   ]
  },
  {
   "cell_type": "code",
   "execution_count": 79,
   "id": "aee5f951",
   "metadata": {},
   "outputs": [
    {
     "name": "stdout",
     "output_type": "stream",
     "text": [
      "36\n",
      "162\n",
      "163\n",
      "165\n",
      "8364\n",
      "164\n"
     ]
    }
   ],
   "source": [
    "for i in gen:\n",
    "    print(i)"
   ]
  },
  {
   "cell_type": "code",
   "execution_count": 81,
   "id": "ee6528cb",
   "metadata": {},
   "outputs": [],
   "source": [
    "for i in gen:\n",
    "    print(i)"
   ]
  },
  {
   "cell_type": "markdown",
   "id": "8f44a18b",
   "metadata": {},
   "source": [
    "Почему пусто?\n",
    "Генератор \"отдал\" все созданные элементы, больше в нем нет :)"
   ]
  },
  {
   "cell_type": "markdown",
   "id": "8ffa1414",
   "metadata": {},
   "source": [
    "## Range"
   ]
  },
  {
   "cell_type": "markdown",
   "id": "70e9f9e5",
   "metadata": {},
   "source": [
    "range() function generates the immutable sequence (of type rage) of numbers starting from the given start integer to the stop integer\n",
    "\n",
    "`range(start, stop, step)`"
   ]
  },
  {
   "cell_type": "code",
   "execution_count": 95,
   "id": "741c665d",
   "metadata": {},
   "outputs": [
    {
     "data": {
      "text/plain": [
       "range(0, 10)"
      ]
     },
     "execution_count": 95,
     "metadata": {},
     "output_type": "execute_result"
    }
   ],
   "source": [
    "range(10)"
   ]
  },
  {
   "cell_type": "code",
   "execution_count": 96,
   "id": "ed66ba05",
   "metadata": {},
   "outputs": [
    {
     "data": {
      "text/plain": [
       "[0, 1, 2, 3, 4, 5, 6, 7, 8, 9]"
      ]
     },
     "execution_count": 96,
     "metadata": {},
     "output_type": "execute_result"
    }
   ],
   "source": [
    "list(range(10))"
   ]
  },
  {
   "cell_type": "code",
   "execution_count": 98,
   "id": "b0dc5f0d",
   "metadata": {},
   "outputs": [
    {
     "data": {
      "text/plain": [
       "[1, 3, 5, 7, 9]"
      ]
     },
     "execution_count": 98,
     "metadata": {},
     "output_type": "execute_result"
    }
   ],
   "source": [
    "a = range(1, 10, 2)\n",
    "\n",
    "list(a)"
   ]
  },
  {
   "cell_type": "code",
   "execution_count": 100,
   "id": "ea87d0b2",
   "metadata": {},
   "outputs": [
    {
     "name": "stdout",
     "output_type": "stream",
     "text": [
      "1\n",
      "3\n",
      "5\n",
      "7\n",
      "9\n"
     ]
    }
   ],
   "source": [
    "for i in a:\n",
    "    print(i)"
   ]
  },
  {
   "cell_type": "markdown",
   "id": "f6c86da2",
   "metadata": {},
   "source": [
    "Поддерживает индексацию"
   ]
  },
  {
   "cell_type": "code",
   "execution_count": 109,
   "id": "dd93515f",
   "metadata": {},
   "outputs": [],
   "source": [
    "a = range(0, 10)"
   ]
  },
  {
   "cell_type": "code",
   "execution_count": 110,
   "id": "a9b678c0",
   "metadata": {},
   "outputs": [
    {
     "data": {
      "text/plain": [
       "(1, 3)"
      ]
     },
     "execution_count": 110,
     "metadata": {},
     "output_type": "execute_result"
    }
   ],
   "source": [
    "a[1], a.index(3)"
   ]
  },
  {
   "cell_type": "markdown",
   "id": "d4d936a9",
   "metadata": {},
   "source": [
    "range не генерирует числа сразу же, а делает это one-by-one. Это хорошо для памяти и скорости"
   ]
  },
  {
   "cell_type": "code",
   "execution_count": 112,
   "id": "62763d19",
   "metadata": {},
   "outputs": [],
   "source": [
    "a = range(1000000000000000000000000000000000000000000000000000000000000000000000000000000000000000000000000000000000)"
   ]
  },
  {
   "cell_type": "markdown",
   "id": "9e1c60d0",
   "metadata": {},
   "source": [
    "## Tuples"
   ]
  },
  {
   "cell_type": "markdown",
   "id": "1529d7fb",
   "metadata": {},
   "source": [
    "Очень похоже на списки, только неизменяемые"
   ]
  },
  {
   "cell_type": "code",
   "execution_count": 69,
   "id": "996cf9f3",
   "metadata": {},
   "outputs": [],
   "source": [
    "a = (1, 2, 3,)"
   ]
  },
  {
   "cell_type": "code",
   "execution_count": 71,
   "id": "c67d2ff2",
   "metadata": {},
   "outputs": [
    {
     "ename": "TypeError",
     "evalue": "'tuple' object does not support item assignment",
     "output_type": "error",
     "traceback": [
      "\u001b[0;31m---------------------------------------------------------------------------\u001b[0m",
      "\u001b[0;31mTypeError\u001b[0m                                 Traceback (most recent call last)",
      "\u001b[0;32m/tmp/ipykernel_246707/2869727665.py\u001b[0m in \u001b[0;36m<module>\u001b[0;34m\u001b[0m\n\u001b[0;32m----> 1\u001b[0;31m \u001b[0ma\u001b[0m\u001b[0;34m[\u001b[0m\u001b[0;36m0\u001b[0m\u001b[0;34m]\u001b[0m \u001b[0;34m=\u001b[0m \u001b[0;36m3\u001b[0m\u001b[0;34m\u001b[0m\u001b[0;34m\u001b[0m\u001b[0m\n\u001b[0m",
      "\u001b[0;31mTypeError\u001b[0m: 'tuple' object does not support item assignment"
     ]
    }
   ],
   "source": [
    "a[0] = 3"
   ]
  },
  {
   "cell_type": "markdown",
   "id": "0c57a52d",
   "metadata": {},
   "source": [
    "**Be careful!**\n",
    "Если внутренний элемент изменяемый, то можно его менять inplace"
   ]
  },
  {
   "cell_type": "code",
   "execution_count": 72,
   "id": "f3f05746",
   "metadata": {},
   "outputs": [],
   "source": [
    "a = (1, [1, 2], 3)\n",
    "a[1].append(4)"
   ]
  },
  {
   "cell_type": "code",
   "execution_count": 73,
   "id": "cc4aa339",
   "metadata": {},
   "outputs": [
    {
     "data": {
      "text/plain": [
       "(1, [1, 2, 4], 3)"
      ]
     },
     "execution_count": 73,
     "metadata": {},
     "output_type": "execute_result"
    }
   ],
   "source": [
    "a"
   ]
  },
  {
   "cell_type": "markdown",
   "id": "4fa2979a",
   "metadata": {},
   "source": [
    "**Unpacking**"
   ]
  },
  {
   "cell_type": "markdown",
   "id": "1c5c3ba9",
   "metadata": {},
   "source": [
    "Работает с любым итерируемым объектом в Python"
   ]
  },
  {
   "cell_type": "code",
   "execution_count": 75,
   "id": "b626f32f",
   "metadata": {},
   "outputs": [
    {
     "data": {
      "text/plain": [
       "(10.0, -11.0)"
      ]
     },
     "execution_count": 75,
     "metadata": {},
     "output_type": "execute_result"
    }
   ],
   "source": [
    "coordinates = (10., -11.)\n",
    "\n",
    "lat, lon = coordinates\n",
    "\n",
    "lat, lon"
   ]
  },
  {
   "cell_type": "markdown",
   "id": "c1abdb79",
   "metadata": {},
   "source": [
    "Лишние значения можно свернуть"
   ]
  },
  {
   "cell_type": "code",
   "execution_count": 114,
   "id": "34fba8a5",
   "metadata": {},
   "outputs": [],
   "source": [
    "a, b, *rest = range(10)"
   ]
  },
  {
   "cell_type": "code",
   "execution_count": 115,
   "id": "64da9712",
   "metadata": {},
   "outputs": [
    {
     "data": {
      "text/plain": [
       "(0, 1)"
      ]
     },
     "execution_count": 115,
     "metadata": {},
     "output_type": "execute_result"
    }
   ],
   "source": [
    "a, b"
   ]
  },
  {
   "cell_type": "code",
   "execution_count": 116,
   "id": "a39d3c99",
   "metadata": {},
   "outputs": [
    {
     "data": {
      "text/plain": [
       "[2, 3, 4, 5, 6, 7, 8, 9]"
      ]
     },
     "execution_count": 116,
     "metadata": {},
     "output_type": "execute_result"
    }
   ],
   "source": [
    "rest"
   ]
  },
  {
   "cell_type": "markdown",
   "id": "d10ed771",
   "metadata": {},
   "source": [
    "или"
   ]
  },
  {
   "cell_type": "code",
   "execution_count": 117,
   "id": "d479444c",
   "metadata": {},
   "outputs": [],
   "source": [
    "first, *rest, last = range(10)"
   ]
  },
  {
   "cell_type": "code",
   "execution_count": 118,
   "id": "a6855ec0",
   "metadata": {},
   "outputs": [
    {
     "data": {
      "text/plain": [
       "(0, 9)"
      ]
     },
     "execution_count": 118,
     "metadata": {},
     "output_type": "execute_result"
    }
   ],
   "source": [
    "first, last"
   ]
  },
  {
   "cell_type": "code",
   "execution_count": 119,
   "id": "3a974000",
   "metadata": {},
   "outputs": [
    {
     "data": {
      "text/plain": [
       "[1, 2, 3, 4, 5, 6, 7, 8]"
      ]
     },
     "execution_count": 119,
     "metadata": {},
     "output_type": "execute_result"
    }
   ],
   "source": [
    "rest"
   ]
  },
  {
   "cell_type": "markdown",
   "id": "e84a246b",
   "metadata": {},
   "source": [
    "**+=, *=**"
   ]
  },
  {
   "cell_type": "code",
   "execution_count": 144,
   "id": "21d97964",
   "metadata": {},
   "outputs": [
    {
     "name": "stdout",
     "output_type": "stream",
     "text": [
      "139949935681696\n",
      "139950438630464\n",
      "139950438633344\n"
     ]
    }
   ],
   "source": [
    "a = (1, 2, 3)\n",
    "print(id(a))\n",
    "\n",
    "a *= 3\n",
    "print(id(a))\n",
    "\n",
    "a += (10, 11)\n",
    "print(id(a))"
   ]
  },
  {
   "cell_type": "markdown",
   "id": "a9564535",
   "metadata": {},
   "source": [
    "Tuple (кортеж) -- неизменяемый объект, поэтому каждый раз создается новый"
   ]
  },
  {
   "cell_type": "markdown",
   "id": "f0e480cd",
   "metadata": {},
   "source": [
    "## Named Tuples"
   ]
  },
  {
   "cell_type": "code",
   "execution_count": 120,
   "id": "7aaec276",
   "metadata": {},
   "outputs": [],
   "source": [
    "from collections import namedtuple"
   ]
  },
  {
   "cell_type": "code",
   "execution_count": 130,
   "id": "eb11318b",
   "metadata": {},
   "outputs": [],
   "source": [
    "Subject = namedtuple('Subject', 'name difficulty')"
   ]
  },
  {
   "cell_type": "code",
   "execution_count": 132,
   "id": "0591ac3f",
   "metadata": {},
   "outputs": [
    {
     "data": {
      "text/plain": [
       "Subject(name='Python', difficulty=1)"
      ]
     },
     "execution_count": 132,
     "metadata": {},
     "output_type": "execute_result"
    }
   ],
   "source": [
    "python_course = Subject('Python', 1)\n",
    "python_course"
   ]
  },
  {
   "cell_type": "code",
   "execution_count": 137,
   "id": "6e8f8c66",
   "metadata": {},
   "outputs": [
    {
     "data": {
      "text/plain": [
       "('Python', 1)"
      ]
     },
     "execution_count": 137,
     "metadata": {},
     "output_type": "execute_result"
    }
   ],
   "source": [
    "python_course[0], python_course[1]"
   ]
  },
  {
   "cell_type": "code",
   "execution_count": 139,
   "id": "319fb5fb",
   "metadata": {},
   "outputs": [
    {
     "data": {
      "text/plain": [
       "('Python', 1)"
      ]
     },
     "execution_count": 139,
     "metadata": {},
     "output_type": "execute_result"
    }
   ],
   "source": [
    "python_course.name, python_course.difficulty"
   ]
  },
  {
   "cell_type": "markdown",
   "id": "5ec91fb5",
   "metadata": {},
   "source": [
    "## Arrays"
   ]
  },
  {
   "cell_type": "markdown",
   "id": "8a7cb8ef",
   "metadata": {},
   "source": [
    "Если очень хочется скорости для работы с числами, то можно пользоваться почти C-шными массивами"
   ]
  },
  {
   "cell_type": "code",
   "execution_count": 145,
   "id": "78cd318c",
   "metadata": {},
   "outputs": [],
   "source": [
    "from array import array"
   ]
  },
  {
   "cell_type": "markdown",
   "id": "f8b97e0f",
   "metadata": {},
   "source": [
    "'b' -- typecode для типа byte (целые от -128 до 128)"
   ]
  },
  {
   "cell_type": "code",
   "execution_count": 148,
   "id": "2b5cd07e",
   "metadata": {},
   "outputs": [],
   "source": [
    "bytes_array = array('b', (i for i in range(120)))"
   ]
  },
  {
   "cell_type": "code",
   "execution_count": 149,
   "id": "983d25b3",
   "metadata": {},
   "outputs": [
    {
     "data": {
      "text/plain": [
       "array('b', [0, 1, 2, 3, 4, 5, 6, 7, 8, 9, 10, 11, 12, 13, 14, 15, 16, 17, 18, 19, 20, 21, 22, 23, 24, 25, 26, 27, 28, 29, 30, 31, 32, 33, 34, 35, 36, 37, 38, 39, 40, 41, 42, 43, 44, 45, 46, 47, 48, 49, 50, 51, 52, 53, 54, 55, 56, 57, 58, 59, 60, 61, 62, 63, 64, 65, 66, 67, 68, 69, 70, 71, 72, 73, 74, 75, 76, 77, 78, 79, 80, 81, 82, 83, 84, 85, 86, 87, 88, 89, 90, 91, 92, 93, 94, 95, 96, 97, 98, 99, 100, 101, 102, 103, 104, 105, 106, 107, 108, 109, 110, 111, 112, 113, 114, 115, 116, 117, 118, 119])"
      ]
     },
     "execution_count": 149,
     "metadata": {},
     "output_type": "execute_result"
    }
   ],
   "source": [
    "bytes_array"
   ]
  },
  {
   "cell_type": "code",
   "execution_count": 150,
   "id": "7654ae6f",
   "metadata": {},
   "outputs": [],
   "source": [
    "bytes_array.append(127)"
   ]
  },
  {
   "cell_type": "markdown",
   "id": "074d7085",
   "metadata": {},
   "source": [
    "Строгость типа не позволяет записать что-то помимо него"
   ]
  },
  {
   "cell_type": "code",
   "execution_count": 152,
   "id": "0259311d",
   "metadata": {},
   "outputs": [
    {
     "ename": "OverflowError",
     "evalue": "signed char is greater than maximum",
     "output_type": "error",
     "traceback": [
      "\u001b[0;31m---------------------------------------------------------------------------\u001b[0m",
      "\u001b[0;31mOverflowError\u001b[0m                             Traceback (most recent call last)",
      "\u001b[0;32m/tmp/ipykernel_246707/2329984407.py\u001b[0m in \u001b[0;36m<module>\u001b[0;34m\u001b[0m\n\u001b[0;32m----> 1\u001b[0;31m \u001b[0mbytes_array\u001b[0m\u001b[0;34m.\u001b[0m\u001b[0mappend\u001b[0m\u001b[0;34m(\u001b[0m\u001b[0;36m256\u001b[0m\u001b[0;34m)\u001b[0m\u001b[0;34m\u001b[0m\u001b[0;34m\u001b[0m\u001b[0m\n\u001b[0m",
      "\u001b[0;31mOverflowError\u001b[0m: signed char is greater than maximum"
     ]
    }
   ],
   "source": [
    "bytes_array.append(256)"
   ]
  },
  {
   "cell_type": "markdown",
   "id": "4440888a",
   "metadata": {},
   "source": [
    "есть `array.fromfile() и array.tofile()` для быстрой записи и чтения"
   ]
  },
  {
   "cell_type": "markdown",
   "id": "db6ea233",
   "metadata": {},
   "source": [
    "## Deques"
   ]
  },
  {
   "cell_type": "markdown",
   "id": "262c7e1e",
   "metadata": {},
   "source": [
    "List хорош для доступа к произвольному элементу и для дополнения и удаления с конца. А если нужно сначала, а читать из середины не особо требуется? **deque** как решение"
   ]
  },
  {
   "cell_type": "markdown",
   "id": "bb4b9822",
   "metadata": {},
   "source": [
    "**deque** -- двусторонняя очередь, запись и чтения с любых концов O(1)"
   ]
  },
  {
   "cell_type": "code",
   "execution_count": 172,
   "id": "56d1afdd",
   "metadata": {},
   "outputs": [
    {
     "data": {
      "text/plain": [
       "deque([])"
      ]
     },
     "execution_count": 172,
     "metadata": {},
     "output_type": "execute_result"
    }
   ],
   "source": [
    "from collections import deque\n",
    "\n",
    "last_seen = deque(maxlen=10)\n",
    "last_seen"
   ]
  },
  {
   "cell_type": "code",
   "execution_count": 156,
   "id": "2ea4489d",
   "metadata": {},
   "outputs": [],
   "source": [
    "for i in range(100):\n",
    "    last_seen.appendleft(i)"
   ]
  },
  {
   "cell_type": "code",
   "execution_count": 157,
   "id": "5d57d56c",
   "metadata": {},
   "outputs": [
    {
     "data": {
      "text/plain": [
       "deque([99, 98, 97, 96, 95, 94, 93, 92, 91, 90])"
      ]
     },
     "execution_count": 157,
     "metadata": {},
     "output_type": "execute_result"
    }
   ],
   "source": [
    "last_seen"
   ]
  },
  {
   "cell_type": "code",
   "execution_count": 170,
   "id": "c007900a",
   "metadata": {},
   "outputs": [
    {
     "data": {
      "text/plain": [
       "deque([90, 99, 98, 97, 96, 95, 94, 93, 92, 91])"
      ]
     },
     "execution_count": 170,
     "metadata": {},
     "output_type": "execute_result"
    }
   ],
   "source": [
    "last_seen.rotate()\n",
    "last_seen"
   ]
  },
  {
   "cell_type": "markdown",
   "id": "6f140192",
   "metadata": {},
   "source": [
    "# Functions"
   ]
  },
  {
   "cell_type": "markdown",
   "id": "2db3304b",
   "metadata": {},
   "source": [
    "Functions -- \"first class objects\":\n",
    "    \n",
    "    - создаются в рантайме\n",
    "    - присваиваются переменным или элементам в структурах данных\n",
    "    - используются как аргумент в других функциях\n",
    "    - возвращаются как результат работы функций\n",
    "    \n",
    "Ровно так же работают, например, string, list и прочие рассмотренные ранее примеры "
   ]
  },
  {
   "cell_type": "markdown",
   "id": "f6e3d8a0",
   "metadata": {},
   "source": [
    "## Базовый синтаксис"
   ]
  },
  {
   "cell_type": "markdown",
   "id": "ea0f8a7c",
   "metadata": {},
   "source": [
    "### Аргументы и вызов"
   ]
  },
  {
   "cell_type": "code",
   "execution_count": 206,
   "id": "8e8aefc0",
   "metadata": {},
   "outputs": [
    {
     "name": "stdout",
     "output_type": "stream",
     "text": [
      "Hello, world!\n"
     ]
    }
   ],
   "source": [
    "def func():  # name and function arguments\n",
    "    '''\n",
    "    Doc string to be shown in help\n",
    "    '''\n",
    "    print(\"Hello, world!\") # body\n",
    "\n",
    "func()"
   ]
  },
  {
   "cell_type": "code",
   "execution_count": 207,
   "id": "4bd850a5",
   "metadata": {},
   "outputs": [
    {
     "name": "stdout",
     "output_type": "stream",
     "text": [
      "Help on function func in module __main__:\n",
      "\n",
      "func()\n",
      "    Doc string to be shown in help\n",
      "\n"
     ]
    }
   ],
   "source": [
    "help(func)"
   ]
  },
  {
   "cell_type": "code",
   "execution_count": 210,
   "id": "d79a20a2",
   "metadata": {},
   "outputs": [
    {
     "data": {
      "text/plain": [
       "'\\n    Doc string to be shown in help\\n    '"
      ]
     },
     "execution_count": 210,
     "metadata": {},
     "output_type": "execute_result"
    }
   ],
   "source": [
    "func.__doc__"
   ]
  },
  {
   "cell_type": "markdown",
   "id": "cbfc64ef",
   "metadata": {},
   "source": [
    "Пример простейшей функции с аргументами"
   ]
  },
  {
   "cell_type": "code",
   "execution_count": 184,
   "id": "4ffef781",
   "metadata": {},
   "outputs": [
    {
     "name": "stdout",
     "output_type": "stream",
     "text": [
      "5\n"
     ]
    }
   ],
   "source": [
    "def func(a, b):\n",
    "    print(a + b)\n",
    "\n",
    "func(2, 3)"
   ]
  },
  {
   "cell_type": "markdown",
   "id": "3e01f835",
   "metadata": {},
   "source": [
    "Аргументы функций могут иметь дефолтные значения"
   ]
  },
  {
   "cell_type": "code",
   "execution_count": 186,
   "id": "7abe1dc7",
   "metadata": {},
   "outputs": [],
   "source": [
    "def func(a, b='value'):\n",
    "    print(a, b)"
   ]
  },
  {
   "cell_type": "code",
   "execution_count": 179,
   "id": "7aac817b",
   "metadata": {},
   "outputs": [
    {
     "name": "stdout",
     "output_type": "stream",
     "text": [
      "1 value\n"
     ]
    }
   ],
   "source": [
    "func(1)  # value -- дефолтное значение"
   ]
  },
  {
   "cell_type": "markdown",
   "id": "19b2d83e",
   "metadata": {},
   "source": [
    "При вызове функции мы оперируем понятиями `positional argument` и `keyword argument`"
   ]
  },
  {
   "cell_type": "code",
   "execution_count": 181,
   "id": "f48f2989",
   "metadata": {},
   "outputs": [
    {
     "name": "stdout",
     "output_type": "stream",
     "text": [
      "10 another_value\n"
     ]
    }
   ],
   "source": [
    "func(a=10, b='another_value')  # Вызвали с использованием keyword arguments"
   ]
  },
  {
   "cell_type": "code",
   "execution_count": 187,
   "id": "476f7424",
   "metadata": {},
   "outputs": [
    {
     "name": "stdout",
     "output_type": "stream",
     "text": [
      "10 another_value\n"
     ]
    }
   ],
   "source": [
    "func(10, 'another_value')  # Вызвали с использованием positional arguments"
   ]
  },
  {
   "cell_type": "markdown",
   "id": "93c65ad6",
   "metadata": {},
   "source": [
    "В сигнатуре можно явно задать необходимость указания аргументов по имени"
   ]
  },
  {
   "cell_type": "code",
   "execution_count": 188,
   "id": "0861906d",
   "metadata": {},
   "outputs": [],
   "source": [
    "def func(a, b='value', *, c='important named arg'):\n",
    "    print(a, b, c)"
   ]
  },
  {
   "cell_type": "code",
   "execution_count": 189,
   "id": "0537f5a1",
   "metadata": {},
   "outputs": [
    {
     "ename": "TypeError",
     "evalue": "func() takes from 1 to 2 positional arguments but 3 were given",
     "output_type": "error",
     "traceback": [
      "\u001b[0;31m---------------------------------------------------------------------------\u001b[0m",
      "\u001b[0;31mTypeError\u001b[0m                                 Traceback (most recent call last)",
      "\u001b[0;32m/tmp/ipykernel_246707/3432014898.py\u001b[0m in \u001b[0;36m<module>\u001b[0;34m\u001b[0m\n\u001b[0;32m----> 1\u001b[0;31m \u001b[0mfunc\u001b[0m\u001b[0;34m(\u001b[0m\u001b[0;36m1\u001b[0m\u001b[0;34m,\u001b[0m \u001b[0;34m'val'\u001b[0m\u001b[0;34m,\u001b[0m \u001b[0;34m'val2'\u001b[0m\u001b[0;34m)\u001b[0m\u001b[0;34m\u001b[0m\u001b[0;34m\u001b[0m\u001b[0m\n\u001b[0m",
      "\u001b[0;31mTypeError\u001b[0m: func() takes from 1 to 2 positional arguments but 3 were given"
     ]
    }
   ],
   "source": [
    "func(1, 'val', 'val2')"
   ]
  },
  {
   "cell_type": "code",
   "execution_count": 191,
   "id": "b1eec854",
   "metadata": {},
   "outputs": [
    {
     "name": "stdout",
     "output_type": "stream",
     "text": [
      "1 val important named arg\n"
     ]
    }
   ],
   "source": [
    "func(1, 'val')"
   ]
  },
  {
   "cell_type": "code",
   "execution_count": 190,
   "id": "f5395659",
   "metadata": {},
   "outputs": [
    {
     "name": "stdout",
     "output_type": "stream",
     "text": [
      "1 val val2\n"
     ]
    }
   ],
   "source": [
    "func(1, 'val', c='val2')"
   ]
  },
  {
   "cell_type": "markdown",
   "id": "602a8a4a",
   "metadata": {},
   "source": [
    "### return"
   ]
  },
  {
   "cell_type": "markdown",
   "id": "0fe3a3f4",
   "metadata": {},
   "source": [
    "Функция может возвращать что-то"
   ]
  },
  {
   "cell_type": "code",
   "execution_count": 192,
   "id": "37ff2091",
   "metadata": {},
   "outputs": [],
   "source": [
    "def func(a, b='value', *, c='important named arg'):\n",
    "    return a, b"
   ]
  },
  {
   "cell_type": "code",
   "execution_count": 197,
   "id": "6af875d6",
   "metadata": {},
   "outputs": [],
   "source": [
    "a = 1\n",
    "b = 'some_val'\n",
    "\n",
    "c, d = func(a, b)"
   ]
  },
  {
   "cell_type": "code",
   "execution_count": 200,
   "id": "4224390d",
   "metadata": {},
   "outputs": [
    {
     "data": {
      "text/plain": [
       "(94169343939328, 139949829460080)"
      ]
     },
     "execution_count": 200,
     "metadata": {},
     "output_type": "execute_result"
    }
   ],
   "source": [
    "id(a), id(b)"
   ]
  },
  {
   "cell_type": "code",
   "execution_count": 201,
   "id": "7941ac21",
   "metadata": {},
   "outputs": [
    {
     "data": {
      "text/plain": [
       "(94169343939328, 139949829460080)"
      ]
     },
     "execution_count": 201,
     "metadata": {},
     "output_type": "execute_result"
    }
   ],
   "source": [
    "id(c), id(d)"
   ]
  },
  {
   "cell_type": "markdown",
   "id": "f09c3092",
   "metadata": {},
   "source": [
    "## Higher order functions"
   ]
  },
  {
   "cell_type": "markdown",
   "id": "b5e18501",
   "metadata": {},
   "source": [
    "Что-то там было про функции в качестве аргументов и возвращаемых значений..."
   ]
  },
  {
   "cell_type": "markdown",
   "id": "43c24182",
   "metadata": {},
   "source": [
    "Рассмотрим пример на списке, у которого элементы имеют разные типы"
   ]
  },
  {
   "cell_type": "code",
   "execution_count": 225,
   "id": "8874e2f9",
   "metadata": {},
   "outputs": [
    {
     "data": {
      "text/plain": [
       "[1, [2.0], '3 ', (4, 5), 8.0]"
      ]
     },
     "execution_count": 225,
     "metadata": {},
     "output_type": "execute_result"
    }
   ],
   "source": [
    "sample_list = [1, [2.], '3 ', (4, 5), 8.]\n",
    "sample_list"
   ]
  },
  {
   "cell_type": "markdown",
   "id": "81f42c4d",
   "metadata": {},
   "source": [
    "Как бы нам его посортировать..."
   ]
  },
  {
   "cell_type": "code",
   "execution_count": 226,
   "id": "5746a56e",
   "metadata": {},
   "outputs": [
    {
     "ename": "TypeError",
     "evalue": "'<' not supported between instances of 'list' and 'int'",
     "output_type": "error",
     "traceback": [
      "\u001b[0;31m---------------------------------------------------------------------------\u001b[0m",
      "\u001b[0;31mTypeError\u001b[0m                                 Traceback (most recent call last)",
      "\u001b[0;32m/tmp/ipykernel_246707/2246662868.py\u001b[0m in \u001b[0;36m<module>\u001b[0;34m\u001b[0m\n\u001b[0;32m----> 1\u001b[0;31m \u001b[0msorted\u001b[0m\u001b[0;34m(\u001b[0m\u001b[0msample_list\u001b[0m\u001b[0;34m)\u001b[0m\u001b[0;34m\u001b[0m\u001b[0;34m\u001b[0m\u001b[0m\n\u001b[0m",
      "\u001b[0;31mTypeError\u001b[0m: '<' not supported between instances of 'list' and 'int'"
     ]
    }
   ],
   "source": [
    "sorted(sample_list)"
   ]
  },
  {
   "cell_type": "markdown",
   "id": "9eca9e02",
   "metadata": {},
   "source": [
    "Не понятно, как сравнивать разные типы. Но теперь-то мы можем создавать свои функции, давайте исправим"
   ]
  },
  {
   "cell_type": "code",
   "execution_count": 229,
   "id": "7578eaf7",
   "metadata": {},
   "outputs": [
    {
     "data": {
      "text/plain": [
       "[1, '3 ', 8.0, [2.0], (4, 5)]"
      ]
     },
     "execution_count": 229,
     "metadata": {},
     "output_type": "execute_result"
    }
   ],
   "source": [
    "def my_key(element):\n",
    "    return len(str(element))\n",
    "\n",
    "sorted(sample_list, key=my_key)"
   ]
  },
  {
   "cell_type": "markdown",
   "id": "7a18ff28",
   "metadata": {},
   "source": [
    "Еще один пример -- функция **map**"
   ]
  },
  {
   "cell_type": "code",
   "execution_count": 240,
   "id": "d2a1f810",
   "metadata": {},
   "outputs": [
    {
     "data": {
      "text/plain": [
       "<map at 0x7f489b8777d0>"
      ]
     },
     "execution_count": 240,
     "metadata": {},
     "output_type": "execute_result"
    }
   ],
   "source": [
    "int_texts = '123456'\n",
    "map(int, int_texts)"
   ]
  },
  {
   "cell_type": "markdown",
   "id": "ce576d5e",
   "metadata": {},
   "source": [
    "Возвращает объект, по которому нужно проитерироваться"
   ]
  },
  {
   "cell_type": "code",
   "execution_count": 242,
   "id": "73dcf03b",
   "metadata": {},
   "outputs": [
    {
     "name": "stdout",
     "output_type": "stream",
     "text": [
      "1\n",
      "2\n",
      "3\n",
      "4\n",
      "5\n",
      "6\n"
     ]
    }
   ],
   "source": [
    "for elem in map(int, int_texts):\n",
    "    print(elem)"
   ]
  },
  {
   "cell_type": "code",
   "execution_count": 243,
   "id": "01727e66",
   "metadata": {},
   "outputs": [
    {
     "data": {
      "text/plain": [
       "[1, 2, 3, 4, 5, 6]"
      ]
     },
     "execution_count": 243,
     "metadata": {},
     "output_type": "execute_result"
    }
   ],
   "source": [
    "list(map(int, int_texts))"
   ]
  },
  {
   "cell_type": "markdown",
   "id": "32272823",
   "metadata": {},
   "source": [
    "## Анонимные функции"
   ]
  },
  {
   "cell_type": "markdown",
   "id": "e3f2ab94",
   "metadata": {},
   "source": [
    "Ключевое слово **lambda**, краткое объявление функции как выражения.\n",
    "\n",
    "Отлично может использоваться в качестве аргумента для функций высших порядков"
   ]
  },
  {
   "cell_type": "code",
   "execution_count": 230,
   "id": "ccf2f05c",
   "metadata": {},
   "outputs": [
    {
     "data": {
      "text/plain": [
       "[1, '3 ', 8.0, [2.0], (4, 5)]"
      ]
     },
     "execution_count": 230,
     "metadata": {},
     "output_type": "execute_result"
    }
   ],
   "source": [
    "sorted(sample_list, key=lambda element: len(str(element)))"
   ]
  },
  {
   "cell_type": "markdown",
   "id": "c7c3f9ac",
   "metadata": {},
   "source": [
    "Вспомним пример с listcomp"
   ]
  },
  {
   "cell_type": "code",
   "execution_count": 234,
   "id": "7c7e44a8",
   "metadata": {},
   "outputs": [
    {
     "data": {
      "text/plain": [
       "['€']"
      ]
     },
     "execution_count": 234,
     "metadata": {},
     "output_type": "execute_result"
    }
   ],
   "source": [
    "symbols = '$¢£¥€¤'\n",
    "filtered_symbols = [s for s in symbols if ord(s) > 200]\n",
    "filtered_symbols"
   ]
  },
  {
   "cell_type": "markdown",
   "id": "7becc67d",
   "metadata": {},
   "source": [
    "Можно использовать функциональный стиль и написать это же выражение через `filter`"
   ]
  },
  {
   "cell_type": "code",
   "execution_count": 244,
   "id": "533c8195",
   "metadata": {},
   "outputs": [
    {
     "data": {
      "text/plain": [
       "['€']"
      ]
     },
     "execution_count": 244,
     "metadata": {},
     "output_type": "execute_result"
    }
   ],
   "source": [
    "list(filter(lambda elem: ord(elem) > 200, symbols))"
   ]
  },
  {
   "cell_type": "markdown",
   "id": "0bb76e6e",
   "metadata": {},
   "source": [
    "## Generators"
   ]
  },
  {
   "cell_type": "markdown",
   "id": "d388e2f6",
   "metadata": {},
   "source": [
    "Мы уже упоминали generator expressions, а теперь можем сделать такой и сами"
   ]
  },
  {
   "cell_type": "code",
   "execution_count": 246,
   "id": "164fa670",
   "metadata": {},
   "outputs": [],
   "source": [
    "def my_custom_range(start, end):\n",
    "    while start < end:\n",
    "        yield start\n",
    "        start += 1"
   ]
  },
  {
   "cell_type": "code",
   "execution_count": 251,
   "id": "ca64ac53",
   "metadata": {},
   "outputs": [
    {
     "data": {
      "text/plain": [
       "<generator object my_custom_range at 0x7f489b90bbd0>"
      ]
     },
     "execution_count": 251,
     "metadata": {},
     "output_type": "execute_result"
    }
   ],
   "source": [
    "my_custom_range(0, 10)"
   ]
  },
  {
   "cell_type": "code",
   "execution_count": 249,
   "id": "e97a405a",
   "metadata": {},
   "outputs": [
    {
     "name": "stdout",
     "output_type": "stream",
     "text": [
      "0\n",
      "1\n",
      "2\n",
      "3\n",
      "4\n",
      "5\n",
      "6\n",
      "7\n",
      "8\n",
      "9\n"
     ]
    }
   ],
   "source": [
    "for i in my_custom_range(0, 10):\n",
    "    print(i)"
   ]
  },
  {
   "cell_type": "markdown",
   "id": "0e5c2aee",
   "metadata": {},
   "source": [
    "## Decorators"
   ]
  },
  {
   "cell_type": "markdown",
   "id": "a7532c3b",
   "metadata": {},
   "source": [
    "Декоратор -- обертка над функцией. Позволяет сделать что-то до и после вызова передаваемой функции.\n",
    "\n",
    "Для этого функции декоратора передается декорируемая функция, а внутри создается новая, которая будет выполняться вместе с декорируемой. Ей передаются такие же аргументы, и в ней же пишется код того, что будет совершаться до и после запуска переданной функции, а между этими блоками будет запускаться сама декорируемая функция. Внешняя функция возвращает ссылку на получившуюся функцию"
   ]
  },
  {
   "cell_type": "code",
   "execution_count": 287,
   "id": "cc466674",
   "metadata": {},
   "outputs": [
    {
     "name": "stdout",
     "output_type": "stream",
     "text": [
      "doing smth before\n",
      "5\n",
      "doing smth after\n"
     ]
    }
   ],
   "source": [
    "def my_decorator(func):\n",
    "    def decorated(a, b):  # название можно менять\n",
    "        print(\"doing smth before\")\n",
    "        func(a, b)\n",
    "        print(\"doing smth after\")\n",
    "    return decorated\n",
    "\n",
    "def func(a, b):\n",
    "    print(a + b)\n",
    "\n",
    "func = my_decorator(func)\n",
    "func(2, 3)"
   ]
  },
  {
   "cell_type": "code",
   "execution_count": 282,
   "id": "ed15b58b",
   "metadata": {},
   "outputs": [],
   "source": [
    "@my_decorator\n",
    "def new_func(a, b):\n",
    "    print(a + b)"
   ]
  },
  {
   "cell_type": "code",
   "execution_count": 283,
   "id": "38bc6120",
   "metadata": {},
   "outputs": [
    {
     "name": "stdout",
     "output_type": "stream",
     "text": [
      "doing smth before\n",
      "3\n",
      "doing smth after\n"
     ]
    }
   ],
   "source": [
    "new_func(1, 2)"
   ]
  },
  {
   "cell_type": "markdown",
   "id": "092bdac4",
   "metadata": {},
   "source": [
    "## Рекурсия"
   ]
  },
  {
   "cell_type": "markdown",
   "id": "3df7e9bc",
   "metadata": {},
   "source": [
    "Функция может вызывать саму себя внутри. Классический пример -- вычисление факториала"
   ]
  },
  {
   "cell_type": "code",
   "execution_count": 288,
   "id": "8aefd244",
   "metadata": {},
   "outputs": [],
   "source": [
    "def fact(n):\n",
    "    if n == 0:\n",
    "        return 1  # условие выхода из рекурсии\n",
    "    return n * fact(n - 1)"
   ]
  },
  {
   "cell_type": "code",
   "execution_count": 290,
   "id": "6db42bcb",
   "metadata": {},
   "outputs": [
    {
     "data": {
      "text/plain": [
       "24"
      ]
     },
     "execution_count": 290,
     "metadata": {},
     "output_type": "execute_result"
    }
   ],
   "source": [
    "fact(4)"
   ]
  },
  {
   "cell_type": "code",
   "execution_count": 291,
   "id": "83ce44e6",
   "metadata": {},
   "outputs": [
    {
     "data": {
      "text/plain": [
       "24"
      ]
     },
     "execution_count": 291,
     "metadata": {},
     "output_type": "execute_result"
    }
   ],
   "source": [
    "1 * 2 * 3 * 4"
   ]
  },
  {
   "cell_type": "markdown",
   "id": "e77b2d5b",
   "metadata": {},
   "source": [
    "# Dicts"
   ]
  },
  {
   "cell_type": "markdown",
   "id": "c71c50b5",
   "metadata": {},
   "source": [
    "## Creation"
   ]
  },
  {
   "cell_type": "code",
   "execution_count": 137,
   "id": "8ccdeaa3",
   "metadata": {},
   "outputs": [
    {
     "name": "stdout",
     "output_type": "stream",
     "text": [
      "{} <class 'dict'>\n"
     ]
    }
   ],
   "source": [
    "some_empty_dict = dict()\n",
    "print(some_empty_dict, type(some_empty_dict))"
   ]
  },
  {
   "cell_type": "markdown",
   "id": "288068ba",
   "metadata": {},
   "source": [
    "### Simple example"
   ]
  },
  {
   "cell_type": "code",
   "execution_count": 141,
   "id": "3d0b65e0",
   "metadata": {},
   "outputs": [
    {
     "data": {
      "text/plain": [
       "{'name': 'Denis',\n",
       " 'year': 2015,\n",
       " 'core subjects': ('Statistics', 'Algorimthms'),\n",
       " 'optional subjects': ['Urban Studies', 'Basic Physics'],\n",
       " 42: 'always the answer',\n",
       " (42,): 'always the answer'}"
      ]
     },
     "execution_count": 141,
     "metadata": {},
     "output_type": "execute_result"
    }
   ],
   "source": [
    "student_card = {\n",
    "    'name': 'Denis',\n",
    "    'year': 2015,\n",
    "    'core subjects': ('Statistics', 'Algorimthms'),\n",
    "    'optional subjects': ['Urban Studies', 'Basic Physics'],\n",
    "    42: 'always the answer',\n",
    "    (42,): 'always the answer',\n",
    "}\n",
    "\n",
    "student_card"
   ]
  },
  {
   "cell_type": "markdown",
   "id": "cac47a9b",
   "metadata": {},
   "source": [
    "## Внутри"
   ]
  },
  {
   "cell_type": "markdown",
   "id": "39baeec1",
   "metadata": {},
   "source": [
    "Ключ может быть только hashable"
   ]
  },
  {
   "cell_type": "markdown",
   "id": "9386d92a",
   "metadata": {},
   "source": [
    "    An object is hashable if it has a hash value which never changes during its lifetime (it\n",
    "    needs a __hash__() method), and can be compared to other objects (it needs an\n",
    "    __eq__() method). Hashable objects which compare equal must have the same hash\n",
    "    value. […]"
   ]
  },
  {
   "cell_type": "markdown",
   "id": "01f8bc20",
   "metadata": {},
   "source": [
    "Данное требование существует, потому что внутри dict -- это hash таблица!"
   ]
  },
  {
   "cell_type": "markdown",
   "id": "07d28be9",
   "metadata": {},
   "source": [
    "Операции доставания значения по ключу, добавления и проверки нахождения -- в среднем **O(1)**. \n",
    "\n",
    "` Может быть O(n), если у вас отвратительная хеш-функция `"
   ]
  },
  {
   "cell_type": "markdown",
   "id": "717a22b7",
   "metadata": {},
   "source": [
    "![hashtable](https://upload.wikimedia.org/wikipedia/commons/thumb/7/7d/Hash_table_3_1_1_0_1_0_0_SP.svg/1200px-Hash_table_3_1_1_0_1_0_0_SP.svg.png)"
   ]
  },
  {
   "cell_type": "markdown",
   "id": "8d21670b",
   "metadata": {},
   "source": [
    "## Basic operations"
   ]
  },
  {
   "cell_type": "markdown",
   "id": "6e5c1f77",
   "metadata": {},
   "source": [
    "### Get values"
   ]
  },
  {
   "cell_type": "code",
   "execution_count": 146,
   "id": "17b083ea",
   "metadata": {},
   "outputs": [
    {
     "data": {
      "text/plain": [
       "'Denis'"
      ]
     },
     "execution_count": 146,
     "metadata": {},
     "output_type": "execute_result"
    }
   ],
   "source": [
    "student_card.get('name', 'key is not there')"
   ]
  },
  {
   "cell_type": "markdown",
   "id": "69bd338a",
   "metadata": {},
   "source": [
    "### Remove values"
   ]
  },
  {
   "cell_type": "code",
   "execution_count": 149,
   "id": "e1a35ad4",
   "metadata": {},
   "outputs": [
    {
     "data": {
      "text/plain": [
       "'always the answer'"
      ]
     },
     "execution_count": 149,
     "metadata": {},
     "output_type": "execute_result"
    }
   ],
   "source": [
    "student_card.pop((42,))"
   ]
  },
  {
   "cell_type": "code",
   "execution_count": 150,
   "id": "a1aff330",
   "metadata": {},
   "outputs": [
    {
     "data": {
      "text/plain": [
       "{'name': 'Denis',\n",
       " 'year': 2015,\n",
       " 'core subjects': ('Statistics', 'Algorimthms'),\n",
       " 'optional subjects': ['Urban Studies', 'Basic Physics']}"
      ]
     },
     "execution_count": 150,
     "metadata": {},
     "output_type": "execute_result"
    }
   ],
   "source": [
    "student_card"
   ]
  },
  {
   "cell_type": "markdown",
   "id": "349f8bb4",
   "metadata": {},
   "source": [
    "### Update with many `key:value` pairs"
   ]
  },
  {
   "cell_type": "code",
   "execution_count": 153,
   "id": "d2c4a128",
   "metadata": {},
   "outputs": [],
   "source": [
    "student_card.update({'a': 1, 'b': 2})"
   ]
  },
  {
   "cell_type": "code",
   "execution_count": 154,
   "id": "115e3c49",
   "metadata": {},
   "outputs": [
    {
     "data": {
      "text/plain": [
       "{'name': 'Denis',\n",
       " 'year': 2015,\n",
       " 'core subjects': ('Statistics', 'Algorimthms'),\n",
       " 'optional subjects': ['Urban Studies', 'Basic Physics'],\n",
       " 'surname': 'Bel',\n",
       " 'a': 1,\n",
       " 'b': 2}"
      ]
     },
     "execution_count": 154,
     "metadata": {},
     "output_type": "execute_result"
    }
   ],
   "source": [
    "student_card"
   ]
  },
  {
   "cell_type": "markdown",
   "id": "d7650a65",
   "metadata": {},
   "source": [
    "### Iterate over"
   ]
  },
  {
   "cell_type": "code",
   "execution_count": 157,
   "id": "d599ac60",
   "metadata": {},
   "outputs": [
    {
     "name": "stdout",
     "output_type": "stream",
     "text": [
      "name Denis\n",
      "year 2015\n",
      "core subjects ('Statistics', 'Algorimthms')\n",
      "optional subjects ['Urban Studies', 'Basic Physics']\n",
      "surname Bel\n",
      "a 1\n",
      "b 2\n"
     ]
    }
   ],
   "source": [
    "for key, value in student_card.items():\n",
    "    print(key, value)"
   ]
  },
  {
   "cell_type": "code",
   "execution_count": 158,
   "id": "9ccaa4b7",
   "metadata": {},
   "outputs": [
    {
     "data": {
      "text/plain": [
       "dict_keys(['name', 'year', 'core subjects', 'optional subjects', 'surname', 'a', 'b'])"
      ]
     },
     "execution_count": 158,
     "metadata": {},
     "output_type": "execute_result"
    }
   ],
   "source": [
    "student_card.keys()"
   ]
  },
  {
   "cell_type": "code",
   "execution_count": 159,
   "id": "61ba5cbe",
   "metadata": {},
   "outputs": [
    {
     "data": {
      "text/plain": [
       "dict_values(['Denis', 2015, ('Statistics', 'Algorimthms'), ['Urban Studies', 'Basic Physics'], 'Bel', 1, 2])"
      ]
     },
     "execution_count": 159,
     "metadata": {},
     "output_type": "execute_result"
    }
   ],
   "source": [
    "student_card.values()"
   ]
  },
  {
   "cell_type": "markdown",
   "id": "88d46a51",
   "metadata": {},
   "source": [
    "### clear"
   ]
  },
  {
   "cell_type": "code",
   "execution_count": 160,
   "id": "9ed31e03",
   "metadata": {},
   "outputs": [],
   "source": [
    "student_card.clear()"
   ]
  },
  {
   "cell_type": "code",
   "execution_count": 161,
   "id": "fb56355c",
   "metadata": {},
   "outputs": [
    {
     "data": {
      "text/plain": [
       "{}"
      ]
     },
     "execution_count": 161,
     "metadata": {},
     "output_type": "execute_result"
    }
   ],
   "source": [
    "student_card"
   ]
  },
  {
   "cell_type": "markdown",
   "id": "203fa9a4",
   "metadata": {},
   "source": [
    "## Sample task\n",
    "\n",
    "### Let's count unique symbols in a string!"
   ]
  },
  {
   "cell_type": "code",
   "execution_count": 257,
   "id": "1ad6d01b",
   "metadata": {},
   "outputs": [],
   "source": [
    "sample_string = 'Eddie ate dynamite, goodbye Eddie'"
   ]
  },
  {
   "cell_type": "code",
   "execution_count": 258,
   "id": "495b5bf6",
   "metadata": {},
   "outputs": [],
   "source": [
    "symbols = {}\n",
    "\n",
    "# your code"
   ]
  },
  {
   "cell_type": "code",
   "execution_count": 165,
   "id": "017c36e1",
   "metadata": {},
   "outputs": [
    {
     "data": {
      "text/plain": [
       "{'e': 7,\n",
       " 'd': 6,\n",
       " 'i': 3,\n",
       " ' ': 4,\n",
       " 'a': 2,\n",
       " 't': 2,\n",
       " 'y': 2,\n",
       " 'n': 1,\n",
       " 'm': 1,\n",
       " ',': 1,\n",
       " 'g': 1,\n",
       " 'o': 2,\n",
       " 'b': 1}"
      ]
     },
     "execution_count": 165,
     "metadata": {},
     "output_type": "execute_result"
    }
   ],
   "source": [
    "symbols"
   ]
  },
  {
   "cell_type": "markdown",
   "id": "7cb0d285",
   "metadata": {},
   "source": [
    "What can we do to make our solution above better?\n",
    "\n",
    "Bonus: try to use `defaultdict` *(from collections import defaultdict)*"
   ]
  },
  {
   "cell_type": "markdown",
   "id": "8f0e0c8c",
   "metadata": {},
   "source": [
    "### Count unique words in a sentence.\n",
    "\n",
    "You may want to use:\n",
    "- `re.split` -- split words in string by non-word charachters"
   ]
  },
  {
   "cell_type": "code",
   "execution_count": 166,
   "id": "989bd53e",
   "metadata": {},
   "outputs": [],
   "source": [
    "sample_text = \"The secret menu reveals a business model that goes beyond a right to repair issue, Sullivan argues. It represents, as he describes it, nothing short of a milkshake shakedown: Sell franchisees a complicated and fragile machine. Prevent them from figuring out why it constantly breaks. Take a cut of the distributors’ profit from the repairs. “It’s a huge money maker to have a customer that’s purposefully, intentionally blind and unable to make very fundamental changes to their own equipment,” Sullivan says. And McDonald’s presides over all of it, he says, insisting on loyalty to its longtime supplier. (Resist the McDonald’s monarchy on decisions like equipment, and the corporation can end a restaurant’s lease on the literal ground beneath it, which McDonald's owns under its franchise agreement.)\""
   ]
  },
  {
   "cell_type": "code",
   "execution_count": 259,
   "id": "547e11ec",
   "metadata": {},
   "outputs": [],
   "source": [
    "import re\n",
    "\n",
    "words = {}\n",
    "\n",
    "# your code"
   ]
  },
  {
   "cell_type": "code",
   "execution_count": 168,
   "id": "22bbab33",
   "metadata": {},
   "outputs": [
    {
     "data": {
      "text/plain": [
       "{'the': 6,\n",
       " 'secret': 1,\n",
       " 'menu': 1,\n",
       " 'reveals': 1,\n",
       " 'a': 8,\n",
       " 'business': 1,\n",
       " 'model': 1,\n",
       " 'that': 2,\n",
       " 'goes': 1,\n",
       " 'beyond': 1,\n",
       " 'right': 1,\n",
       " 'to': 5,\n",
       " 'repair': 1,\n",
       " 'issue': 1,\n",
       " 'sullivan': 2,\n",
       " 'argues': 1,\n",
       " 'it': 6,\n",
       " 'represents': 1,\n",
       " 'as': 1,\n",
       " 'he': 2,\n",
       " 'describes': 1,\n",
       " 'nothing': 1,\n",
       " 'short': 1,\n",
       " 'of': 3,\n",
       " 'milkshake': 1,\n",
       " 'shakedown': 1,\n",
       " 'sell': 1,\n",
       " 'franchisees': 1,\n",
       " 'complicated': 1,\n",
       " 'and': 4,\n",
       " 'fragile': 1,\n",
       " 'machine': 1,\n",
       " 'prevent': 1,\n",
       " 'them': 1,\n",
       " 'from': 2,\n",
       " 'figuring': 1,\n",
       " 'out': 1,\n",
       " 'why': 1,\n",
       " 'constantly': 1,\n",
       " 'breaks': 1,\n",
       " 'take': 1,\n",
       " 'cut': 1,\n",
       " 'distributors': 1,\n",
       " 'profit': 1,\n",
       " 'repairs': 1,\n",
       " 's': 6,\n",
       " 'huge': 1,\n",
       " 'money': 1,\n",
       " 'maker': 1,\n",
       " 'have': 1,\n",
       " 'customer': 1,\n",
       " 'purposefully': 1,\n",
       " 'intentionally': 1,\n",
       " 'blind': 1,\n",
       " 'unable': 1,\n",
       " 'make': 1,\n",
       " 'very': 1,\n",
       " 'fundamental': 1,\n",
       " 'changes': 1,\n",
       " 'their': 1,\n",
       " 'own': 1,\n",
       " 'equipment': 2,\n",
       " 'says': 2,\n",
       " 'mcdonald': 3,\n",
       " 'presides': 1,\n",
       " 'over': 1,\n",
       " 'all': 1,\n",
       " 'insisting': 1,\n",
       " 'on': 3,\n",
       " 'loyalty': 1,\n",
       " 'its': 2,\n",
       " 'longtime': 1,\n",
       " 'supplier': 1,\n",
       " 'resist': 1,\n",
       " 'monarchy': 1,\n",
       " 'decisions': 1,\n",
       " 'like': 1,\n",
       " 'corporation': 1,\n",
       " 'can': 1,\n",
       " 'end': 1,\n",
       " 'restaurant': 1,\n",
       " 'lease': 1,\n",
       " 'literal': 1,\n",
       " 'ground': 1,\n",
       " 'beneath': 1,\n",
       " 'which': 1,\n",
       " 'owns': 1,\n",
       " 'under': 1,\n",
       " 'franchise': 1,\n",
       " 'agreement': 1}"
      ]
     },
     "execution_count": 168,
     "metadata": {},
     "output_type": "execute_result"
    }
   ],
   "source": [
    "words"
   ]
  },
  {
   "cell_type": "markdown",
   "id": "09a72b78",
   "metadata": {},
   "source": [
    "# Sets"
   ]
  },
  {
   "cell_type": "markdown",
   "id": "e55fc795",
   "metadata": {},
   "source": [
    "Коллекция уникальных объектов"
   ]
  },
  {
   "cell_type": "code",
   "execution_count": 261,
   "id": "6e7bbeab",
   "metadata": {},
   "outputs": [
    {
     "data": {
      "text/plain": [
       "{'one', 'two'}"
      ]
     },
     "execution_count": 261,
     "metadata": {},
     "output_type": "execute_result"
    }
   ],
   "source": [
    "a = ['one', 'two', 'two', 'one']\n",
    "set(a)"
   ]
  },
  {
   "cell_type": "markdown",
   "id": "9131b630",
   "metadata": {},
   "source": [
    "set -- mutable, frozenset -- immutable"
   ]
  },
  {
   "cell_type": "code",
   "execution_count": 262,
   "id": "2601aa38",
   "metadata": {},
   "outputs": [],
   "source": [
    "first_set = {1, 2, 3, 4, 5}\n",
    "second_set = {4, 5, 6, 7, 8}"
   ]
  },
  {
   "cell_type": "code",
   "execution_count": 264,
   "id": "8bba9eb6",
   "metadata": {},
   "outputs": [
    {
     "data": {
      "text/plain": [
       "({4, 5}, {4, 5})"
      ]
     },
     "execution_count": 264,
     "metadata": {},
     "output_type": "execute_result"
    }
   ],
   "source": [
    "first_set & second_set, first_set.intersection(second_set)"
   ]
  },
  {
   "cell_type": "code",
   "execution_count": 265,
   "id": "1c36219b",
   "metadata": {},
   "outputs": [
    {
     "data": {
      "text/plain": [
       "({1, 2, 3, 4, 5, 6, 7, 8}, {1, 2, 3, 4, 5, 6, 7, 8})"
      ]
     },
     "execution_count": 265,
     "metadata": {},
     "output_type": "execute_result"
    }
   ],
   "source": [
    "first_set | second_set, first_set.union(second_set)"
   ]
  },
  {
   "cell_type": "markdown",
   "id": "bcadacc4",
   "metadata": {},
   "source": [
    "Внутри хеш-таблица, что дает нам операцию проверки вхождения за O(1) при хорошей хеш-функции\n",
    "\n",
    "Пример:"
   ]
  },
  {
   "cell_type": "code",
   "execution_count": 266,
   "id": "a7199d9d",
   "metadata": {},
   "outputs": [],
   "source": [
    "import random"
   ]
  },
  {
   "cell_type": "code",
   "execution_count": 270,
   "id": "04cea253",
   "metadata": {},
   "outputs": [],
   "source": [
    "good_values = set(range(100))\n",
    "\n",
    "filtered_values = []\n",
    "for i in range(100000):\n",
    "    val = random.randint(1, 500)\n",
    "    if val in good_values:\n",
    "        filtered_values.append(val)"
   ]
  },
  {
   "cell_type": "code",
   "execution_count": 274,
   "id": "4041897a",
   "metadata": {},
   "outputs": [],
   "source": [
    "assert len(list(filter(lambda x: x >= 100, filtered_values))) == 0"
   ]
  }
 ],
 "metadata": {
  "kernelspec": {
   "display_name": "Python 3.7.4 64-bit ('base': conda)",
   "language": "python",
   "name": "python37464bitbaseconda673265f21f5749a2af8cc8a878fb0657"
  },
  "language_info": {
   "codemirror_mode": {
    "name": "ipython",
    "version": 3
   },
   "file_extension": ".py",
   "mimetype": "text/x-python",
   "name": "python",
   "nbconvert_exporter": "python",
   "pygments_lexer": "ipython3",
   "version": "3.7.6"
  },
  "latex_envs": {
   "LaTeX_envs_menu_present": true,
   "autoclose": false,
   "autocomplete": true,
   "bibliofile": "biblio.bib",
   "cite_by": "apalike",
   "current_citInitial": 1,
   "eqLabelWithNumbers": true,
   "eqNumInitial": 1,
   "hotkeys": {
    "equation": "Ctrl-E",
    "itemize": "Ctrl-I"
   },
   "labels_anchors": false,
   "latex_user_defs": false,
   "report_style_numbering": false,
   "user_envs_cfg": false
  },
  "toc": {
   "base_numbering": 1,
   "nav_menu": {},
   "number_sections": true,
   "sideBar": true,
   "skip_h1_title": false,
   "title_cell": "Table of Contents",
   "title_sidebar": "Contents",
   "toc_cell": false,
   "toc_position": {},
   "toc_section_display": true,
   "toc_window_display": true
  }
 },
 "nbformat": 4,
 "nbformat_minor": 5
}
