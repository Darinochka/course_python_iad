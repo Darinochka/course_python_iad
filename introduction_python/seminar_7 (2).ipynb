{
 "cells": [
  {
   "cell_type": "markdown",
   "id": "8531578a",
   "metadata": {},
   "source": [
    "# Useful decorators"
   ]
  },
  {
   "cell_type": "markdown",
   "id": "ff91d86a",
   "metadata": {},
   "source": [
    "## classmethod / staticmethod"
   ]
  },
  {
   "cell_type": "markdown",
   "id": "f01de1db",
   "metadata": {},
   "source": [
    "**@classmethod** заставляет декорируемую функцию оперировать самим классом, а не конкретным его инстансом (не требует создания объекта-инстанса класса) "
   ]
  },
  {
   "cell_type": "markdown",
   "id": "809bcab2",
   "metadata": {},
   "source": [
    "**@staticmethod** \"отвязывает\" декорируемую функцию от ее класса в том смысле, что функция теряет доступ к полям класса и полям инстанса класса. Но зато и не требует создания инстанса для своей работы"
   ]
  },
  {
   "cell_type": "code",
   "execution_count": 1,
   "id": "6a6c4dca",
   "metadata": {},
   "outputs": [],
   "source": [
    "class MethodsDemo:\n",
    "    NAME = 'methods_demo'\n",
    "    \n",
    "    def __init__(self, nickname='default', *args):\n",
    "        self.nickname = nickname\n",
    "        \n",
    "    def do(self, *args):\n",
    "        return args\n",
    "    \n",
    "    def access_fields(self, *args):\n",
    "        return self.NAME, self.nickname\n",
    "    \n",
    "    @classmethod\n",
    "    def do_classmethod(*args):\n",
    "        return args\n",
    "    \n",
    "    @classmethod\n",
    "    def access_fields_cls(cls, *args):\n",
    "        return cls.NAME\n",
    "    \n",
    "    @classmethod\n",
    "    def generate_cls(cls, *args):\n",
    "        return cls(*args)\n",
    "    \n",
    "    @staticmethod\n",
    "    def do_staticmethod(*args):\n",
    "        return args"
   ]
  },
  {
   "cell_type": "code",
   "execution_count": 2,
   "id": "10bf78fd",
   "metadata": {},
   "outputs": [
    {
     "data": {
      "text/plain": [
       "['NAME',\n",
       " '__class__',\n",
       " '__delattr__',\n",
       " '__dict__',\n",
       " '__dir__',\n",
       " '__doc__',\n",
       " '__eq__',\n",
       " '__format__',\n",
       " '__ge__',\n",
       " '__getattribute__',\n",
       " '__gt__',\n",
       " '__hash__',\n",
       " '__init__',\n",
       " '__init_subclass__',\n",
       " '__le__',\n",
       " '__lt__',\n",
       " '__module__',\n",
       " '__ne__',\n",
       " '__new__',\n",
       " '__reduce__',\n",
       " '__reduce_ex__',\n",
       " '__repr__',\n",
       " '__setattr__',\n",
       " '__sizeof__',\n",
       " '__str__',\n",
       " '__subclasshook__',\n",
       " '__weakref__',\n",
       " 'access_fields',\n",
       " 'access_fields_cls',\n",
       " 'do',\n",
       " 'do_classmethod',\n",
       " 'do_staticmethod',\n",
       " 'generate_cls']"
      ]
     },
     "execution_count": 2,
     "metadata": {},
     "output_type": "execute_result"
    }
   ],
   "source": [
    "dir(MethodsDemo)"
   ]
  },
  {
   "cell_type": "markdown",
   "id": "5aeecf83",
   "metadata": {},
   "source": [
    "### Вызовы"
   ]
  },
  {
   "cell_type": "code",
   "execution_count": 3,
   "id": "1dc75885",
   "metadata": {},
   "outputs": [
    {
     "data": {
      "text/plain": [
       "(__main__.MethodsDemo, 'param')"
      ]
     },
     "execution_count": 3,
     "metadata": {},
     "output_type": "execute_result"
    }
   ],
   "source": [
    "MethodsDemo.do_classmethod('param')"
   ]
  },
  {
   "cell_type": "code",
   "execution_count": 4,
   "id": "7008a1dd",
   "metadata": {},
   "outputs": [
    {
     "data": {
      "text/plain": [
       "('param',)"
      ]
     },
     "execution_count": 4,
     "metadata": {},
     "output_type": "execute_result"
    }
   ],
   "source": [
    "MethodsDemo.do_staticmethod('param')"
   ]
  },
  {
   "cell_type": "code",
   "execution_count": 5,
   "id": "441a87b4",
   "metadata": {},
   "outputs": [
    {
     "data": {
      "text/plain": [
       "()"
      ]
     },
     "execution_count": 5,
     "metadata": {},
     "output_type": "execute_result"
    }
   ],
   "source": [
    "MethodsDemo.do('param')"
   ]
  },
  {
   "cell_type": "markdown",
   "id": "728e9284",
   "metadata": {},
   "source": [
    "### Доступы к полям"
   ]
  },
  {
   "cell_type": "code",
   "execution_count": 6,
   "id": "9e0f56a6",
   "metadata": {},
   "outputs": [
    {
     "ename": "TypeError",
     "evalue": "access_fields() missing 1 required positional argument: 'self'",
     "output_type": "error",
     "traceback": [
      "\u001b[1;31m---------------------------------------------------------------------------\u001b[0m",
      "\u001b[1;31mTypeError\u001b[0m                                 Traceback (most recent call last)",
      "\u001b[1;32m~\\AppData\\Local\\Temp/ipykernel_17660/3918477518.py\u001b[0m in \u001b[0;36m<module>\u001b[1;34m\u001b[0m\n\u001b[1;32m----> 1\u001b[1;33m \u001b[0mMethodsDemo\u001b[0m\u001b[1;33m.\u001b[0m\u001b[0maccess_fields\u001b[0m\u001b[1;33m(\u001b[0m\u001b[1;33m)\u001b[0m\u001b[1;33m\u001b[0m\u001b[1;33m\u001b[0m\u001b[0m\n\u001b[0m",
      "\u001b[1;31mTypeError\u001b[0m: access_fields() missing 1 required positional argument: 'self'"
     ]
    }
   ],
   "source": [
    "MethodsDemo.access_fields()"
   ]
  },
  {
   "cell_type": "code",
   "execution_count": null,
   "id": "f3ccd1bb",
   "metadata": {},
   "outputs": [],
   "source": [
    "MethodsDemo().access_fields()"
   ]
  },
  {
   "cell_type": "code",
   "execution_count": null,
   "id": "b571d887",
   "metadata": {},
   "outputs": [],
   "source": [
    "MethodsDemo.access_fields_cls()"
   ]
  },
  {
   "cell_type": "markdown",
   "id": "394981b6",
   "metadata": {},
   "source": [
    "staticmethod не имеет доступов к полям, classmethod имеет доступ только к полям класса"
   ]
  },
  {
   "cell_type": "code",
   "execution_count": null,
   "id": "08d2dced",
   "metadata": {},
   "outputs": [],
   "source": [
    "MethodsDemo.generate_cls('new_nick').access_fields()"
   ]
  },
  {
   "cell_type": "code",
   "execution_count": 29,
   "id": "0c91e50f",
   "metadata": {},
   "outputs": [
    {
     "data": {
      "text/plain": [
       "mappingproxy({'__module__': '__main__',\n",
       "              'NAME': 'methods_demo',\n",
       "              '__init__': <function __main__.MethodsDemo.__init__(self, nickname='default', *args)>,\n",
       "              'do': <function __main__.MethodsDemo.do(self, *args)>,\n",
       "              'access_fields': <function __main__.MethodsDemo.access_fields(self, *args)>,\n",
       "              'do_classmethod': <classmethod at 0x7f4793f38250>,\n",
       "              'access_fields_cls': <classmethod at 0x7f4793f38990>,\n",
       "              'generate_cls': <classmethod at 0x7f4793f386d0>,\n",
       "              'do_staticmethod': <staticmethod at 0x7f4793f38e10>,\n",
       "              '__dict__': <attribute '__dict__' of 'MethodsDemo' objects>,\n",
       "              '__weakref__': <attribute '__weakref__' of 'MethodsDemo' objects>,\n",
       "              '__doc__': None})"
      ]
     },
     "execution_count": 29,
     "metadata": {},
     "output_type": "execute_result"
    }
   ],
   "source": [
    "MethodsDemo.__dict__"
   ]
  },
  {
   "cell_type": "code",
   "execution_count": 30,
   "id": "0107a92d",
   "metadata": {},
   "outputs": [
    {
     "data": {
      "text/plain": [
       "{'nickname': 'default'}"
      ]
     },
     "execution_count": 30,
     "metadata": {},
     "output_type": "execute_result"
    }
   ],
   "source": [
    "MethodsDemo().__dict__"
   ]
  },
  {
   "cell_type": "markdown",
   "id": "7cd38aee",
   "metadata": {},
   "source": [
    "## property"
   ]
  },
  {
   "cell_type": "code",
   "execution_count": 7,
   "id": "94d68e38",
   "metadata": {},
   "outputs": [],
   "source": [
    "class PropertyShow:\n",
    "    def __init__(self, var):\n",
    "        self._var = var\n",
    "    \n",
    "    @property\n",
    "    def x(self):\n",
    "        return self._var"
   ]
  },
  {
   "cell_type": "code",
   "execution_count": 8,
   "id": "b2661f72",
   "metadata": {},
   "outputs": [],
   "source": [
    "cls = PropertyShow(42)"
   ]
  },
  {
   "cell_type": "code",
   "execution_count": 9,
   "id": "e87b2734",
   "metadata": {},
   "outputs": [
    {
     "data": {
      "text/plain": [
       "42"
      ]
     },
     "execution_count": 9,
     "metadata": {},
     "output_type": "execute_result"
    }
   ],
   "source": [
    "cls.x"
   ]
  },
  {
   "cell_type": "code",
   "execution_count": 10,
   "id": "af198e3b",
   "metadata": {},
   "outputs": [
    {
     "data": {
      "text/plain": [
       "42"
      ]
     },
     "execution_count": 10,
     "metadata": {},
     "output_type": "execute_result"
    }
   ],
   "source": [
    "cls._var"
   ]
  },
  {
   "cell_type": "code",
   "execution_count": 11,
   "id": "6fa735d4",
   "metadata": {},
   "outputs": [],
   "source": [
    "class NotPropertyShow:\n",
    "    def __init__(self, var):\n",
    "        self._var = var\n",
    "    \n",
    "    def x(self):\n",
    "        return self._var"
   ]
  },
  {
   "cell_type": "code",
   "execution_count": 12,
   "id": "de291d52",
   "metadata": {},
   "outputs": [],
   "source": [
    "cls = NotPropertyShow(42)"
   ]
  },
  {
   "cell_type": "code",
   "execution_count": 13,
   "id": "2ba53b41",
   "metadata": {},
   "outputs": [
    {
     "data": {
      "text/plain": [
       "42"
      ]
     },
     "execution_count": 13,
     "metadata": {},
     "output_type": "execute_result"
    }
   ],
   "source": [
    "cls.x()"
   ]
  },
  {
   "cell_type": "code",
   "execution_count": 14,
   "id": "62ff25f0",
   "metadata": {},
   "outputs": [
    {
     "data": {
      "text/plain": [
       "42"
      ]
     },
     "execution_count": 14,
     "metadata": {},
     "output_type": "execute_result"
    }
   ],
   "source": [
    "cls._var"
   ]
  },
  {
   "cell_type": "markdown",
   "id": "acb946e8",
   "metadata": {},
   "source": [
    "To understand what's going on, read great SO answer [here](https://stackoverflow.com/questions/17330160/how-does-the-property-decorator-work-in-python)"
   ]
  },
  {
   "cell_type": "markdown",
   "id": "a6a05461",
   "metadata": {},
   "source": [
    "## class as a decorator"
   ]
  },
  {
   "cell_type": "markdown",
   "id": "ceb65b85",
   "metadata": {},
   "source": [
    "Экземпляры класса могут быть callable. А если функция может быть декоратором, то что мешает тогда классу? Должен быть определен magic метод `__call__`"
   ]
  },
  {
   "cell_type": "code",
   "execution_count": 54,
   "id": "92446db3",
   "metadata": {},
   "outputs": [],
   "source": [
    "class ClassDecorator:\n",
    "    def __init__(self, func):\n",
    "        self.entry_str = '[decorating inner func]'\n",
    "        self.function = func\n",
    "        self.close_str = '[letting the song flow]'\n",
    "\n",
    "     \n",
    "    def __call__(self):\n",
    "        print(self.entry_str)\n",
    "        self.function()\n",
    "        print(self.close_str)\n",
    "\n",
    " \n",
    " \n",
    "@ClassDecorator\n",
    "def function():\n",
    "    print('Vanderlyle crybaby cry...')"
   ]
  },
  {
   "cell_type": "code",
   "execution_count": 55,
   "id": "4c204065",
   "metadata": {},
   "outputs": [
    {
     "name": "stdout",
     "output_type": "stream",
     "text": [
      "[decorating inner func]\n",
      "Vanderlyle crybaby cry...\n",
      "[letting the song flow]\n"
     ]
    }
   ],
   "source": [
    "function()"
   ]
  },
  {
   "cell_type": "markdown",
   "id": "cf870a4f",
   "metadata": {},
   "source": [
    "Как и в декораторах-функциях, мы тоже можем возвращать значения (а не только использовать print) и делать параметры"
   ]
  },
  {
   "cell_type": "markdown",
   "id": "f32762db",
   "metadata": {},
   "source": [
    "Сделаем таймер"
   ]
  },
  {
   "cell_type": "code",
   "execution_count": null,
   "id": "0003e077",
   "metadata": {},
   "outputs": [],
   "source": [
    "import time\n",
    "\n",
    "class Timer:\n",
    "    pass"
   ]
  },
  {
   "cell_type": "code",
   "execution_count": 64,
   "id": "48658a66",
   "metadata": {},
   "outputs": [],
   "source": [
    "@Timer\n",
    "def slow_func(seconds_to_sleep):\n",
    "    pass"
   ]
  },
  {
   "cell_type": "code",
   "execution_count": 66,
   "id": "a86e77a6",
   "metadata": {},
   "outputs": [
    {
     "name": "stdout",
     "output_type": "stream",
     "text": [
      "slow_func((3,)) -> 42 executed in 3.00s\n"
     ]
    },
    {
     "data": {
      "text/plain": [
       "42"
      ]
     },
     "execution_count": 66,
     "metadata": {},
     "output_type": "execute_result"
    }
   ],
   "source": [
    "slow_func(3)"
   ]
  },
  {
   "cell_type": "markdown",
   "id": "6039aa2e",
   "metadata": {},
   "source": [
    "## class as decorated"
   ]
  },
  {
   "cell_type": "markdown",
   "id": "9347aeef",
   "metadata": {},
   "source": [
    "Класс может быть тоже декорирован функцией или классом"
   ]
  },
  {
   "cell_type": "code",
   "execution_count": 193,
   "id": "9878f6c1",
   "metadata": {},
   "outputs": [
    {
     "name": "stdout",
     "output_type": "stream",
     "text": [
      "Target running\n"
     ]
    },
    {
     "data": {
      "text/plain": [
       "{'arg_list': ('one', 1)}"
      ]
     },
     "execution_count": 193,
     "metadata": {},
     "output_type": "execute_result"
    }
   ],
   "source": [
    "def decorator_function(target):\n",
    "\n",
    "    def decorator_init(self, *args):\n",
    "        print(\"Decorator running\")\n",
    "        print(*args)\n",
    "    target.__init__ = decorator_init\n",
    "    return target\n",
    "\n",
    "\n",
    "class Target:\n",
    "    def __init__(self, *args):\n",
    "        self.arg_list = args\n",
    "        print(\"Target running\")\n",
    "\n",
    "\n",
    "t = Target('one', 1)\n",
    "t.__dict__"
   ]
  },
  {
   "cell_type": "code",
   "execution_count": 194,
   "id": "79d5aaf9",
   "metadata": {},
   "outputs": [
    {
     "name": "stdout",
     "output_type": "stream",
     "text": [
      "Decorator running\n",
      "one 1\n"
     ]
    },
    {
     "data": {
      "text/plain": [
       "{}"
      ]
     },
     "execution_count": 194,
     "metadata": {},
     "output_type": "execute_result"
    }
   ],
   "source": [
    "@decorator_function\n",
    "class Target:\n",
    "\n",
    "    def __init__(self, *args):\n",
    "        self.arg_list = args\n",
    "        print(\"Target running\")\n",
    "\n",
    "dt = Target('one', 1)\n",
    "dt.__dict__"
   ]
  },
  {
   "cell_type": "markdown",
   "id": "6a150370",
   "metadata": {},
   "source": [
    "# Descriptors"
   ]
  },
  {
   "cell_type": "markdown",
   "id": "b96e01ed",
   "metadata": {},
   "source": [
    "Короткое описание в [доке](https://docs.python.org/3/reference/datamodel.html#invoking-descriptors)"
   ]
  },
  {
   "cell_type": "markdown",
   "id": "23b5fb6e",
   "metadata": {},
   "source": [
    "Мы самом деле, мы с вами уже выше познакомились с частным примером такой сущности."
   ]
  },
  {
   "cell_type": "markdown",
   "id": "44dab0c8",
   "metadata": {},
   "source": [
    "Дескриптор -- это объект с определенными методами `__get__()`, `__set__()` и `__delete__()`"
   ]
  },
  {
   "cell_type": "markdown",
   "id": "56db4f0a",
   "metadata": {},
   "source": [
    "Обычно когда в Python мы хотим получить доступ к атрибуту класса, то сначала мы ищем его в `__dict__` инстанса класса, потом в классе, и далее выше по цепочке наследования."
   ]
  },
  {
   "cell_type": "markdown",
   "id": "ad1cab6f",
   "metadata": {},
   "source": [
    "## Basics"
   ]
  },
  {
   "cell_type": "code",
   "execution_count": 106,
   "id": "9d194198",
   "metadata": {},
   "outputs": [],
   "source": [
    "class BestConstant:\n",
    "    def __get__(self, obj, objtype=None):\n",
    "        print('Using descriptor')\n",
    "        return 73\n",
    "\n",
    "class Number:\n",
    "    x = 10\n",
    "    y = BestConstant()  # наш дескриптор"
   ]
  },
  {
   "cell_type": "code",
   "execution_count": 107,
   "id": "43e4590f",
   "metadata": {},
   "outputs": [],
   "source": [
    "num = Number()"
   ]
  },
  {
   "cell_type": "code",
   "execution_count": 108,
   "id": "10edb3e6",
   "metadata": {},
   "outputs": [
    {
     "name": "stdout",
     "output_type": "stream",
     "text": [
      "Using descriptor\n"
     ]
    },
    {
     "data": {
      "text/plain": [
       "(10, 73)"
      ]
     },
     "execution_count": 108,
     "metadata": {},
     "output_type": "execute_result"
    }
   ],
   "source": [
    "num.x, num.y"
   ]
  },
  {
   "cell_type": "code",
   "execution_count": 109,
   "id": "3309948b",
   "metadata": {},
   "outputs": [
    {
     "data": {
      "text/plain": [
       "({},\n",
       " mappingproxy({'__module__': '__main__',\n",
       "               'x': 10,\n",
       "               'y': <__main__.BestConstant at 0x7f4793ec2b50>,\n",
       "               '__dict__': <attribute '__dict__' of 'Number' objects>,\n",
       "               '__weakref__': <attribute '__weakref__' of 'Number' objects>,\n",
       "               '__doc__': None}))"
      ]
     },
     "execution_count": 109,
     "metadata": {},
     "output_type": "execute_result"
    }
   ],
   "source": [
    "num.__dict__, Number.__dict__"
   ]
  },
  {
   "cell_type": "code",
   "execution_count": 110,
   "id": "12a48fa8",
   "metadata": {},
   "outputs": [],
   "source": [
    "num.__dict__['y'] = 42"
   ]
  },
  {
   "cell_type": "code",
   "execution_count": 111,
   "id": "0976da7c",
   "metadata": {},
   "outputs": [
    {
     "data": {
      "text/plain": [
       "42"
      ]
     },
     "execution_count": 111,
     "metadata": {},
     "output_type": "execute_result"
    }
   ],
   "source": [
    "num.y"
   ]
  },
  {
   "cell_type": "markdown",
   "id": "0041d25c",
   "metadata": {},
   "source": [
    "Видим, что мы переписали значение. Дескриптор, у которого определен только get, называется non-data дескриптором"
   ]
  },
  {
   "cell_type": "code",
   "execution_count": 98,
   "id": "6b84154b",
   "metadata": {},
   "outputs": [],
   "source": [
    "class BestConstantComplete:\n",
    "    def __get__(self, obj, objtype=None):\n",
    "        print('using descriptor')\n",
    "        return obj._y\n",
    "    \n",
    "    def __set__(self, obj, value):\n",
    "        obj._y = value\n",
    "        \n",
    "    def __delete__(self, obj):\n",
    "        del obj._y\n",
    "\n",
    "class Number:\n",
    "    y = BestConstantComplete()  # наш дескриптор\n",
    "    \n",
    "    def __init__(self, x=10, y=42):\n",
    "        self.x = x\n",
    "        self.y = y"
   ]
  },
  {
   "cell_type": "code",
   "execution_count": 99,
   "id": "27fdf9bf",
   "metadata": {},
   "outputs": [],
   "source": [
    "num = Number()"
   ]
  },
  {
   "cell_type": "code",
   "execution_count": 100,
   "id": "966d9ec1",
   "metadata": {},
   "outputs": [
    {
     "name": "stdout",
     "output_type": "stream",
     "text": [
      "using descriptor\n"
     ]
    },
    {
     "data": {
      "text/plain": [
       "42"
      ]
     },
     "execution_count": 100,
     "metadata": {},
     "output_type": "execute_result"
    }
   ],
   "source": [
    "num.y"
   ]
  },
  {
   "cell_type": "code",
   "execution_count": 101,
   "id": "c7a2adf4",
   "metadata": {},
   "outputs": [],
   "source": [
    "num.y = 73"
   ]
  },
  {
   "cell_type": "code",
   "execution_count": 102,
   "id": "a8aef4bb",
   "metadata": {},
   "outputs": [
    {
     "name": "stdout",
     "output_type": "stream",
     "text": [
      "using descriptor\n"
     ]
    },
    {
     "data": {
      "text/plain": [
       "73"
      ]
     },
     "execution_count": 102,
     "metadata": {},
     "output_type": "execute_result"
    }
   ],
   "source": [
    "num.y"
   ]
  },
  {
   "cell_type": "code",
   "execution_count": 103,
   "id": "d50be6cf",
   "metadata": {},
   "outputs": [
    {
     "data": {
      "text/plain": [
       "{'x': 10, '_y': 73}"
      ]
     },
     "execution_count": 103,
     "metadata": {},
     "output_type": "execute_result"
    }
   ],
   "source": [
    "num.__dict__"
   ]
  },
  {
   "cell_type": "code",
   "execution_count": 104,
   "id": "32c11407",
   "metadata": {},
   "outputs": [],
   "source": [
    "num.__dict__['y'] = 100"
   ]
  },
  {
   "cell_type": "code",
   "execution_count": 105,
   "id": "15294cda",
   "metadata": {},
   "outputs": [
    {
     "name": "stdout",
     "output_type": "stream",
     "text": [
      "using descriptor\n"
     ]
    },
    {
     "data": {
      "text/plain": [
       "73"
      ]
     },
     "execution_count": 105,
     "metadata": {},
     "output_type": "execute_result"
    }
   ],
   "source": [
    "num.y"
   ]
  },
  {
   "cell_type": "markdown",
   "id": "f228ecc7",
   "metadata": {},
   "source": [
    "Если у дескриптора определен `__set__`, то Python при попытке достать атрибут по названию, будет доставать сначала дескриптор, даже если в `__dict__` объекта лежит что-то одноименное "
   ]
  },
  {
   "cell_type": "markdown",
   "id": "78aa857c",
   "metadata": {},
   "source": [
    "## Closer to Real world"
   ]
  },
  {
   "cell_type": "markdown",
   "id": "ca0b8ea7",
   "metadata": {},
   "source": [
    "Например, с помощью дескрипторов можно написать логгер запросов к полю класса.\n",
    "\n",
    "Пример из документации:"
   ]
  },
  {
   "cell_type": "code",
   "execution_count": 113,
   "id": "852feae9",
   "metadata": {},
   "outputs": [],
   "source": [
    "import logging\n",
    "\n",
    "logging.basicConfig(level=logging.INFO)\n",
    "\n",
    "class LoggedAgeAccess:\n",
    "\n",
    "    def __get__(self, obj, objtype=None):\n",
    "        value = obj._age\n",
    "        logging.info(f'Accessing \"age\" giving {value}')\n",
    "        return value\n",
    "\n",
    "    def __set__(self, obj, value):\n",
    "        logging.info(f'Updating age to {value}')\n",
    "        obj._age = value\n",
    "\n",
    "class Person:\n",
    "\n",
    "    age = LoggedAgeAccess()             # Descriptor instance\n",
    "\n",
    "    def __init__(self, name, age):\n",
    "        self.name = name                # Regular instance attribute\n",
    "        self.age = age                  # Calls __set__()\n",
    "\n",
    "    def birthday(self):\n",
    "        self.age += 1 "
   ]
  },
  {
   "cell_type": "code",
   "execution_count": 114,
   "id": "d857145b",
   "metadata": {},
   "outputs": [
    {
     "name": "stderr",
     "output_type": "stream",
     "text": [
      "INFO:root:Updating age to 23\n"
     ]
    }
   ],
   "source": [
    "denis = Person('Denis Belyakov', 23)"
   ]
  },
  {
   "cell_type": "code",
   "execution_count": 115,
   "id": "fb8f8a9d",
   "metadata": {},
   "outputs": [
    {
     "data": {
      "text/plain": [
       "{'name': 'Denis Belyakov', '_age': 23}"
      ]
     },
     "execution_count": 115,
     "metadata": {},
     "output_type": "execute_result"
    }
   ],
   "source": [
    "vars(denis)"
   ]
  },
  {
   "cell_type": "code",
   "execution_count": 116,
   "id": "ee9be8c1",
   "metadata": {},
   "outputs": [
    {
     "data": {
      "text/plain": [
       "{'name': 'Denis Belyakov', '_age': 23}"
      ]
     },
     "execution_count": 116,
     "metadata": {},
     "output_type": "execute_result"
    }
   ],
   "source": [
    "denis.__dict__"
   ]
  },
  {
   "cell_type": "code",
   "execution_count": 117,
   "id": "e9c067bc",
   "metadata": {},
   "outputs": [
    {
     "name": "stderr",
     "output_type": "stream",
     "text": [
      "INFO:root:Accessing \"age\" giving 23\n"
     ]
    },
    {
     "data": {
      "text/plain": [
       "23"
      ]
     },
     "execution_count": 117,
     "metadata": {},
     "output_type": "execute_result"
    }
   ],
   "source": [
    "denis.age"
   ]
  },
  {
   "cell_type": "code",
   "execution_count": 118,
   "id": "a7bf4375",
   "metadata": {},
   "outputs": [
    {
     "data": {
      "text/plain": [
       "'Denis Belyakov'"
      ]
     },
     "execution_count": 118,
     "metadata": {},
     "output_type": "execute_result"
    }
   ],
   "source": [
    "denis.name"
   ]
  },
  {
   "cell_type": "code",
   "execution_count": 119,
   "id": "b622f18f",
   "metadata": {},
   "outputs": [
    {
     "data": {
      "text/plain": [
       "23"
      ]
     },
     "execution_count": 119,
     "metadata": {},
     "output_type": "execute_result"
    }
   ],
   "source": [
    "denis._age"
   ]
  },
  {
   "cell_type": "markdown",
   "id": "b15eb35e",
   "metadata": {},
   "source": [
    "## And yes, property"
   ]
  },
  {
   "cell_type": "code",
   "execution_count": 121,
   "id": "3a307949",
   "metadata": {},
   "outputs": [
    {
     "data": {
      "text/plain": [
       "mappingproxy({'__getattribute__': <slot wrapper '__getattribute__' of 'property' objects>,\n",
       "              '__get__': <slot wrapper '__get__' of 'property' objects>,\n",
       "              '__set__': <slot wrapper '__set__' of 'property' objects>,\n",
       "              '__delete__': <slot wrapper '__delete__' of 'property' objects>,\n",
       "              '__init__': <slot wrapper '__init__' of 'property' objects>,\n",
       "              '__new__': <function property.__new__(*args, **kwargs)>,\n",
       "              'getter': <method 'getter' of 'property' objects>,\n",
       "              'setter': <method 'setter' of 'property' objects>,\n",
       "              'deleter': <method 'deleter' of 'property' objects>,\n",
       "              'fget': <member 'fget' of 'property' objects>,\n",
       "              'fset': <member 'fset' of 'property' objects>,\n",
       "              'fdel': <member 'fdel' of 'property' objects>,\n",
       "              '__doc__': <member '__doc__' of 'property' objects>,\n",
       "              '__isabstractmethod__': <attribute '__isabstractmethod__' of 'property' objects>})"
      ]
     },
     "execution_count": 121,
     "metadata": {},
     "output_type": "execute_result"
    }
   ],
   "source": [
    "property.__dict__"
   ]
  },
  {
   "cell_type": "markdown",
   "id": "1098a34b",
   "metadata": {},
   "source": [
    "    The main motivation for descriptors is to provide a hook allowing objects stored in class variables to control what happens during attribute lookup."
   ]
  },
  {
   "cell_type": "markdown",
   "id": "0b83d560",
   "metadata": {},
   "source": [
    "Хорошая [лекция](http://uneex.org/LecturesCMC/PythonIntro2020/11_MiscOOP) на тему"
   ]
  },
  {
   "cell_type": "markdown",
   "id": "a93ca0a0",
   "metadata": {},
   "source": [
    "Развернутый [док](https://docs.python.org/3/howto/descriptor.html)"
   ]
  },
  {
   "cell_type": "code",
   "execution_count": 15,
   "id": "7a3f6d6c-160d-4a75-985e-24ec1e8f4bf9",
   "metadata": {},
   "outputs": [
    {
     "ename": "NameError",
     "evalue": "name 'check_annotation' is not defined",
     "output_type": "error",
     "traceback": [
      "\u001b[1;31m---------------------------------------------------------------------------\u001b[0m",
      "\u001b[1;31mNameError\u001b[0m                                 Traceback (most recent call last)",
      "\u001b[1;32m~\\AppData\\Local\\Temp/ipykernel_17660/3307901179.py\u001b[0m in \u001b[0;36m<module>\u001b[1;34m\u001b[0m\n\u001b[1;32m----> 1\u001b[1;33m \u001b[1;33m@\u001b[0m\u001b[0mcheck_annotation\u001b[0m\u001b[1;33m\u001b[0m\u001b[1;33m\u001b[0m\u001b[0m\n\u001b[0m\u001b[0;32m      2\u001b[0m \u001b[1;32mdef\u001b[0m \u001b[0mfoo\u001b[0m\u001b[1;33m(\u001b[0m\u001b[0mx\u001b[0m\u001b[1;33m:\u001b[0m \u001b[0mint\u001b[0m\u001b[1;33m)\u001b[0m\u001b[1;33m:\u001b[0m\u001b[1;33m\u001b[0m\u001b[1;33m\u001b[0m\u001b[0m\n\u001b[0;32m      3\u001b[0m     \u001b[1;32mreturn\u001b[0m \u001b[0mx\u001b[0m \u001b[1;33m+\u001b[0m \u001b[1;36m1\u001b[0m\u001b[1;33m\u001b[0m\u001b[1;33m\u001b[0m\u001b[0m\n",
      "\u001b[1;31mNameError\u001b[0m: name 'check_annotation' is not defined"
     ]
    }
   ],
   "source": [
    "@check_annotation\n",
    "def foo(x: int):\n",
    "    return x + 1"
   ]
  },
  {
   "cell_type": "markdown",
   "id": "50c5ae49",
   "metadata": {},
   "source": [
    "# Inheritance"
   ]
  },
  {
   "cell_type": "markdown",
   "id": "7e89371f",
   "metadata": {},
   "source": [
    "## Basics"
   ]
  },
  {
   "cell_type": "markdown",
   "id": "4f3173f7",
   "metadata": {},
   "source": [
    "Синтаксис простой"
   ]
  },
  {
   "cell_type": "code",
   "execution_count": 122,
   "id": "befb7987",
   "metadata": {},
   "outputs": [],
   "source": [
    "class BetterList(list):\n",
    "    # поля и методы\n",
    "    pass"
   ]
  },
  {
   "cell_type": "markdown",
   "id": "6daeeea3",
   "metadata": {},
   "source": [
    "Порядок видимости снизу вверх: объект -> класс -> родительский класс"
   ]
  },
  {
   "cell_type": "markdown",
   "id": "8963eefd",
   "metadata": {},
   "source": [
    "Для доступа к полям родителя используется `super()`"
   ]
  },
  {
   "cell_type": "code",
   "execution_count": 129,
   "id": "a30c7cfe",
   "metadata": {},
   "outputs": [],
   "source": [
    "class Parent:\n",
    "    def letter(self):\n",
    "        return 'D'\n",
    "    \n",
    "class Child(Parent):\n",
    "    def letter(self):\n",
    "        return super().letter() + 'B'"
   ]
  },
  {
   "cell_type": "code",
   "execution_count": 130,
   "id": "7c06072f",
   "metadata": {},
   "outputs": [],
   "source": [
    "a = Parent()\n",
    "b = Child()"
   ]
  },
  {
   "cell_type": "code",
   "execution_count": 131,
   "id": "6a3d0489",
   "metadata": {},
   "outputs": [
    {
     "data": {
      "text/plain": [
       "'D'"
      ]
     },
     "execution_count": 131,
     "metadata": {},
     "output_type": "execute_result"
    }
   ],
   "source": [
    "a.letter()"
   ]
  },
  {
   "cell_type": "code",
   "execution_count": 132,
   "id": "03669171",
   "metadata": {},
   "outputs": [
    {
     "data": {
      "text/plain": [
       "'DB'"
      ]
     },
     "execution_count": 132,
     "metadata": {},
     "output_type": "execute_result"
    }
   ],
   "source": [
    "b.letter()"
   ]
  },
  {
   "cell_type": "code",
   "execution_count": 146,
   "id": "fecb6854",
   "metadata": {},
   "outputs": [],
   "source": [
    "class Parent:\n",
    "    def __init__(self, letter='D'):\n",
    "        self._letter = letter\n",
    "        \n",
    "    def get_letter(self):\n",
    "        return self._letter\n",
    "    \n",
    "class Child(Parent):\n",
    "    def __init__(self, parent_letter='D', child_letter='B'):\n",
    "        super().__init__(parent_letter)\n",
    "        print(f'parent inited {self._letter}')\n",
    "        self.new_letter = child_letter\n",
    "        \n",
    "    def get_child_letter(self):\n",
    "        return self.new_letter"
   ]
  },
  {
   "cell_type": "code",
   "execution_count": 147,
   "id": "7e0184cd",
   "metadata": {},
   "outputs": [
    {
     "name": "stdout",
     "output_type": "stream",
     "text": [
      "parent inited D\n"
     ]
    }
   ],
   "source": [
    "a = Child()"
   ]
  },
  {
   "cell_type": "code",
   "execution_count": 148,
   "id": "6b0a41d0",
   "metadata": {},
   "outputs": [
    {
     "data": {
      "text/plain": [
       "'D'"
      ]
     },
     "execution_count": 148,
     "metadata": {},
     "output_type": "execute_result"
    }
   ],
   "source": [
    "a.get_letter()"
   ]
  },
  {
   "cell_type": "code",
   "execution_count": 149,
   "id": "95ecd2b4",
   "metadata": {},
   "outputs": [
    {
     "data": {
      "text/plain": [
       "'B'"
      ]
     },
     "execution_count": 149,
     "metadata": {},
     "output_type": "execute_result"
    }
   ],
   "source": [
    "a.get_child_letter()"
   ]
  },
  {
   "cell_type": "code",
   "execution_count": 150,
   "id": "930bc406",
   "metadata": {},
   "outputs": [
    {
     "data": {
      "text/plain": [
       "{'_letter': 'D', 'new_letter': 'B'}"
      ]
     },
     "execution_count": 150,
     "metadata": {},
     "output_type": "execute_result"
    }
   ],
   "source": [
    "a.__dict__"
   ]
  },
  {
   "cell_type": "markdown",
   "id": "e9163979",
   "metadata": {},
   "source": [
    "## Protecting names"
   ]
  },
  {
   "cell_type": "markdown",
   "id": "a7cd07d8",
   "metadata": {},
   "source": [
    "Фичи наследования в доопределении пространства имен и в возможности их перегрузки  "
   ]
  },
  {
   "cell_type": "markdown",
   "id": "48cb11e6",
   "metadata": {},
   "source": [
    "Предполагается, что если пользователь переопредляет имя, значит он этого хочет "
   ]
  },
  {
   "cell_type": "markdown",
   "id": "49f768b0",
   "metadata": {},
   "source": [
    "Если создатель класса не хочет, чтобы какое-то поле было явно перегружено, то можно, например, использовать дескрипторы или особый нейминг"
   ]
  },
  {
   "cell_type": "markdown",
   "id": "4f52e4e1",
   "metadata": {},
   "source": [
    "Есть общее соглашение, что переменные, названные с `_` не надо трогать вне класса, в котором они объявлены"
   ]
  },
  {
   "cell_type": "markdown",
   "id": "740372e4",
   "metadata": {},
   "source": [
    "Также в Python предусмотрен механизм с названием, начинающися с `__`"
   ]
  },
  {
   "cell_type": "code",
   "execution_count": 155,
   "id": "7c4c2b3a",
   "metadata": {},
   "outputs": [],
   "source": [
    "class StrictParent:\n",
    "    def __init__(self):\n",
    "        self.__letter = 'D'\n",
    "\n",
    "class Child(StrictParent):\n",
    "    def __init__(self):\n",
    "        super().__init__()\n",
    "        self._letter = 'B'"
   ]
  },
  {
   "cell_type": "code",
   "execution_count": 156,
   "id": "04aee0fc",
   "metadata": {},
   "outputs": [],
   "source": [
    "a = Child()"
   ]
  },
  {
   "cell_type": "code",
   "execution_count": 157,
   "id": "a9d22988",
   "metadata": {},
   "outputs": [
    {
     "data": {
      "text/plain": [
       "{'_StrictParent__letter': 'D', '_letter': 'B'}"
      ]
     },
     "execution_count": 157,
     "metadata": {},
     "output_type": "execute_result"
    }
   ],
   "source": [
    "a.__dict__"
   ]
  },
  {
   "cell_type": "markdown",
   "id": "62b951da",
   "metadata": {},
   "source": [
    "# Exceptions"
   ]
  },
  {
   "cell_type": "markdown",
   "id": "f930080d",
   "metadata": {},
   "source": [
    "Оператор **try-except-else-finally**"
   ]
  },
  {
   "cell_type": "code",
   "execution_count": 163,
   "id": "736e9c3d",
   "metadata": {},
   "outputs": [
    {
     "name": "stdout",
     "output_type": "stream",
     "text": [
      "impossible to modify object\n"
     ]
    }
   ],
   "source": [
    "a = '123'\n",
    "\n",
    "try:\n",
    "    a[0] = '10'\n",
    "except Exception:\n",
    "    print('impossible to modify object')"
   ]
  },
  {
   "cell_type": "code",
   "execution_count": 160,
   "id": "c570f468",
   "metadata": {},
   "outputs": [
    {
     "ename": "TypeError",
     "evalue": "'str' object does not support item assignment",
     "output_type": "error",
     "traceback": [
      "\u001b[0;31m---------------------------------------------------------------------------\u001b[0m",
      "\u001b[0;31mTypeError\u001b[0m                                 Traceback (most recent call last)",
      "\u001b[0;32m/tmp/ipykernel_962604/1205832853.py\u001b[0m in \u001b[0;36m<module>\u001b[0;34m\u001b[0m\n\u001b[0;32m----> 1\u001b[0;31m \u001b[0ma\u001b[0m\u001b[0;34m[\u001b[0m\u001b[0;36m0\u001b[0m\u001b[0;34m]\u001b[0m \u001b[0;34m=\u001b[0m \u001b[0;34m'10'\u001b[0m\u001b[0;34m\u001b[0m\u001b[0;34m\u001b[0m\u001b[0m\n\u001b[0m",
      "\u001b[0;31mTypeError\u001b[0m: 'str' object does not support item assignment"
     ]
    }
   ],
   "source": [
    "a[0] = '10'"
   ]
  },
  {
   "cell_type": "code",
   "execution_count": 162,
   "id": "9e55879f",
   "metadata": {},
   "outputs": [
    {
     "data": {
      "text/plain": [
       "[TypeError, Exception, BaseException, object]"
      ]
     },
     "execution_count": 162,
     "metadata": {},
     "output_type": "execute_result"
    }
   ],
   "source": [
    "TypeError.mro()"
   ]
  },
  {
   "cell_type": "code",
   "execution_count": 166,
   "id": "cd7b1950",
   "metadata": {},
   "outputs": [
    {
     "name": "stdout",
     "output_type": "stream",
     "text": [
      "possible to modify object ['10', 2, 3]\n"
     ]
    }
   ],
   "source": [
    "a = [1, 2, 3]\n",
    "\n",
    "try:\n",
    "    a[0] = '10'\n",
    "except Exception:\n",
    "    print('impossible to modify object')\n",
    "else:\n",
    "    print('possible to modify object', a)"
   ]
  },
  {
   "cell_type": "markdown",
   "id": "d91fc4bb",
   "metadata": {},
   "source": [
    "Исключения — не «ошибки», а способ обработки некоторых условий не там, где они были обнаружены."
   ]
  },
  {
   "cell_type": "code",
   "execution_count": 167,
   "id": "0973e194",
   "metadata": {},
   "outputs": [
    {
     "ename": "TypeError",
     "evalue": "",
     "output_type": "error",
     "traceback": [
      "\u001b[0;31m---------------------------------------------------------------------------\u001b[0m",
      "\u001b[0;31mTypeError\u001b[0m                                 Traceback (most recent call last)",
      "\u001b[0;32m/tmp/ipykernel_962604/2270127484.py\u001b[0m in \u001b[0;36m<module>\u001b[0;34m\u001b[0m\n\u001b[0;32m----> 1\u001b[0;31m \u001b[0;32mraise\u001b[0m \u001b[0mTypeError\u001b[0m\u001b[0;34m\u001b[0m\u001b[0;34m\u001b[0m\u001b[0m\n\u001b[0m",
      "\u001b[0;31mTypeError\u001b[0m: "
     ]
    }
   ],
   "source": [
    "raise TypeError"
   ]
  },
  {
   "cell_type": "code",
   "execution_count": 168,
   "id": "173b837b",
   "metadata": {},
   "outputs": [
    {
     "ename": "TypeError",
     "evalue": "message",
     "output_type": "error",
     "traceback": [
      "\u001b[0;31m---------------------------------------------------------------------------\u001b[0m",
      "\u001b[0;31mTypeError\u001b[0m                                 Traceback (most recent call last)",
      "\u001b[0;32m/tmp/ipykernel_962604/567377029.py\u001b[0m in \u001b[0;36m<module>\u001b[0;34m\u001b[0m\n\u001b[0;32m----> 1\u001b[0;31m \u001b[0;32mraise\u001b[0m \u001b[0mTypeError\u001b[0m\u001b[0;34m(\u001b[0m\u001b[0;34m'message'\u001b[0m\u001b[0;34m)\u001b[0m\u001b[0;34m\u001b[0m\u001b[0;34m\u001b[0m\u001b[0m\n\u001b[0m",
      "\u001b[0;31mTypeError\u001b[0m: message"
     ]
    }
   ],
   "source": [
    "raise TypeError('message')"
   ]
  },
  {
   "cell_type": "markdown",
   "id": "1cbf12f6",
   "metadata": {},
   "source": [
    "Хорошая [лекция](http://uneex.org/LecturesCMC/PythonIntro2020/10_Inheritance) по механизму наследования в т.ч. с примерами исключений "
   ]
  },
  {
   "cell_type": "markdown",
   "id": "4e3cbcf6",
   "metadata": {},
   "source": [
    "**Bonus:**\n",
    "\n",
    "Напишите декоратор-класс, который бы:\n",
    "1. Проверял входные аргументы и вывод функции на соответствие типам, указанным в аннотациях \n",
    "2. Проверял, что все численные типы находятся в диапазоне от -1000 до 1000\n",
    "3. Длины типов-последовательностей не превосходят 1000\n",
    "4. В случае ошибок валидации возвращал информативное сообщение об ошибке в виде Exception\n",
    "5. Мог бы быть отключаемым по параметрам\n",
    "\n",
    "Для решения используйте дескрипторы, вам очень помогут упомянутые сегодня ссылки "
   ]
  },
  {
   "cell_type": "code",
   "execution_count": 239,
   "id": "0612b37f-7e9a-43cf-9979-a1db89c4b342",
   "metadata": {},
   "outputs": [],
   "source": [
    "def switch_off(switch=True):\n",
    "    def decorator(target):\n",
    "        \n",
    "        def decorator_init(self, func):\n",
    "            self.func = func\n",
    "            self._annotations = func.__annotations__\n",
    "            self.switch = switch\n",
    "\n",
    "        if switch:\n",
    "            target.__init__ = decorator_init\n",
    "\n",
    "        return target\n",
    "    return decorator"
   ]
  },
  {
   "cell_type": "code",
   "execution_count": 240,
   "id": "731bd52d-9d78-4963-b42e-bff177e3458d",
   "metadata": {},
   "outputs": [],
   "source": [
    "@switch_off(switch=True)\n",
    "class CheckType:\n",
    "    def __init__(self, func):\n",
    "        self.func = func\n",
    "        self._annotations = func.__annotations__\n",
    "        self.switch = False\n",
    "\n",
    "    def __call__(self, *args):\n",
    "        if self.switch:\n",
    "            for var, arg in zip(self._annotations, args):\n",
    "                if not isinstance(arg, self._annotations[var]):\n",
    "                    raise Exception(f\"{var} doesn't match {self._annotations[var]}\")\n",
    "                else:\n",
    "                    if isinstance(arg, int) and (-1000 > arg or arg > 1000):\n",
    "                        raise Exception(f\"{var} can only be in range (-1000, 1000)\")\n",
    "                    elif isinstance(arg, list) and len(arg) > 1000:\n",
    "                        raise Exception(f\"Length of the list {var} has to be less that 1000\")\n",
    "\n",
    "            res = self.func(*args)\n",
    "            if not isinstance(res, self._annotations['return']):\n",
    "                raise Exception(f\"Output doesn't match {self._annotations['return']}\")\n",
    "        else:\n",
    "            res = self.func(*args)\n",
    "        return res"
   ]
  },
  {
   "cell_type": "code",
   "execution_count": 241,
   "id": "ac409792-337a-47ba-a883-7f1b97bfb9c8",
   "metadata": {},
   "outputs": [],
   "source": [
    "@CheckType\n",
    "def increase_list(a : list, n : int) -> list:\n",
    "    for i in range(len(a)):\n",
    "        a[i] += n\n",
    "    return a[i]"
   ]
  },
  {
   "cell_type": "code",
   "execution_count": 243,
   "id": "076c6102-df3c-44cb-8a56-149d23eadb8f",
   "metadata": {},
   "outputs": [
    {
     "ename": "Exception",
     "evalue": "a doesn't match <class 'list'>",
     "output_type": "error",
     "traceback": [
      "\u001b[1;31m---------------------------------------------------------------------------\u001b[0m",
      "\u001b[1;31mException\u001b[0m                                 Traceback (most recent call last)",
      "\u001b[1;32m~\\AppData\\Local\\Temp/ipykernel_17660/789178496.py\u001b[0m in \u001b[0;36m<module>\u001b[1;34m\u001b[0m\n\u001b[1;32m----> 1\u001b[1;33m \u001b[0mincrease_list\u001b[0m\u001b[1;33m(\u001b[0m\u001b[1;34m\"sdf\"\u001b[0m\u001b[1;33m,\u001b[0m \u001b[1;36m2\u001b[0m\u001b[1;33m)\u001b[0m\u001b[1;33m\u001b[0m\u001b[1;33m\u001b[0m\u001b[0m\n\u001b[0m",
      "\u001b[1;32m~\\AppData\\Local\\Temp/ipykernel_17660/504832367.py\u001b[0m in \u001b[0;36m__call__\u001b[1;34m(self, *args)\u001b[0m\n\u001b[0;32m     10\u001b[0m             \u001b[1;32mfor\u001b[0m \u001b[0mvar\u001b[0m\u001b[1;33m,\u001b[0m \u001b[0marg\u001b[0m \u001b[1;32min\u001b[0m \u001b[0mzip\u001b[0m\u001b[1;33m(\u001b[0m\u001b[0mself\u001b[0m\u001b[1;33m.\u001b[0m\u001b[0m_annotations\u001b[0m\u001b[1;33m,\u001b[0m \u001b[0margs\u001b[0m\u001b[1;33m)\u001b[0m\u001b[1;33m:\u001b[0m\u001b[1;33m\u001b[0m\u001b[1;33m\u001b[0m\u001b[0m\n\u001b[0;32m     11\u001b[0m                 \u001b[1;32mif\u001b[0m \u001b[1;32mnot\u001b[0m \u001b[0misinstance\u001b[0m\u001b[1;33m(\u001b[0m\u001b[0marg\u001b[0m\u001b[1;33m,\u001b[0m \u001b[0mself\u001b[0m\u001b[1;33m.\u001b[0m\u001b[0m_annotations\u001b[0m\u001b[1;33m[\u001b[0m\u001b[0mvar\u001b[0m\u001b[1;33m]\u001b[0m\u001b[1;33m)\u001b[0m\u001b[1;33m:\u001b[0m\u001b[1;33m\u001b[0m\u001b[1;33m\u001b[0m\u001b[0m\n\u001b[1;32m---> 12\u001b[1;33m                     \u001b[1;32mraise\u001b[0m \u001b[0mException\u001b[0m\u001b[1;33m(\u001b[0m\u001b[1;34mf\"{var} doesn't match {self._annotations[var]}\"\u001b[0m\u001b[1;33m)\u001b[0m\u001b[1;33m\u001b[0m\u001b[1;33m\u001b[0m\u001b[0m\n\u001b[0m\u001b[0;32m     13\u001b[0m                 \u001b[1;32melse\u001b[0m\u001b[1;33m:\u001b[0m\u001b[1;33m\u001b[0m\u001b[1;33m\u001b[0m\u001b[0m\n\u001b[0;32m     14\u001b[0m                     \u001b[1;32mif\u001b[0m \u001b[0misinstance\u001b[0m\u001b[1;33m(\u001b[0m\u001b[0marg\u001b[0m\u001b[1;33m,\u001b[0m \u001b[0mint\u001b[0m\u001b[1;33m)\u001b[0m \u001b[1;32mand\u001b[0m \u001b[1;33m(\u001b[0m\u001b[1;33m-\u001b[0m\u001b[1;36m1000\u001b[0m \u001b[1;33m>\u001b[0m \u001b[0marg\u001b[0m \u001b[1;32mor\u001b[0m \u001b[0marg\u001b[0m \u001b[1;33m>\u001b[0m \u001b[1;36m1000\u001b[0m\u001b[1;33m)\u001b[0m\u001b[1;33m:\u001b[0m\u001b[1;33m\u001b[0m\u001b[1;33m\u001b[0m\u001b[0m\n",
      "\u001b[1;31mException\u001b[0m: a doesn't match <class 'list'>"
     ]
    }
   ],
   "source": [
    "increase_list(\"sdf\", 2)"
   ]
  },
  {
   "cell_type": "code",
   "execution_count": 244,
   "id": "045c9f90-6051-42be-9d4d-1990adbb7315",
   "metadata": {},
   "outputs": [
    {
     "ename": "Exception",
     "evalue": "n doesn't match <class 'int'>",
     "output_type": "error",
     "traceback": [
      "\u001b[1;31m---------------------------------------------------------------------------\u001b[0m",
      "\u001b[1;31mException\u001b[0m                                 Traceback (most recent call last)",
      "\u001b[1;32m~\\AppData\\Local\\Temp/ipykernel_17660/4067843495.py\u001b[0m in \u001b[0;36m<module>\u001b[1;34m\u001b[0m\n\u001b[1;32m----> 1\u001b[1;33m \u001b[0mincrease_list\u001b[0m\u001b[1;33m(\u001b[0m\u001b[1;33m[\u001b[0m\u001b[1;36m1\u001b[0m\u001b[1;33m,\u001b[0m \u001b[1;36m2\u001b[0m\u001b[1;33m]\u001b[0m\u001b[1;33m,\u001b[0m \u001b[1;33m[\u001b[0m\u001b[1;36m1\u001b[0m\u001b[1;33m,\u001b[0m \u001b[1;36m2\u001b[0m\u001b[1;33m]\u001b[0m\u001b[1;33m)\u001b[0m\u001b[1;33m\u001b[0m\u001b[1;33m\u001b[0m\u001b[0m\n\u001b[0m",
      "\u001b[1;32m~\\AppData\\Local\\Temp/ipykernel_17660/504832367.py\u001b[0m in \u001b[0;36m__call__\u001b[1;34m(self, *args)\u001b[0m\n\u001b[0;32m     10\u001b[0m             \u001b[1;32mfor\u001b[0m \u001b[0mvar\u001b[0m\u001b[1;33m,\u001b[0m \u001b[0marg\u001b[0m \u001b[1;32min\u001b[0m \u001b[0mzip\u001b[0m\u001b[1;33m(\u001b[0m\u001b[0mself\u001b[0m\u001b[1;33m.\u001b[0m\u001b[0m_annotations\u001b[0m\u001b[1;33m,\u001b[0m \u001b[0margs\u001b[0m\u001b[1;33m)\u001b[0m\u001b[1;33m:\u001b[0m\u001b[1;33m\u001b[0m\u001b[1;33m\u001b[0m\u001b[0m\n\u001b[0;32m     11\u001b[0m                 \u001b[1;32mif\u001b[0m \u001b[1;32mnot\u001b[0m \u001b[0misinstance\u001b[0m\u001b[1;33m(\u001b[0m\u001b[0marg\u001b[0m\u001b[1;33m,\u001b[0m \u001b[0mself\u001b[0m\u001b[1;33m.\u001b[0m\u001b[0m_annotations\u001b[0m\u001b[1;33m[\u001b[0m\u001b[0mvar\u001b[0m\u001b[1;33m]\u001b[0m\u001b[1;33m)\u001b[0m\u001b[1;33m:\u001b[0m\u001b[1;33m\u001b[0m\u001b[1;33m\u001b[0m\u001b[0m\n\u001b[1;32m---> 12\u001b[1;33m                     \u001b[1;32mraise\u001b[0m \u001b[0mException\u001b[0m\u001b[1;33m(\u001b[0m\u001b[1;34mf\"{var} doesn't match {self._annotations[var]}\"\u001b[0m\u001b[1;33m)\u001b[0m\u001b[1;33m\u001b[0m\u001b[1;33m\u001b[0m\u001b[0m\n\u001b[0m\u001b[0;32m     13\u001b[0m                 \u001b[1;32melse\u001b[0m\u001b[1;33m:\u001b[0m\u001b[1;33m\u001b[0m\u001b[1;33m\u001b[0m\u001b[0m\n\u001b[0;32m     14\u001b[0m                     \u001b[1;32mif\u001b[0m \u001b[0misinstance\u001b[0m\u001b[1;33m(\u001b[0m\u001b[0marg\u001b[0m\u001b[1;33m,\u001b[0m \u001b[0mint\u001b[0m\u001b[1;33m)\u001b[0m \u001b[1;32mand\u001b[0m \u001b[1;33m(\u001b[0m\u001b[1;33m-\u001b[0m\u001b[1;36m1000\u001b[0m \u001b[1;33m>\u001b[0m \u001b[0marg\u001b[0m \u001b[1;32mor\u001b[0m \u001b[0marg\u001b[0m \u001b[1;33m>\u001b[0m \u001b[1;36m1000\u001b[0m\u001b[1;33m)\u001b[0m\u001b[1;33m:\u001b[0m\u001b[1;33m\u001b[0m\u001b[1;33m\u001b[0m\u001b[0m\n",
      "\u001b[1;31mException\u001b[0m: n doesn't match <class 'int'>"
     ]
    }
   ],
   "source": [
    "increase_list([1, 2], [1, 2])"
   ]
  },
  {
   "cell_type": "code",
   "execution_count": 245,
   "id": "9c84339c-ac6d-48ce-9bec-5938df36dd97",
   "metadata": {},
   "outputs": [
    {
     "ename": "Exception",
     "evalue": "Length of the list a has to be less that 1000",
     "output_type": "error",
     "traceback": [
      "\u001b[1;31m---------------------------------------------------------------------------\u001b[0m",
      "\u001b[1;31mException\u001b[0m                                 Traceback (most recent call last)",
      "\u001b[1;32m~\\AppData\\Local\\Temp/ipykernel_17660/935963797.py\u001b[0m in \u001b[0;36m<module>\u001b[1;34m\u001b[0m\n\u001b[1;32m----> 1\u001b[1;33m \u001b[0mincrease_list\u001b[0m\u001b[1;33m(\u001b[0m\u001b[0mlist\u001b[0m\u001b[1;33m(\u001b[0m\u001b[0mrange\u001b[0m\u001b[1;33m(\u001b[0m\u001b[1;36m10000\u001b[0m\u001b[1;33m)\u001b[0m\u001b[1;33m)\u001b[0m\u001b[1;33m,\u001b[0m \u001b[1;36m2\u001b[0m\u001b[1;33m)\u001b[0m\u001b[1;33m\u001b[0m\u001b[1;33m\u001b[0m\u001b[0m\n\u001b[0m",
      "\u001b[1;32m~\\AppData\\Local\\Temp/ipykernel_17660/504832367.py\u001b[0m in \u001b[0;36m__call__\u001b[1;34m(self, *args)\u001b[0m\n\u001b[0;32m     15\u001b[0m                         \u001b[1;32mraise\u001b[0m \u001b[0mException\u001b[0m\u001b[1;33m(\u001b[0m\u001b[1;34mf\"{var} can only be in range (-1000, 1000)\"\u001b[0m\u001b[1;33m)\u001b[0m\u001b[1;33m\u001b[0m\u001b[1;33m\u001b[0m\u001b[0m\n\u001b[0;32m     16\u001b[0m                     \u001b[1;32melif\u001b[0m \u001b[0misinstance\u001b[0m\u001b[1;33m(\u001b[0m\u001b[0marg\u001b[0m\u001b[1;33m,\u001b[0m \u001b[0mlist\u001b[0m\u001b[1;33m)\u001b[0m \u001b[1;32mand\u001b[0m \u001b[0mlen\u001b[0m\u001b[1;33m(\u001b[0m\u001b[0marg\u001b[0m\u001b[1;33m)\u001b[0m \u001b[1;33m>\u001b[0m \u001b[1;36m1000\u001b[0m\u001b[1;33m:\u001b[0m\u001b[1;33m\u001b[0m\u001b[1;33m\u001b[0m\u001b[0m\n\u001b[1;32m---> 17\u001b[1;33m                         \u001b[1;32mraise\u001b[0m \u001b[0mException\u001b[0m\u001b[1;33m(\u001b[0m\u001b[1;34mf\"Length of the list {var} has to be less that 1000\"\u001b[0m\u001b[1;33m)\u001b[0m\u001b[1;33m\u001b[0m\u001b[1;33m\u001b[0m\u001b[0m\n\u001b[0m\u001b[0;32m     18\u001b[0m \u001b[1;33m\u001b[0m\u001b[0m\n\u001b[0;32m     19\u001b[0m             \u001b[0mres\u001b[0m \u001b[1;33m=\u001b[0m \u001b[0mself\u001b[0m\u001b[1;33m.\u001b[0m\u001b[0mfunc\u001b[0m\u001b[1;33m(\u001b[0m\u001b[1;33m*\u001b[0m\u001b[0margs\u001b[0m\u001b[1;33m)\u001b[0m\u001b[1;33m\u001b[0m\u001b[1;33m\u001b[0m\u001b[0m\n",
      "\u001b[1;31mException\u001b[0m: Length of the list a has to be less that 1000"
     ]
    }
   ],
   "source": [
    "increase_list(list(range(10000)), 2)"
   ]
  },
  {
   "cell_type": "code",
   "execution_count": 246,
   "id": "73585627-a806-4945-a894-b574816a66af",
   "metadata": {},
   "outputs": [
    {
     "ename": "Exception",
     "evalue": "n can only be in range (-1000, 1000)",
     "output_type": "error",
     "traceback": [
      "\u001b[1;31m---------------------------------------------------------------------------\u001b[0m",
      "\u001b[1;31mException\u001b[0m                                 Traceback (most recent call last)",
      "\u001b[1;32m~\\AppData\\Local\\Temp/ipykernel_17660/3216517089.py\u001b[0m in \u001b[0;36m<module>\u001b[1;34m\u001b[0m\n\u001b[1;32m----> 1\u001b[1;33m \u001b[0mincrease_list\u001b[0m\u001b[1;33m(\u001b[0m\u001b[1;33m[\u001b[0m\u001b[1;36m1\u001b[0m\u001b[1;33m,\u001b[0m \u001b[1;36m2\u001b[0m\u001b[1;33m]\u001b[0m\u001b[1;33m,\u001b[0m \u001b[1;33m-\u001b[0m\u001b[1;36m100000\u001b[0m\u001b[1;33m)\u001b[0m\u001b[1;33m\u001b[0m\u001b[1;33m\u001b[0m\u001b[0m\n\u001b[0m",
      "\u001b[1;32m~\\AppData\\Local\\Temp/ipykernel_17660/504832367.py\u001b[0m in \u001b[0;36m__call__\u001b[1;34m(self, *args)\u001b[0m\n\u001b[0;32m     13\u001b[0m                 \u001b[1;32melse\u001b[0m\u001b[1;33m:\u001b[0m\u001b[1;33m\u001b[0m\u001b[1;33m\u001b[0m\u001b[0m\n\u001b[0;32m     14\u001b[0m                     \u001b[1;32mif\u001b[0m \u001b[0misinstance\u001b[0m\u001b[1;33m(\u001b[0m\u001b[0marg\u001b[0m\u001b[1;33m,\u001b[0m \u001b[0mint\u001b[0m\u001b[1;33m)\u001b[0m \u001b[1;32mand\u001b[0m \u001b[1;33m(\u001b[0m\u001b[1;33m-\u001b[0m\u001b[1;36m1000\u001b[0m \u001b[1;33m>\u001b[0m \u001b[0marg\u001b[0m \u001b[1;32mor\u001b[0m \u001b[0marg\u001b[0m \u001b[1;33m>\u001b[0m \u001b[1;36m1000\u001b[0m\u001b[1;33m)\u001b[0m\u001b[1;33m:\u001b[0m\u001b[1;33m\u001b[0m\u001b[1;33m\u001b[0m\u001b[0m\n\u001b[1;32m---> 15\u001b[1;33m                         \u001b[1;32mraise\u001b[0m \u001b[0mException\u001b[0m\u001b[1;33m(\u001b[0m\u001b[1;34mf\"{var} can only be in range (-1000, 1000)\"\u001b[0m\u001b[1;33m)\u001b[0m\u001b[1;33m\u001b[0m\u001b[1;33m\u001b[0m\u001b[0m\n\u001b[0m\u001b[0;32m     16\u001b[0m                     \u001b[1;32melif\u001b[0m \u001b[0misinstance\u001b[0m\u001b[1;33m(\u001b[0m\u001b[0marg\u001b[0m\u001b[1;33m,\u001b[0m \u001b[0mlist\u001b[0m\u001b[1;33m)\u001b[0m \u001b[1;32mand\u001b[0m \u001b[0mlen\u001b[0m\u001b[1;33m(\u001b[0m\u001b[0marg\u001b[0m\u001b[1;33m)\u001b[0m \u001b[1;33m>\u001b[0m \u001b[1;36m1000\u001b[0m\u001b[1;33m:\u001b[0m\u001b[1;33m\u001b[0m\u001b[1;33m\u001b[0m\u001b[0m\n\u001b[0;32m     17\u001b[0m                         \u001b[1;32mraise\u001b[0m \u001b[0mException\u001b[0m\u001b[1;33m(\u001b[0m\u001b[1;34mf\"Length of the list {var} has to be less that 1000\"\u001b[0m\u001b[1;33m)\u001b[0m\u001b[1;33m\u001b[0m\u001b[1;33m\u001b[0m\u001b[0m\n",
      "\u001b[1;31mException\u001b[0m: n can only be in range (-1000, 1000)"
     ]
    }
   ],
   "source": [
    "increase_list([1, 2], -100000)"
   ]
  },
  {
   "cell_type": "code",
   "execution_count": 247,
   "id": "2e6526cc-788c-401b-ac21-8548d75fdda0",
   "metadata": {},
   "outputs": [],
   "source": [
    "@CheckType\n",
    "def increase_list(a : list, n : int) -> list:\n",
    "    for i in range(len(a)):\n",
    "        a[i] += n\n",
    "    return n"
   ]
  },
  {
   "cell_type": "code",
   "execution_count": 249,
   "id": "51996928-f621-43d8-9b9a-240afb6d7e4a",
   "metadata": {},
   "outputs": [
    {
     "ename": "Exception",
     "evalue": "Output doesn't match <class 'list'>",
     "output_type": "error",
     "traceback": [
      "\u001b[1;31m---------------------------------------------------------------------------\u001b[0m",
      "\u001b[1;31mException\u001b[0m                                 Traceback (most recent call last)",
      "\u001b[1;32m~\\AppData\\Local\\Temp/ipykernel_17660/533708504.py\u001b[0m in \u001b[0;36m<module>\u001b[1;34m\u001b[0m\n\u001b[1;32m----> 1\u001b[1;33m \u001b[0mincrease_list\u001b[0m\u001b[1;33m(\u001b[0m\u001b[1;33m[\u001b[0m\u001b[1;36m1\u001b[0m\u001b[1;33m,\u001b[0m \u001b[1;36m2\u001b[0m\u001b[1;33m]\u001b[0m\u001b[1;33m,\u001b[0m \u001b[1;36m2\u001b[0m\u001b[1;33m)\u001b[0m\u001b[1;33m\u001b[0m\u001b[1;33m\u001b[0m\u001b[0m\n\u001b[0m",
      "\u001b[1;32m~\\AppData\\Local\\Temp/ipykernel_17660/504832367.py\u001b[0m in \u001b[0;36m__call__\u001b[1;34m(self, *args)\u001b[0m\n\u001b[0;32m     19\u001b[0m             \u001b[0mres\u001b[0m \u001b[1;33m=\u001b[0m \u001b[0mself\u001b[0m\u001b[1;33m.\u001b[0m\u001b[0mfunc\u001b[0m\u001b[1;33m(\u001b[0m\u001b[1;33m*\u001b[0m\u001b[0margs\u001b[0m\u001b[1;33m)\u001b[0m\u001b[1;33m\u001b[0m\u001b[1;33m\u001b[0m\u001b[0m\n\u001b[0;32m     20\u001b[0m             \u001b[1;32mif\u001b[0m \u001b[1;32mnot\u001b[0m \u001b[0misinstance\u001b[0m\u001b[1;33m(\u001b[0m\u001b[0mres\u001b[0m\u001b[1;33m,\u001b[0m \u001b[0mself\u001b[0m\u001b[1;33m.\u001b[0m\u001b[0m_annotations\u001b[0m\u001b[1;33m[\u001b[0m\u001b[1;34m'return'\u001b[0m\u001b[1;33m]\u001b[0m\u001b[1;33m)\u001b[0m\u001b[1;33m:\u001b[0m\u001b[1;33m\u001b[0m\u001b[1;33m\u001b[0m\u001b[0m\n\u001b[1;32m---> 21\u001b[1;33m                 \u001b[1;32mraise\u001b[0m \u001b[0mException\u001b[0m\u001b[1;33m(\u001b[0m\u001b[1;34mf\"Output doesn't match {self._annotations['return']}\"\u001b[0m\u001b[1;33m)\u001b[0m\u001b[1;33m\u001b[0m\u001b[1;33m\u001b[0m\u001b[0m\n\u001b[0m\u001b[0;32m     22\u001b[0m         \u001b[1;32melse\u001b[0m\u001b[1;33m:\u001b[0m\u001b[1;33m\u001b[0m\u001b[1;33m\u001b[0m\u001b[0m\n\u001b[0;32m     23\u001b[0m             \u001b[0mres\u001b[0m \u001b[1;33m=\u001b[0m \u001b[0mself\u001b[0m\u001b[1;33m.\u001b[0m\u001b[0mfunc\u001b[0m\u001b[1;33m(\u001b[0m\u001b[1;33m*\u001b[0m\u001b[0margs\u001b[0m\u001b[1;33m)\u001b[0m\u001b[1;33m\u001b[0m\u001b[1;33m\u001b[0m\u001b[0m\n",
      "\u001b[1;31mException\u001b[0m: Output doesn't match <class 'list'>"
     ]
    }
   ],
   "source": [
    "increase_list([1, 2], 2)"
   ]
  }
 ],
 "metadata": {
  "kernelspec": {
   "display_name": "Python 3 (ipykernel)",
   "language": "python",
   "name": "python3"
  },
  "language_info": {
   "codemirror_mode": {
    "name": "ipython",
    "version": 3
   },
   "file_extension": ".py",
   "mimetype": "text/x-python",
   "name": "python",
   "nbconvert_exporter": "python",
   "pygments_lexer": "ipython3",
   "version": "3.8.8"
  },
  "latex_envs": {
   "LaTeX_envs_menu_present": true,
   "autoclose": false,
   "autocomplete": true,
   "bibliofile": "biblio.bib",
   "cite_by": "apalike",
   "current_citInitial": 1,
   "eqLabelWithNumbers": true,
   "eqNumInitial": 1,
   "hotkeys": {
    "equation": "Ctrl-E",
    "itemize": "Ctrl-I"
   },
   "labels_anchors": false,
   "latex_user_defs": false,
   "report_style_numbering": false,
   "user_envs_cfg": false
  },
  "toc": {
   "base_numbering": 1,
   "nav_menu": {},
   "number_sections": true,
   "sideBar": true,
   "skip_h1_title": false,
   "title_cell": "Table of Contents",
   "title_sidebar": "Contents",
   "toc_cell": false,
   "toc_position": {},
   "toc_section_display": true,
   "toc_window_display": false
  },
  "widgets": {
   "application/vnd.jupyter.widget-state+json": {
    "state": {},
    "version_major": 2,
    "version_minor": 0
   }
  }
 },
 "nbformat": 4,
 "nbformat_minor": 5
}
