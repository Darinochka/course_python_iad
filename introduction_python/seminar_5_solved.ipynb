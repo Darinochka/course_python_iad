{
 "cells": [
  {
   "cell_type": "markdown",
   "id": "16fb12f4",
   "metadata": {},
   "source": [
    "# And yet again about functions"
   ]
  },
  {
   "cell_type": "markdown",
   "id": "27a193f7",
   "metadata": {},
   "source": [
    "## Function introspection"
   ]
  },
  {
   "cell_type": "markdown",
   "id": "f7512073",
   "metadata": {},
   "source": [
    "Ранее мы рассматривали простой пример функции, у которой задана док-строка. Эту док-строку мы могли получить с помощью вызова `help` или напрямую через поле `__doc__`.\n",
    "\n",
    "Вспомним:"
   ]
  },
  {
   "cell_type": "code",
   "execution_count": 8,
   "id": "0f57f0a8",
   "metadata": {},
   "outputs": [
    {
     "name": "stdout",
     "output_type": "stream",
     "text": [
      "Hello, world! Denis is greeting you!\n"
     ]
    }
   ],
   "source": [
    "def func(name):  # name and function arguments\n",
    "    '''\n",
    "    Doc string to be shown in help\n",
    "    '''\n",
    "    print(f\"Hello, world! {name} is greeting you!\") # body\n",
    "\n",
    "func('Denis')"
   ]
  },
  {
   "cell_type": "code",
   "execution_count": 9,
   "id": "09675fd5",
   "metadata": {},
   "outputs": [
    {
     "data": {
      "text/plain": [
       "'\\n    Doc string to be shown in help\\n    '"
      ]
     },
     "execution_count": 9,
     "metadata": {},
     "output_type": "execute_result"
    }
   ],
   "source": [
    "func.__doc__"
   ]
  },
  {
   "cell_type": "markdown",
   "id": "0f66659e",
   "metadata": {},
   "source": [
    "Но `__doc__` -- это далеко не единственное \"скрытое\" поле у функции"
   ]
  },
  {
   "cell_type": "code",
   "execution_count": 10,
   "id": "68e9fcf9",
   "metadata": {},
   "outputs": [
    {
     "data": {
      "text/plain": [
       "['__annotations__',\n",
       " '__call__',\n",
       " '__class__',\n",
       " '__closure__',\n",
       " '__code__',\n",
       " '__defaults__',\n",
       " '__delattr__',\n",
       " '__dict__',\n",
       " '__dir__',\n",
       " '__doc__',\n",
       " '__eq__',\n",
       " '__format__',\n",
       " '__ge__',\n",
       " '__get__',\n",
       " '__getattribute__',\n",
       " '__globals__',\n",
       " '__gt__',\n",
       " '__hash__',\n",
       " '__init__',\n",
       " '__init_subclass__',\n",
       " '__kwdefaults__',\n",
       " '__le__',\n",
       " '__lt__',\n",
       " '__module__',\n",
       " '__name__',\n",
       " '__ne__',\n",
       " '__new__',\n",
       " '__qualname__',\n",
       " '__reduce__',\n",
       " '__reduce_ex__',\n",
       " '__repr__',\n",
       " '__setattr__',\n",
       " '__sizeof__',\n",
       " '__str__',\n",
       " '__subclasshook__']"
      ]
     },
     "execution_count": 10,
     "metadata": {},
     "output_type": "execute_result"
    }
   ],
   "source": [
    "dir(func)"
   ]
  },
  {
   "cell_type": "markdown",
   "id": "b103b468",
   "metadata": {},
   "source": [
    "Какие-то из этих атрибутов общие для всех объектов в Питоне (а мы помним, что функция -- это тоже объект, как, например, и лист)"
   ]
  },
  {
   "cell_type": "markdown",
   "id": "5e526b49",
   "metadata": {},
   "source": [
    "Интересно, но у функции, как и других объектов, есть `__dict__`"
   ]
  },
  {
   "cell_type": "code",
   "execution_count": 14,
   "id": "e0d5f429",
   "metadata": {},
   "outputs": [
    {
     "data": {
      "text/plain": [
       "{}"
      ]
     },
     "execution_count": 14,
     "metadata": {},
     "output_type": "execute_result"
    }
   ],
   "source": [
    "func.__dict__"
   ]
  },
  {
   "cell_type": "code",
   "execution_count": 18,
   "id": "5a67d728",
   "metadata": {},
   "outputs": [
    {
     "data": {
      "text/plain": [
       "{'alpha': 0}"
      ]
     },
     "execution_count": 18,
     "metadata": {},
     "output_type": "execute_result"
    }
   ],
   "source": [
    "func.alpha = 0\n",
    "func.__dict__"
   ]
  },
  {
   "cell_type": "code",
   "execution_count": 21,
   "id": "e6d82f00",
   "metadata": {},
   "outputs": [],
   "source": [
    "func.__dict__.clear()"
   ]
  },
  {
   "cell_type": "markdown",
   "id": "ed8ed5c4",
   "metadata": {},
   "source": [
    "На практике редко используют атрибуты для функций. Но вот такой пример есть в Django:"
   ]
  },
  {
   "cell_type": "markdown",
   "id": "fee33191",
   "metadata": {},
   "source": [
    "```python\n",
    "def upper_case_name(obj):\n",
    "    return (\"%s %s\" % (obj.first_name, obj.last_name)).upper()\n",
    "upper_case_name.short_description = 'Customer name'\n",
    "```"
   ]
  },
  {
   "cell_type": "markdown",
   "id": "6c39279e",
   "metadata": {},
   "source": [
    "Но все-таки рассмотрим сначала методы, характерные именно для функций"
   ]
  },
  {
   "cell_type": "code",
   "execution_count": 75,
   "id": "bc2befaf",
   "metadata": {},
   "outputs": [
    {
     "data": {
      "text/plain": [
       "['__annotations__',\n",
       " '__call__',\n",
       " '__closure__',\n",
       " '__code__',\n",
       " '__defaults__',\n",
       " '__get__',\n",
       " '__globals__',\n",
       " '__kwdefaults__',\n",
       " '__name__',\n",
       " '__qualname__']"
      ]
     },
     "execution_count": 75,
     "metadata": {},
     "output_type": "execute_result"
    }
   ],
   "source": [
    "class A: pass\n",
    "ob = A()\n",
    "\n",
    "func_magics = set(dir(func))\n",
    "obj_magics = set(dir(A))\n",
    "\n",
    "sorted(func_magics - obj_magics)"
   ]
  },
  {
   "cell_type": "markdown",
   "id": "6b90fae8",
   "metadata": {},
   "source": [
    "## Function parameters"
   ]
  },
  {
   "cell_type": "code",
   "execution_count": 44,
   "id": "edf7f77e",
   "metadata": {},
   "outputs": [],
   "source": [
    "def create_tag(name, *content, class_name=None, **attrs):\n",
    "    '''\n",
    "    Generate html tag\n",
    "    '''\n",
    "    if class_name is not None:\n",
    "        attrs['class'] = class_name\n",
    "    \n",
    "    attr_str = ''\n",
    "    if attrs:\n",
    "        attr_str = ' ' + ' '.join([f'{name}=\"{value}\"' for name, value in attrs.items()])\n",
    "    \n",
    "    if content:\n",
    "        return '\\n'.join([f'<{name}{attr_str}> {item} </{name}>' for item in content])\n",
    "    else:\n",
    "        return f'<{name}{attr_str} />'"
   ]
  },
  {
   "cell_type": "markdown",
   "id": "32563d91",
   "metadata": {},
   "source": [
    "Давайте еще раз пройдемся по тому, как можно вызвать функцию с параметрами"
   ]
  },
  {
   "cell_type": "markdown",
   "id": "8ff27d91",
   "metadata": {},
   "source": [
    "1. Передаем только `name` как позиционный аргумент"
   ]
  },
  {
   "cell_type": "code",
   "execution_count": 45,
   "id": "1b1ef427",
   "metadata": {},
   "outputs": [
    {
     "data": {
      "text/plain": [
       "'<p />'"
      ]
     },
     "execution_count": 45,
     "metadata": {},
     "output_type": "execute_result"
    }
   ],
   "source": [
    "create_tag('p')"
   ]
  },
  {
   "cell_type": "markdown",
   "id": "7d9eb0d1",
   "metadata": {},
   "source": [
    "2. Передаем `name` как первый позиционный, остальные позиция подхватываются через `*content`"
   ]
  },
  {
   "cell_type": "code",
   "execution_count": 58,
   "id": "3184a31e",
   "metadata": {},
   "outputs": [
    {
     "data": {
      "text/plain": [
       "'<p> hello </p>'"
      ]
     },
     "execution_count": 58,
     "metadata": {},
     "output_type": "execute_result"
    }
   ],
   "source": [
    "create_tag('p', 'hello')"
   ]
  },
  {
   "cell_type": "code",
   "execution_count": 50,
   "id": "98600ab2",
   "metadata": {},
   "outputs": [
    {
     "name": "stdout",
     "output_type": "stream",
     "text": [
      "<p> hello </p>\n",
      "<p> world </p>\n"
     ]
    }
   ],
   "source": [
    "print(create_tag('p', 'hello', 'world'))"
   ]
  },
  {
   "cell_type": "markdown",
   "id": "3a7581ca",
   "metadata": {},
   "source": [
    "3. После `name` и `*content` ожидаются keyword arguments. Один указан явно, другие подхватятся через `**attrs`"
   ]
  },
  {
   "cell_type": "code",
   "execution_count": 59,
   "id": "8a68e983",
   "metadata": {},
   "outputs": [
    {
     "name": "stdout",
     "output_type": "stream",
     "text": [
      "<p id=\"42\"> hello </p>\n",
      "<p id=\"42\"> world </p>\n"
     ]
    }
   ],
   "source": [
    "print(create_tag('p', 'hello', 'world', id=42))"
   ]
  },
  {
   "cell_type": "code",
   "execution_count": 60,
   "id": "88ff4b70",
   "metadata": {},
   "outputs": [
    {
     "name": "stdout",
     "output_type": "stream",
     "text": [
      "<p id=\"42\" class=\"hw\"> hello </p>\n",
      "<p id=\"42\" class=\"hw\"> world </p>\n"
     ]
    }
   ],
   "source": [
    "print(create_tag('p', 'hello', 'world', class_name='hw', id=42))"
   ]
  },
  {
   "cell_type": "code",
   "execution_count": 64,
   "id": "73f46606",
   "metadata": {},
   "outputs": [
    {
     "name": "stdout",
     "output_type": "stream",
     "text": [
      "<foo id=\"42\" creator=\"me\"> hello </foo>\n",
      "<foo id=\"42\" creator=\"me\"> world </foo>\n"
     ]
    }
   ],
   "source": [
    "print(create_tag('foo', 'hello', 'world', **{'id': 42, 'creator': 'me'}))"
   ]
  },
  {
   "cell_type": "markdown",
   "id": "c603219b",
   "metadata": {},
   "source": [
    "4. Первый позиционный аргумент тоже может быть передан через keyword"
   ]
  },
  {
   "cell_type": "code",
   "execution_count": 63,
   "id": "8fbcaecc",
   "metadata": {},
   "outputs": [
    {
     "name": "stdout",
     "output_type": "stream",
     "text": [
      "<bar content=\"test\" />\n"
     ]
    }
   ],
   "source": [
    "print(create_tag(content='test', name='bar'))"
   ]
  },
  {
   "cell_type": "markdown",
   "id": "4baa0262",
   "metadata": {},
   "source": [
    "5. Мы можем задать весь тег как словарь"
   ]
  },
  {
   "cell_type": "code",
   "execution_count": 65,
   "id": "fedc86a4",
   "metadata": {},
   "outputs": [],
   "source": [
    "predefined_tag = {\n",
    "    'name' : 'p',\n",
    "    'title': 'Hello, World!',\n",
    "    'src': 'Sun',\n",
    "    'class_name': 'hw'\n",
    "}"
   ]
  },
  {
   "cell_type": "code",
   "execution_count": 66,
   "id": "b6bb7e4b",
   "metadata": {},
   "outputs": [
    {
     "name": "stdout",
     "output_type": "stream",
     "text": [
      "<p title=\"Hello, World!\" src=\"Sun\" class=\"hw\" />\n"
     ]
    }
   ],
   "source": [
    "print(create_tag(**predefined_tag))"
   ]
  },
  {
   "cell_type": "code",
   "execution_count": 67,
   "id": "ad1e595e",
   "metadata": {},
   "outputs": [],
   "source": [
    "predefined_tag = {\n",
    "    'name' : 'p',\n",
    "    'content': ['this', 'is', 'good'],\n",
    "    'title': 'Hello, World!',\n",
    "    'src': 'Sun',\n",
    "    'class_name': 'hw'\n",
    "}"
   ]
  },
  {
   "cell_type": "code",
   "execution_count": 68,
   "id": "604fcd85",
   "metadata": {},
   "outputs": [
    {
     "name": "stdout",
     "output_type": "stream",
     "text": [
      "<p content=\"['this', 'is', 'good']\" title=\"Hello, World!\" src=\"Sun\" class=\"hw\" />\n"
     ]
    }
   ],
   "source": [
    "print(create_tag(**predefined_tag))"
   ]
  },
  {
   "cell_type": "markdown",
   "id": "e15271a0",
   "metadata": {},
   "source": [
    "## Functions magics"
   ]
  },
  {
   "cell_type": "markdown",
   "id": "c0fc1a48",
   "metadata": {},
   "source": [
    "### Function args"
   ]
  },
  {
   "cell_type": "code",
   "execution_count": 82,
   "id": "6bd80637",
   "metadata": {},
   "outputs": [],
   "source": [
    "def test_str(s, max_len=10, name='test'):\n",
    "    some_var = 0\n",
    "    other_var = '10'\n",
    "    return s[:max_len]"
   ]
  },
  {
   "cell_type": "code",
   "execution_count": 84,
   "id": "bb50e881",
   "metadata": {},
   "outputs": [
    {
     "data": {
      "text/plain": [
       "(10, 'test')"
      ]
     },
     "execution_count": 84,
     "metadata": {},
     "output_type": "execute_result"
    }
   ],
   "source": [
    "test_str.__defaults__"
   ]
  },
  {
   "cell_type": "code",
   "execution_count": 86,
   "id": "4cb434c5",
   "metadata": {},
   "outputs": [
    {
     "data": {
      "text/plain": [
       "<code object test_str at 0x7f6c733d5ed0, file \"/tmp/ipykernel_722055/2346920870.py\", line 1>"
      ]
     },
     "execution_count": 86,
     "metadata": {},
     "output_type": "execute_result"
    }
   ],
   "source": [
    "test_str.__code__"
   ]
  },
  {
   "cell_type": "code",
   "execution_count": 87,
   "id": "2eeb3a1a",
   "metadata": {},
   "outputs": [
    {
     "data": {
      "text/plain": [
       "('s', 'max_len', 'name', 'some_var', 'other_var')"
      ]
     },
     "execution_count": 87,
     "metadata": {},
     "output_type": "execute_result"
    }
   ],
   "source": [
    "test_str.__code__.co_varnames"
   ]
  },
  {
   "cell_type": "code",
   "execution_count": 88,
   "id": "af351f18",
   "metadata": {},
   "outputs": [
    {
     "data": {
      "text/plain": [
       "3"
      ]
     },
     "execution_count": 88,
     "metadata": {},
     "output_type": "execute_result"
    }
   ],
   "source": [
    "test_str.__code__.co_argcount"
   ]
  },
  {
   "cell_type": "markdown",
   "id": "0f6c697b",
   "metadata": {},
   "source": [
    "### Annotations"
   ]
  },
  {
   "cell_type": "markdown",
   "id": "a14fa21c",
   "metadata": {},
   "source": [
    "В Python можно назначить метаданные для аргументов и выходного значения функции "
   ]
  },
  {
   "cell_type": "code",
   "execution_count": 89,
   "id": "f20b6cee",
   "metadata": {},
   "outputs": [],
   "source": [
    "def test_str(s: str, max_len: int = 10, name: str = 'test') -> int:\n",
    "    some_var = 0\n",
    "    other_var = '10'\n",
    "    return s[:max_len]"
   ]
  },
  {
   "cell_type": "markdown",
   "id": "fbe98be4",
   "metadata": {},
   "source": [
    "Аннотации могут быть любым выражением. Они игнорируются во время выполнения программы. Доступ можно получить через поле `__annotations__`"
   ]
  },
  {
   "cell_type": "code",
   "execution_count": 90,
   "id": "bc703b26",
   "metadata": {},
   "outputs": [
    {
     "data": {
      "text/plain": [
       "{'s': str, 'max_len': int, 'name': str, 'return': int}"
      ]
     },
     "execution_count": 90,
     "metadata": {},
     "output_type": "execute_result"
    }
   ],
   "source": [
    "test_str.__annotations__"
   ]
  },
  {
   "cell_type": "markdown",
   "id": "c9d9ff28",
   "metadata": {},
   "source": [
    "Эту информацию могут использовать декораторы, ide или библиотеки (например, для проверки синтаксиса)"
   ]
  },
  {
   "cell_type": "code",
   "execution_count": 91,
   "id": "9eee2347",
   "metadata": {},
   "outputs": [],
   "source": [
    "from inspect import signature"
   ]
  },
  {
   "cell_type": "code",
   "execution_count": 92,
   "id": "f5f6044d",
   "metadata": {},
   "outputs": [],
   "source": [
    "sig = signature(test_str)"
   ]
  },
  {
   "cell_type": "code",
   "execution_count": 93,
   "id": "534ccf30",
   "metadata": {},
   "outputs": [
    {
     "data": {
      "text/plain": [
       "int"
      ]
     },
     "execution_count": 93,
     "metadata": {},
     "output_type": "execute_result"
    }
   ],
   "source": [
    "sig.return_annotation"
   ]
  },
  {
   "cell_type": "code",
   "execution_count": 95,
   "id": "ffc2ddd5",
   "metadata": {},
   "outputs": [
    {
     "data": {
      "text/plain": [
       "odict_values([<Parameter \"s: str\">, <Parameter \"max_len: int = 10\">, <Parameter \"name: str = 'test'\">])"
      ]
     },
     "execution_count": 95,
     "metadata": {},
     "output_type": "execute_result"
    }
   ],
   "source": [
    "sig.parameters.values()"
   ]
  },
  {
   "cell_type": "markdown",
   "id": "17b07531",
   "metadata": {},
   "source": [
    "## Elements of functional programming"
   ]
  },
  {
   "cell_type": "markdown",
   "id": "a6b706c0",
   "metadata": {},
   "source": [
    "Немного об этом от самого [Гвидо](http://python-history.blogspot.com/2009/04/origins-of-pythons-functional-features.html)"
   ]
  },
  {
   "cell_type": "code",
   "execution_count": 116,
   "id": "2784f144",
   "metadata": {},
   "outputs": [],
   "source": [
    "from operator import itemgetter, attrgetter, methodcaller"
   ]
  },
  {
   "cell_type": "markdown",
   "id": "088af5b0",
   "metadata": {},
   "source": [
    "**itemgetter**"
   ]
  },
  {
   "cell_type": "code",
   "execution_count": 103,
   "id": "e756024c",
   "metadata": {},
   "outputs": [],
   "source": [
    "some_data = [\n",
    "    ('A', 'JP', 36.933, (1, 139.691667)),\n",
    "    ('B', 'IN', 21.935, (28.613889, 77.208889)),\n",
    "    ('C', 'MX', 20.142, (19.433333, -99.133333)),\n",
    "    ('A', 'US', 20.104, (-1, -74.020386)),\n",
    "    ('B', 'BR', 19.649, (-23.547778, -46.635833)),\n",
    "]"
   ]
  },
  {
   "cell_type": "code",
   "execution_count": 104,
   "id": "3f96973f",
   "metadata": {},
   "outputs": [
    {
     "name": "stdout",
     "output_type": "stream",
     "text": [
      "('A', 'JP', 36.933, (1, 139.691667))\n",
      "('A', 'US', 20.104, (-1, -74.020386))\n",
      "('B', 'IN', 21.935, (28.613889, 77.208889))\n",
      "('B', 'BR', 19.649, (-23.547778, -46.635833))\n",
      "('C', 'MX', 20.142, (19.433333, -99.133333))\n"
     ]
    }
   ],
   "source": [
    "for city in sorted(some_data, key=itemgetter(0)):\n",
    "    print(city)"
   ]
  },
  {
   "cell_type": "code",
   "execution_count": 105,
   "id": "67252adb",
   "metadata": {},
   "outputs": [
    {
     "name": "stdout",
     "output_type": "stream",
     "text": [
      "('A', 'US', 20.104, (-1, -74.020386))\n",
      "('A', 'JP', 36.933, (1, 139.691667))\n",
      "('B', 'BR', 19.649, (-23.547778, -46.635833))\n",
      "('B', 'IN', 21.935, (28.613889, 77.208889))\n",
      "('C', 'MX', 20.142, (19.433333, -99.133333))\n"
     ]
    }
   ],
   "source": [
    "for city in sorted(some_data, key=itemgetter(0, 3)):\n",
    "    print(city)"
   ]
  },
  {
   "cell_type": "markdown",
   "id": "045d40b1",
   "metadata": {},
   "source": [
    "Получили сортировку по нескольким параметрам. Также можно написать и с помощью лямбды"
   ]
  },
  {
   "cell_type": "code",
   "execution_count": 107,
   "id": "87cc9047",
   "metadata": {},
   "outputs": [
    {
     "name": "stdout",
     "output_type": "stream",
     "text": [
      "('A', 'JP')\n",
      "('B', 'IN')\n",
      "('C', 'MX')\n",
      "('A', 'US')\n",
      "('B', 'BR')\n"
     ]
    }
   ],
   "source": [
    "name = itemgetter(0, 1)  # uses __getitem__\n",
    "\n",
    "for city in some_data:\n",
    "    print(name(city))"
   ]
  },
  {
   "cell_type": "markdown",
   "id": "58a20936",
   "metadata": {},
   "source": [
    "**attrgetter**"
   ]
  },
  {
   "cell_type": "code",
   "execution_count": 109,
   "id": "8e199d2a",
   "metadata": {},
   "outputs": [],
   "source": [
    "from collections import namedtuple"
   ]
  },
  {
   "cell_type": "code",
   "execution_count": 111,
   "id": "c95a56a6",
   "metadata": {},
   "outputs": [],
   "source": [
    "Subject = namedtuple('Subject', 'name difficulty')"
   ]
  },
  {
   "cell_type": "code",
   "execution_count": 112,
   "id": "220494df",
   "metadata": {},
   "outputs": [
    {
     "data": {
      "text/plain": [
       "Subject(name='Python', difficulty=1)"
      ]
     },
     "execution_count": 112,
     "metadata": {},
     "output_type": "execute_result"
    }
   ],
   "source": [
    "python_course = Subject('Python', 1)\n",
    "python_course"
   ]
  },
  {
   "cell_type": "code",
   "execution_count": 114,
   "id": "6488845c",
   "metadata": {},
   "outputs": [],
   "source": [
    "sub_name = attrgetter('name')"
   ]
  },
  {
   "cell_type": "code",
   "execution_count": 115,
   "id": "bb47299d",
   "metadata": {},
   "outputs": [
    {
     "data": {
      "text/plain": [
       "'Python'"
      ]
     },
     "execution_count": 115,
     "metadata": {},
     "output_type": "execute_result"
    }
   ],
   "source": [
    "sub_name(python_course)"
   ]
  },
  {
   "cell_type": "markdown",
   "id": "7fc9b600",
   "metadata": {},
   "source": [
    "**methodcaller**"
   ]
  },
  {
   "cell_type": "code",
   "execution_count": 117,
   "id": "e09f9f1d",
   "metadata": {},
   "outputs": [],
   "source": [
    "sample_str = 'This is really functional'"
   ]
  },
  {
   "cell_type": "code",
   "execution_count": 118,
   "id": "d02310aa",
   "metadata": {},
   "outputs": [
    {
     "data": {
      "text/plain": [
       "'THIS IS REALLY FUNCTIONAL'"
      ]
     },
     "execution_count": 118,
     "metadata": {},
     "output_type": "execute_result"
    }
   ],
   "source": [
    "upcase = methodcaller('upper')\n",
    "upcase(sample_str)"
   ]
  },
  {
   "cell_type": "code",
   "execution_count": 120,
   "id": "a24b6eec",
   "metadata": {},
   "outputs": [
    {
     "data": {
      "text/plain": [
       "'This!is!really!functional'"
      ]
     },
     "execution_count": 120,
     "metadata": {},
     "output_type": "execute_result"
    }
   ],
   "source": [
    "repl = methodcaller('replace', ' ', '!')\n",
    "repl(sample_str)"
   ]
  },
  {
   "cell_type": "markdown",
   "id": "87d7c92c",
   "metadata": {},
   "source": [
    "И еще много подобных методов"
   ]
  },
  {
   "cell_type": "markdown",
   "id": "3893b8e0",
   "metadata": {},
   "source": [
    "**Functools.partial**"
   ]
  },
  {
   "cell_type": "markdown",
   "id": "1d4bda1d",
   "metadata": {},
   "source": [
    "Иногда бывает, что в конкретной ситуации вы хотите вызывать функцию с фиксированным конкретным параметром, у которого нет дефолтного значения"
   ]
  },
  {
   "cell_type": "code",
   "execution_count": 123,
   "id": "f8f76580",
   "metadata": {},
   "outputs": [],
   "source": [
    "from operator import mul\n",
    "from functools import partial"
   ]
  },
  {
   "cell_type": "code",
   "execution_count": 126,
   "id": "40772884",
   "metadata": {},
   "outputs": [
    {
     "data": {
      "text/plain": [
       "12"
      ]
     },
     "execution_count": 126,
     "metadata": {},
     "output_type": "execute_result"
    }
   ],
   "source": [
    "mul(4, 3)"
   ]
  },
  {
   "cell_type": "code",
   "execution_count": 127,
   "id": "3ad162b9",
   "metadata": {},
   "outputs": [],
   "source": [
    "quadriple = partial(mul, 4)"
   ]
  },
  {
   "cell_type": "code",
   "execution_count": 128,
   "id": "f982d92a",
   "metadata": {},
   "outputs": [
    {
     "data": {
      "text/plain": [
       "12"
      ]
     },
     "execution_count": 128,
     "metadata": {},
     "output_type": "execute_result"
    }
   ],
   "source": [
    "quadriple(3)"
   ]
  },
  {
   "cell_type": "code",
   "execution_count": 130,
   "id": "3e775c9f",
   "metadata": {},
   "outputs": [
    {
     "data": {
      "text/plain": [
       "[0, 4, 8, 12, 16, 20, 24, 28, 32, 36]"
      ]
     },
     "execution_count": 130,
     "metadata": {},
     "output_type": "execute_result"
    }
   ],
   "source": [
    "list(map(quadriple, range(10)))"
   ]
  },
  {
   "cell_type": "markdown",
   "id": "1d28987c",
   "metadata": {},
   "source": [
    "Мы не могли бы использовать `mul` в `map` без такой модификации"
   ]
  },
  {
   "cell_type": "markdown",
   "id": "639f6ab6",
   "metadata": {},
   "source": [
    "Callable objects with class example"
   ]
  },
  {
   "cell_type": "markdown",
   "id": "712664b3",
   "metadata": {},
   "source": [
    "## Decorators"
   ]
  },
  {
   "cell_type": "markdown",
   "id": "ecab5e1c",
   "metadata": {},
   "source": [
    "На прошлом семинаре мы уже затрагивали декораторы. Давайте рассмотрим их поглубже.\n",
    "\n",
    "Декоратор -- это callable, который принимает на вход функцию в качестве аргумента (\"декорирует\" ее)"
   ]
  },
  {
   "cell_type": "markdown",
   "id": "dfdccdea",
   "metadata": {},
   "source": [
    "### Recap"
   ]
  },
  {
   "cell_type": "markdown",
   "id": "64622b09",
   "metadata": {},
   "source": [
    "Пример, который мы рассматривали:"
   ]
  },
  {
   "cell_type": "code",
   "execution_count": 132,
   "id": "2b8383fc",
   "metadata": {},
   "outputs": [],
   "source": [
    "def my_decorator(func):\n",
    "    def decorated(a, b):  # название можно менять\n",
    "        print(\"doing smth before\")\n",
    "        func(a, b)\n",
    "        print(\"doing smth after\")\n",
    "    return decorated\n",
    "\n",
    "def func(a, b):\n",
    "    print(a + b)\n",
    "\n",
    "@my_decorator\n",
    "def new_func(a, b):\n",
    "    print(a + b)\n",
    "    \n",
    "func = my_decorator(func)"
   ]
  },
  {
   "cell_type": "code",
   "execution_count": 133,
   "id": "c90a4529",
   "metadata": {},
   "outputs": [
    {
     "name": "stdout",
     "output_type": "stream",
     "text": [
      "doing smth before\n",
      "5\n",
      "doing smth after\n"
     ]
    }
   ],
   "source": [
    "func(2, 3)"
   ]
  },
  {
   "cell_type": "code",
   "execution_count": 134,
   "id": "334ef3f3",
   "metadata": {},
   "outputs": [
    {
     "name": "stdout",
     "output_type": "stream",
     "text": [
      "doing smth before\n",
      "5\n",
      "doing smth after\n"
     ]
    }
   ],
   "source": [
    "new_func(2, 3)"
   ]
  },
  {
   "cell_type": "markdown",
   "id": "1e498b66",
   "metadata": {},
   "source": [
    "### Замена исходной функции"
   ]
  },
  {
   "cell_type": "markdown",
   "id": "669b53ef",
   "metadata": {},
   "source": [
    "Функция, возвращаемая декоратором, заменяет декорируемую"
   ]
  },
  {
   "cell_type": "code",
   "execution_count": 136,
   "id": "b059f7ec",
   "metadata": {},
   "outputs": [],
   "source": [
    "def deco(func):\n",
    "    def inner():\n",
    "        print('running inner()')\n",
    "    return inner"
   ]
  },
  {
   "cell_type": "code",
   "execution_count": 139,
   "id": "0cf88fc2",
   "metadata": {},
   "outputs": [],
   "source": [
    "def target():\n",
    "    print('running target()')"
   ]
  },
  {
   "cell_type": "code",
   "execution_count": 140,
   "id": "d22e2ba0",
   "metadata": {},
   "outputs": [],
   "source": [
    "@deco\n",
    "def target():\n",
    "    print('running target()')"
   ]
  },
  {
   "cell_type": "code",
   "execution_count": 141,
   "id": "b7cd210f",
   "metadata": {},
   "outputs": [
    {
     "name": "stdout",
     "output_type": "stream",
     "text": [
      "running inner()\n"
     ]
    }
   ],
   "source": [
    "target()"
   ]
  },
  {
   "cell_type": "code",
   "execution_count": 143,
   "id": "1761e656",
   "metadata": {},
   "outputs": [
    {
     "data": {
      "text/plain": [
       "<function __main__.deco.<locals>.inner()>"
      ]
     },
     "execution_count": 143,
     "metadata": {},
     "output_type": "execute_result"
    }
   ],
   "source": [
    "target  # now reference to inner "
   ]
  },
  {
   "cell_type": "markdown",
   "id": "2573aabc",
   "metadata": {},
   "source": [
    "### Running at import time"
   ]
  },
  {
   "cell_type": "markdown",
   "id": "52272992",
   "metadata": {},
   "source": [
    "Key feature декораторов в том, что они применяются сразу после объявления декорируемой функции во время загрузки модуля в Python "
   ]
  },
  {
   "cell_type": "code",
   "execution_count": 147,
   "id": "3bc71b96",
   "metadata": {},
   "outputs": [
    {
     "name": "stdout",
     "output_type": "stream",
     "text": [
      "running register <function f1 at 0x7f6c72626f80>\n",
      "running register <function f2 at 0x7f6c72626ef0>\n"
     ]
    }
   ],
   "source": [
    "registry = []\n",
    "\n",
    "def register(func):\n",
    "    print(f'running register {func}')\n",
    "    registry.append(func)\n",
    "    return func\n",
    "\n",
    "@register\n",
    "def f1():\n",
    "    print('running f1()')\n",
    "    \n",
    "@register\n",
    "def f2():\n",
    "    print('running f2()')\n",
    "\n",
    "def f3():\n",
    "    print('running f3()')\n",
    "    \n",
    "def run():\n",
    "    print('running run()')\n",
    "    print('registry', registry)\n",
    "    f1()\n",
    "    f2()\n",
    "    f3()"
   ]
  },
  {
   "cell_type": "code",
   "execution_count": 148,
   "id": "92a1c39a",
   "metadata": {},
   "outputs": [
    {
     "name": "stdout",
     "output_type": "stream",
     "text": [
      "running run()\n",
      "registry [<function f1 at 0x7f6c72626f80>, <function f2 at 0x7f6c72626ef0>]\n",
      "running f1()\n",
      "running f2()\n",
      "running f3()\n"
     ]
    }
   ],
   "source": [
    "run()"
   ]
  },
  {
   "cell_type": "markdown",
   "id": "decf8655",
   "metadata": {},
   "source": [
    "Поинт в том, что декораторы применяются при импорте модуля, но сами декорируемые функции отрабатывают только при непосредственном их вызове"
   ]
  },
  {
   "cell_type": "markdown",
   "id": "3d94131e",
   "metadata": {},
   "source": [
    "### Variable scope"
   ]
  },
  {
   "cell_type": "code",
   "execution_count": 160,
   "id": "8494a839",
   "metadata": {},
   "outputs": [],
   "source": [
    "from dis import dis"
   ]
  },
  {
   "cell_type": "code",
   "execution_count": 164,
   "id": "0721073b",
   "metadata": {},
   "outputs": [
    {
     "name": "stdout",
     "output_type": "stream",
     "text": [
      "42\n"
     ]
    },
    {
     "ename": "NameError",
     "evalue": "name 'b' is not defined",
     "output_type": "error",
     "traceback": [
      "\u001b[0;31m---------------------------------------------------------------------------\u001b[0m",
      "\u001b[0;31mNameError\u001b[0m                                 Traceback (most recent call last)",
      "\u001b[0;32m/tmp/ipykernel_722055/1668415455.py\u001b[0m in \u001b[0;36m<module>\u001b[0;34m\u001b[0m\n\u001b[1;32m      3\u001b[0m     \u001b[0mprint\u001b[0m\u001b[0;34m(\u001b[0m\u001b[0mb\u001b[0m\u001b[0;34m)\u001b[0m\u001b[0;34m\u001b[0m\u001b[0;34m\u001b[0m\u001b[0m\n\u001b[1;32m      4\u001b[0m \u001b[0;34m\u001b[0m\u001b[0m\n\u001b[0;32m----> 5\u001b[0;31m \u001b[0mfunc_1\u001b[0m\u001b[0;34m(\u001b[0m\u001b[0;36m42\u001b[0m\u001b[0;34m)\u001b[0m\u001b[0;34m\u001b[0m\u001b[0;34m\u001b[0m\u001b[0m\n\u001b[0m",
      "\u001b[0;32m/tmp/ipykernel_722055/1668415455.py\u001b[0m in \u001b[0;36mfunc_1\u001b[0;34m(a)\u001b[0m\n\u001b[1;32m      1\u001b[0m \u001b[0;32mdef\u001b[0m \u001b[0mfunc_1\u001b[0m\u001b[0;34m(\u001b[0m\u001b[0ma\u001b[0m\u001b[0;34m)\u001b[0m\u001b[0;34m:\u001b[0m\u001b[0;34m\u001b[0m\u001b[0;34m\u001b[0m\u001b[0m\n\u001b[1;32m      2\u001b[0m     \u001b[0mprint\u001b[0m\u001b[0;34m(\u001b[0m\u001b[0ma\u001b[0m\u001b[0;34m)\u001b[0m\u001b[0;34m\u001b[0m\u001b[0;34m\u001b[0m\u001b[0m\n\u001b[0;32m----> 3\u001b[0;31m     \u001b[0mprint\u001b[0m\u001b[0;34m(\u001b[0m\u001b[0mb\u001b[0m\u001b[0;34m)\u001b[0m\u001b[0;34m\u001b[0m\u001b[0;34m\u001b[0m\u001b[0m\n\u001b[0m\u001b[1;32m      4\u001b[0m \u001b[0;34m\u001b[0m\u001b[0m\n\u001b[1;32m      5\u001b[0m \u001b[0mfunc_1\u001b[0m\u001b[0;34m(\u001b[0m\u001b[0;36m42\u001b[0m\u001b[0;34m)\u001b[0m\u001b[0;34m\u001b[0m\u001b[0;34m\u001b[0m\u001b[0m\n",
      "\u001b[0;31mNameError\u001b[0m: name 'b' is not defined"
     ]
    }
   ],
   "source": [
    "def func_1(a):\n",
    "    print(a)\n",
    "    print(b)\n",
    "    \n",
    "func_1(42)"
   ]
  },
  {
   "cell_type": "code",
   "execution_count": 165,
   "id": "6f258820",
   "metadata": {},
   "outputs": [
    {
     "name": "stdout",
     "output_type": "stream",
     "text": [
      "  2           0 LOAD_GLOBAL              0 (print)\n",
      "              2 LOAD_FAST                0 (a)\n",
      "              4 CALL_FUNCTION            1\n",
      "              6 POP_TOP\n",
      "\n",
      "  3           8 LOAD_GLOBAL              0 (print)\n",
      "             10 LOAD_GLOBAL              1 (b)\n",
      "             12 CALL_FUNCTION            1\n",
      "             14 POP_TOP\n",
      "             16 LOAD_CONST               0 (None)\n",
      "             18 RETURN_VALUE\n"
     ]
    }
   ],
   "source": [
    "dis(func_1)"
   ]
  },
  {
   "cell_type": "markdown",
   "id": "b199f84a",
   "metadata": {},
   "source": [
    "Логичная ошибка"
   ]
  },
  {
   "cell_type": "code",
   "execution_count": 168,
   "id": "057fd931",
   "metadata": {},
   "outputs": [
    {
     "name": "stdout",
     "output_type": "stream",
     "text": [
      "42\n",
      "1337\n"
     ]
    }
   ],
   "source": [
    "b = 1337\n",
    "\n",
    "func_1(42)"
   ]
  },
  {
   "cell_type": "markdown",
   "id": "688c05bf",
   "metadata": {},
   "source": [
    "А что если?"
   ]
  },
  {
   "cell_type": "code",
   "execution_count": 169,
   "id": "0872028b",
   "metadata": {},
   "outputs": [
    {
     "name": "stdout",
     "output_type": "stream",
     "text": [
      "42\n"
     ]
    },
    {
     "ename": "UnboundLocalError",
     "evalue": "local variable 'b' referenced before assignment",
     "output_type": "error",
     "traceback": [
      "\u001b[0;31m---------------------------------------------------------------------------\u001b[0m",
      "\u001b[0;31mUnboundLocalError\u001b[0m                         Traceback (most recent call last)",
      "\u001b[0;32m/tmp/ipykernel_722055/575278949.py\u001b[0m in \u001b[0;36m<module>\u001b[0;34m\u001b[0m\n\u001b[1;32m      5\u001b[0m     \u001b[0mb\u001b[0m \u001b[0;34m=\u001b[0m \u001b[0;36m9\u001b[0m\u001b[0;34m\u001b[0m\u001b[0;34m\u001b[0m\u001b[0m\n\u001b[1;32m      6\u001b[0m \u001b[0;34m\u001b[0m\u001b[0m\n\u001b[0;32m----> 7\u001b[0;31m \u001b[0mfunc_2\u001b[0m\u001b[0;34m(\u001b[0m\u001b[0;36m42\u001b[0m\u001b[0;34m)\u001b[0m\u001b[0;34m\u001b[0m\u001b[0;34m\u001b[0m\u001b[0m\n\u001b[0m",
      "\u001b[0;32m/tmp/ipykernel_722055/575278949.py\u001b[0m in \u001b[0;36mfunc_2\u001b[0;34m(a)\u001b[0m\n\u001b[1;32m      2\u001b[0m \u001b[0;32mdef\u001b[0m \u001b[0mfunc_2\u001b[0m\u001b[0;34m(\u001b[0m\u001b[0ma\u001b[0m\u001b[0;34m)\u001b[0m\u001b[0;34m:\u001b[0m\u001b[0;34m\u001b[0m\u001b[0;34m\u001b[0m\u001b[0m\n\u001b[1;32m      3\u001b[0m     \u001b[0mprint\u001b[0m\u001b[0;34m(\u001b[0m\u001b[0ma\u001b[0m\u001b[0;34m)\u001b[0m\u001b[0;34m\u001b[0m\u001b[0;34m\u001b[0m\u001b[0m\n\u001b[0;32m----> 4\u001b[0;31m     \u001b[0mprint\u001b[0m\u001b[0;34m(\u001b[0m\u001b[0mb\u001b[0m\u001b[0;34m)\u001b[0m\u001b[0;34m\u001b[0m\u001b[0;34m\u001b[0m\u001b[0m\n\u001b[0m\u001b[1;32m      5\u001b[0m     \u001b[0mb\u001b[0m \u001b[0;34m=\u001b[0m \u001b[0;36m9\u001b[0m\u001b[0;34m\u001b[0m\u001b[0;34m\u001b[0m\u001b[0m\n\u001b[1;32m      6\u001b[0m \u001b[0;34m\u001b[0m\u001b[0m\n",
      "\u001b[0;31mUnboundLocalError\u001b[0m: local variable 'b' referenced before assignment"
     ]
    }
   ],
   "source": [
    "b = 6\n",
    "def func_2(a):\n",
    "    print(a)\n",
    "    print(b)\n",
    "    b = 9\n",
    "    \n",
    "func_2(42)"
   ]
  },
  {
   "cell_type": "markdown",
   "id": "bfc43d54",
   "metadata": {},
   "source": [
    "Посмотрим в [dis](https://docs.python.org/3/library/dis.html)"
   ]
  },
  {
   "cell_type": "code",
   "execution_count": 172,
   "id": "a95a7c25",
   "metadata": {},
   "outputs": [
    {
     "name": "stdout",
     "output_type": "stream",
     "text": [
      "  2           0 LOAD_GLOBAL              0 (print)\n",
      "              2 LOAD_FAST                0 (a)\n",
      "              4 CALL_FUNCTION            1\n",
      "              6 POP_TOP\n",
      "\n",
      "  3           8 LOAD_GLOBAL              0 (print)\n",
      "             10 LOAD_GLOBAL              1 (b)\n",
      "             12 CALL_FUNCTION            1\n",
      "             14 POP_TOP\n",
      "             16 LOAD_CONST               0 (None)\n",
      "             18 RETURN_VALUE\n"
     ]
    }
   ],
   "source": [
    "dis(func_1)"
   ]
  },
  {
   "cell_type": "code",
   "execution_count": 170,
   "id": "efdf7282",
   "metadata": {},
   "outputs": [
    {
     "name": "stdout",
     "output_type": "stream",
     "text": [
      "  3           0 LOAD_GLOBAL              0 (print)\n",
      "              2 LOAD_FAST                0 (a)\n",
      "              4 CALL_FUNCTION            1\n",
      "              6 POP_TOP\n",
      "\n",
      "  4           8 LOAD_GLOBAL              0 (print)\n",
      "             10 LOAD_FAST                1 (b)\n",
      "             12 CALL_FUNCTION            1\n",
      "             14 POP_TOP\n",
      "\n",
      "  5          16 LOAD_CONST               1 (9)\n",
      "             18 STORE_FAST               1 (b)\n",
      "             20 LOAD_CONST               0 (None)\n",
      "             22 RETURN_VALUE\n"
     ]
    }
   ],
   "source": [
    "dis(func_2)"
   ]
  },
  {
   "cell_type": "markdown",
   "id": "c05d44bf",
   "metadata": {},
   "source": [
    "Заметим, что 42 у нас напечаталось! Почему не напечаталось b?"
   ]
  },
  {
   "cell_type": "markdown",
   "id": "ba18299f",
   "metadata": {},
   "source": [
    "Потому что в Python предполагается, что локальные переменные объявлены внутри функции. И поскольку объявление b внутри функции есть, мы получаем ошибку."
   ]
  },
  {
   "cell_type": "markdown",
   "id": "04aad613",
   "metadata": {},
   "source": [
    "Как можно поправить?"
   ]
  },
  {
   "cell_type": "code",
   "execution_count": 157,
   "id": "b7f2fd0d",
   "metadata": {},
   "outputs": [
    {
     "name": "stdout",
     "output_type": "stream",
     "text": [
      "42\n",
      "6\n"
     ]
    }
   ],
   "source": [
    "b = 6\n",
    "def func_fixed(a):\n",
    "    global b\n",
    "    print(a)\n",
    "    print(b)\n",
    "    b = 9\n",
    "    \n",
    "func_fixed(42)"
   ]
  },
  {
   "cell_type": "markdown",
   "id": "dc0bcdc1",
   "metadata": {},
   "source": [
    "Но be careful!"
   ]
  },
  {
   "cell_type": "code",
   "execution_count": 154,
   "id": "32f3be58",
   "metadata": {},
   "outputs": [
    {
     "data": {
      "text/plain": [
       "9"
      ]
     },
     "execution_count": 154,
     "metadata": {},
     "output_type": "execute_result"
    }
   ],
   "source": [
    "b"
   ]
  },
  {
   "cell_type": "markdown",
   "id": "eeaba887",
   "metadata": {},
   "source": [
    "### Closures"
   ]
  },
  {
   "cell_type": "markdown",
   "id": "4aa1b713",
   "metadata": {},
   "source": [
    "Замыкания -- это функции, которые при своей работе используют переменные, не объявленные внутри самой функции и при этом не являющиеся глобальными. "
   ]
  },
  {
   "cell_type": "markdown",
   "id": "f9dc15bd",
   "metadata": {},
   "source": [
    "Сложно"
   ]
  },
  {
   "cell_type": "markdown",
   "id": "3b95cca4",
   "metadata": {},
   "source": [
    "### naive example"
   ]
  },
  {
   "cell_type": "markdown",
   "id": "de3db163",
   "metadata": {},
   "source": [
    "Разберем на примерах"
   ]
  },
  {
   "cell_type": "markdown",
   "id": "203a8544",
   "metadata": {},
   "source": [
    "Пусть есть функция `average`, которая считает среднее. В эту функцию при этом постоянно подаются новые данные, и она должна считать среднее с учетом предыдущих обработанных значений.\n",
    "\n",
    "```python\n",
    "    average(2)  # 2\n",
    "    average(6)  # (6 + 2) / 2 = 4\n",
    "    average(7)  # (6 + 2 + 8) / 3 = 5\n",
    "```"
   ]
  },
  {
   "cell_type": "code",
   "execution_count": 175,
   "id": "30f49bb9",
   "metadata": {},
   "outputs": [],
   "source": [
    "def make_averager():\n",
    "    history = []\n",
    "    \n",
    "    def averager(new_val):\n",
    "        history.append(new_val)\n",
    "        total = sum(history)\n",
    "        return total / len(history)\n",
    "    \n",
    "    return averager"
   ]
  },
  {
   "cell_type": "code",
   "execution_count": 176,
   "id": "3a05ffc8",
   "metadata": {},
   "outputs": [],
   "source": [
    "average = make_averager()"
   ]
  },
  {
   "cell_type": "code",
   "execution_count": 177,
   "id": "3b093934",
   "metadata": {},
   "outputs": [
    {
     "data": {
      "text/plain": [
       "2.0"
      ]
     },
     "execution_count": 177,
     "metadata": {},
     "output_type": "execute_result"
    }
   ],
   "source": [
    "average(2)"
   ]
  },
  {
   "cell_type": "code",
   "execution_count": 178,
   "id": "9ffba701",
   "metadata": {},
   "outputs": [
    {
     "data": {
      "text/plain": [
       "4.0"
      ]
     },
     "execution_count": 178,
     "metadata": {},
     "output_type": "execute_result"
    }
   ],
   "source": [
    "average(6)"
   ]
  },
  {
   "cell_type": "code",
   "execution_count": 179,
   "id": "2e156d12",
   "metadata": {},
   "outputs": [
    {
     "data": {
      "text/plain": [
       "5.0"
      ]
     },
     "execution_count": 179,
     "metadata": {},
     "output_type": "execute_result"
    }
   ],
   "source": [
    "average(7)"
   ]
  },
  {
   "cell_type": "code",
   "execution_count": 180,
   "id": "48c1c734",
   "metadata": {},
   "outputs": [
    {
     "data": {
      "text/plain": [
       "('new_val', 'total')"
      ]
     },
     "execution_count": 180,
     "metadata": {},
     "output_type": "execute_result"
    }
   ],
   "source": [
    "average.__code__.co_varnames"
   ]
  },
  {
   "cell_type": "markdown",
   "id": "73b72811",
   "metadata": {},
   "source": [
    "Переменная `history` в данном контексте называется свободной"
   ]
  },
  {
   "cell_type": "code",
   "execution_count": 181,
   "id": "52ba7458",
   "metadata": {},
   "outputs": [
    {
     "data": {
      "text/plain": [
       "('history',)"
      ]
     },
     "execution_count": 181,
     "metadata": {},
     "output_type": "execute_result"
    }
   ],
   "source": [
    "average.__code__.co_freevars"
   ]
  },
  {
   "cell_type": "code",
   "execution_count": 182,
   "id": "1e760b6b",
   "metadata": {},
   "outputs": [
    {
     "data": {
      "text/plain": [
       "(<cell at 0x7f6c7282a4d0: list object at 0x7f6c72c60eb0>,)"
      ]
     },
     "execution_count": 182,
     "metadata": {},
     "output_type": "execute_result"
    }
   ],
   "source": [
    "average.__closure__"
   ]
  },
  {
   "cell_type": "code",
   "execution_count": 183,
   "id": "7c45fca3",
   "metadata": {},
   "outputs": [
    {
     "data": {
      "text/plain": [
       "[2, 6, 7]"
      ]
     },
     "execution_count": 183,
     "metadata": {},
     "output_type": "execute_result"
    }
   ],
   "source": [
    "average.__closure__[0].cell_contents"
   ]
  },
  {
   "cell_type": "markdown",
   "id": "f08e39a1",
   "metadata": {},
   "source": [
    "To summarize: a closure is function that retains the bindings of the free variables that\n",
    "exist when the function is defined, so that they can be used later when the function is\n",
    "invoked and the defining scope is no longer available."
   ]
  },
  {
   "cell_type": "markdown",
   "id": "3eb8bcfe",
   "metadata": {},
   "source": [
    "### effective example"
   ]
  },
  {
   "cell_type": "markdown",
   "id": "0765c395",
   "metadata": {},
   "source": [
    "В чем проблема имплементации выше? Как можно ее улучшить?"
   ]
  },
  {
   "cell_type": "code",
   "execution_count": 197,
   "id": "aeb1cbdc",
   "metadata": {},
   "outputs": [],
   "source": [
    "def make_averager():\n",
    "    avg_cnt = 0\n",
    "    running_total = 0\n",
    "    \n",
    "    def averager(new_val):\n",
    "        avg_cnt += 1\n",
    "        running_total += new_val\n",
    "        return running_total / avg_cnt\n",
    "    \n",
    "    return averager"
   ]
  },
  {
   "cell_type": "code",
   "execution_count": 198,
   "id": "5019d720",
   "metadata": {},
   "outputs": [],
   "source": [
    "average = make_averager()"
   ]
  },
  {
   "cell_type": "code",
   "execution_count": 186,
   "id": "d6d6d62e",
   "metadata": {},
   "outputs": [
    {
     "ename": "UnboundLocalError",
     "evalue": "local variable 'avg_cnt' referenced before assignment",
     "output_type": "error",
     "traceback": [
      "\u001b[0;31m---------------------------------------------------------------------------\u001b[0m",
      "\u001b[0;31mUnboundLocalError\u001b[0m                         Traceback (most recent call last)",
      "\u001b[0;32m/tmp/ipykernel_722055/345684708.py\u001b[0m in \u001b[0;36m<module>\u001b[0;34m\u001b[0m\n\u001b[0;32m----> 1\u001b[0;31m \u001b[0maverage\u001b[0m\u001b[0;34m(\u001b[0m\u001b[0;36m2\u001b[0m\u001b[0;34m)\u001b[0m\u001b[0;34m\u001b[0m\u001b[0;34m\u001b[0m\u001b[0m\n\u001b[0m",
      "\u001b[0;32m/tmp/ipykernel_722055/2922967524.py\u001b[0m in \u001b[0;36maverager\u001b[0;34m(new_val)\u001b[0m\n\u001b[1;32m      4\u001b[0m \u001b[0;34m\u001b[0m\u001b[0m\n\u001b[1;32m      5\u001b[0m     \u001b[0;32mdef\u001b[0m \u001b[0maverager\u001b[0m\u001b[0;34m(\u001b[0m\u001b[0mnew_val\u001b[0m\u001b[0;34m)\u001b[0m\u001b[0;34m:\u001b[0m\u001b[0;34m\u001b[0m\u001b[0;34m\u001b[0m\u001b[0m\n\u001b[0;32m----> 6\u001b[0;31m         \u001b[0mavg_cnt\u001b[0m \u001b[0;34m+=\u001b[0m \u001b[0;36m1\u001b[0m\u001b[0;34m\u001b[0m\u001b[0;34m\u001b[0m\u001b[0m\n\u001b[0m\u001b[1;32m      7\u001b[0m         \u001b[0mrunning_total\u001b[0m \u001b[0;34m+=\u001b[0m \u001b[0mnew_val\u001b[0m\u001b[0;34m\u001b[0m\u001b[0;34m\u001b[0m\u001b[0m\n\u001b[1;32m      8\u001b[0m         \u001b[0;32mreturn\u001b[0m \u001b[0mrunning_total\u001b[0m \u001b[0;34m/\u001b[0m \u001b[0mavg_cnt\u001b[0m\u001b[0;34m\u001b[0m\u001b[0;34m\u001b[0m\u001b[0m\n",
      "\u001b[0;31mUnboundLocalError\u001b[0m: local variable 'avg_cnt' referenced before assignment"
     ]
    }
   ],
   "source": [
    "average(2)"
   ]
  },
  {
   "cell_type": "markdown",
   "id": "9812fe09",
   "metadata": {},
   "source": [
    "Пример выше не работает потому что числовые типы у нас неизменяемые. И когда во внутренней функции происходит вызов `+=`, мы формируем новую локальную переменную, которая уже не имеет отношения к исходной."
   ]
  },
  {
   "cell_type": "code",
   "execution_count": 199,
   "id": "91e7fdc8",
   "metadata": {},
   "outputs": [
    {
     "data": {
      "text/plain": [
       "(('new_val', 'avg_cnt', 'running_total'), ())"
      ]
     },
     "execution_count": 199,
     "metadata": {},
     "output_type": "execute_result"
    }
   ],
   "source": [
    "average.__code__.co_varnames, average.__code__.co_freevars"
   ]
  },
  {
   "cell_type": "markdown",
   "id": "23dc31e6",
   "metadata": {},
   "source": [
    "Простой способ это пофиксить -- завернуть во что-то, поддерживающее inplace изменение, например, dict"
   ]
  },
  {
   "cell_type": "code",
   "execution_count": 200,
   "id": "abd416fc",
   "metadata": {},
   "outputs": [],
   "source": [
    "def make_averager_fixed_naive():\n",
    "    stats_dict = {\n",
    "        'avg_cnt': 0,\n",
    "        'running_total': 0\n",
    "    }\n",
    "    \n",
    "    def averager(new_val):\n",
    "        stats_dict['avg_cnt'] += 1\n",
    "        stats_dict['running_total'] += new_val\n",
    "        return stats_dict['running_total'] / stats_dict['avg_cnt']\n",
    "    \n",
    "    return averager"
   ]
  },
  {
   "cell_type": "code",
   "execution_count": 201,
   "id": "949b3fca",
   "metadata": {},
   "outputs": [],
   "source": [
    "average = make_averager_fixed_naive()"
   ]
  },
  {
   "cell_type": "code",
   "execution_count": 189,
   "id": "4fdfd0b0",
   "metadata": {},
   "outputs": [
    {
     "data": {
      "text/plain": [
       "2.0"
      ]
     },
     "execution_count": 189,
     "metadata": {},
     "output_type": "execute_result"
    }
   ],
   "source": [
    "average(2)"
   ]
  },
  {
   "cell_type": "code",
   "execution_count": 190,
   "id": "b9016fc5",
   "metadata": {},
   "outputs": [
    {
     "data": {
      "text/plain": [
       "4.0"
      ]
     },
     "execution_count": 190,
     "metadata": {},
     "output_type": "execute_result"
    }
   ],
   "source": [
    "average(6)"
   ]
  },
  {
   "cell_type": "code",
   "execution_count": 191,
   "id": "8a5df768",
   "metadata": {},
   "outputs": [
    {
     "data": {
      "text/plain": [
       "5.0"
      ]
     },
     "execution_count": 191,
     "metadata": {},
     "output_type": "execute_result"
    }
   ],
   "source": [
    "average(7)"
   ]
  },
  {
   "cell_type": "code",
   "execution_count": 202,
   "id": "b53fde3c",
   "metadata": {},
   "outputs": [
    {
     "data": {
      "text/plain": [
       "(('new_val',), ('stats_dict',))"
      ]
     },
     "execution_count": 202,
     "metadata": {},
     "output_type": "execute_result"
    }
   ],
   "source": [
    "average.__code__.co_varnames, average.__code__.co_freevars"
   ]
  },
  {
   "cell_type": "markdown",
   "id": "2a8562e0",
   "metadata": {},
   "source": [
    "Лучший способ -- использование ключевого слова `nonlocal`, которое говорит, что переданные переменные нужно воспринимать как свободные"
   ]
  },
  {
   "cell_type": "code",
   "execution_count": 203,
   "id": "606be5bb",
   "metadata": {},
   "outputs": [],
   "source": [
    "def make_averager_fixed_best():\n",
    "    avg_cnt = 0\n",
    "    running_total = 0\n",
    "    \n",
    "    def averager(new_val):\n",
    "        nonlocal avg_cnt, running_total\n",
    "        avg_cnt += 1\n",
    "        running_total += new_val\n",
    "        return running_total / avg_cnt\n",
    "    \n",
    "    return averager"
   ]
  },
  {
   "cell_type": "code",
   "execution_count": 204,
   "id": "a1051275",
   "metadata": {},
   "outputs": [],
   "source": [
    "average = make_averager_fixed_best()"
   ]
  },
  {
   "cell_type": "code",
   "execution_count": 205,
   "id": "9a8b6103",
   "metadata": {},
   "outputs": [
    {
     "data": {
      "text/plain": [
       "(('new_val',), ('avg_cnt', 'running_total'))"
      ]
     },
     "execution_count": 205,
     "metadata": {},
     "output_type": "execute_result"
    }
   ],
   "source": [
    "average.__code__.co_varnames, average.__code__.co_freevars"
   ]
  },
  {
   "cell_type": "code",
   "execution_count": 194,
   "id": "cf5736ab",
   "metadata": {},
   "outputs": [
    {
     "data": {
      "text/plain": [
       "2.0"
      ]
     },
     "execution_count": 194,
     "metadata": {},
     "output_type": "execute_result"
    }
   ],
   "source": [
    "average(2)"
   ]
  },
  {
   "cell_type": "code",
   "execution_count": 195,
   "id": "6017ef09",
   "metadata": {},
   "outputs": [
    {
     "data": {
      "text/plain": [
       "4.0"
      ]
     },
     "execution_count": 195,
     "metadata": {},
     "output_type": "execute_result"
    }
   ],
   "source": [
    "average(6)"
   ]
  },
  {
   "cell_type": "code",
   "execution_count": 196,
   "id": "739e4d11",
   "metadata": {},
   "outputs": [
    {
     "data": {
      "text/plain": [
       "5.0"
      ]
     },
     "execution_count": 196,
     "metadata": {},
     "output_type": "execute_result"
    }
   ],
   "source": [
    "average(7)"
   ]
  },
  {
   "cell_type": "markdown",
   "id": "4d04659b",
   "metadata": {},
   "source": [
    "### Implementing decorator"
   ]
  },
  {
   "cell_type": "code",
   "execution_count": 214,
   "id": "f81cc912",
   "metadata": {},
   "outputs": [],
   "source": [
    "import time"
   ]
  },
  {
   "cell_type": "code",
   "execution_count": 233,
   "id": "3a56d171",
   "metadata": {},
   "outputs": [],
   "source": [
    "def clock(func):\n",
    "    def clocked(*args):\n",
    "        t_start = time.time()\n",
    "        res = func(*args)\n",
    "        total_time = time.time() - t_start\n",
    "        print(f'{func.__name__}({args}) -> {res} executed in {total_time:.2f}s')\n",
    "        return res\n",
    "    return clocked"
   ]
  },
  {
   "cell_type": "code",
   "execution_count": 234,
   "id": "9f5de4a4",
   "metadata": {},
   "outputs": [],
   "source": [
    "@clock\n",
    "def slow_fact(n):\n",
    "    time.sleep(1)\n",
    "    if n == 0:\n",
    "        return 1  # условие выхода из рекурсии\n",
    "    return n * slow_fact(n - 1)"
   ]
  },
  {
   "cell_type": "code",
   "execution_count": 235,
   "id": "25b5dbb2",
   "metadata": {},
   "outputs": [
    {
     "name": "stdout",
     "output_type": "stream",
     "text": [
      "slow_fact((0,)) -> 1 executed in 1.00s\n",
      "slow_fact((1,)) -> 1 executed in 2.00s\n",
      "slow_fact((2,)) -> 2 executed in 3.00s\n",
      "slow_fact((3,)) -> 6 executed in 4.01s\n",
      "slow_fact((4,)) -> 24 executed in 5.01s\n",
      "slow_fact((5,)) -> 120 executed in 6.01s\n",
      "slow_fact((6,)) -> 720 executed in 7.01s\n",
      "slow_fact((7,)) -> 5040 executed in 8.01s\n",
      "slow_fact((8,)) -> 40320 executed in 9.01s\n",
      "slow_fact((9,)) -> 362880 executed in 10.01s\n",
      "slow_fact((10,)) -> 3628800 executed in 11.01s\n"
     ]
    },
    {
     "data": {
      "text/plain": [
       "3628800"
      ]
     },
     "execution_count": 235,
     "metadata": {},
     "output_type": "execute_result"
    }
   ],
   "source": [
    "slow_fact(10)"
   ]
  },
  {
   "cell_type": "markdown",
   "id": "877a2f82",
   "metadata": {},
   "source": [
    "**Real world example**"
   ]
  },
  {
   "cell_type": "code",
   "execution_count": 236,
   "id": "2a805ba9",
   "metadata": {},
   "outputs": [],
   "source": [
    "from functools import lru_cache"
   ]
  },
  {
   "cell_type": "code",
   "execution_count": 242,
   "id": "07830437",
   "metadata": {},
   "outputs": [],
   "source": [
    "@clock\n",
    "def fib(n):\n",
    "    time.sleep(1)\n",
    "    if n < 2:\n",
    "        return n\n",
    "    return fib(n - 2) + fib(n - 1)"
   ]
  },
  {
   "cell_type": "code",
   "execution_count": 244,
   "id": "a3e5bdd0",
   "metadata": {},
   "outputs": [
    {
     "name": "stdout",
     "output_type": "stream",
     "text": [
      "fib((0,)) -> 0 executed in 1.00s\n",
      "fib((1,)) -> 1 executed in 1.00s\n",
      "fib((2,)) -> 1 executed in 3.01s\n",
      "fib((1,)) -> 1 executed in 1.00s\n",
      "fib((0,)) -> 0 executed in 1.00s\n",
      "fib((1,)) -> 1 executed in 1.00s\n",
      "fib((2,)) -> 1 executed in 3.00s\n",
      "fib((3,)) -> 2 executed in 5.01s\n",
      "fib((4,)) -> 3 executed in 9.02s\n",
      "fib((1,)) -> 1 executed in 1.00s\n",
      "fib((0,)) -> 0 executed in 1.00s\n",
      "fib((1,)) -> 1 executed in 1.00s\n",
      "fib((2,)) -> 1 executed in 3.00s\n",
      "fib((3,)) -> 2 executed in 5.01s\n",
      "fib((0,)) -> 0 executed in 1.00s\n",
      "fib((1,)) -> 1 executed in 1.00s\n",
      "fib((2,)) -> 1 executed in 3.00s\n",
      "fib((1,)) -> 1 executed in 1.00s\n",
      "fib((0,)) -> 0 executed in 1.00s\n",
      "fib((1,)) -> 1 executed in 1.00s\n",
      "fib((2,)) -> 1 executed in 3.00s\n",
      "fib((3,)) -> 2 executed in 5.01s\n",
      "fib((4,)) -> 3 executed in 9.01s\n",
      "fib((5,)) -> 5 executed in 15.02s\n",
      "fib((6,)) -> 8 executed in 25.04s\n",
      "fib((1,)) -> 1 executed in 1.00s\n",
      "fib((0,)) -> 0 executed in 1.00s\n",
      "fib((1,)) -> 1 executed in 1.00s\n",
      "fib((2,)) -> 1 executed in 3.00s\n",
      "fib((3,)) -> 2 executed in 5.01s\n",
      "fib((0,)) -> 0 executed in 1.00s\n",
      "fib((1,)) -> 1 executed in 1.00s\n",
      "fib((2,)) -> 1 executed in 3.00s\n",
      "fib((1,)) -> 1 executed in 1.00s\n",
      "fib((0,)) -> 0 executed in 1.00s\n",
      "fib((1,)) -> 1 executed in 1.00s\n",
      "fib((2,)) -> 1 executed in 3.00s\n",
      "fib((3,)) -> 2 executed in 5.01s\n",
      "fib((4,)) -> 3 executed in 9.01s\n",
      "fib((5,)) -> 5 executed in 15.02s\n",
      "fib((0,)) -> 0 executed in 1.00s\n",
      "fib((1,)) -> 1 executed in 1.00s\n",
      "fib((2,)) -> 1 executed in 3.00s\n",
      "fib((1,)) -> 1 executed in 1.00s\n",
      "fib((0,)) -> 0 executed in 1.00s\n",
      "fib((1,)) -> 1 executed in 1.00s\n",
      "fib((2,)) -> 1 executed in 3.00s\n",
      "fib((3,)) -> 2 executed in 5.01s\n",
      "fib((4,)) -> 3 executed in 9.01s\n",
      "fib((1,)) -> 1 executed in 1.00s\n",
      "fib((0,)) -> 0 executed in 1.00s\n",
      "fib((1,)) -> 1 executed in 1.00s\n",
      "fib((2,)) -> 1 executed in 3.00s\n",
      "fib((3,)) -> 2 executed in 5.01s\n",
      "fib((0,)) -> 0 executed in 1.00s\n",
      "fib((1,)) -> 1 executed in 1.00s\n",
      "fib((2,)) -> 1 executed in 3.00s\n",
      "fib((1,)) -> 1 executed in 1.00s\n",
      "fib((0,)) -> 0 executed in 1.00s\n",
      "fib((1,)) -> 1 executed in 1.00s\n",
      "fib((2,)) -> 1 executed in 3.00s\n",
      "fib((3,)) -> 2 executed in 5.01s\n",
      "fib((4,)) -> 3 executed in 9.01s\n",
      "fib((5,)) -> 5 executed in 15.02s\n",
      "fib((6,)) -> 8 executed in 25.04s\n",
      "fib((7,)) -> 13 executed in 41.06s\n",
      "fib((8,)) -> 21 executed in 67.10s\n",
      "fib((1,)) -> 1 executed in 1.00s\n",
      "fib((0,)) -> 0 executed in 1.00s\n",
      "fib((1,)) -> 1 executed in 1.00s\n",
      "fib((2,)) -> 1 executed in 3.00s\n",
      "fib((3,)) -> 2 executed in 5.01s\n",
      "fib((0,)) -> 0 executed in 1.00s\n",
      "fib((1,)) -> 1 executed in 1.00s\n",
      "fib((2,)) -> 1 executed in 3.00s\n",
      "fib((1,)) -> 1 executed in 1.00s\n",
      "fib((0,)) -> 0 executed in 1.00s\n",
      "fib((1,)) -> 1 executed in 1.00s\n",
      "fib((2,)) -> 1 executed in 3.00s\n",
      "fib((3,)) -> 2 executed in 5.01s\n",
      "fib((4,)) -> 3 executed in 9.01s\n",
      "fib((5,)) -> 5 executed in 15.02s\n",
      "fib((0,)) -> 0 executed in 1.00s\n",
      "fib((1,)) -> 1 executed in 1.00s\n",
      "fib((2,)) -> 1 executed in 3.00s\n",
      "fib((1,)) -> 1 executed in 1.00s\n",
      "fib((0,)) -> 0 executed in 1.00s\n",
      "fib((1,)) -> 1 executed in 1.00s\n",
      "fib((2,)) -> 1 executed in 3.00s\n",
      "fib((3,)) -> 2 executed in 5.01s\n",
      "fib((4,)) -> 3 executed in 9.01s\n",
      "fib((1,)) -> 1 executed in 1.00s\n",
      "fib((0,)) -> 0 executed in 1.00s\n",
      "fib((1,)) -> 1 executed in 1.00s\n",
      "fib((2,)) -> 1 executed in 3.00s\n",
      "fib((3,)) -> 2 executed in 5.01s\n",
      "fib((0,)) -> 0 executed in 1.00s\n",
      "fib((1,)) -> 1 executed in 1.00s\n",
      "fib((2,)) -> 1 executed in 3.00s\n",
      "fib((1,)) -> 1 executed in 1.00s\n",
      "fib((0,)) -> 0 executed in 1.00s\n",
      "fib((1,)) -> 1 executed in 1.00s\n",
      "fib((2,)) -> 1 executed in 3.00s\n",
      "fib((3,)) -> 2 executed in 5.01s\n",
      "fib((4,)) -> 3 executed in 9.01s\n",
      "fib((5,)) -> 5 executed in 15.02s\n",
      "fib((6,)) -> 8 executed in 25.04s\n",
      "fib((7,)) -> 13 executed in 41.05s\n",
      "fib((0,)) -> 0 executed in 1.00s\n",
      "fib((1,)) -> 1 executed in 1.00s\n",
      "fib((2,)) -> 1 executed in 3.00s\n",
      "fib((1,)) -> 1 executed in 1.00s\n",
      "fib((0,)) -> 0 executed in 1.00s\n",
      "fib((1,)) -> 1 executed in 1.00s\n",
      "fib((2,)) -> 1 executed in 3.00s\n",
      "fib((3,)) -> 2 executed in 5.01s\n",
      "fib((4,)) -> 3 executed in 9.01s\n",
      "fib((1,)) -> 1 executed in 1.00s\n",
      "fib((0,)) -> 0 executed in 1.00s\n",
      "fib((1,)) -> 1 executed in 1.00s\n",
      "fib((2,)) -> 1 executed in 3.00s\n",
      "fib((3,)) -> 2 executed in 5.01s\n",
      "fib((0,)) -> 0 executed in 1.00s\n",
      "fib((1,)) -> 1 executed in 1.00s\n",
      "fib((2,)) -> 1 executed in 3.00s\n",
      "fib((1,)) -> 1 executed in 1.00s\n",
      "fib((0,)) -> 0 executed in 1.00s\n",
      "fib((1,)) -> 1 executed in 1.00s\n",
      "fib((2,)) -> 1 executed in 3.00s\n",
      "fib((3,)) -> 2 executed in 5.01s\n",
      "fib((4,)) -> 3 executed in 9.01s\n",
      "fib((5,)) -> 5 executed in 15.02s\n",
      "fib((6,)) -> 8 executed in 25.03s\n",
      "fib((1,)) -> 1 executed in 1.00s\n",
      "fib((0,)) -> 0 executed in 1.00s\n",
      "fib((1,)) -> 1 executed in 1.00s\n",
      "fib((2,)) -> 1 executed in 3.00s\n",
      "fib((3,)) -> 2 executed in 5.01s\n",
      "fib((0,)) -> 0 executed in 1.00s\n",
      "fib((1,)) -> 1 executed in 1.00s\n",
      "fib((2,)) -> 1 executed in 3.00s\n",
      "fib((1,)) -> 1 executed in 1.00s\n",
      "fib((0,)) -> 0 executed in 1.00s\n",
      "fib((1,)) -> 1 executed in 1.00s\n",
      "fib((2,)) -> 1 executed in 3.00s\n",
      "fib((3,)) -> 2 executed in 5.01s\n",
      "fib((4,)) -> 3 executed in 9.01s\n",
      "fib((5,)) -> 5 executed in 15.02s\n",
      "fib((0,)) -> 0 executed in 1.00s\n",
      "fib((1,)) -> 1 executed in 1.00s\n",
      "fib((2,)) -> 1 executed in 3.00s\n",
      "fib((1,)) -> 1 executed in 1.00s\n",
      "fib((0,)) -> 0 executed in 1.00s\n",
      "fib((1,)) -> 1 executed in 1.00s\n",
      "fib((2,)) -> 1 executed in 3.00s\n",
      "fib((3,)) -> 2 executed in 5.01s\n",
      "fib((4,)) -> 3 executed in 9.01s\n",
      "fib((1,)) -> 1 executed in 1.00s\n",
      "fib((0,)) -> 0 executed in 1.00s\n",
      "fib((1,)) -> 1 executed in 1.00s\n",
      "fib((2,)) -> 1 executed in 3.00s\n",
      "fib((3,)) -> 2 executed in 5.01s\n",
      "fib((0,)) -> 0 executed in 1.00s\n",
      "fib((1,)) -> 1 executed in 1.00s\n",
      "fib((2,)) -> 1 executed in 3.00s\n",
      "fib((1,)) -> 1 executed in 1.00s\n",
      "fib((0,)) -> 0 executed in 1.00s\n",
      "fib((1,)) -> 1 executed in 1.00s\n",
      "fib((2,)) -> 1 executed in 3.00s\n",
      "fib((3,)) -> 2 executed in 5.01s\n",
      "fib((4,)) -> 3 executed in 9.01s\n",
      "fib((5,)) -> 5 executed in 15.02s\n",
      "fib((6,)) -> 8 executed in 25.03s\n",
      "fib((7,)) -> 13 executed in 41.05s\n",
      "fib((8,)) -> 21 executed in 67.09s\n",
      "fib((9,)) -> 34 executed in 109.14s\n",
      "fib((10,)) -> 55 executed in 177.24s\n",
      "CPU times: user 300 ms, sys: 29.7 ms, total: 330 ms\n",
      "Wall time: 2min 57s\n"
     ]
    },
    {
     "data": {
      "text/plain": [
       "55"
      ]
     },
     "execution_count": 244,
     "metadata": {},
     "output_type": "execute_result"
    }
   ],
   "source": [
    "%%time\n",
    "fib(10)"
   ]
  },
  {
   "cell_type": "code",
   "execution_count": 246,
   "id": "b1ecc2de",
   "metadata": {},
   "outputs": [],
   "source": [
    "@lru_cache()\n",
    "def fib(n):\n",
    "    time.sleep(1)\n",
    "    if n < 2:\n",
    "        return n\n",
    "    return fib(n - 2) + fib(n - 1)"
   ]
  },
  {
   "cell_type": "code",
   "execution_count": 247,
   "id": "c2738f85",
   "metadata": {},
   "outputs": [
    {
     "name": "stdout",
     "output_type": "stream",
     "text": [
      "CPU times: user 0 ns, sys: 6.9 ms, total: 6.9 ms\n",
      "Wall time: 11 s\n"
     ]
    },
    {
     "data": {
      "text/plain": [
       "55"
      ]
     },
     "execution_count": 247,
     "metadata": {},
     "output_type": "execute_result"
    }
   ],
   "source": [
    "%%time\n",
    "fib(10)"
   ]
  },
  {
   "cell_type": "markdown",
   "id": "8299912a",
   "metadata": {},
   "source": [
    "### Parametrized decorator"
   ]
  },
  {
   "cell_type": "code",
   "execution_count": 252,
   "id": "2699fa9b",
   "metadata": {},
   "outputs": [],
   "source": [
    "def clock(active=False):\n",
    "    def decorate(func):\n",
    "        def clocked(*args):\n",
    "            if not active:\n",
    "                return func(*args)\n",
    "            t_start = time.time()\n",
    "            res = func(*args)\n",
    "            total_time = time.time() - t_start\n",
    "            print(f'{func.__name__}({args}) -> {res} executed in {total_time:.2f}s')\n",
    "            return res\n",
    "        return clocked\n",
    "    return decorate"
   ]
  },
  {
   "cell_type": "code",
   "execution_count": 253,
   "id": "a8763c9f",
   "metadata": {},
   "outputs": [],
   "source": [
    "@clock(active=False)\n",
    "def slow_fact(n):\n",
    "    time.sleep(1)\n",
    "    if n == 0:\n",
    "        return 1\n",
    "    return n * slow_fact(n - 1)"
   ]
  },
  {
   "cell_type": "code",
   "execution_count": 254,
   "id": "b80c62de",
   "metadata": {},
   "outputs": [
    {
     "data": {
      "text/plain": [
       "6"
      ]
     },
     "execution_count": 254,
     "metadata": {},
     "output_type": "execute_result"
    }
   ],
   "source": [
    "slow_fact(3)"
   ]
  },
  {
   "cell_type": "code",
   "execution_count": 255,
   "id": "a783687a",
   "metadata": {},
   "outputs": [],
   "source": [
    "@clock(active=True)\n",
    "def slow_fact(n):\n",
    "    time.sleep(1)\n",
    "    if n == 0:\n",
    "        return 1\n",
    "    return n * slow_fact(n - 1)"
   ]
  },
  {
   "cell_type": "code",
   "execution_count": 256,
   "id": "fcfd5466",
   "metadata": {},
   "outputs": [
    {
     "name": "stdout",
     "output_type": "stream",
     "text": [
      "slow_fact((0,)) -> 1 executed in 1.00s\n",
      "slow_fact((1,)) -> 1 executed in 2.00s\n",
      "slow_fact((2,)) -> 2 executed in 3.00s\n",
      "slow_fact((3,)) -> 6 executed in 4.01s\n"
     ]
    },
    {
     "data": {
      "text/plain": [
       "6"
      ]
     },
     "execution_count": 256,
     "metadata": {},
     "output_type": "execute_result"
    }
   ],
   "source": [
    "slow_fact(3)"
   ]
  },
  {
   "cell_type": "markdown",
   "id": "d3e906f5",
   "metadata": {},
   "source": [
    "### Bonus Task"
   ]
  },
  {
   "cell_type": "markdown",
   "id": "f5f68202",
   "metadata": {},
   "source": [
    "Напишите декоратор, который может:\n",
    "- поддерживать кэш из обработанных значений\n",
    "- показать последние K обработанных значений (параметр)\n",
    "- быть отключаемым (параметр)\n",
    "\n",
    "С помощью такого кэша реализуйте проверку первых N чисел на простоту. Сравните время выполнения операций со включенным и выключенным кэшем.\n",
    "\n",
    "- попробуйте реализовать кэш по логике, похожей на LRU. Продемонстрируйте его работу на примере.\n",
    "\n",
    "Можно использовать следующую функцию"
   ]
  },
  {
   "cell_type": "code",
   "execution_count": 257,
   "id": "0185e390",
   "metadata": {},
   "outputs": [],
   "source": [
    "import time\n",
    "\n",
    "def do_heavy_calculation(arg):\n",
    "    time.sleep(2)\n",
    "    return arg"
   ]
  }
 ],
 "metadata": {
  "kernelspec": {
   "display_name": "Python 3.7.4 64-bit ('base': conda)",
   "language": "python",
   "name": "python37464bitbaseconda673265f21f5749a2af8cc8a878fb0657"
  },
  "language_info": {
   "codemirror_mode": {
    "name": "ipython",
    "version": 3
   },
   "file_extension": ".py",
   "mimetype": "text/x-python",
   "name": "python",
   "nbconvert_exporter": "python",
   "pygments_lexer": "ipython3",
   "version": "3.7.6"
  },
  "latex_envs": {
   "LaTeX_envs_menu_present": true,
   "autoclose": false,
   "autocomplete": true,
   "bibliofile": "biblio.bib",
   "cite_by": "apalike",
   "current_citInitial": 1,
   "eqLabelWithNumbers": true,
   "eqNumInitial": 1,
   "hotkeys": {
    "equation": "Ctrl-E",
    "itemize": "Ctrl-I"
   },
   "labels_anchors": false,
   "latex_user_defs": false,
   "report_style_numbering": false,
   "user_envs_cfg": false
  },
  "toc": {
   "base_numbering": 1,
   "nav_menu": {},
   "number_sections": true,
   "sideBar": true,
   "skip_h1_title": false,
   "title_cell": "Table of Contents",
   "title_sidebar": "Contents",
   "toc_cell": false,
   "toc_position": {
    "height": "calc(100% - 180px)",
    "left": "10px",
    "top": "150px",
    "width": "294.4px"
   },
   "toc_section_display": true,
   "toc_window_display": true
  }
 },
 "nbformat": 4,
 "nbformat_minor": 5
}
