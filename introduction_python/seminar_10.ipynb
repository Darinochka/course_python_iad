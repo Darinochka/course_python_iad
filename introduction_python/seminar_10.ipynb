{
 "cells": [
  {
   "cell_type": "markdown",
   "id": "9e285e02",
   "metadata": {},
   "source": [
    "Материалы:\n",
    "\n",
    "- https://www.youtube.com/watch?v=maMReTuUOWA\n",
    "http://uneex.org/LecturesCMC/PythonIntro2020/14_Async\n",
    "\n",
    "- https://www.youtube.com/watch?v=5SyA3lsO_hQ\n",
    "\n",
    "- Fluent Python 2021 pre-release, Luciano Ramalho главы 19-21\n",
    "\n",
    "- https://docs.python.org/3/library/asyncio.html"
   ]
  },
  {
   "cell_type": "markdown",
   "id": "85cb9998",
   "metadata": {},
   "source": [
    "# Speeding up"
   ]
  },
  {
   "cell_type": "markdown",
   "id": "3ac58e87",
   "metadata": {},
   "source": [
    "Перед обсуждением более сложных концептов, вспомним необходимые термины и зайдем чуть издалека"
   ]
  },
  {
   "cell_type": "markdown",
   "id": "a9931918",
   "metadata": {},
   "source": [
    "## Generators and coroutines"
   ]
  },
  {
   "cell_type": "markdown",
   "id": "04e65b98",
   "metadata": {},
   "source": [
    "### Gen. functions with yield"
   ]
  },
  {
   "cell_type": "markdown",
   "id": "47e93325",
   "metadata": {},
   "source": [
    "**Функция-генератор**"
   ]
  },
  {
   "cell_type": "code",
   "execution_count": 70,
   "id": "4c9e9766",
   "metadata": {
    "ExecuteTime": {
     "end_time": "2021-11-24T06:37:06.164858Z",
     "start_time": "2021-11-24T06:37:06.161928Z"
    }
   },
   "outputs": [],
   "source": [
    "def gen_fun():\n",
    "    yield 42\n",
    "    yield 43\n",
    "    yield 44"
   ]
  },
  {
   "cell_type": "code",
   "execution_count": 71,
   "id": "ca31f99a",
   "metadata": {
    "ExecuteTime": {
     "end_time": "2021-11-24T06:37:07.988845Z",
     "start_time": "2021-11-24T06:37:07.985030Z"
    }
   },
   "outputs": [
    {
     "name": "stdout",
     "output_type": "stream",
     "text": [
      "42\n",
      "43\n",
      "44\n"
     ]
    }
   ],
   "source": [
    "for v in gen_fun():\n",
    "    print(v)"
   ]
  },
  {
   "cell_type": "markdown",
   "id": "1b14c5de",
   "metadata": {},
   "source": [
    "**Объект-генератор**"
   ]
  },
  {
   "cell_type": "code",
   "execution_count": 72,
   "id": "64403f79",
   "metadata": {
    "ExecuteTime": {
     "end_time": "2021-11-24T06:37:09.061684Z",
     "start_time": "2021-11-24T06:37:09.059232Z"
    }
   },
   "outputs": [],
   "source": [
    "obj_fun = gen_fun()"
   ]
  },
  {
   "cell_type": "code",
   "execution_count": 73,
   "id": "7ed05935",
   "metadata": {
    "ExecuteTime": {
     "end_time": "2021-11-24T06:37:10.732556Z",
     "start_time": "2021-11-24T06:37:10.729087Z"
    }
   },
   "outputs": [
    {
     "data": {
      "text/plain": [
       "42"
      ]
     },
     "execution_count": 73,
     "metadata": {},
     "output_type": "execute_result"
    }
   ],
   "source": [
    "next(obj_fun)"
   ]
  },
  {
   "cell_type": "code",
   "execution_count": 74,
   "id": "dd6e8f37",
   "metadata": {
    "ExecuteTime": {
     "end_time": "2021-11-24T06:37:11.349180Z",
     "start_time": "2021-11-24T06:37:11.345378Z"
    }
   },
   "outputs": [
    {
     "data": {
      "text/plain": [
       "43"
      ]
     },
     "execution_count": 74,
     "metadata": {},
     "output_type": "execute_result"
    }
   ],
   "source": [
    "obj_fun.__next__()"
   ]
  },
  {
   "cell_type": "code",
   "execution_count": 76,
   "id": "08177758",
   "metadata": {
    "ExecuteTime": {
     "end_time": "2021-11-24T06:37:22.702505Z",
     "start_time": "2021-11-24T06:37:22.698671Z"
    }
   },
   "outputs": [
    {
     "data": {
      "text/plain": [
       "44"
      ]
     },
     "execution_count": 76,
     "metadata": {},
     "output_type": "execute_result"
    }
   ],
   "source": [
    "obj_fun.send(None)"
   ]
  },
  {
   "cell_type": "code",
   "execution_count": 77,
   "id": "26349efd",
   "metadata": {
    "ExecuteTime": {
     "end_time": "2021-11-24T06:37:24.523896Z",
     "start_time": "2021-11-24T06:37:24.513542Z"
    }
   },
   "outputs": [
    {
     "ename": "StopIteration",
     "evalue": "",
     "output_type": "error",
     "traceback": [
      "\u001b[0;31m---------------------------------------------------------------------------\u001b[0m",
      "\u001b[0;31mStopIteration\u001b[0m                             Traceback (most recent call last)",
      "\u001b[0;32m/tmp/ipykernel_239/1424421179.py\u001b[0m in \u001b[0;36m<module>\u001b[0;34m\u001b[0m\n\u001b[0;32m----> 1\u001b[0;31m \u001b[0mnext\u001b[0m\u001b[0;34m(\u001b[0m\u001b[0mobj_fun\u001b[0m\u001b[0;34m)\u001b[0m\u001b[0;34m\u001b[0m\u001b[0;34m\u001b[0m\u001b[0m\n\u001b[0m",
      "\u001b[0;31mStopIteration\u001b[0m: "
     ]
    }
   ],
   "source": [
    "next(obj_fun)"
   ]
  },
  {
   "cell_type": "markdown",
   "id": "3a021121",
   "metadata": {},
   "source": [
    "Можно делать стримы. Например, нагенерировать последовательно Фибоначчи в виде генератора, постепенно читать из больших файлов и т.д. "
   ]
  },
  {
   "cell_type": "markdown",
   "id": "3f3997a4",
   "metadata": {},
   "source": [
    "**Можно делать и return**"
   ]
  },
  {
   "cell_type": "code",
   "execution_count": 118,
   "id": "830759aa",
   "metadata": {
    "ExecuteTime": {
     "end_time": "2021-11-24T07:09:00.879630Z",
     "start_time": "2021-11-24T07:09:00.876814Z"
    }
   },
   "outputs": [],
   "source": [
    "def gen_fun():\n",
    "    yield 42\n",
    "    yield 43\n",
    "    yield 44\n",
    "    return 'string'"
   ]
  },
  {
   "cell_type": "code",
   "execution_count": 119,
   "id": "813edfad",
   "metadata": {
    "ExecuteTime": {
     "end_time": "2021-11-24T07:09:01.038836Z",
     "start_time": "2021-11-24T07:09:01.036357Z"
    }
   },
   "outputs": [],
   "source": [
    "obj_fun = gen_fun()"
   ]
  },
  {
   "cell_type": "code",
   "execution_count": 120,
   "id": "cf5ca5d2",
   "metadata": {
    "ExecuteTime": {
     "end_time": "2021-11-24T07:09:01.175703Z",
     "start_time": "2021-11-24T07:09:01.172140Z"
    }
   },
   "outputs": [
    {
     "data": {
      "text/plain": [
       "42"
      ]
     },
     "execution_count": 120,
     "metadata": {},
     "output_type": "execute_result"
    }
   ],
   "source": [
    "next(obj_fun)"
   ]
  },
  {
   "cell_type": "code",
   "execution_count": 121,
   "id": "37fdeeca",
   "metadata": {
    "ExecuteTime": {
     "end_time": "2021-11-24T07:09:01.297240Z",
     "start_time": "2021-11-24T07:09:01.293756Z"
    }
   },
   "outputs": [
    {
     "data": {
      "text/plain": [
       "43"
      ]
     },
     "execution_count": 121,
     "metadata": {},
     "output_type": "execute_result"
    }
   ],
   "source": [
    "next(obj_fun)"
   ]
  },
  {
   "cell_type": "code",
   "execution_count": 122,
   "id": "de668d64",
   "metadata": {
    "ExecuteTime": {
     "end_time": "2021-11-24T07:09:01.513566Z",
     "start_time": "2021-11-24T07:09:01.510153Z"
    }
   },
   "outputs": [
    {
     "data": {
      "text/plain": [
       "44"
      ]
     },
     "execution_count": 122,
     "metadata": {},
     "output_type": "execute_result"
    }
   ],
   "source": [
    "next(obj_fun)"
   ]
  },
  {
   "cell_type": "code",
   "execution_count": 123,
   "id": "bcd7c03b",
   "metadata": {
    "ExecuteTime": {
     "end_time": "2021-11-24T07:09:02.864912Z",
     "start_time": "2021-11-24T07:09:02.861877Z"
    }
   },
   "outputs": [
    {
     "name": "stdout",
     "output_type": "stream",
     "text": [
      "string\n",
      "<built-in method with_traceback of StopIteration object at 0x7f37d15b6dc0>\n",
      "string\n"
     ]
    }
   ],
   "source": [
    "try:\n",
    "    next(obj_fun)\n",
    "except StopIteration as e:\n",
    "    print(e)\n",
    "    print(e.with_traceback)\n",
    "    print(e.value)"
   ]
  },
  {
   "cell_type": "markdown",
   "id": "4d741a2a",
   "metadata": {},
   "source": [
    "### Coroutines"
   ]
  },
  {
   "cell_type": "code",
   "execution_count": 62,
   "id": "47ba6c89",
   "metadata": {
    "ExecuteTime": {
     "end_time": "2021-11-24T06:31:46.589268Z",
     "start_time": "2021-11-24T06:31:46.586213Z"
    }
   },
   "outputs": [],
   "source": [
    "from collections.abc import Generator"
   ]
  },
  {
   "cell_type": "code",
   "execution_count": 66,
   "id": "a5742ea2",
   "metadata": {
    "ExecuteTime": {
     "end_time": "2021-11-24T06:35:05.565726Z",
     "start_time": "2021-11-24T06:35:05.562578Z"
    }
   },
   "outputs": [],
   "source": [
    "def averager() -> Generator:\n",
    "    total = 0.\n",
    "    count = 0\n",
    "    avg = 0.\n",
    "    while True:\n",
    "        curr = yield avg\n",
    "        total += curr\n",
    "        count += 1\n",
    "        avg = total / count"
   ]
  },
  {
   "cell_type": "code",
   "execution_count": 67,
   "id": "bc7cf8f7",
   "metadata": {
    "ExecuteTime": {
     "end_time": "2021-11-24T06:35:06.029405Z",
     "start_time": "2021-11-24T06:35:06.025689Z"
    }
   },
   "outputs": [
    {
     "data": {
      "text/plain": [
       "0.0"
      ]
     },
     "execution_count": 67,
     "metadata": {},
     "output_type": "execute_result"
    }
   ],
   "source": [
    "coro_avg = averager()\n",
    "next(coro_avg)"
   ]
  },
  {
   "cell_type": "code",
   "execution_count": 68,
   "id": "04d6486b",
   "metadata": {
    "ExecuteTime": {
     "end_time": "2021-11-24T06:35:19.278322Z",
     "start_time": "2021-11-24T06:35:19.274487Z"
    }
   },
   "outputs": [
    {
     "data": {
      "text/plain": [
       "10.0"
      ]
     },
     "execution_count": 68,
     "metadata": {},
     "output_type": "execute_result"
    }
   ],
   "source": [
    "coro_avg.send(10)"
   ]
  },
  {
   "cell_type": "code",
   "execution_count": 69,
   "id": "b87c11f7",
   "metadata": {
    "ExecuteTime": {
     "end_time": "2021-11-24T06:35:25.038006Z",
     "start_time": "2021-11-24T06:35:25.033768Z"
    }
   },
   "outputs": [
    {
     "data": {
      "text/plain": [
       "12.5"
      ]
     },
     "execution_count": 69,
     "metadata": {},
     "output_type": "execute_result"
    }
   ],
   "source": [
    "coro_avg.send(15)"
   ]
  },
  {
   "cell_type": "markdown",
   "id": "66833a7c",
   "metadata": {},
   "source": [
    "Очень похоже на рассмотренный ранее на курсе пример с замыканием. Корутина хранит состояние.\n",
    "\n",
    "В Python корутины -- это по сути те же генераторы, только мы еще помимо считывания данных, их туда дописываем"
   ]
  },
  {
   "cell_type": "code",
   "execution_count": 78,
   "id": "9256b158",
   "metadata": {
    "ExecuteTime": {
     "end_time": "2021-11-24T06:40:53.389925Z",
     "start_time": "2021-11-24T06:40:53.385276Z"
    }
   },
   "outputs": [
    {
     "data": {
      "text/plain": [
       "15.0"
      ]
     },
     "execution_count": 78,
     "metadata": {},
     "output_type": "execute_result"
    }
   ],
   "source": [
    "coro_avg.send(20)"
   ]
  },
  {
   "cell_type": "code",
   "execution_count": 79,
   "id": "575735b9",
   "metadata": {
    "ExecuteTime": {
     "end_time": "2021-11-24T06:40:59.155262Z",
     "start_time": "2021-11-24T06:40:59.152803Z"
    }
   },
   "outputs": [],
   "source": [
    "coro_avg.close()"
   ]
  },
  {
   "cell_type": "code",
   "execution_count": 80,
   "id": "e1937e8e",
   "metadata": {
    "ExecuteTime": {
     "end_time": "2021-11-24T06:41:04.980274Z",
     "start_time": "2021-11-24T06:41:04.969235Z"
    }
   },
   "outputs": [
    {
     "ename": "StopIteration",
     "evalue": "",
     "output_type": "error",
     "traceback": [
      "\u001b[0;31m---------------------------------------------------------------------------\u001b[0m",
      "\u001b[0;31mStopIteration\u001b[0m                             Traceback (most recent call last)",
      "\u001b[0;32m/tmp/ipykernel_239/445105584.py\u001b[0m in \u001b[0;36m<module>\u001b[0;34m\u001b[0m\n\u001b[0;32m----> 1\u001b[0;31m \u001b[0mcoro_avg\u001b[0m\u001b[0;34m.\u001b[0m\u001b[0msend\u001b[0m\u001b[0;34m(\u001b[0m\u001b[0;36m20\u001b[0m\u001b[0;34m)\u001b[0m\u001b[0;34m\u001b[0m\u001b[0;34m\u001b[0m\u001b[0m\n\u001b[0m",
      "\u001b[0;31mStopIteration\u001b[0m: "
     ]
    }
   ],
   "source": [
    "coro_avg.send(20)"
   ]
  },
  {
   "cell_type": "markdown",
   "id": "c84d352e",
   "metadata": {},
   "source": [
    "Неформально, **корутина** (или сопрограмма в старой терминологии) -- это такая функция, в которую можно входить много раз и каждый раз попадать именно в то место, из которого в прошлый раз выходил. А также при очеденом входе в такую функцию можно добавлять новые данные. После частичного выхода из сопрограммы, ее код перестает выполняться."
   ]
  },
  {
   "cell_type": "markdown",
   "id": "f741b8c7",
   "metadata": {},
   "source": [
    "Также обратим внимание на конструкцию **yield from**"
   ]
  },
  {
   "cell_type": "code",
   "execution_count": 90,
   "id": "aaf7d99d",
   "metadata": {
    "ExecuteTime": {
     "end_time": "2021-11-24T07:03:35.112708Z",
     "start_time": "2021-11-24T07:03:35.110225Z"
    }
   },
   "outputs": [],
   "source": [
    "from time import sleep\n",
    "def secondary():\n",
    "    yield \"SEC 1\"\n",
    "    yield \"SEC 2\"\n",
    "\n",
    "def primary(name=\"Prim\"):\n",
    "    while True:\n",
    "        yield from secondary()\n",
    "        yield name"
   ]
  },
  {
   "cell_type": "code",
   "execution_count": 91,
   "id": "4af0f392",
   "metadata": {
    "ExecuteTime": {
     "end_time": "2021-11-24T07:03:47.911503Z",
     "start_time": "2021-11-24T07:03:35.894118Z"
    }
   },
   "outputs": [
    {
     "name": "stdout",
     "output_type": "stream",
     "text": [
      "0 SEC 1\n",
      "1 SEC 2\n",
      "2 Prim\n",
      "3 SEC 1\n",
      "4 SEC 2\n",
      "5 Prim\n",
      "6 SEC 1\n",
      "7 SEC 2\n",
      "8 Prim\n",
      "9 SEC 1\n",
      "10 SEC 2\n",
      "11 Prim\n"
     ]
    }
   ],
   "source": [
    "core = primary()\n",
    "\n",
    "n = 12\n",
    "for i in range(n):\n",
    "    sleep(1)\n",
    "    print(f'{i} {next(core)}')"
   ]
  },
  {
   "cell_type": "markdown",
   "id": "f0bded4e",
   "metadata": {},
   "source": [
    "Что если сделать два таких primary исполнителя?"
   ]
  },
  {
   "cell_type": "code",
   "execution_count": 95,
   "id": "e501bd22",
   "metadata": {
    "ExecuteTime": {
     "end_time": "2021-11-24T07:06:02.325762Z",
     "start_time": "2021-11-24T07:05:32.284950Z"
    }
   },
   "outputs": [
    {
     "name": "stdout",
     "output_type": "stream",
     "text": [
      "0 SEC 1 from second prim\n",
      "1 SEC 2 from second prim\n",
      "2 second prim-0\n",
      "3 SEC 1 from second prim\n",
      "4 SEC 2 from second prim\n",
      "5 second prim-1\n",
      "6 SEC 1 from second prim\n",
      "7 SEC 2 from second prim\n",
      "8 second prim-2\n",
      "9 SEC 1 from second prim\n",
      "10 SEC 1 from first prim\n",
      "11 SEC 2 from first prim\n",
      "12 SEC 2 from second prim\n",
      "13 first prim-0\n",
      "14 second prim-3\n",
      "15 SEC 1 from second prim\n",
      "16 SEC 2 from second prim\n",
      "17 second prim-4\n",
      "18 SEC 1 from second prim\n",
      "19 SEC 2 from second prim\n",
      "20 second prim-5\n",
      "21 SEC 1 from second prim\n",
      "22 SEC 2 from second prim\n",
      "23 second prim-6\n",
      "24 SEC 1 from second prim\n",
      "25 SEC 2 from second prim\n",
      "26 second prim-7\n",
      "27 SEC 1 from second prim\n",
      "28 SEC 1 from first prim\n",
      "29 SEC 2 from first prim\n"
     ]
    }
   ],
   "source": [
    "from random import random\n",
    "\n",
    "def secondary(src_name):\n",
    "    yield f'SEC 1 from {src_name}'\n",
    "    yield f'SEC 2 from {src_name}'\n",
    "\n",
    "def primary(name='prim'):\n",
    "    for i in range(1000):\n",
    "        yield from secondary(name)\n",
    "        yield f'{name}-{i}'\n",
    "\n",
    "\n",
    "core_one = primary('first prim')\n",
    "core_two = primary('second prim')\n",
    "\n",
    "n = 30\n",
    "threshold = 0.8\n",
    "\n",
    "for i in range(n):\n",
    "    sleep(1)\n",
    "    if random() > threshold:\n",
    "        res = next(core_one)\n",
    "    else:\n",
    "        res = next(core_two)\n",
    "    print(f'{i} {res}')"
   ]
  },
  {
   "cell_type": "markdown",
   "id": "5d6e4cf0",
   "metadata": {
    "ExecuteTime": {
     "end_time": "2021-11-24T07:09:30.897812Z",
     "start_time": "2021-11-24T07:09:30.894392Z"
    }
   },
   "source": [
    "А что если было возвращаемое значение?"
   ]
  },
  {
   "cell_type": "code",
   "execution_count": 126,
   "id": "18c3ec5b",
   "metadata": {
    "ExecuteTime": {
     "end_time": "2021-11-24T07:12:27.158738Z",
     "start_time": "2021-11-24T07:12:15.140828Z"
    }
   },
   "outputs": [
    {
     "name": "stdout",
     "output_type": "stream",
     "text": [
      "0 SEC 1 from prim\n",
      "1 SEC 2 from prim\n",
      "secondary-0: \n",
      "2 SEC 1 from prim\n",
      "3 SEC 2 from prim\n",
      "secondary-1: prim\n",
      "4 SEC 1 from prim\n",
      "5 SEC 2 from prim\n",
      "secondary-2: primprim\n",
      "6 SEC 1 from prim\n",
      "7 SEC 2 from prim\n",
      "secondary-3: primprimprim\n",
      "8 SEC 1 from prim\n",
      "9 SEC 2 from prim\n",
      "secondary-4: primprimprimprim\n",
      "10 SEC 1 from prim\n",
      "11 SEC 2 from prim\n"
     ]
    }
   ],
   "source": [
    "def secondary(src_name, i):\n",
    "    yield f'SEC 1 from {src_name}'\n",
    "    yield f'SEC 2 from {src_name}'\n",
    "    return src_name * i\n",
    "    \n",
    "def primary(name='prim'):\n",
    "    for i in range(1000):\n",
    "        res = yield from secondary(name, i)\n",
    "        print(f'secondary-{i}: {res}')\n",
    "        \n",
    "core = primary()\n",
    "\n",
    "n = 12\n",
    "for i in range(n):\n",
    "    sleep(1)\n",
    "    print(f'{i} {next(core)}')"
   ]
  },
  {
   "cell_type": "markdown",
   "id": "016c9566",
   "metadata": {},
   "source": [
    "Также генераторы могут друг другу пересылать данные через **.send**"
   ]
  },
  {
   "cell_type": "code",
   "execution_count": 130,
   "id": "b24f6a7a",
   "metadata": {
    "ExecuteTime": {
     "end_time": "2021-11-24T07:22:26.637008Z",
     "start_time": "2021-11-24T07:22:19.587980Z"
    }
   },
   "outputs": [
    {
     "name": "stdout",
     "output_type": "stream",
     "text": [
      "computer: get val x 1\n",
      "computer: get val y 2\n",
      "computer: get val x 3\n",
      "computer: get val y 4\n"
     ]
    },
    {
     "ename": "StopIteration",
     "evalue": "116",
     "output_type": "error",
     "traceback": [
      "\u001b[0;31m---------------------------------------------------------------------------\u001b[0m",
      "\u001b[0;31mStopIteration\u001b[0m                             Traceback (most recent call last)",
      "\u001b[0;32m/tmp/ipykernel_239/577885733.py\u001b[0m in \u001b[0;36m<module>\u001b[0;34m\u001b[0m\n\u001b[1;32m     15\u001b[0m \u001b[0;32mfor\u001b[0m \u001b[0mi\u001b[0m \u001b[0;32min\u001b[0m \u001b[0mrange\u001b[0m\u001b[0;34m(\u001b[0m\u001b[0;36m4\u001b[0m\u001b[0;34m)\u001b[0m\u001b[0;34m:\u001b[0m\u001b[0;34m\u001b[0m\u001b[0;34m\u001b[0m\u001b[0m\n\u001b[1;32m     16\u001b[0m     \u001b[0mdata\u001b[0m \u001b[0;34m=\u001b[0m \u001b[0meval\u001b[0m\u001b[0;34m(\u001b[0m\u001b[0minput\u001b[0m\u001b[0;34m(\u001b[0m\u001b[0mreq\u001b[0m\u001b[0;34m)\u001b[0m\u001b[0;34m)\u001b[0m\u001b[0;34m\u001b[0m\u001b[0;34m\u001b[0m\u001b[0m\n\u001b[0;32m---> 17\u001b[0;31m     \u001b[0mreq\u001b[0m \u001b[0;34m=\u001b[0m \u001b[0mcommand\u001b[0m\u001b[0;34m.\u001b[0m\u001b[0msend\u001b[0m\u001b[0;34m(\u001b[0m\u001b[0mdata\u001b[0m\u001b[0;34m)\u001b[0m  \u001b[0;31m# send в computer, у которого больше нет yield\u001b[0m\u001b[0;34m\u001b[0m\u001b[0;34m\u001b[0m\u001b[0m\n\u001b[0m",
      "\u001b[0;31mStopIteration\u001b[0m: 116"
     ]
    }
   ],
   "source": [
    "def value_computer(val):\n",
    "    x = yield f'computer: get val x '\n",
    "    y = yield f'computer: get val y '\n",
    "    return x ** 2 + y\n",
    "\n",
    "def value_provider():\n",
    "    res_one = yield from value_computer(1)\n",
    "    res_two = yield from value_computer(2)\n",
    "    \n",
    "    return res_one + res_two + 100\n",
    "\n",
    "command = value_provider()\n",
    "req = next(command)\n",
    "\n",
    "for i in range(4):\n",
    "    data = eval(input(req))\n",
    "    req = command.send(data)  # send в computer, у которого больше нет yield"
   ]
  },
  {
   "cell_type": "markdown",
   "id": "1f672dd1",
   "metadata": {},
   "source": [
    "Теперь значения будем не руками передавать, а делать это из цикла. Например, если у нас сгенерирован int, будем засылать рандомную цифру, str -- букву"
   ]
  },
  {
   "cell_type": "markdown",
   "id": "84224530",
   "metadata": {},
   "source": [
    "Делаем асинхронность своими руками"
   ]
  },
  {
   "cell_type": "code",
   "execution_count": 142,
   "id": "246517a9",
   "metadata": {
    "ExecuteTime": {
     "end_time": "2021-11-24T07:43:18.334461Z",
     "start_time": "2021-11-24T07:43:18.329200Z"
    }
   },
   "outputs": [],
   "source": [
    "import random\n",
    "from collections import deque\n",
    "\n",
    "\n",
    "def computer():\n",
    "    '''\n",
    "    умножаем строчку на число\n",
    "    '''\n",
    "    return (yield int) * (yield str)\n",
    "\n",
    "def repeater(n):\n",
    "    '''\n",
    "    склеиваем n строчек\n",
    "    '''\n",
    "    res = ''\n",
    "    for i in range(n):\n",
    "        res += yield from computer()\n",
    "    \n",
    "    return res\n",
    "\n",
    "def runner(*commands):\n",
    "    curr_queue = deque((command, None) for command in reversed(commands))\n",
    "    res = []\n",
    "    \n",
    "    while curr_queue:\n",
    "        cmd, req_type = curr_queue.pop()\n",
    "        try:\n",
    "            if req_type is str:\n",
    "                req_type = cmd.send(random.choice('ABCDRTYUWETDGH'))\n",
    "            elif req_type is int:\n",
    "                req_type = cmd.send(random.randint(1, 7))\n",
    "            elif req_type is None:\n",
    "                req_type = next(cmd)\n",
    "            else:\n",
    "                raise ValueError(req_type)\n",
    "        except StopIteration as e:\n",
    "            res.append(e.value)\n",
    "            cmd.close()\n",
    "            # когда получили StopIteration, генератор еще существует\n",
    "            # закрытие как защита от непредвиденного поведения\n",
    "        else:\n",
    "            curr_queue.appendleft((cmd, req_type))\n",
    "    return res"
   ]
  },
  {
   "cell_type": "code",
   "execution_count": 141,
   "id": "0d1cfad3",
   "metadata": {
    "ExecuteTime": {
     "end_time": "2021-11-24T07:40:28.885587Z",
     "start_time": "2021-11-24T07:40:28.880937Z"
    }
   },
   "outputs": [
    {
     "name": "stdout",
     "output_type": "stream",
     "text": [
      "['CCCT', 'AAEEEBEEEEEEECCCCCGGGG', 'DDDDDDDAAAGGGGGAAAAACCCCCCCTTTTEEEEDDDDDDWWWHH']\n"
     ]
    }
   ],
   "source": [
    "print(runner(repeater(10), repeater(2), repeater(6)))"
   ]
  },
  {
   "cell_type": "markdown",
   "id": "7e811100",
   "metadata": {},
   "source": [
    "Код выполняется в произвольном порядке (но все еще контролируемым программистом!)"
   ]
  },
  {
   "cell_type": "markdown",
   "id": "439c38c0",
   "metadata": {
    "ExecuteTime": {
     "end_time": "2021-11-24T07:44:12.051377Z",
     "start_time": "2021-11-24T07:44:12.047725Z"
    }
   },
   "source": [
    "А теперь следите за руками"
   ]
  },
  {
   "cell_type": "code",
   "execution_count": 145,
   "id": "c2244378",
   "metadata": {
    "ExecuteTime": {
     "end_time": "2021-11-24T07:45:09.444064Z",
     "start_time": "2021-11-24T07:45:09.440661Z"
    }
   },
   "outputs": [],
   "source": [
    "import asyncio\n",
    "import types"
   ]
  },
  {
   "cell_type": "code",
   "execution_count": 150,
   "id": "c6739221",
   "metadata": {
    "ExecuteTime": {
     "end_time": "2021-11-24T07:47:28.566917Z",
     "start_time": "2021-11-24T07:47:28.562148Z"
    }
   },
   "outputs": [],
   "source": [
    "import random\n",
    "from collections import deque\n",
    "\n",
    "@types.coroutine\n",
    "def computer():\n",
    "    '''\n",
    "    умножаем строчку на число\n",
    "    '''\n",
    "    return (yield int) * (yield str)\n",
    "\n",
    "async def repeater(n):\n",
    "    '''\n",
    "    склеиваем n строчек\n",
    "    '''\n",
    "    res = ''\n",
    "    for i in range(n):\n",
    "        res += await computer()\n",
    "    \n",
    "    return res\n",
    "\n",
    "def runner(*commands):\n",
    "    curr_queue = deque((command, None) for command in reversed(commands))\n",
    "    res = []\n",
    "    \n",
    "    while curr_queue:\n",
    "        cmd, req_type = curr_queue.pop()\n",
    "        try:\n",
    "            if req_type is str:\n",
    "                req_type = cmd.send(random.choice('ABCDRTYUWETDGH'))\n",
    "            elif req_type is int:\n",
    "                req_type = cmd.send(random.randint(1, 7))\n",
    "            elif req_type is None:\n",
    "                req_type = cmd.send(None)\n",
    "            else:\n",
    "                raise ValueError(req_type)\n",
    "        except StopIteration as e:\n",
    "            res.append(e.value)\n",
    "            cmd.close()\n",
    "            # когда получили StopIteration, генератор еще существует\n",
    "            # закрытие как защита от непредвиденного поведения\n",
    "        else:\n",
    "            curr_queue.appendleft((cmd, req_type))\n",
    "    return res"
   ]
  },
  {
   "cell_type": "code",
   "execution_count": 151,
   "id": "8649f6c1",
   "metadata": {
    "ExecuteTime": {
     "end_time": "2021-11-24T07:47:29.235543Z",
     "start_time": "2021-11-24T07:47:29.232617Z"
    }
   },
   "outputs": [
    {
     "name": "stdout",
     "output_type": "stream",
     "text": [
      "['HHHEEEEE', 'GGGGGTBBBBBBBEEEEEEECCCCCCCT', 'TTTTTTTTTTTTACGGGRRRTTTTTTTGGGGGGGGHHHHHH']\n"
     ]
    }
   ],
   "source": [
    "print(runner(repeater(10), repeater(2), repeater(6)))"
   ]
  },
  {
   "cell_type": "markdown",
   "id": "746b8806",
   "metadata": {},
   "source": [
    "Мы сейчас практически из кода на чистом питоне с детерминированным выполнением фрагментов кода, перешли к использованию **asyncio**!"
   ]
  },
  {
   "cell_type": "markdown",
   "id": "b74d9d5d",
   "metadata": {},
   "source": [
    "## Concurrency, processes, threads"
   ]
  },
  {
   "cell_type": "markdown",
   "id": "1b91148c",
   "metadata": {},
   "source": [
    "**concurrency**\n",
    "\n",
    "The ability to handle multiple pending tasks, making progress one at a time or in parallel (if possible) so that each of them eventually succeeds or fails. A single-core CPU is capable of concurrency if it runs an OS scheduler that interleaves the execution of the pending tasks. Also known as multitasking"
   ]
  },
  {
   "cell_type": "markdown",
   "id": "dc17a5ca",
   "metadata": {},
   "source": [
    "**parallelism**\n",
    "\n",
    "The ability to execute multiple computations at the same time. This requires a multi-core CPU, a GPU, or multiple computers in cluster."
   ]
  },
  {
   "cell_type": "markdown",
   "id": "dc8363de",
   "metadata": {},
   "source": [
    "**process**\n",
    "\n",
    "An instance of a computer program while it is running, using memory and a slice of the CPU time. Modern operating systems are able to manage many processes concurrently, with each process isolated in its own private memory space. Processes communicate via pipes, sockets, or memory mapped files—all of which can only carry raw bytes, not live Python objects. A process can spawn sub-processes, each called achild process. These are also isolated from each other and from the parent."
   ]
  },
  {
   "cell_type": "markdown",
   "id": "155ffbf9",
   "metadata": {},
   "source": [
    "Каждый инстант Python интерпретатора -- это процесс. Можно использовать модуль *multiprocessing*"
   ]
  },
  {
   "cell_type": "markdown",
   "id": "8948ea9e",
   "metadata": {},
   "source": [
    "**thread**\n",
    "\n",
    "An execution path within a single process. When a process starts, it uses a single thread: the main thread. Using operating system APIs, a process can create more threads that operate concurrently thanks to the operating system scheduler. Threads share the memory space of the process, which holds live Python objects. This allows easy communication between threads, but can also lead to corrupted data when more than one thread updates the same object concurrently."
   ]
  },
  {
   "cell_type": "markdown",
   "id": "57484892",
   "metadata": {},
   "source": [
    "Python (CPython) использует один тред. Можно добавлять новые с помощью *threading*"
   ]
  },
  {
   "cell_type": "markdown",
   "id": "5b567d2e",
   "metadata": {},
   "source": [
    "**contention**\n",
    "\n",
    "Dispute over a limited asset. Resource contention happens when multiple processes or threads try to access a shared resource—such as a lock or storage. There’s also CPU contention, when compute-intensive processes or threads must wait for their share of CPU time."
   ]
  },
  {
   "cell_type": "markdown",
   "id": "2d69c97c",
   "metadata": {},
   "source": [
    "**lock**\n",
    "\n",
    "An object that threads can use to coordinate and synchronize their actions and avoid corrupting data. While updating a shared data structure, a thread should hold an associated lock. This makes other well-behaved threads wait until the lock is released before accessing the same data structure. The simplest type of lock is also known as a mutex (for mutual exclusion)."
   ]
  },
  {
   "cell_type": "markdown",
   "id": "bba9cc50",
   "metadata": {},
   "source": [
    "В Python есть такая вещь как GIL (Global Interpreter Lock). В один момент времени только один тред может держать данный лок\n",
    "\n",
    "Интерпретатор каждые несколько мс делает паузы, освобождая данный лок и позволяя другому ожидающему треду продолжить работу\n",
    "\n",
    "Мы не управляем GIL явно\n",
    "\n",
    "GIL освобождается во время функций, производящих disk и network I/O + time.sleep(). Библиотеки, написанные на плюсях, сях, тоже могут такое проворачивать и улучшать производительность (e.g. numpy)"
   ]
  },
  {
   "cell_type": "markdown",
   "id": "5b02ccca",
   "metadata": {},
   "source": [
    "---"
   ]
  },
  {
   "cell_type": "markdown",
   "id": "e2558161",
   "metadata": {},
   "source": [
    "Как могут сказаться отличия работы с памятью в программах на треды и процессы, если добавить туда относительно тяжелый список?"
   ]
  },
  {
   "cell_type": "markdown",
   "id": "05005a8d",
   "metadata": {},
   "source": [
    "Что будет, если в серии программ **loading_.** заменить медленную функцию на такую?"
   ]
  },
  {
   "cell_type": "code",
   "execution_count": 153,
   "id": "be096e5a",
   "metadata": {
    "ExecuteTime": {
     "end_time": "2021-11-24T08:12:47.088810Z",
     "start_time": "2021-11-24T08:12:47.084715Z"
    }
   },
   "outputs": [],
   "source": [
    "def is_prime(n: int) -> bool:\n",
    "    if n < 2:\n",
    "        return False\n",
    "    if n == 2:\n",
    "        return True\n",
    "    if n % 2 == 0:\n",
    "        return False\n",
    "    root = math.isqrt(n)\n",
    "    for i in range(3, root + 1, 2):\n",
    "        if n % i == 0:\n",
    "            return False\n",
    "    return True"
   ]
  },
  {
   "cell_type": "code",
   "execution_count": 2,
   "id": "242c9843",
   "metadata": {
    "ExecuteTime": {
     "end_time": "2021-11-24T03:43:58.493731Z",
     "start_time": "2021-11-24T03:43:51.377966Z"
    }
   },
   "outputs": [
    {
     "name": "stdout",
     "output_type": "stream",
     "text": [
      "Collecting requests\n",
      "  Downloading requests-2.26.0-py2.py3-none-any.whl (62 kB)\n",
      "\u001b[K     |████████████████████████████████| 62 kB 659 kB/s eta 0:00:01\n",
      "\u001b[?25hCollecting charset-normalizer~=2.0.0; python_version >= \"3\"\n",
      "  Downloading charset_normalizer-2.0.7-py3-none-any.whl (38 kB)\n",
      "Collecting idna<4,>=2.5; python_version >= \"3\"\n",
      "  Downloading idna-3.3-py3-none-any.whl (61 kB)\n",
      "\u001b[K     |████████████████████████████████| 61 kB 7.1 MB/s  eta 0:00:01\n",
      "\u001b[?25hCollecting urllib3<1.27,>=1.21.1\n",
      "  Downloading urllib3-1.26.7-py2.py3-none-any.whl (138 kB)\n",
      "\u001b[K     |████████████████████████████████| 138 kB 11.2 MB/s eta 0:00:01\n",
      "\u001b[?25hCollecting certifi>=2017.4.17\n",
      "  Downloading certifi-2021.10.8-py2.py3-none-any.whl (149 kB)\n",
      "\u001b[K     |████████████████████████████████| 149 kB 11.8 MB/s eta 0:00:01\n",
      "\u001b[?25hInstalling collected packages: charset-normalizer, idna, urllib3, certifi, requests\n",
      "Successfully installed certifi-2021.10.8 charset-normalizer-2.0.7 idna-3.3 requests-2.26.0 urllib3-1.26.7\n"
     ]
    }
   ],
   "source": [
    "! pip install requests, aiohttp"
   ]
  }
 ],
 "metadata": {
  "kernelspec": {
   "display_name": "Python 3 (ipykernel)",
   "language": "python",
   "name": "python3"
  },
  "language_info": {
   "codemirror_mode": {
    "name": "ipython",
    "version": 3
   },
   "file_extension": ".py",
   "mimetype": "text/x-python",
   "name": "python",
   "nbconvert_exporter": "python",
   "pygments_lexer": "ipython3",
   "version": "3.8.10"
  },
  "toc": {
   "base_numbering": 1,
   "nav_menu": {},
   "number_sections": true,
   "sideBar": true,
   "skip_h1_title": false,
   "title_cell": "Table of Contents",
   "title_sidebar": "Contents",
   "toc_cell": false,
   "toc_position": {},
   "toc_section_display": true,
   "toc_window_display": true
  }
 },
 "nbformat": 4,
 "nbformat_minor": 5
}
