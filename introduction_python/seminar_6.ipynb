{
 "cells": [
  {
   "cell_type": "markdown",
   "id": "5007d3dd",
   "metadata": {},
   "source": [
    "# Итак, ООП"
   ]
  },
  {
   "cell_type": "markdown",
   "id": "45aa4ad2",
   "metadata": {},
   "source": [
    "## Основные принципы"
   ]
  },
  {
   "cell_type": "markdown",
   "id": "64002a0e",
   "metadata": {},
   "source": [
    "- **Абстракция**. \n",
    "\n",
    "Выделение значимой информации и использование наиболее важных характеристик объекта.\n",
    "Абстракция от общего к частному. Класс -> экземпляр класса, Базовый класс -> производный класс.\n",
    "\n",
    "- **Инкапсуляция**\n",
    "\n",
    "Логическое объединение данных и функций для работы с ними. Инструмент, который позволяет разделить действия, необходмые для разного уровня абстракций. \n",
    "\n",
    "\n",
    "- **Наследование**\n",
    "\n",
    "Повторное использование свойств объектов с описанием различий.\n",
    "\n",
    "\n",
    "- **Полиморфизм**\n",
    "\n",
    "Предоставление одинаковых средств взаимодействия с объектами разной природы. Возможность для одного и того же кода обрабатывать данные разных типов. Duck typing в Python"
   ]
  },
  {
   "cell_type": "markdown",
   "id": "28971977",
   "metadata": {},
   "source": [
    "Также *классы в Python -- это способ организации пространств имен*"
   ]
  },
  {
   "cell_type": "markdown",
   "id": "39f58b55",
   "metadata": {},
   "source": [
    "## Начнем с простых примеров"
   ]
  },
  {
   "cell_type": "markdown",
   "id": "22bdfa18",
   "metadata": {},
   "source": [
    "### Создание и поля"
   ]
  },
  {
   "cell_type": "markdown",
   "id": "27bfdda8",
   "metadata": {},
   "source": [
    "Мы уже знакомы с функцией **dir**"
   ]
  },
  {
   "cell_type": "code",
   "execution_count": 71,
   "id": "61cc56f8",
   "metadata": {},
   "outputs": [
    {
     "data": {
      "text/plain": [
       "['__add__',\n",
       " '__class__',\n",
       " '__contains__',\n",
       " '__delattr__',\n",
       " '__delitem__',\n",
       " '__dir__',\n",
       " '__doc__',\n",
       " '__eq__',\n",
       " '__format__',\n",
       " '__ge__',\n",
       " '__getattribute__',\n",
       " '__getitem__',\n",
       " '__gt__',\n",
       " '__hash__',\n",
       " '__iadd__',\n",
       " '__imul__',\n",
       " '__init__',\n",
       " '__init_subclass__',\n",
       " '__iter__',\n",
       " '__le__',\n",
       " '__len__',\n",
       " '__lt__',\n",
       " '__mul__',\n",
       " '__ne__',\n",
       " '__new__',\n",
       " '__reduce__',\n",
       " '__reduce_ex__',\n",
       " '__repr__',\n",
       " '__reversed__',\n",
       " '__rmul__',\n",
       " '__setattr__',\n",
       " '__setitem__',\n",
       " '__sizeof__',\n",
       " '__str__',\n",
       " '__subclasshook__',\n",
       " 'append',\n",
       " 'clear',\n",
       " 'copy',\n",
       " 'count',\n",
       " 'extend',\n",
       " 'index',\n",
       " 'insert',\n",
       " 'pop',\n",
       " 'remove',\n",
       " 'reverse',\n",
       " 'sort']"
      ]
     },
     "execution_count": 71,
     "metadata": {},
     "output_type": "execute_result"
    }
   ],
   "source": [
    "a = []\n",
    "\n",
    "dir(a)"
   ]
  },
  {
   "cell_type": "code",
   "execution_count": 72,
   "id": "0e072a73",
   "metadata": {},
   "outputs": [
    {
     "ename": "AttributeError",
     "evalue": "'list' object has no attribute 'my_spec_name'",
     "output_type": "error",
     "traceback": [
      "\u001b[0;31m---------------------------------------------------------------------------\u001b[0m",
      "\u001b[0;31mAttributeError\u001b[0m                            Traceback (most recent call last)",
      "\u001b[0;32m/tmp/ipykernel_13492/659855875.py\u001b[0m in \u001b[0;36m<module>\u001b[0;34m\u001b[0m\n\u001b[0;32m----> 1\u001b[0;31m \u001b[0ma\u001b[0m\u001b[0;34m.\u001b[0m\u001b[0mmy_spec_name\u001b[0m \u001b[0;34m=\u001b[0m \u001b[0;34m'my_list'\u001b[0m\u001b[0;34m\u001b[0m\u001b[0;34m\u001b[0m\u001b[0m\n\u001b[0m",
      "\u001b[0;31mAttributeError\u001b[0m: 'list' object has no attribute 'my_spec_name'"
     ]
    }
   ],
   "source": [
    "a.my_spec_name = 'my_list'"
   ]
  },
  {
   "cell_type": "markdown",
   "id": "cddbd273",
   "metadata": {},
   "source": [
    "Мы не можем добавлять новые поля. Но если вдруг хотим сделать такую структуру, то можем создать класс"
   ]
  },
  {
   "cell_type": "code",
   "execution_count": 74,
   "id": "575c3e8f",
   "metadata": {},
   "outputs": [
    {
     "data": {
      "text/plain": [
       "['__class__',\n",
       " '__delattr__',\n",
       " '__dict__',\n",
       " '__dir__',\n",
       " '__doc__',\n",
       " '__eq__',\n",
       " '__format__',\n",
       " '__ge__',\n",
       " '__getattribute__',\n",
       " '__gt__',\n",
       " '__hash__',\n",
       " '__init__',\n",
       " '__init_subclass__',\n",
       " '__le__',\n",
       " '__lt__',\n",
       " '__module__',\n",
       " '__ne__',\n",
       " '__new__',\n",
       " '__reduce__',\n",
       " '__reduce_ex__',\n",
       " '__repr__',\n",
       " '__setattr__',\n",
       " '__sizeof__',\n",
       " '__str__',\n",
       " '__subclasshook__',\n",
       " '__weakref__']"
      ]
     },
     "execution_count": 74,
     "metadata": {},
     "output_type": "execute_result"
    }
   ],
   "source": [
    "class C:\n",
    "    pass\n",
    "\n",
    "dir(C)"
   ]
  },
  {
   "cell_type": "code",
   "execution_count": 202,
   "id": "0d29d429",
   "metadata": {},
   "outputs": [],
   "source": [
    "c_inst = C()\n",
    "\n",
    "c_inst.my_name = 'my_name'"
   ]
  },
  {
   "cell_type": "code",
   "execution_count": 203,
   "id": "2eefdf03",
   "metadata": {},
   "outputs": [
    {
     "data": {
      "text/plain": [
       "['__class__',\n",
       " '__delattr__',\n",
       " '__dict__',\n",
       " '__dir__',\n",
       " '__doc__',\n",
       " '__eq__',\n",
       " '__format__',\n",
       " '__ge__',\n",
       " '__getattribute__',\n",
       " '__gt__',\n",
       " '__hash__',\n",
       " '__init__',\n",
       " '__init_subclass__',\n",
       " '__le__',\n",
       " '__lt__',\n",
       " '__module__',\n",
       " '__ne__',\n",
       " '__new__',\n",
       " '__reduce__',\n",
       " '__reduce_ex__',\n",
       " '__repr__',\n",
       " '__setattr__',\n",
       " '__sizeof__',\n",
       " '__str__',\n",
       " '__subclasshook__',\n",
       " '__weakref__',\n",
       " 'my_name']"
      ]
     },
     "execution_count": 203,
     "metadata": {},
     "output_type": "execute_result"
    }
   ],
   "source": [
    "dir(c_inst)"
   ]
  },
  {
   "cell_type": "code",
   "execution_count": 204,
   "id": "d7df5341",
   "metadata": {},
   "outputs": [
    {
     "data": {
      "text/plain": [
       "True"
      ]
     },
     "execution_count": 204,
     "metadata": {},
     "output_type": "execute_result"
    }
   ],
   "source": [
    "'my_name' in dir(c_inst)"
   ]
  },
  {
   "cell_type": "code",
   "execution_count": 205,
   "id": "8d36ba95",
   "metadata": {},
   "outputs": [
    {
     "data": {
      "text/plain": [
       "True"
      ]
     },
     "execution_count": 205,
     "metadata": {},
     "output_type": "execute_result"
    }
   ],
   "source": [
    "'my_name' in dir(C)"
   ]
  },
  {
   "cell_type": "markdown",
   "id": "fd9fcd0c",
   "metadata": {},
   "source": [
    "Поле не добавляется в сам класс"
   ]
  },
  {
   "cell_type": "code",
   "execution_count": 206,
   "id": "83aa1266",
   "metadata": {},
   "outputs": [],
   "source": [
    "C.my_name = \"class_name\""
   ]
  },
  {
   "cell_type": "code",
   "execution_count": 208,
   "id": "e3931a42",
   "metadata": {},
   "outputs": [],
   "source": [
    "new_c_inst = C()"
   ]
  },
  {
   "cell_type": "code",
   "execution_count": 209,
   "id": "b69f5bbf",
   "metadata": {},
   "outputs": [
    {
     "data": {
      "text/plain": [
       "'class_name'"
      ]
     },
     "execution_count": 209,
     "metadata": {},
     "output_type": "execute_result"
    }
   ],
   "source": [
    "new_c_inst.my_name"
   ]
  },
  {
   "cell_type": "code",
   "execution_count": 210,
   "id": "4914a94f",
   "metadata": {},
   "outputs": [
    {
     "data": {
      "text/plain": [
       "'new'"
      ]
     },
     "execution_count": 210,
     "metadata": {},
     "output_type": "execute_result"
    }
   ],
   "source": [
    "new_c_inst.my_name = 'new'\n",
    "new_c_inst.my_name"
   ]
  },
  {
   "cell_type": "code",
   "execution_count": 211,
   "id": "8036e02c",
   "metadata": {},
   "outputs": [],
   "source": [
    "del new_c_inst.my_name"
   ]
  },
  {
   "cell_type": "code",
   "execution_count": 212,
   "id": "74d622f2",
   "metadata": {},
   "outputs": [
    {
     "data": {
      "text/plain": [
       "'class_name'"
      ]
     },
     "execution_count": 212,
     "metadata": {},
     "output_type": "execute_result"
    }
   ],
   "source": [
    "new_c_inst.my_name"
   ]
  },
  {
   "cell_type": "code",
   "execution_count": 90,
   "id": "1cb3f77e",
   "metadata": {},
   "outputs": [
    {
     "data": {
      "text/plain": [
       "139855608728752"
      ]
     },
     "execution_count": 90,
     "metadata": {},
     "output_type": "execute_result"
    }
   ],
   "source": [
    "id(C.my_name)"
   ]
  },
  {
   "cell_type": "code",
   "execution_count": 93,
   "id": "ecc56d22",
   "metadata": {},
   "outputs": [
    {
     "data": {
      "text/plain": [
       "139855608728752"
      ]
     },
     "execution_count": 93,
     "metadata": {},
     "output_type": "execute_result"
    }
   ],
   "source": [
    "id(new_c_inst.my_name)"
   ]
  },
  {
   "cell_type": "markdown",
   "id": "70b631ee",
   "metadata": {},
   "source": [
    "Задание полей в конструкторе"
   ]
  },
  {
   "cell_type": "code",
   "execution_count": 94,
   "id": "ee7c9e31",
   "metadata": {},
   "outputs": [
    {
     "data": {
      "text/plain": [
       "(1.0, 2.0)"
      ]
     },
     "execution_count": 94,
     "metadata": {},
     "output_type": "execute_result"
    }
   ],
   "source": [
    "class Point:\n",
    "    x=1.\n",
    "    y=2.\n",
    "\n",
    "p = Point()\n",
    "p.x, p.y"
   ]
  },
  {
   "cell_type": "markdown",
   "id": "1849da18",
   "metadata": {},
   "source": [
    "Поля в объекте класса -- это ссылки"
   ]
  },
  {
   "cell_type": "code",
   "execution_count": 95,
   "id": "ccd53547",
   "metadata": {},
   "outputs": [
    {
     "data": {
      "text/plain": [
       "(139855544529776, 139855544529776)"
      ]
     },
     "execution_count": 95,
     "metadata": {},
     "output_type": "execute_result"
    }
   ],
   "source": [
    "id(Point.x), id(p.x)"
   ]
  },
  {
   "cell_type": "markdown",
   "id": "dead494a",
   "metadata": {},
   "source": [
    "### Методы"
   ]
  },
  {
   "cell_type": "code",
   "execution_count": 97,
   "id": "3e67ba4f",
   "metadata": {},
   "outputs": [
    {
     "name": "stdout",
     "output_type": "stream",
     "text": [
      "oh, yes\n"
     ]
    }
   ],
   "source": [
    "fun()"
   ]
  },
  {
   "cell_type": "code",
   "execution_count": 98,
   "id": "4434ad81",
   "metadata": {},
   "outputs": [
    {
     "name": "stdout",
     "output_type": "stream",
     "text": [
      "oh, yes\n"
     ]
    }
   ],
   "source": [
    "class F:\n",
    "    data = 'oh, yes'\n",
    "\n",
    "def fun():\n",
    "    print(F.data)\n",
    "    \n",
    "f = F()\n",
    "f.pri = fun\n",
    "f.pri()"
   ]
  },
  {
   "cell_type": "code",
   "execution_count": 100,
   "id": "b0acdce4",
   "metadata": {},
   "outputs": [
    {
     "name": "stdout",
     "output_type": "stream",
     "text": [
      "oh, yes\n"
     ]
    }
   ],
   "source": [
    "f.data = 'oh, no'\n",
    "f.pri()"
   ]
  },
  {
   "cell_type": "markdown",
   "id": "789d7ae4",
   "metadata": {},
   "source": [
    "Что-то не то. Может, объявить функцию прямо в инициализации?"
   ]
  },
  {
   "cell_type": "code",
   "execution_count": 113,
   "id": "695d33a0",
   "metadata": {},
   "outputs": [
    {
     "ename": "TypeError",
     "evalue": "fun() takes 1 positional argument but 2 were given",
     "output_type": "error",
     "traceback": [
      "\u001b[0;31m---------------------------------------------------------------------------\u001b[0m",
      "\u001b[0;31mTypeError\u001b[0m                                 Traceback (most recent call last)",
      "\u001b[0;32m/tmp/ipykernel_13492/3496505927.py\u001b[0m in \u001b[0;36m<module>\u001b[0;34m\u001b[0m\n\u001b[1;32m      5\u001b[0m \u001b[0;34m\u001b[0m\u001b[0m\n\u001b[1;32m      6\u001b[0m \u001b[0mg\u001b[0m \u001b[0;34m=\u001b[0m \u001b[0mG\u001b[0m\u001b[0;34m(\u001b[0m\u001b[0;34m)\u001b[0m\u001b[0;34m\u001b[0m\u001b[0;34m\u001b[0m\u001b[0m\n\u001b[0;32m----> 7\u001b[0;31m \u001b[0mg\u001b[0m\u001b[0;34m.\u001b[0m\u001b[0mfun\u001b[0m\u001b[0;34m(\u001b[0m\u001b[0mg\u001b[0m\u001b[0;34m)\u001b[0m\u001b[0;34m\u001b[0m\u001b[0;34m\u001b[0m\u001b[0m\n\u001b[0m",
      "\u001b[0;31mTypeError\u001b[0m: fun() takes 1 positional argument but 2 were given"
     ]
    }
   ],
   "source": [
    "class G:\n",
    "    data = 'oh, yes'\n",
    "    def fun(obj):\n",
    "        print(obj.data)\n",
    "    \n",
    "g = G()\n",
    "g.fun(g)"
   ]
  },
  {
   "cell_type": "markdown",
   "id": "9026b1a9",
   "metadata": {},
   "source": [
    "What?"
   ]
  },
  {
   "cell_type": "code",
   "execution_count": 116,
   "id": "837ee4cf",
   "metadata": {},
   "outputs": [],
   "source": [
    "class Info:\n",
    "    default_info = 'class info'\n",
    "    def fun_info(self):\n",
    "        print(self.default_info)"
   ]
  },
  {
   "cell_type": "code",
   "execution_count": 117,
   "id": "98fcd39c",
   "metadata": {},
   "outputs": [
    {
     "name": "stdout",
     "output_type": "stream",
     "text": [
      "class info\n"
     ]
    }
   ],
   "source": [
    "h = Info()\n",
    "\n",
    "h.fun_info()"
   ]
  },
  {
   "cell_type": "code",
   "execution_count": 118,
   "id": "3a8b17cb",
   "metadata": {},
   "outputs": [],
   "source": [
    "h.default_info = 'new info'"
   ]
  },
  {
   "cell_type": "code",
   "execution_count": 119,
   "id": "78b5febd",
   "metadata": {},
   "outputs": [
    {
     "name": "stdout",
     "output_type": "stream",
     "text": [
      "new info\n"
     ]
    }
   ],
   "source": [
    "h.fun_info()"
   ]
  },
  {
   "cell_type": "markdown",
   "id": "a150134c",
   "metadata": {},
   "source": [
    "**класс.метод(объект, параметр1, …)**"
   ]
  },
  {
   "cell_type": "markdown",
   "id": "3bbf2e6d",
   "metadata": {},
   "source": [
    "## Инициализация"
   ]
  },
  {
   "cell_type": "code",
   "execution_count": 120,
   "id": "a180ad9c",
   "metadata": {},
   "outputs": [
    {
     "data": {
      "text/plain": [
       "['__class__',\n",
       " '__delattr__',\n",
       " '__dict__',\n",
       " '__dir__',\n",
       " '__doc__',\n",
       " '__eq__',\n",
       " '__format__',\n",
       " '__ge__',\n",
       " '__getattribute__',\n",
       " '__gt__',\n",
       " '__hash__',\n",
       " '__init__',\n",
       " '__init_subclass__',\n",
       " '__le__',\n",
       " '__lt__',\n",
       " '__module__',\n",
       " '__ne__',\n",
       " '__new__',\n",
       " '__reduce__',\n",
       " '__reduce_ex__',\n",
       " '__repr__',\n",
       " '__setattr__',\n",
       " '__sizeof__',\n",
       " '__str__',\n",
       " '__subclasshook__',\n",
       " '__weakref__',\n",
       " 'h',\n",
       " 'square',\n",
       " 'w']"
      ]
     },
     "execution_count": 120,
     "metadata": {},
     "output_type": "execute_result"
    }
   ],
   "source": [
    "class K:\n",
    "    def __init__(self, w, h):\n",
    "        self.w = w\n",
    "        self.h = h\n",
    "    \n",
    "    def __str__(self):\n",
    "        return f'({self.w}, {self.h})'\n",
    "    \n",
    "    def square(self):\n",
    "        return self.w * self.h\n",
    "    \n",
    "p = K(10., 15.)\n",
    "\n",
    "dir(p)"
   ]
  },
  {
   "cell_type": "code",
   "execution_count": 121,
   "id": "6ad07f34",
   "metadata": {},
   "outputs": [
    {
     "data": {
      "text/plain": [
       "150.0"
      ]
     },
     "execution_count": 121,
     "metadata": {},
     "output_type": "execute_result"
    }
   ],
   "source": [
    "p.square()"
   ]
  },
  {
   "cell_type": "markdown",
   "id": "fd6ff173",
   "metadata": {},
   "source": [
    "**Итого:**\n",
    "\n",
    "- Класс — это пространство имён \n",
    "- Класс -- изготовитель объекта-экземпляра\n",
    "- Все поля класса видны в объекте, пока не загорожены одноименными полями\n",
    "- __init__ нужен описания логики создания полей объекта, но это НЕ конструктор\n"
   ]
  },
  {
   "cell_type": "markdown",
   "id": "1e6458cd",
   "metadata": {},
   "source": [
    "Источник: http://uneex.org/LecturesCMC/PythonIntro2020/08_ObjectModel"
   ]
  },
  {
   "cell_type": "markdown",
   "id": "cda106f1",
   "metadata": {},
   "source": [
    "## Magics"
   ]
  },
  {
   "cell_type": "markdown",
   "id": "e0590a01",
   "metadata": {},
   "source": [
    "Есть некоторый питонячий сахар, который позволяет перегружать стандартные функции"
   ]
  },
  {
   "cell_type": "markdown",
   "id": "9c266ae2",
   "metadata": {},
   "source": [
    "https://docs.python.org/3/reference/datamodel.html#special-method-names"
   ]
  },
  {
   "cell_type": "markdown",
   "id": "ee424aaf",
   "metadata": {},
   "source": [
    "\n",
    "У классов могут быть так называемые магические методы. Это методы, которые может определить класс, которые позволяют ему действовать определённым образом. Обычно они не вызываются напрямую.\n",
    "\n",
    "Все магические методы отличаются тем, что их названия начинаются и заканчиваются на двойные подчёркивания (`__method__`). С одним таким мы уже познакомились — это метод `__init__`, который вызывается при создании объекта класса. Давайте посмотрим, какие ещё бывают магические методы:\n"
   ]
  },
  {
   "cell_type": "markdown",
   "id": "fad4102f",
   "metadata": {},
   "source": [
    "* секция позаимствована из [семинаров](https://github.com/PersDep/python-intro-2021) группы ИАД-8"
   ]
  },
  {
   "cell_type": "code",
   "execution_count": 124,
   "id": "c100dcb9",
   "metadata": {},
   "outputs": [
    {
     "name": "stdout",
     "output_type": "stream",
     "text": [
      "(3, 5)\n"
     ]
    }
   ],
   "source": [
    "class Point2D:\n",
    "    \"\"\"\n",
    "    A point in 2D space\n",
    "    :param x: x coordinate\n",
    "    :param y: y coordinate\n",
    "    \"\"\"\n",
    "    def __init__(self, x: int, y: int) -> None:\n",
    "        # Создаём атрибуты и присваиваем им переданные значения координат\n",
    "        self.x = x\n",
    "        self.y = y\n",
    "\n",
    "    def print_coords(self) -> None:\n",
    "        # Выводим координаты, обращаясь к ним через self с точкой\n",
    "        print(f\"({self.x}, {self.y})\")\n",
    "\n",
    "    def first_coord(self) -> int:\n",
    "        return self.x\n",
    "\n",
    "\n",
    "point = Point2D(3, 5)\n",
    "point.print_coords()"
   ]
  },
  {
   "cell_type": "markdown",
   "id": "df6754c9",
   "metadata": {},
   "source": [
    "Вспомним, что мы с вами уже разбирали методы `__str__` и `__repr__`"
   ]
  },
  {
   "cell_type": "code",
   "execution_count": 135,
   "id": "84a0af6d",
   "metadata": {},
   "outputs": [
    {
     "data": {
      "text/plain": [
       "'(3, 5)'"
      ]
     },
     "execution_count": 135,
     "metadata": {},
     "output_type": "execute_result"
    }
   ],
   "source": [
    "class Point2D:\n",
    "    \"\"\"\n",
    "    A point in 2D space\n",
    "    :param x: x coordinate\n",
    "    :param y: y coordinate\n",
    "    \"\"\"\n",
    "    def __init__(self, x: int, y: int) -> None:\n",
    "        # Создаём атрибуты и присваиваем им переданные значения координат\n",
    "        self.x = x\n",
    "        self.y = y\n",
    "\n",
    "    def print_coords(self):\n",
    "        # Выводим координаты, обращаясь к ним через self с точкой\n",
    "        return f\"({self.x}, {self.y})\"\n",
    "\n",
    "    def first_coord(self) -> int:\n",
    "        return self.x\n",
    "    \n",
    "#     def __str__(self) -> str:\n",
    "#         return self.print_coords()\n",
    "    \n",
    "    __str__ = print_coords\n",
    "\n",
    "\n",
    "point = Point2D(3, 5)\n",
    "point.print_coords()"
   ]
  },
  {
   "cell_type": "code",
   "execution_count": 136,
   "id": "9c5dbdfe",
   "metadata": {},
   "outputs": [
    {
     "name": "stdout",
     "output_type": "stream",
     "text": [
      "(3, 5)\n"
     ]
    }
   ],
   "source": [
    "print(point)"
   ]
  },
  {
   "cell_type": "markdown",
   "id": "1a0dccc8",
   "metadata": {},
   "source": [
    "**Сложение, вычитание, умножение и пр.**"
   ]
  },
  {
   "cell_type": "markdown",
   "id": "882edaee",
   "metadata": {},
   "source": [
    "Добавляем классу работу с операторами +, -, * etc.\n",
    "\n",
    "Вызываются от левого операнда и применяются к правому"
   ]
  },
  {
   "cell_type": "code",
   "execution_count": 137,
   "id": "9d431fdb",
   "metadata": {},
   "outputs": [
    {
     "name": "stdout",
     "output_type": "stream",
     "text": [
      "A 2D point with coordinates (7, 12)\n",
      "A 2D point with coordinates (-1, -2)\n"
     ]
    }
   ],
   "source": [
    "class Point2D:\n",
    "    \"\"\"\n",
    "    A point in 2D space\n",
    "    :param x: x coordinate\n",
    "    :param y: y coordinate\n",
    "    \"\"\"\n",
    "    def __init__(self, x: int, y: int) -> None:\n",
    "        # Создаём атрибуты и присваиваем им переданные значения координат\n",
    "        self.x = x\n",
    "        self.y = y\n",
    "\n",
    "    def __repr__(self) -> str:\n",
    "        return f\"Point2D({self.x}, {self.y})\"\n",
    "\n",
    "    def __str__(self) -> str:\n",
    "        return f\"A 2D point with coordinates ({self.x}, {self.y})\"\n",
    "\n",
    "    def __add__(self, other: Point2D) -> Point2D:\n",
    "        return Point2D(self.x + other.x, self.y + other.y)\n",
    "\n",
    "    def __sub__(self, other: Point2D) -> Point2D:\n",
    "        return Point2D(self.x - other.x, self.y - other.y)\n",
    "\n",
    "\n",
    "print(Point2D(3, 5) + Point2D(4, 7))\n",
    "print(Point2D(3, 5) - Point2D(4, 7))"
   ]
  },
  {
   "cell_type": "code",
   "execution_count": 140,
   "id": "21e5c863",
   "metadata": {},
   "outputs": [
    {
     "name": "stdout",
     "output_type": "stream",
     "text": [
      "139854976191952\n",
      "139854976191376\n",
      "139854987793552\n"
     ]
    }
   ],
   "source": [
    "a = Point2D(3, 5)\n",
    "b = Point2D(4, 7)\n",
    "\n",
    "print(id(a))\n",
    "print(id(b))\n",
    "\n",
    "a += b\n",
    "print(id(a))"
   ]
  },
  {
   "cell_type": "markdown",
   "id": "c536154d",
   "metadata": {},
   "source": [
    "У методов выже есть версии с \"i\" в начале, отвечающая за операции с присвоением"
   ]
  },
  {
   "cell_type": "code",
   "execution_count": 141,
   "id": "3ade4d7a",
   "metadata": {},
   "outputs": [
    {
     "name": "stdout",
     "output_type": "stream",
     "text": [
      "A 2D point with coordinates (7, 12)\n",
      "A 2D point with coordinates (-1, -2)\n"
     ]
    }
   ],
   "source": [
    "class Point2D:\n",
    "    \"\"\"\n",
    "    A point in 2D space\n",
    "    :param x: x coordinate\n",
    "    :param y: y coordinate\n",
    "    \"\"\"\n",
    "    def __init__(self, x: int, y: int) -> None:\n",
    "        # Создаём атрибуты и присваиваем им переданные значения координат\n",
    "        self.x = x\n",
    "        self.y = y\n",
    "\n",
    "    def __repr__(self) -> str:\n",
    "        return f\"Point2D({self.x}, {self.y})\"\n",
    "\n",
    "    def __str__(self) -> str:\n",
    "        return f\"A 2D point with coordinates ({self.x}, {self.y})\"\n",
    "\n",
    "    def __add__(self, other: Point2D) -> Point2D:\n",
    "        return Point2D(self.x + other.x, self.y + other.y)\n",
    "    \n",
    "    def __iadd__(self, other: Point2D) -> Point2D:\n",
    "        self.x = self.x + other.x\n",
    "        self.y = self.y + other.y\n",
    "        return self\n",
    "\n",
    "    def __sub__(self, other: Point2D) -> Point2D:\n",
    "        return Point2D(self.x - other.x, self.y - other.y)\n",
    "\n",
    "\n",
    "print(Point2D(3, 5) + Point2D(4, 7))\n",
    "print(Point2D(3, 5) - Point2D(4, 7))"
   ]
  },
  {
   "cell_type": "code",
   "execution_count": 142,
   "id": "1f0da103",
   "metadata": {},
   "outputs": [
    {
     "name": "stdout",
     "output_type": "stream",
     "text": [
      "139854987646352\n",
      "139854987647760\n",
      "139854987646352\n"
     ]
    }
   ],
   "source": [
    "a = Point2D(3, 5)\n",
    "b = Point2D(4, 7)\n",
    "\n",
    "print(id(a))\n",
    "print(id(b))\n",
    "\n",
    "a += b\n",
    "print(id(a))"
   ]
  },
  {
   "cell_type": "markdown",
   "id": "dfbe17ef",
   "metadata": {},
   "source": [
    "**сравнения**"
   ]
  },
  {
   "cell_type": "markdown",
   "id": "10a4e40c",
   "metadata": {},
   "source": [
    "По умолчанию есть одна операция -- is"
   ]
  },
  {
   "cell_type": "code",
   "execution_count": 143,
   "id": "d0ad0adc",
   "metadata": {},
   "outputs": [
    {
     "data": {
      "text/plain": [
       "False"
      ]
     },
     "execution_count": 143,
     "metadata": {},
     "output_type": "execute_result"
    }
   ],
   "source": [
    "# пример\n",
    "a is b"
   ]
  },
  {
   "cell_type": "code",
   "execution_count": 144,
   "id": "5ac0c52d",
   "metadata": {},
   "outputs": [
    {
     "data": {
      "text/plain": [
       "True"
      ]
     },
     "execution_count": 144,
     "metadata": {},
     "output_type": "execute_result"
    }
   ],
   "source": [
    "a is a"
   ]
  },
  {
   "cell_type": "code",
   "execution_count": 145,
   "id": "479c7ae6",
   "metadata": {},
   "outputs": [],
   "source": [
    "class Point2D:\n",
    "    \"\"\"\n",
    "    A point in 2D space\n",
    "    :param x: x coordinate\n",
    "    :param y: y coordinate\n",
    "    \"\"\"\n",
    "    def __init__(self, x: int, y: int) -> None:\n",
    "        # Создаём атрибуты и присваиваем им переданные значения координат\n",
    "        self.x = x\n",
    "        self.y = y\n",
    "\n",
    "    def __repr__(self) -> str:\n",
    "        return f\"Point2D({self.x}, {self.y})\"\n",
    "\n",
    "    def __str__(self) -> str:\n",
    "        return f\"A 2D point with coordinates ({self.x}, {self.y})\"\n",
    "\n",
    "    def __add__(self, other: Point2D) -> Point2D:\n",
    "        return Point2D(self.x + other.x, self.y + other.y)\n",
    "\n",
    "    def __sub__(self, other: Point2D) -> Point2D:\n",
    "        return Point2D(self.x - other.x, self.y - other.y)\n",
    "\n",
    "    def __iadd__(self, other: Point2D) -> Point2D:\n",
    "        self.x += other.x\n",
    "        self.y += other.y\n",
    "        return self\n",
    "\n",
    "    def __isub__(self, other: Point2D) -> Point2D:\n",
    "        self.x -= other.x\n",
    "        self.y -= other.y\n",
    "        return self\n",
    "\n",
    "    def __eq__(self, other: Point2D) -> Point2D:\n",
    "        return self.x == other.x and self.y == other.y\n",
    "\n",
    "#     def __del__(self):\n",
    "#         print('delete', end=' ')\n",
    "#         print(self)"
   ]
  },
  {
   "cell_type": "code",
   "execution_count": 146,
   "id": "23cf29c6",
   "metadata": {},
   "outputs": [
    {
     "name": "stdout",
     "output_type": "stream",
     "text": [
      "True\n",
      "False\n",
      "False\n",
      "True\n"
     ]
    }
   ],
   "source": [
    "print(Point2D(1, 1) == Point2D(1, 1))\n",
    "print(Point2D(1, 1) != Point2D(1, 1))\n",
    "print(Point2D(1, 1) == Point2D(1, 2))\n",
    "print(Point2D(1, 1) != Point2D(1, 2))"
   ]
  },
  {
   "cell_type": "markdown",
   "id": "97d2dfcb",
   "metadata": {},
   "source": [
    "Обратите внимание, что когда мы определили __eq__ (==) для сравнения, __ne__ (!=) вывелся автоматически. Однако, это исключение. Если мы, например, определим ещё и __gt__ (>), операция __le__ (<=) сама не выведется."
   ]
  },
  {
   "cell_type": "markdown",
   "id": "5413d340",
   "metadata": {},
   "source": [
    "## Немного про представление переменных и копирование"
   ]
  },
  {
   "cell_type": "markdown",
   "id": "350dea46",
   "metadata": {},
   "source": [
    "Переменные в питоне стоит воспринимать как имена для ссылки, а не как контейнер, который хранит в себе что-то"
   ]
  },
  {
   "cell_type": "markdown",
   "id": "5f4852d6",
   "metadata": {},
   "source": [
    "### Классический пример"
   ]
  },
  {
   "cell_type": "code",
   "execution_count": 147,
   "id": "dd1e28b1",
   "metadata": {},
   "outputs": [
    {
     "data": {
      "text/plain": [
       "[1, 2, 3, 4]"
      ]
     },
     "execution_count": 147,
     "metadata": {},
     "output_type": "execute_result"
    }
   ],
   "source": [
    "a = [1, 2, 3]\n",
    "\n",
    "b = a\n",
    "a.append(4)\n",
    "\n",
    "b"
   ]
  },
  {
   "cell_type": "code",
   "execution_count": 148,
   "id": "d150103c",
   "metadata": {},
   "outputs": [
    {
     "data": {
      "text/plain": [
       "True"
      ]
     },
     "execution_count": 148,
     "metadata": {},
     "output_type": "execute_result"
    }
   ],
   "source": [
    "a is b"
   ]
  },
  {
   "cell_type": "code",
   "execution_count": 25,
   "id": "bed71bdc",
   "metadata": {},
   "outputs": [
    {
     "data": {
      "text/plain": [
       "True"
      ]
     },
     "execution_count": 25,
     "metadata": {},
     "output_type": "execute_result"
    }
   ],
   "source": [
    "id(a) == id(b)"
   ]
  },
  {
   "cell_type": "markdown",
   "id": "95ec9e4e",
   "metadata": {},
   "source": [
    "### Переменные приклеиваются к объектам только после их создания"
   ]
  },
  {
   "cell_type": "code",
   "execution_count": 26,
   "id": "21355ca7",
   "metadata": {},
   "outputs": [],
   "source": [
    "class Dummy:\n",
    "    def __init__(self):\n",
    "        print(f'Dummy id: {id(self)}')"
   ]
  },
  {
   "cell_type": "code",
   "execution_count": 214,
   "id": "28e83a12",
   "metadata": {},
   "outputs": [
    {
     "name": "stdout",
     "output_type": "stream",
     "text": [
      "Dummy id: 139854992273232\n",
      "Dummy id: 139854992270608\n"
     ]
    },
    {
     "ename": "TypeError",
     "evalue": "unsupported operand type(s) for *: 'Dummy' and 'int'",
     "output_type": "error",
     "traceback": [
      "\u001b[0;31m---------------------------------------------------------------------------\u001b[0m",
      "\u001b[0;31mTypeError\u001b[0m                                 Traceback (most recent call last)",
      "\u001b[0;32m/tmp/ipykernel_13492/2542050879.py\u001b[0m in \u001b[0;36m<module>\u001b[0;34m\u001b[0m\n\u001b[1;32m      1\u001b[0m \u001b[0mx\u001b[0m \u001b[0;34m=\u001b[0m \u001b[0mDummy\u001b[0m\u001b[0;34m(\u001b[0m\u001b[0;34m)\u001b[0m\u001b[0;34m\u001b[0m\u001b[0;34m\u001b[0m\u001b[0m\n\u001b[1;32m      2\u001b[0m \u001b[0;34m\u001b[0m\u001b[0m\n\u001b[0;32m----> 3\u001b[0;31m \u001b[0my\u001b[0m \u001b[0;34m=\u001b[0m \u001b[0mDummy\u001b[0m\u001b[0;34m(\u001b[0m\u001b[0;34m)\u001b[0m \u001b[0;34m*\u001b[0m \u001b[0;36m42\u001b[0m\u001b[0;34m\u001b[0m\u001b[0;34m\u001b[0m\u001b[0m\n\u001b[0m",
      "\u001b[0;31mTypeError\u001b[0m: unsupported operand type(s) for *: 'Dummy' and 'int'"
     ]
    }
   ],
   "source": [
    "x = Dummy()\n",
    "\n",
    "y = Dummy() * 42"
   ]
  },
  {
   "cell_type": "markdown",
   "id": "8663de92",
   "metadata": {},
   "source": [
    "Что с y?"
   ]
  },
  {
   "cell_type": "code",
   "execution_count": 150,
   "id": "e29da430",
   "metadata": {},
   "outputs": [
    {
     "ename": "NameError",
     "evalue": "name 'y' is not defined",
     "output_type": "error",
     "traceback": [
      "\u001b[0;31m---------------------------------------------------------------------------\u001b[0m",
      "\u001b[0;31mNameError\u001b[0m                                 Traceback (most recent call last)",
      "\u001b[0;32m/tmp/ipykernel_13492/3563912222.py\u001b[0m in \u001b[0;36m<module>\u001b[0;34m\u001b[0m\n\u001b[0;32m----> 1\u001b[0;31m \u001b[0my\u001b[0m\u001b[0;34m\u001b[0m\u001b[0;34m\u001b[0m\u001b[0m\n\u001b[0m",
      "\u001b[0;31mNameError\u001b[0m: name 'y' is not defined"
     ]
    }
   ],
   "source": [
    "y"
   ]
  },
  {
   "cell_type": "markdown",
   "id": "c2d5a2d4",
   "metadata": {},
   "source": [
    "## Копирование"
   ]
  },
  {
   "cell_type": "code",
   "execution_count": 156,
   "id": "ddcbec13",
   "metadata": {},
   "outputs": [
    {
     "name": "stdout",
     "output_type": "stream",
     "text": [
      "A 2D point with coordinates (3, 4)\n",
      "A 2D point with coordinates (-1, 4)\n",
      "139854984802064 139854984802064\n"
     ]
    }
   ],
   "source": [
    "a = Point2D(3, 4)\n",
    "print(a)\n",
    "\n",
    "b = a\n",
    "b.x = -1\n",
    "\n",
    "print(a)\n",
    "\n",
    "print(id(a), id(b))"
   ]
  },
  {
   "cell_type": "code",
   "execution_count": 157,
   "id": "97bbdeb0",
   "metadata": {},
   "outputs": [
    {
     "data": {
      "text/plain": [
       "True"
      ]
     },
     "execution_count": 157,
     "metadata": {},
     "output_type": "execute_result"
    }
   ],
   "source": [
    "a is b"
   ]
  },
  {
   "cell_type": "code",
   "execution_count": 158,
   "id": "ee490b78",
   "metadata": {},
   "outputs": [
    {
     "data": {
      "text/plain": [
       "True"
      ]
     },
     "execution_count": 158,
     "metadata": {},
     "output_type": "execute_result"
    }
   ],
   "source": [
    "id(a.x) == id(b.x)"
   ]
  },
  {
   "cell_type": "code",
   "execution_count": 154,
   "id": "6acdda29",
   "metadata": {},
   "outputs": [
    {
     "name": "stdout",
     "output_type": "stream",
     "text": [
      "A 2D point with coordinates (3, 4)\n",
      "A 2D point with coordinates (3, 4)\n",
      "A 2D point with coordinates (-1, 4)\n"
     ]
    }
   ],
   "source": [
    "import copy\n",
    "\n",
    "a = Point2D(3, 4)\n",
    "print(a)\n",
    "\n",
    "b = copy.copy(a)\n",
    "b.x = -1\n",
    "\n",
    "print(a)\n",
    "print(b)"
   ]
  },
  {
   "cell_type": "code",
   "execution_count": 153,
   "id": "60bda264",
   "metadata": {},
   "outputs": [
    {
     "data": {
      "text/plain": [
       "False"
      ]
     },
     "execution_count": 153,
     "metadata": {},
     "output_type": "execute_result"
    }
   ],
   "source": [
    "a is b"
   ]
  },
  {
   "cell_type": "code",
   "execution_count": 155,
   "id": "84187018",
   "metadata": {},
   "outputs": [
    {
     "data": {
      "text/plain": [
       "(94050341462848, 94050341462720)"
      ]
     },
     "execution_count": 155,
     "metadata": {},
     "output_type": "execute_result"
    }
   ],
   "source": [
    "id(a.x), id(b.x)"
   ]
  },
  {
   "cell_type": "markdown",
   "id": "7380826d",
   "metadata": {},
   "source": [
    "Но достаточно ли этого?"
   ]
  },
  {
   "cell_type": "code",
   "execution_count": 199,
   "id": "2fb707d1",
   "metadata": {},
   "outputs": [],
   "source": [
    "class Bus:\n",
    "    \n",
    "    def __init__(self, passengers=None):\n",
    "        if passengers is None:\n",
    "            self.passengers = []\n",
    "        else:\n",
    "            self.passengers = list(passengers)\n",
    "            \n",
    "    def pick(self, name):\n",
    "        self.passengers.append(name)\n",
    "    \n",
    "    def drop(self, name):\n",
    "        self.passengers.remove(name)"
   ]
  },
  {
   "cell_type": "code",
   "execution_count": 200,
   "id": "b86cdad3",
   "metadata": {},
   "outputs": [
    {
     "data": {
      "text/plain": [
       "(139854975838736, 139854988282640, 139854988282384)"
      ]
     },
     "execution_count": 200,
     "metadata": {},
     "output_type": "execute_result"
    }
   ],
   "source": [
    "bus1 = Bus(['Alice', 'Bob', 'Dad'])\n",
    "bus2 = copy.copy(bus1)\n",
    "bus3 = copy.deepcopy(bus1)\n",
    "\n",
    "id(bus1), id(bus2), id(bus3)"
   ]
  },
  {
   "cell_type": "code",
   "execution_count": 167,
   "id": "44e519f4",
   "metadata": {},
   "outputs": [
    {
     "data": {
      "text/plain": [
       "(['Alice', 'Bob', 'Dad'], ['Alice', 'Bob', 'Dad'])"
      ]
     },
     "execution_count": 167,
     "metadata": {},
     "output_type": "execute_result"
    }
   ],
   "source": [
    "bus1.passengers, bus2.passengers"
   ]
  },
  {
   "cell_type": "code",
   "execution_count": 168,
   "id": "770c6ed7",
   "metadata": {},
   "outputs": [],
   "source": [
    "bus2.drop('Bob')"
   ]
  },
  {
   "cell_type": "code",
   "execution_count": 173,
   "id": "47dbff8f",
   "metadata": {},
   "outputs": [
    {
     "data": {
      "text/plain": [
       "False"
      ]
     },
     "execution_count": 173,
     "metadata": {},
     "output_type": "execute_result"
    }
   ],
   "source": [
    "bus1 is bus2"
   ]
  },
  {
   "cell_type": "code",
   "execution_count": 171,
   "id": "ac88b60f",
   "metadata": {},
   "outputs": [
    {
     "data": {
      "text/plain": [
       "True"
      ]
     },
     "execution_count": 171,
     "metadata": {},
     "output_type": "execute_result"
    }
   ],
   "source": [
    "bus1.passengers is bus2.passengers"
   ]
  },
  {
   "cell_type": "code",
   "execution_count": 172,
   "id": "54b8a29f",
   "metadata": {},
   "outputs": [
    {
     "data": {
      "text/plain": [
       "False"
      ]
     },
     "execution_count": 172,
     "metadata": {},
     "output_type": "execute_result"
    }
   ],
   "source": [
    "bus3.passengers is bus1.passengers"
   ]
  },
  {
   "cell_type": "code",
   "execution_count": 170,
   "id": "89fae4b3",
   "metadata": {},
   "outputs": [
    {
     "data": {
      "text/plain": [
       "['Alice', 'Dad']"
      ]
     },
     "execution_count": 170,
     "metadata": {},
     "output_type": "execute_result"
    }
   ],
   "source": [
    "bus2.passengers"
   ]
  },
  {
   "cell_type": "code",
   "execution_count": 165,
   "id": "846539ba",
   "metadata": {},
   "outputs": [
    {
     "data": {
      "text/plain": [
       "['Alice', 'Bob', 'Dad']"
      ]
     },
     "execution_count": 165,
     "metadata": {},
     "output_type": "execute_result"
    }
   ],
   "source": [
    "bus3.passengers"
   ]
  },
  {
   "cell_type": "markdown",
   "id": "e36ac310",
   "metadata": {},
   "source": [
    "`__copy__, __deepcopy__`"
   ]
  },
  {
   "cell_type": "markdown",
   "id": "afec7d9c",
   "metadata": {},
   "source": [
    "## staticmethods"
   ]
  },
  {
   "cell_type": "code",
   "execution_count": 188,
   "id": "9d9591a8",
   "metadata": {},
   "outputs": [],
   "source": [
    "class Bus:\n",
    "    \n",
    "    def __init__(self, passengers=None):\n",
    "        if passengers is None:\n",
    "            self.passengers = []\n",
    "        else:\n",
    "            self.passengers = list(passengers)\n",
    "            \n",
    "    def pick(self, name):\n",
    "        self.passengers.append(name)\n",
    "    \n",
    "    def drop(self, name):\n",
    "        self.passengers.remove(name)\n",
    "    \n",
    "    @staticmethod\n",
    "    def greet_passengers(greeting='Hello, guys!'):\n",
    "        return greeting"
   ]
  },
  {
   "cell_type": "code",
   "execution_count": 183,
   "id": "296024b3",
   "metadata": {},
   "outputs": [],
   "source": [
    "bus = Bus(['Alice', 'Bob'])"
   ]
  },
  {
   "cell_type": "code",
   "execution_count": 184,
   "id": "87f28fe6",
   "metadata": {},
   "outputs": [
    {
     "data": {
      "text/plain": [
       "'Hello, guys!'"
      ]
     },
     "execution_count": 184,
     "metadata": {},
     "output_type": "execute_result"
    }
   ],
   "source": [
    "bus.greet_passengers()"
   ]
  },
  {
   "cell_type": "code",
   "execution_count": 185,
   "id": "e66f1348",
   "metadata": {},
   "outputs": [
    {
     "data": {
      "text/plain": [
       "'Hello, guys!'"
      ]
     },
     "execution_count": 185,
     "metadata": {},
     "output_type": "execute_result"
    }
   ],
   "source": [
    "long_bus = Bus(['Alice', 'Bob', 'Ed'])\n",
    "\n",
    "long_bus.greet_passengers()"
   ]
  },
  {
   "cell_type": "code",
   "execution_count": 189,
   "id": "ab61f57a",
   "metadata": {},
   "outputs": [
    {
     "data": {
      "text/plain": [
       "'Hello, guys!'"
      ]
     },
     "execution_count": 189,
     "metadata": {},
     "output_type": "execute_result"
    }
   ],
   "source": [
    "Bus.greet_passengers()"
   ]
  },
  {
   "cell_type": "markdown",
   "id": "217ad64e",
   "metadata": {},
   "source": [
    "## classmethod"
   ]
  },
  {
   "cell_type": "code",
   "execution_count": 217,
   "id": "cd024f08",
   "metadata": {},
   "outputs": [],
   "source": [
    "class Bus:\n",
    "    \n",
    "    NAME = 'Morning bus'\n",
    "    \n",
    "    def __init__(self, passengers=None):\n",
    "        if passengers is None:\n",
    "            self.passengers = []\n",
    "        else:\n",
    "            self.passengers = list(passengers)\n",
    "            \n",
    "    def pick(self, name):\n",
    "        self.passengers.append(name)\n",
    "    \n",
    "    def drop(self, name):\n",
    "        self.passengers.remove(name)\n",
    "    \n",
    "    @staticmethod\n",
    "    def greet_passengers(greeting='Hello, guys!'):\n",
    "        return greeting\n",
    "    \n",
    "    @classmethod\n",
    "    def greet_bus_passengers(cls, greeting='Hello, morning guys!'):\n",
    "        return f'{greeting} You are in our {cls.NAME}'"
   ]
  },
  {
   "cell_type": "code",
   "execution_count": 218,
   "id": "0b559631",
   "metadata": {},
   "outputs": [
    {
     "data": {
      "text/plain": [
       "'Hello, guys!'"
      ]
     },
     "execution_count": 218,
     "metadata": {},
     "output_type": "execute_result"
    }
   ],
   "source": [
    "Bus.greet_passengers()"
   ]
  },
  {
   "cell_type": "code",
   "execution_count": 219,
   "id": "f8180d0f",
   "metadata": {},
   "outputs": [
    {
     "data": {
      "text/plain": [
       "'Hello, morning guys! You are in our Morning bus'"
      ]
     },
     "execution_count": 219,
     "metadata": {},
     "output_type": "execute_result"
    }
   ],
   "source": [
    "Bus.greet_bus_passengers()"
   ]
  },
  {
   "cell_type": "markdown",
   "id": "63eba865",
   "metadata": {},
   "source": [
    "Заметим, что мы не можем получить доступ к переменным класса из статического метода"
   ]
  },
  {
   "cell_type": "code",
   "execution_count": 220,
   "id": "b3cad443",
   "metadata": {},
   "outputs": [],
   "source": [
    "class Bus:\n",
    "    \n",
    "    NAME = 'Morning bus'\n",
    "    \n",
    "    def __init__(self, passengers=None):\n",
    "        if passengers is None:\n",
    "            self.passengers = []\n",
    "        else:\n",
    "            self.passengers = list(passengers)\n",
    "            \n",
    "    def pick(self, name):\n",
    "        self.passengers.append(name)\n",
    "    \n",
    "    def drop(self, name):\n",
    "        self.passengers.remove(name)\n",
    "    \n",
    "    @staticmethod\n",
    "    def greet_passengers(greeting='Hello, guys!'):\n",
    "        return  greeting + NAME"
   ]
  },
  {
   "cell_type": "code",
   "execution_count": 221,
   "id": "c1b6d1aa",
   "metadata": {},
   "outputs": [
    {
     "ename": "NameError",
     "evalue": "name 'NAME' is not defined",
     "output_type": "error",
     "traceback": [
      "\u001b[0;31m---------------------------------------------------------------------------\u001b[0m",
      "\u001b[0;31mNameError\u001b[0m                                 Traceback (most recent call last)",
      "\u001b[0;32m/tmp/ipykernel_13492/3106773468.py\u001b[0m in \u001b[0;36m<module>\u001b[0;34m\u001b[0m\n\u001b[0;32m----> 1\u001b[0;31m \u001b[0mBus\u001b[0m\u001b[0;34m.\u001b[0m\u001b[0mgreet_passengers\u001b[0m\u001b[0;34m(\u001b[0m\u001b[0;34m)\u001b[0m\u001b[0;34m\u001b[0m\u001b[0;34m\u001b[0m\u001b[0m\n\u001b[0m",
      "\u001b[0;32m/tmp/ipykernel_13492/1757355532.py\u001b[0m in \u001b[0;36mgreet_passengers\u001b[0;34m(greeting)\u001b[0m\n\u001b[1;32m     17\u001b[0m     \u001b[0;34m@\u001b[0m\u001b[0mstaticmethod\u001b[0m\u001b[0;34m\u001b[0m\u001b[0;34m\u001b[0m\u001b[0m\n\u001b[1;32m     18\u001b[0m     \u001b[0;32mdef\u001b[0m \u001b[0mgreet_passengers\u001b[0m\u001b[0;34m(\u001b[0m\u001b[0mgreeting\u001b[0m\u001b[0;34m=\u001b[0m\u001b[0;34m'Hello, guys!'\u001b[0m\u001b[0;34m)\u001b[0m\u001b[0;34m:\u001b[0m\u001b[0;34m\u001b[0m\u001b[0;34m\u001b[0m\u001b[0m\n\u001b[0;32m---> 19\u001b[0;31m         \u001b[0;32mreturn\u001b[0m  \u001b[0mgreeting\u001b[0m \u001b[0;34m+\u001b[0m \u001b[0mNAME\u001b[0m\u001b[0;34m\u001b[0m\u001b[0;34m\u001b[0m\u001b[0m\n\u001b[0m",
      "\u001b[0;31mNameError\u001b[0m: name 'NAME' is not defined"
     ]
    }
   ],
   "source": [
    "Bus.greet_passengers()"
   ]
  },
  {
   "cell_type": "markdown",
   "id": "b5d80a2c",
   "metadata": {},
   "source": [
    "## Tasks, Bonus HW"
   ]
  },
  {
   "cell_type": "markdown",
   "id": "d992d039",
   "metadata": {},
   "source": [
    "**Bonus HW**.\n",
    "\n",
    "1. Реализуйте **\"сумасшедший класс\"**. А именно класс Nuts, экземпляр которого:\n",
    "\n",
    "- можно конструировать из чего угодно (в т. ч. из ничего)\n",
    "\n",
    "- можно индексировать по чему угодно (возвращается объект, который использовался в индексе)\n",
    "\n",
    "- позволяет присваивать и удалять по индексу (ничего не происходит) \n",
    "\n",
    "- содержит любое поле (возвращается имя этого поля)\n",
    "\n",
    "- позволяет присваивать и удалять поля (ничего не происходит) \n",
    "\n",
    "- поддерживает итерирование (последовательность пуста)\n",
    "\n",
    "- в виде строки представляется как \"Hello, I'm Nuts!\" и также поддерживает формальное строковое представление\n",
    "\n",
    "2. Реализуйте **класс Complex** для работы с комплексными числами. Реализуйте:\n",
    "- операции сравнения, сложения, умножения, вычитания и их inplace версии\n",
    "- строковые представления"
   ]
  }
 ],
 "metadata": {
  "kernelspec": {
   "display_name": "Python 3.7.4 64-bit ('base': conda)",
   "language": "python",
   "name": "python37464bitbaseconda673265f21f5749a2af8cc8a878fb0657"
  },
  "language_info": {
   "codemirror_mode": {
    "name": "ipython",
    "version": 3
   },
   "file_extension": ".py",
   "mimetype": "text/x-python",
   "name": "python",
   "nbconvert_exporter": "python",
   "pygments_lexer": "ipython3",
   "version": "3.7.6"
  },
  "latex_envs": {
   "LaTeX_envs_menu_present": true,
   "autoclose": false,
   "autocomplete": true,
   "bibliofile": "biblio.bib",
   "cite_by": "apalike",
   "current_citInitial": 1,
   "eqLabelWithNumbers": true,
   "eqNumInitial": 1,
   "hotkeys": {
    "equation": "Ctrl-E",
    "itemize": "Ctrl-I"
   },
   "labels_anchors": false,
   "latex_user_defs": false,
   "report_style_numbering": false,
   "user_envs_cfg": false
  },
  "toc": {
   "base_numbering": 1,
   "nav_menu": {},
   "number_sections": true,
   "sideBar": true,
   "skip_h1_title": false,
   "title_cell": "Table of Contents",
   "title_sidebar": "Contents",
   "toc_cell": false,
   "toc_position": {
    "height": "calc(100% - 180px)",
    "left": "10px",
    "top": "150px",
    "width": "330px"
   },
   "toc_section_display": true,
   "toc_window_display": true
  }
 },
 "nbformat": 4,
 "nbformat_minor": 5
}
