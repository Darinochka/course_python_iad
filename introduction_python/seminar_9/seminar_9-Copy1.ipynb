{
 "cells": [
  {
   "cell_type": "markdown",
   "id": "06a0cc5b",
   "metadata": {},
   "source": [
    "## И еще про классы в Python"
   ]
  },
  {
   "cell_type": "code",
   "execution_count": 3,
   "id": "9ca1a614",
   "metadata": {},
   "outputs": [],
   "source": [
    "import pandas as pd\n",
    "from sklearn.linear_model import LinearRegression"
   ]
  },
  {
   "cell_type": "code",
   "execution_count": 9,
   "id": "5831ca33",
   "metadata": {},
   "outputs": [
    {
     "data": {
      "text/html": [
       "<div>\n",
       "<style scoped>\n",
       "    .dataframe tbody tr th:only-of-type {\n",
       "        vertical-align: middle;\n",
       "    }\n",
       "\n",
       "    .dataframe tbody tr th {\n",
       "        vertical-align: top;\n",
       "    }\n",
       "\n",
       "    .dataframe thead th {\n",
       "        text-align: right;\n",
       "    }\n",
       "</style>\n",
       "<table border=\"1\" class=\"dataframe\">\n",
       "  <thead>\n",
       "    <tr style=\"text-align: right;\">\n",
       "      <th></th>\n",
       "      <th>a</th>\n",
       "      <th>b</th>\n",
       "      <th>c</th>\n",
       "      <th>d</th>\n",
       "      <th>e</th>\n",
       "      <th>f</th>\n",
       "    </tr>\n",
       "  </thead>\n",
       "  <tbody>\n",
       "    <tr>\n",
       "      <th>0</th>\n",
       "      <td>105</td>\n",
       "      <td>6300</td>\n",
       "      <td>6</td>\n",
       "      <td>1</td>\n",
       "      <td>3060</td>\n",
       "      <td>6300</td>\n",
       "    </tr>\n",
       "    <tr>\n",
       "      <th>1</th>\n",
       "      <td>225</td>\n",
       "      <td>2700</td>\n",
       "      <td>5</td>\n",
       "      <td>2</td>\n",
       "      <td>3780</td>\n",
       "      <td>79200</td>\n",
       "    </tr>\n",
       "    <tr>\n",
       "      <th>2</th>\n",
       "      <td>255</td>\n",
       "      <td>26100</td>\n",
       "      <td>2</td>\n",
       "      <td>2</td>\n",
       "      <td>2340</td>\n",
       "      <td>79200</td>\n",
       "    </tr>\n",
       "    <tr>\n",
       "      <th>3</th>\n",
       "      <td>105</td>\n",
       "      <td>6300</td>\n",
       "      <td>3</td>\n",
       "      <td>1</td>\n",
       "      <td>3060</td>\n",
       "      <td>6300</td>\n",
       "    </tr>\n",
       "    <tr>\n",
       "      <th>4</th>\n",
       "      <td>255</td>\n",
       "      <td>26100</td>\n",
       "      <td>2</td>\n",
       "      <td>2</td>\n",
       "      <td>2340</td>\n",
       "      <td>79200</td>\n",
       "    </tr>\n",
       "    <tr>\n",
       "      <th>5</th>\n",
       "      <td>105</td>\n",
       "      <td>6300</td>\n",
       "      <td>9</td>\n",
       "      <td>1</td>\n",
       "      <td>3060</td>\n",
       "      <td>6300</td>\n",
       "    </tr>\n",
       "    <tr>\n",
       "      <th>6</th>\n",
       "      <td>95</td>\n",
       "      <td>5700</td>\n",
       "      <td>9</td>\n",
       "      <td>2</td>\n",
       "      <td>2460</td>\n",
       "      <td>5700</td>\n",
       "    </tr>\n",
       "  </tbody>\n",
       "</table>\n",
       "</div>"
      ],
      "text/plain": [
       "     a      b  c  d     e      f\n",
       "0  105   6300  6  1  3060   6300\n",
       "1  225   2700  5  2  3780  79200\n",
       "2  255  26100  2  2  2340  79200\n",
       "3  105   6300  3  1  3060   6300\n",
       "4  255  26100  2  2  2340  79200\n",
       "5  105   6300  9  1  3060   6300\n",
       "6   95   5700  9  2  2460   5700"
      ]
     },
     "execution_count": 9,
     "metadata": {},
     "output_type": "execute_result"
    }
   ],
   "source": [
    "df = pd.read_csv('data.csv')\n",
    "df"
   ]
  },
  {
   "cell_type": "code",
   "execution_count": 10,
   "id": "43c81020",
   "metadata": {},
   "outputs": [],
   "source": [
    "df['b'] /= 60"
   ]
  },
  {
   "cell_type": "code",
   "execution_count": 11,
   "id": "28b83626",
   "metadata": {},
   "outputs": [],
   "source": [
    "target = ['f']\n",
    "\n",
    "x = df[['a', 'b']]\n",
    "y = df[target]"
   ]
  },
  {
   "cell_type": "code",
   "execution_count": 12,
   "id": "b45ce8a6",
   "metadata": {},
   "outputs": [
    {
     "data": {
      "text/plain": [
       "LinearRegression()"
      ]
     },
     "execution_count": 12,
     "metadata": {},
     "output_type": "execute_result"
    }
   ],
   "source": [
    "reg = LinearRegression()\n",
    "reg.fit(x, y)"
   ]
  },
  {
   "cell_type": "code",
   "execution_count": 13,
   "id": "79614427",
   "metadata": {},
   "outputs": [
    {
     "data": {
      "text/plain": [
       "array([[574.10469909, -43.99752679]])"
      ]
     },
     "execution_count": 13,
     "metadata": {},
     "output_type": "execute_result"
    }
   ],
   "source": [
    "reg.coef_"
   ]
  },
  {
   "cell_type": "code",
   "execution_count": 14,
   "id": "c3345da1",
   "metadata": {},
   "outputs": [
    {
     "data": {
      "text/html": [
       "<div>\n",
       "<style scoped>\n",
       "    .dataframe tbody tr th:only-of-type {\n",
       "        vertical-align: middle;\n",
       "    }\n",
       "\n",
       "    .dataframe tbody tr th {\n",
       "        vertical-align: top;\n",
       "    }\n",
       "\n",
       "    .dataframe thead th {\n",
       "        text-align: right;\n",
       "    }\n",
       "</style>\n",
       "<table border=\"1\" class=\"dataframe\">\n",
       "  <thead>\n",
       "    <tr style=\"text-align: right;\">\n",
       "      <th></th>\n",
       "      <th>a</th>\n",
       "      <th>b</th>\n",
       "      <th>c</th>\n",
       "      <th>d</th>\n",
       "      <th>e</th>\n",
       "      <th>f</th>\n",
       "    </tr>\n",
       "  </thead>\n",
       "  <tbody>\n",
       "    <tr>\n",
       "      <th>0</th>\n",
       "      <td>105</td>\n",
       "      <td>105.0</td>\n",
       "      <td>6</td>\n",
       "      <td>1</td>\n",
       "      <td>3060</td>\n",
       "      <td>6300</td>\n",
       "    </tr>\n",
       "    <tr>\n",
       "      <th>1</th>\n",
       "      <td>225</td>\n",
       "      <td>45.0</td>\n",
       "      <td>5</td>\n",
       "      <td>2</td>\n",
       "      <td>3780</td>\n",
       "      <td>79200</td>\n",
       "    </tr>\n",
       "    <tr>\n",
       "      <th>2</th>\n",
       "      <td>255</td>\n",
       "      <td>435.0</td>\n",
       "      <td>2</td>\n",
       "      <td>2</td>\n",
       "      <td>2340</td>\n",
       "      <td>79200</td>\n",
       "    </tr>\n",
       "    <tr>\n",
       "      <th>3</th>\n",
       "      <td>105</td>\n",
       "      <td>105.0</td>\n",
       "      <td>3</td>\n",
       "      <td>1</td>\n",
       "      <td>3060</td>\n",
       "      <td>6300</td>\n",
       "    </tr>\n",
       "    <tr>\n",
       "      <th>4</th>\n",
       "      <td>255</td>\n",
       "      <td>435.0</td>\n",
       "      <td>2</td>\n",
       "      <td>2</td>\n",
       "      <td>2340</td>\n",
       "      <td>79200</td>\n",
       "    </tr>\n",
       "    <tr>\n",
       "      <th>5</th>\n",
       "      <td>105</td>\n",
       "      <td>105.0</td>\n",
       "      <td>9</td>\n",
       "      <td>1</td>\n",
       "      <td>3060</td>\n",
       "      <td>6300</td>\n",
       "    </tr>\n",
       "    <tr>\n",
       "      <th>6</th>\n",
       "      <td>95</td>\n",
       "      <td>95.0</td>\n",
       "      <td>9</td>\n",
       "      <td>2</td>\n",
       "      <td>2460</td>\n",
       "      <td>5700</td>\n",
       "    </tr>\n",
       "  </tbody>\n",
       "</table>\n",
       "</div>"
      ],
      "text/plain": [
       "     a      b  c  d     e      f\n",
       "0  105  105.0  6  1  3060   6300\n",
       "1  225   45.0  5  2  3780  79200\n",
       "2  255  435.0  2  2  2340  79200\n",
       "3  105  105.0  3  1  3060   6300\n",
       "4  255  435.0  2  2  2340  79200\n",
       "5  105  105.0  9  1  3060   6300\n",
       "6   95   95.0  9  2  2460   5700"
      ]
     },
     "execution_count": 14,
     "metadata": {},
     "output_type": "execute_result"
    }
   ],
   "source": [
    "df"
   ]
  },
  {
   "cell_type": "markdown",
   "id": "39d998b4",
   "metadata": {},
   "source": [
    "### Наследование"
   ]
  },
  {
   "cell_type": "markdown",
   "id": "4c156cd0",
   "metadata": {
    "ExecuteTime": {
     "end_time": "2021-11-17T01:15:44.393221Z",
     "start_time": "2021-11-17T01:15:44.388618Z"
    }
   },
   "source": [
    "Вспомним игрушечный пример с прошлого семинара"
   ]
  },
  {
   "cell_type": "code",
   "execution_count": 1,
   "id": "d6283d65",
   "metadata": {
    "ExecuteTime": {
     "end_time": "2021-11-17T01:15:50.014764Z",
     "start_time": "2021-11-17T01:15:50.011636Z"
    }
   },
   "outputs": [],
   "source": [
    "class Parent:\n",
    "    def __init__(self, letter='D'):\n",
    "        self._letter = letter\n",
    "        \n",
    "    def get_letter(self):\n",
    "        return self._letter\n",
    "    \n",
    "class Child(Parent):\n",
    "    def __init__(self, parent_letter='D', child_letter='B'):\n",
    "        super().__init__(parent_letter)\n",
    "        print(f'parent inited {self._letter}')\n",
    "        self.new_letter = child_letter\n",
    "        \n",
    "    def get_child_letter(self):\n",
    "        return self.new_letter"
   ]
  },
  {
   "cell_type": "markdown",
   "id": "46abc2b7",
   "metadata": {},
   "source": [
    "#### Предположим, вы хотите отнаследоваться от стандартного типа. Что может пойти не так"
   ]
  },
  {
   "cell_type": "code",
   "execution_count": 17,
   "id": "bf0f7f8c",
   "metadata": {},
   "outputs": [],
   "source": [
    "class MyDict(dict):\n",
    "    def __setitem__(self, k, v) -> None:\n",
    "        super().__setitem__(k, [v] * 2)"
   ]
  },
  {
   "cell_type": "code",
   "execution_count": 16,
   "id": "cbab097b",
   "metadata": {},
   "outputs": [
    {
     "data": {
      "text/plain": [
       "{'one': 1, 'two': [2, 2], 'third': 4}"
      ]
     },
     "execution_count": 16,
     "metadata": {},
     "output_type": "execute_result"
    }
   ],
   "source": [
    "a = MyDict(one=1)\n",
    "a['two'] = 2\n",
    "a.update({'third': 4})\n",
    "a"
   ]
  },
  {
   "cell_type": "code",
   "execution_count": 18,
   "id": "7dc75aa2",
   "metadata": {},
   "outputs": [],
   "source": [
    "class TroubleDict(dict):\n",
    "    def __getitem__(self, k):\n",
    "        return 42"
   ]
  },
  {
   "cell_type": "code",
   "execution_count": 20,
   "id": "b026fbf4",
   "metadata": {},
   "outputs": [
    {
     "data": {
      "text/plain": [
       "42"
      ]
     },
     "execution_count": 20,
     "metadata": {},
     "output_type": "execute_result"
    }
   ],
   "source": [
    "bd = TroubleDict(a = 'answer')\n",
    "bd[a]"
   ]
  },
  {
   "cell_type": "markdown",
   "id": "5b79e4d5",
   "metadata": {},
   "source": [
    "#### Как надо?"
   ]
  },
  {
   "cell_type": "code",
   "execution_count": 22,
   "id": "170075a7",
   "metadata": {},
   "outputs": [],
   "source": [
    "from collections import UserDict"
   ]
  },
  {
   "cell_type": "code",
   "execution_count": 24,
   "id": "f54f3d91",
   "metadata": {},
   "outputs": [],
   "source": [
    "class MyDict(UserDict):\n",
    "    def __setitem__(self, k, v) -> None:\n",
    "        super().__setitem__(k, [v] * 2)"
   ]
  },
  {
   "cell_type": "code",
   "execution_count": 25,
   "id": "db251be8",
   "metadata": {},
   "outputs": [
    {
     "data": {
      "text/plain": [
       "{'one': [1, 1]}"
      ]
     },
     "execution_count": 25,
     "metadata": {},
     "output_type": "execute_result"
    }
   ],
   "source": [
    "dd = MyDict(one=1)\n",
    "dd"
   ]
  },
  {
   "cell_type": "markdown",
   "id": "bc1d5784",
   "metadata": {},
   "source": [
    "### ABC"
   ]
  },
  {
   "cell_type": "markdown",
   "id": "17914c76",
   "metadata": {},
   "source": [
    "`Types are defined by their supported operations`"
   ]
  },
  {
   "cell_type": "markdown",
   "id": "a704d7e8",
   "metadata": {},
   "source": [
    "Для того, чтобы что-то работало как последовательность, не обязательно определять много методов. Достаточно объявить `__getitem__`"
   ]
  },
  {
   "cell_type": "code",
   "execution_count": 26,
   "id": "ea4f3037",
   "metadata": {
    "ExecuteTime": {
     "end_time": "2021-11-17T01:46:49.008877Z",
     "start_time": "2021-11-17T01:46:49.004773Z"
    }
   },
   "outputs": [
    {
     "data": {
      "text/plain": [
       "('A', 'O')"
      ]
     },
     "execution_count": 26,
     "metadata": {},
     "output_type": "execute_result"
    }
   ],
   "source": [
    "class Vovels:\n",
    "    def __getitem__(self, i):\n",
    "        return 'AIEUO'[i]\n",
    "\n",
    "vovels = Vovels()\n",
    "vovels[0], vovels[-1]"
   ]
  },
  {
   "cell_type": "code",
   "execution_count": 27,
   "id": "c48fabce",
   "metadata": {
    "ExecuteTime": {
     "end_time": "2021-11-17T01:47:01.473119Z",
     "start_time": "2021-11-17T01:47:01.468685Z"
    }
   },
   "outputs": [
    {
     "name": "stdout",
     "output_type": "stream",
     "text": [
      "A\n",
      "I\n",
      "E\n",
      "U\n",
      "O\n"
     ]
    }
   ],
   "source": [
    "for v in vovels: print(v)"
   ]
  },
  {
   "cell_type": "markdown",
   "id": "3a6cfdf6",
   "metadata": {},
   "source": [
    "Однако несмотря на простоту, мы не определили len! Казалось бы, один из базовых методов, но можно и без него"
   ]
  },
  {
   "cell_type": "code",
   "execution_count": 29,
   "id": "28e83f3b",
   "metadata": {
    "ExecuteTime": {
     "end_time": "2021-11-17T01:47:51.045750Z",
     "start_time": "2021-11-17T01:47:51.036418Z"
    }
   },
   "outputs": [
    {
     "ename": "TypeError",
     "evalue": "object of type 'Vovels' has no len()",
     "output_type": "error",
     "traceback": [
      "\u001b[1;31m---------------------------------------------------------------------------\u001b[0m",
      "\u001b[1;31mTypeError\u001b[0m                                 Traceback (most recent call last)",
      "\u001b[1;32m~\\AppData\\Local\\Temp/ipykernel_17700/294677619.py\u001b[0m in \u001b[0;36m<module>\u001b[1;34m\u001b[0m\n\u001b[1;32m----> 1\u001b[1;33m \u001b[0mlen\u001b[0m\u001b[1;33m(\u001b[0m\u001b[0mvovels\u001b[0m\u001b[1;33m)\u001b[0m\u001b[1;33m\u001b[0m\u001b[1;33m\u001b[0m\u001b[0m\n\u001b[0m",
      "\u001b[1;31mTypeError\u001b[0m: object of type 'Vovels' has no len()"
     ]
    }
   ],
   "source": [
    "len(vovels)"
   ]
  },
  {
   "cell_type": "markdown",
   "id": "c7618f09",
   "metadata": {},
   "source": [
    "Можно сказать, что в данном случае мы реализовали часть *динамического протокола* последовательности, и при этом все равно смогли использовать ее функционал. Однако, в таком случае мы можем столкнуться с проблемами, когда передадим нашу \"последовательность\" куда-то, где от нее будут ожидать реализацию хотя бы метода длины"
   ]
  },
  {
   "cell_type": "markdown",
   "id": "84158dbc",
   "metadata": {},
   "source": [
    "Это отличный пример **duck typing** -- игнорирование конкретного типа объекта, если он определяет конкретные необходимые методы"
   ]
  },
  {
   "cell_type": "markdown",
   "id": "b91b324e",
   "metadata": {
    "ExecuteTime": {
     "end_time": "2021-11-17T01:52:09.591583Z",
     "start_time": "2021-11-17T01:52:09.588466Z"
    }
   },
   "source": [
    "Нам не обязательно создавать наследника класса последовательности, чтобы использовать объект так, как мы хотим. Python делает много работы за нас в этом случае"
   ]
  },
  {
   "cell_type": "markdown",
   "id": "9e8eeb8d",
   "metadata": {},
   "source": [
    "Но что если мы явно хотим сделать некоторые методы обязательными? Здесь нам на помощь приходят **abstract base classes**\n",
    "https://docs.python.org/3/library/abc.html"
   ]
  },
  {
   "cell_type": "markdown",
   "id": "b519f0bf",
   "metadata": {},
   "source": [
    "#### **Goose typing**:\n",
    "- Наследуемся от ABC чтобы явно продемонстрировать следование объявленному интерфейсу\n",
    "- Проверка типа isinstance и issubclass осуществляется для интерфейса"
   ]
  },
  {
   "cell_type": "code",
   "execution_count": 30,
   "id": "b79ca551",
   "metadata": {
    "ExecuteTime": {
     "end_time": "2021-11-17T02:14:02.834246Z",
     "start_time": "2021-11-17T02:14:02.831038Z"
    }
   },
   "outputs": [],
   "source": [
    "from collections import namedtuple, abc\n",
    "\n",
    "class SequenceVovels(abc.Sequence):\n",
    "    def __getitem__(self, i):\n",
    "        return 'AIEUO'[i]"
   ]
  },
  {
   "cell_type": "code",
   "execution_count": 31,
   "id": "eecb1df2",
   "metadata": {
    "ExecuteTime": {
     "end_time": "2021-11-17T02:14:07.460560Z",
     "start_time": "2021-11-17T02:14:07.447109Z"
    }
   },
   "outputs": [
    {
     "ename": "TypeError",
     "evalue": "Can't instantiate abstract class SequenceVovels with abstract methods __len__",
     "output_type": "error",
     "traceback": [
      "\u001b[1;31m---------------------------------------------------------------------------\u001b[0m",
      "\u001b[1;31mTypeError\u001b[0m                                 Traceback (most recent call last)",
      "\u001b[1;32m~\\AppData\\Local\\Temp/ipykernel_17700/2429804814.py\u001b[0m in \u001b[0;36m<module>\u001b[1;34m\u001b[0m\n\u001b[1;32m----> 1\u001b[1;33m \u001b[0mvov\u001b[0m \u001b[1;33m=\u001b[0m \u001b[0mSequenceVovels\u001b[0m\u001b[1;33m(\u001b[0m\u001b[1;33m)\u001b[0m\u001b[1;33m\u001b[0m\u001b[1;33m\u001b[0m\u001b[0m\n\u001b[0m",
      "\u001b[1;31mTypeError\u001b[0m: Can't instantiate abstract class SequenceVovels with abstract methods __len__"
     ]
    }
   ],
   "source": [
    "vov = SequenceVovels()"
   ]
  },
  {
   "cell_type": "code",
   "execution_count": 32,
   "id": "9cf1cb92",
   "metadata": {
    "ExecuteTime": {
     "end_time": "2021-11-17T02:15:05.530256Z",
     "start_time": "2021-11-17T02:15:05.527213Z"
    }
   },
   "outputs": [],
   "source": [
    "class SequenceVovels(abc.Sequence):\n",
    "    \n",
    "    VOVELS = 'AIEUO'\n",
    "    \n",
    "    def __getitem__(self, i):\n",
    "        return VOVELS[i]\n",
    "    \n",
    "    def __len__(self):\n",
    "        return len(self.VOVELS)"
   ]
  },
  {
   "cell_type": "code",
   "execution_count": 33,
   "id": "7329f79c",
   "metadata": {
    "ExecuteTime": {
     "end_time": "2021-11-17T02:15:12.025947Z",
     "start_time": "2021-11-17T02:15:12.023105Z"
    }
   },
   "outputs": [],
   "source": [
    "vov = SequenceVovels()"
   ]
  },
  {
   "cell_type": "markdown",
   "id": "7528a688",
   "metadata": {},
   "source": [
    "#### Можно объявить свой ABC"
   ]
  },
  {
   "cell_type": "code",
   "execution_count": 34,
   "id": "823e49d2",
   "metadata": {
    "ExecuteTime": {
     "end_time": "2021-11-17T02:23:33.776723Z",
     "start_time": "2021-11-17T02:23:33.773251Z"
    }
   },
   "outputs": [],
   "source": [
    "import abc\n",
    "class MyABC(abc.ABC):\n",
    "    \n",
    "    @abc.abstractmethod\n",
    "    def do_smth(self, a):\n",
    "        \"\"\"does something\"\"\"\n",
    "    \n",
    "    @staticmethod\n",
    "    @abc.abstractmethod  # should be inner, order matters\n",
    "    def do_smth_static(a):\n",
    "        \"\"\"a staticmethod that does something\"\"\"\n",
    "        \n",
    "    @classmethod\n",
    "    @abc.abstractmethod  # should be inner, order matters\n",
    "    def do_smth_class(cls, a):\n",
    "        \"\"\"a classmethod that does something\"\"\""
   ]
  },
  {
   "cell_type": "markdown",
   "id": "79c22267",
   "metadata": {},
   "source": [
    "#### Варианты проверки типов"
   ]
  },
  {
   "cell_type": "markdown",
   "id": "487c29f2",
   "metadata": {
    "ExecuteTime": {
     "end_time": "2021-11-17T02:28:15.231675Z",
     "start_time": "2021-11-17T02:28:15.228257Z"
    }
   },
   "source": [
    "Предположим, у нас есть некоторый объект `maybe_complex` и мы хотим проверить, можно ли использовать его как Complex number"
   ]
  },
  {
   "cell_type": "markdown",
   "id": "e9759740",
   "metadata": {},
   "source": [
    "**1 способ**"
   ]
  },
  {
   "cell_type": "markdown",
   "id": "99a16e61",
   "metadata": {},
   "source": [
    "```python\n",
    "from typing import SupportsComplex\n",
    "\n",
    "if isinstance(maybe_comlex, (complex, SupportsComplex)):\n",
    "    # do smth that requires our object to be complex\n",
    "    else:\n",
    "        raise TypeError('maybe_complex should be convertible to complex')\n",
    "```"
   ]
  },
  {
   "cell_type": "markdown",
   "id": "c0834580",
   "metadata": {},
   "source": [
    "**2 способ**\n",
    "\n",
    "```python\n",
    "\n",
    "import numbers\n",
    "\n",
    "if isinstance(maybe_comlex, (numbers.Complex)):\n",
    "    # do smth that requires our object to be complex\n",
    "    else:\n",
    "        raise TypeError('maybe_complex should be an instance of complex')\n",
    "```"
   ]
  },
  {
   "cell_type": "markdown",
   "id": "fe53ceb9",
   "metadata": {},
   "source": [
    "**3 способ aka Fail Fast or EAFP** *‘Easier to Ask for Forgiveness than Permission’*\n",
    "\n"
   ]
  },
  {
   "cell_type": "markdown",
   "id": "7b093a52",
   "metadata": {},
   "source": [
    "```python\n",
    "\n",
    "try:\n",
    "    c = complex(maybe_complex)\n",
    "except TypeError as e:\n",
    "    raise TypeError('maybe_complex should be convertible to complex')\n",
    "```"
   ]
  },
  {
   "cell_type": "markdown",
   "id": "c4dc1374",
   "metadata": {},
   "source": [
    "Несколько советов про наследование:\n",
    "\n",
    "1. Не переиспользуйте наследование for fun там, где этого можно избежать\n",
    "2. Понимайте, почему в конкретном месте используется наследование\n",
    "3. Если вам важно соблюдение интерфейса, обозначьте это явно с помощью ABC\n",
    "4. Будьте осторожны с наследованием от стандартных типов. Используйте модуль Collections"
   ]
  },
  {
   "cell_type": "markdown",
   "id": "4d86ecd0",
   "metadata": {},
   "source": [
    "## Регулярные выражения"
   ]
  },
  {
   "cell_type": "markdown",
   "id": "26165948",
   "metadata": {
    "ExecuteTime": {
     "end_time": "2021-11-17T02:56:48.721812Z",
     "start_time": "2021-11-17T02:56:48.718678Z"
    }
   },
   "source": [
    "Полезные ссылки:\n",
    "\n",
    "https://habr.com/ru/post/349860/\n",
    "\n",
    "https://uneex.org/HSE/ProgrammingOS/15_Regexp\n",
    "    \n",
    "https://regexone.com/    \n",
    "    \n",
    "https://ravesli.com/regulyarnye-vyrazheniya-osnovy/\n",
    "    \n",
    "https://regex101.com/"
   ]
  },
  {
   "cell_type": "markdown",
   "id": "aa5bf2f9",
   "metadata": {},
   "source": [
    "## Fun regexp tasks"
   ]
  },
  {
   "cell_type": "markdown",
   "id": "6b3e6879",
   "metadata": {},
   "source": [
    "Пример с логом apache\n",
    "\n",
    "`cat error.log.14 | grep -P '[A-Z0-9]+: .*restart'`"
   ]
  },
  {
   "cell_type": "markdown",
   "id": "0439d49b",
   "metadata": {},
   "source": [
    "### E-mails\n",
    "\n",
    "Вы забеспокоились о приватности данных ваших однокурсников и преподавателей и решили тайком удалить все их личные почты из общего файла. При этом, вы хотите, чтобы с ними можно было связаться, поэтому университетские почты вы в файле оставляете.\n",
    "\n",
    "Вывести все упомянутые почты. Все почты, не отсносящиеся к @hse.ru или @edu.hse.ru, заменить на фразу \"Pr1v@cY REstorED\"\n",
    "\n",
    "PS Попробуйте сделать это в командной строчке линукса. Вам поможет команда sed"
   ]
  },
  {
   "cell_type": "code",
   "execution_count": 36,
   "id": "1cf90bc1",
   "metadata": {},
   "outputs": [],
   "source": [
    "import re"
   ]
  },
  {
   "cell_type": "code",
   "execution_count": 62,
   "id": "d9eb88e6",
   "metadata": {},
   "outputs": [
    {
     "name": "stdout",
     "output_type": "stream",
     "text": [
      "ddrustamova\n",
      "ejrpgerg\n",
      "ddrustamova\n",
      "Pr1v@cY REstorED\n",
      "Pr1v@cY REstorED\n",
      "Pr1v@cY REstorED\n",
      "alena\n",
      "mila\n",
      "Pr1v@cY REstorED\n",
      "Pr1v@cY REstorED\n"
     ]
    }
   ],
   "source": [
    "with open('mails.txt', 'r') as f:\n",
    "    for line in f.readlines():\n",
    "        line = line.rstrip()\n",
    "        convert_corr = re.sub('.*@(?!(edu.hse.ru|hse.ru))', 'Pr1v@cY REstorED@ ', line)\n",
    "        clear_email = re.split('@', convert_corr)[:-1] # делим по @ и убираем последний (т.е @mail.ru)\n",
    "        print(\"@\".join(clear_email))"
   ]
  },
  {
   "cell_type": "markdown",
   "id": "b3489154",
   "metadata": {},
   "source": [
    "### Погенерируем пароли\n",
    "\n",
    "Вы наконец-то обеспокоились своей безопасностью в сети и решили обновить все свои пароли. Однако придумывать все самим для всех ваших сайтов вам, конечно, лень. Поэтому вы решили написать программу, которая это сделает за вас!\n",
    "\n",
    "Сгенерируйте случайный пароль длины N. Убедитесь, что получившийся пароль на самом деле хороший. В нашем случае это:\n",
    "1. Содержит хотя бы две заглавные буквы подряд\n",
    "2. Содержит хотя бы две строчные буквы подряд\n",
    "3. Не содержит пробельные спецсимволы (\\t, \\n и подобные)\n",
    "4. Не содержит трех цифр подряд\n",
    "5. Содержит и русские, и английские буквы \n",
    "\n",
    "Ваш код должен генерировать пароли, пока они не удовлетворят заданным условиям."
   ]
  },
  {
   "cell_type": "code",
   "execution_count": 39,
   "id": "53ddf344",
   "metadata": {},
   "outputs": [],
   "source": [
    "import sre_yield\n",
    "import random"
   ]
  },
  {
   "cell_type": "code",
   "execution_count": 40,
   "id": "3d74638a",
   "metadata": {},
   "outputs": [],
   "source": [
    "symbols = list(sre_yield.AllStrings('([A-Z]|[1-9]|[a-z]|[А-Я]|[а-я]|[\\t\\n\\s\\0\\r])'))"
   ]
  },
  {
   "cell_type": "code",
   "execution_count": 88,
   "id": "e733b123",
   "metadata": {},
   "outputs": [
    {
     "name": "stdout",
     "output_type": "stream",
     "text": [
      "None\n"
     ]
    }
   ],
   "source": [
    "password = \"f3f\"\n",
    "print(re.fullmatch('[0-9]+', password))"
   ]
  },
  {
   "cell_type": "code",
   "execution_count": 52,
   "id": "ed52c6a5",
   "metadata": {},
   "outputs": [
    {
     "ename": "KeyboardInterrupt",
     "evalue": "",
     "output_type": "error",
     "traceback": [
      "\u001b[1;31m---------------------------------------------------------------------------\u001b[0m",
      "\u001b[1;31mKeyboardInterrupt\u001b[0m                         Traceback (most recent call last)",
      "\u001b[1;32m~\\AppData\\Local\\Temp/ipykernel_14348/2265099274.py\u001b[0m in \u001b[0;36m<module>\u001b[1;34m\u001b[0m\n\u001b[0;32m      1\u001b[0m \u001b[0mn\u001b[0m \u001b[1;33m=\u001b[0m \u001b[1;36m8\u001b[0m\u001b[1;33m\u001b[0m\u001b[1;33m\u001b[0m\u001b[0m\n\u001b[0;32m      2\u001b[0m \u001b[0mpassword\u001b[0m \u001b[1;33m=\u001b[0m \u001b[1;34m\"абAB23о2\"\u001b[0m\u001b[1;33m\u001b[0m\u001b[1;33m\u001b[0m\u001b[0m\n\u001b[1;32m----> 3\u001b[1;33m \u001b[1;32mwhile\u001b[0m \u001b[1;32mnot\u001b[0m \u001b[0mre\u001b[0m\u001b[1;33m.\u001b[0m\u001b[0mfullmatch\u001b[0m\u001b[1;33m(\u001b[0m\u001b[1;34mr'[(A-Z|А-Я){2,}(a-z|а-я){2,}[^\\d{3}][^\\t\\n\\s\\0\\r]а-яА-яA-za-z]+'\u001b[0m\u001b[1;33m,\u001b[0m \u001b[0mpassword\u001b[0m\u001b[1;33m)\u001b[0m\u001b[1;33m:\u001b[0m\u001b[1;33m\u001b[0m\u001b[1;33m\u001b[0m\u001b[0m\n\u001b[0m\u001b[0;32m      4\u001b[0m     \u001b[0mpassword\u001b[0m \u001b[1;33m=\u001b[0m \u001b[1;34m\"\"\u001b[0m\u001b[1;33m.\u001b[0m\u001b[0mjoin\u001b[0m\u001b[1;33m(\u001b[0m\u001b[1;33m[\u001b[0m\u001b[0mrandom\u001b[0m\u001b[1;33m.\u001b[0m\u001b[0mchoice\u001b[0m\u001b[1;33m(\u001b[0m\u001b[0msymbols\u001b[0m\u001b[1;33m)\u001b[0m \u001b[1;32mfor\u001b[0m \u001b[0mi\u001b[0m \u001b[1;32min\u001b[0m \u001b[0mrange\u001b[0m\u001b[1;33m(\u001b[0m\u001b[0mn\u001b[0m\u001b[1;33m)\u001b[0m\u001b[1;33m]\u001b[0m\u001b[1;33m)\u001b[0m\u001b[1;33m\u001b[0m\u001b[1;33m\u001b[0m\u001b[0m\n\u001b[0;32m      5\u001b[0m \u001b[0mprint\u001b[0m\u001b[1;33m(\u001b[0m\u001b[0mpassword\u001b[0m\u001b[1;33m)\u001b[0m\u001b[1;33m\u001b[0m\u001b[1;33m\u001b[0m\u001b[0m\n",
      "\u001b[1;31mKeyboardInterrupt\u001b[0m: "
     ]
    }
   ],
   "source": [
    "n = 8\n",
    "password = \"абAB23о2\"\n",
    "while not re.fullmatch(r'[(A-Z|А-Я){2,}(a-z|а-я){2,}[^\\d{3}][^\\t\\n\\s\\0\\r]а-яА-яA-za-z]+', password):\n",
    "    password = \"\".join([random.choice(symbols) for i in range(n)])\n",
    "print(password)"
   ]
  },
  {
   "cell_type": "markdown",
   "id": "de637172",
   "metadata": {},
   "source": [
    "### Как там героев Федора Михайловича перевели?\n",
    "\n",
    "1. Вычлените из текста цельные предложения, в которых упоминаются герои по их `Имени Отчеству` (примерно)\n",
    "2. Отфильтруйте только вопросительные предложения\n",
    "3. Предложения должны начинаться с `Имени Отчества` (вам поможет positive look-behind)"
   ]
  },
  {
   "cell_type": "code",
   "execution_count": 18,
   "id": "ba82d990",
   "metadata": {},
   "outputs": [],
   "source": [
    "def get_content() -> tuple:\n",
    "    \"\"\"\n",
    "    return:\n",
    "        content : str - контент книги\n",
    "        sentences : list - предложения\n",
    "    \"\"\"\n",
    "    with open('crime-punishment.txt', 'r', encoding='utf-8') as f:\n",
    "        content = []\n",
    "\n",
    "        for line in f.readlines()[128:]: # именно с этой строки начинается сама книга\n",
    "            new_line = line.rstrip()\n",
    "            if (new_line and \n",
    "                not re.match('(PART|CHAPTER) [IV]+', new_line)):\n",
    "                # я посмотрела файл, там максимум 9 глав\\частей\n",
    "                content.append(new_line)\n",
    "\n",
    "        content = \" \".join(content)\n",
    "        sentences = re.split(r'\\. |! |\\? |\\.” |\\?”|!”|\\?’ |!’ |\\?” |!” ', content)\n",
    "    return content, sentences"
   ]
  },
  {
   "cell_type": "code",
   "execution_count": 19,
   "id": "29a2ed94",
   "metadata": {},
   "outputs": [],
   "source": [
    "def get_sent_with_names(sentences: list) -> list:\n",
    "    \"\"\"\n",
    "    return:\n",
    "        sent_with_names : list - предложения включающие Имя Отчество \n",
    "    \"\"\"\n",
    "    sent_with_names = []\n",
    "\n",
    "    for sentence in sentences:\n",
    "        if re.search('[A-Z]\\w+\\s[A-Z]\\w+', sentence): # имя отчество\n",
    "            sent_with_names.append(sentence)\n",
    "    return sent_with_names"
   ]
  },
  {
   "cell_type": "code",
   "execution_count": 20,
   "id": "4758d8e9",
   "metadata": {},
   "outputs": [],
   "source": [
    "def get_start_with_names(sentences) -> list:\n",
    "    \"\"\"\n",
    "    return:\n",
    "        with_names : list - предложения, начинающиеся с Имени Отчества\n",
    "    \"\"\"\n",
    "    with_names = []\n",
    "    for sentence in sentences:\n",
    "        if re.match(r'[A-Z]\\w+\\s[A-Z]\\w+.[\\w{\\,\\;\\:}\\s]+', sentence):\n",
    "            with_names.append(sentence)\n",
    "    return with_names"
   ]
  },
  {
   "cell_type": "code",
   "execution_count": 5,
   "id": "91ad0f4f",
   "metadata": {},
   "outputs": [],
   "source": [
    "content, sentences = get_content()\n",
    "# print(content)"
   ]
  },
  {
   "cell_type": "markdown",
   "id": "a363ba14",
   "metadata": {},
   "source": [
    "Отфильтровать только вопросительные предложения"
   ]
  },
  {
   "cell_type": "code",
   "execution_count": 15,
   "id": "ad4b4725",
   "metadata": {},
   "outputs": [
    {
     "name": "stdout",
     "output_type": "stream",
     "text": [
      "['Why am I going there now?', 'Am I capable of _that_?', 'Is _that_ serious?', 'If I am so scared now, what would it be if it somehow came to pass that I were really going to do it?', 'What do you want?']\n"
     ]
    }
   ],
   "source": [
    "only_questions = re.findall(r'[A-Z]+[\\w{\\,\\:\\;}\\s]*\\?', content)\n",
    "print(only_questions[:5])\n"
   ]
  },
  {
   "cell_type": "markdown",
   "id": "070b34b8",
   "metadata": {},
   "source": [
    "Предложения включащие Имя Отчество"
   ]
  },
  {
   "cell_type": "code",
   "execution_count": 16,
   "id": "7b0d3eea",
   "metadata": {},
   "outputs": [
    {
     "name": "stdout",
     "output_type": "stream",
     "text": [
      "['How much will you give me for the watch, Alyona Ivanovna?', 'Katerina Ivanovna, am I really to do a thing like that?', 'His excellency Ivan Afanasyvitch, do you know him?', 'Oh Lord, why dost Thou receive these men?', 'How are you going to save them from Svidrigaïlovs, from Afanasy Ivanovitch Vahrushin, oh, future millionaire Zeus who would arrange their lives for them?']\n"
     ]
    }
   ],
   "source": [
    "sent_with_names = get_sent_with_names(only_questions)\n",
    "print(sent_with_names[:5])"
   ]
  },
  {
   "cell_type": "markdown",
   "id": "f050b787",
   "metadata": {},
   "source": [
    "Предложения начинающиеся с Имени Отчества"
   ]
  },
  {
   "cell_type": "code",
   "execution_count": 21,
   "id": "ad9bf61d",
   "metadata": {},
   "outputs": [
    {
     "data": {
      "text/plain": [
       "['Marfa Petrovna?',\n",
       " 'What Marfa Petrovna?',\n",
       " 'Porfiry Petrovitch?',\n",
       " 'Nikodim Fomitch about me?',\n",
       " 'Did Porfiry wink at me just now?']"
      ]
     },
     "execution_count": 21,
     "metadata": {},
     "output_type": "execute_result"
    }
   ],
   "source": [
    "sent_start_names = get_start_with_names(sent_with_names)\n",
    "sent_start_names[10:15]"
   ]
  },
  {
   "cell_type": "markdown",
   "id": "6a849e27",
   "metadata": {},
   "source": [
    "#### Ошибся со временем\n",
    "\n",
    "Вы написали длинное письмо, где описали свои планы на день с указанием конкретных временных промежутков. Однако позже вы осознали, что на самом деле забыли об одном важном деле, и теперь все даты в вашем письме неверные. Напишите программу, которая заменяет все временные указания на строчку TBD\n",
    "\n",
    "*Пример:*\n",
    "\n",
    "`Уважаемый Д.! Если вы к 12:00 вторника не подготовите свой семинар, то уже в 12:00:01 я за себя не отвечаю. \n",
    "Нужно нагененировать хотя бы 6 задач и успеть разобрать в идеале 80:100 из них` \n",
    "\n",
    "->\n",
    "\n",
    "`Уважаемый Д.! Если вы к (TBD) вторника не подготовите свой семинар, то уже в (TBD) я за себя не отвечаю. \n",
    "Нужно нагененировать хотя бы 6 задач и успеть разобрать в идеале 80:100 из них` "
   ]
  },
  {
   "cell_type": "code",
   "execution_count": null,
   "id": "8a40413a",
   "metadata": {},
   "outputs": [],
   "source": []
  }
 ],
 "metadata": {
  "kernelspec": {
   "display_name": "Python 3 (ipykernel)",
   "language": "python",
   "name": "python3"
  },
  "language_info": {
   "codemirror_mode": {
    "name": "ipython",
    "version": 3
   },
   "file_extension": ".py",
   "mimetype": "text/x-python",
   "name": "python",
   "nbconvert_exporter": "python",
   "pygments_lexer": "ipython3",
   "version": "3.8.8"
  },
  "toc": {
   "base_numbering": 1,
   "nav_menu": {},
   "number_sections": true,
   "sideBar": true,
   "skip_h1_title": false,
   "title_cell": "Table of Contents",
   "title_sidebar": "Contents",
   "toc_cell": false,
   "toc_position": {},
   "toc_section_display": true,
   "toc_window_display": true
  }
 },
 "nbformat": 4,
 "nbformat_minor": 5
}
