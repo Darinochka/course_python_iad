{
 "cells": [
  {
   "cell_type": "code",
   "execution_count": 9,
   "metadata": {},
   "outputs": [],
   "source": [
    "import re"
   ]
  },
  {
   "cell_type": "markdown",
   "metadata": {},
   "source": [
    "### E-mails\n",
    "\n",
    "Вы забеспокоились о приватности данных ваших однокурсников и преподавателей и решили тайком удалить все их личные почты из общего файла. При этом, вы хотите, чтобы с ними можно было связаться, поэтому университетские почты вы в файле оставляете.\n",
    "\n",
    "Вывести все упомянутые почты. Все почты, не отсносящиеся к @hse.ru или @edu.hse.ru, заменить на фразу \"Pr1v@cY REstorED\"\n",
    "\n",
    "PS Попробуйте сделать это в командной строчке линукса. Вам поможет команда sed"
   ]
  },
  {
   "cell_type": "code",
   "execution_count": 10,
   "metadata": {},
   "outputs": [
    {
     "name": "stdout",
     "output_type": "stream",
     "text": [
      "ddrustamova\n",
      "ejrpgerg\n",
      "ddrustamova\n",
      "Pr1v@cY REstorED\n",
      "Pr1v@cY REstorED\n",
      "Pr1v@cY REstorED\n",
      "alena\n",
      "mila\n",
      "Pr1v@cY REstorED\n",
      "Pr1v@cY REstorED\n"
     ]
    }
   ],
   "source": [
    "with open('mails.txt', 'r') as f:\n",
    "    for line in f.readlines():\n",
    "        line = line.rstrip()\n",
    "        convert_corr = re.sub('.*@(?!(edu.hse.ru|hse.ru))', 'Pr1v@cY REstorED@ ', line)\n",
    "        clear_email = re.split('@', convert_corr)[:-1] # делим по @ и убираем последний (т.е @mail.ru)\n",
    "        print(\"@\".join(clear_email))"
   ]
  },
  {
   "cell_type": "markdown",
   "metadata": {},
   "source": [
    "### Как там героев Федора Михайловича перевели?\n",
    "\n",
    "1. Вычлените из текста цельные предложения, в которых упоминаются герои по их `Имени Отчеству` (примерно)\n",
    "2. Отфильтруйте только вопросительные предложения\n",
    "3. Предложения должны начинаться с `Имени Отчества` (вам поможет positive look-behind)"
   ]
  },
  {
   "cell_type": "code",
   "execution_count": 11,
   "metadata": {},
   "outputs": [],
   "source": [
    "def get_content() -> tuple:\n",
    "    \"\"\"\n",
    "    return:\n",
    "        content : str - контент книги\n",
    "        sentences : list - предложения\n",
    "    \"\"\"\n",
    "    with open('crime-punishment.txt', 'r', encoding='utf-8') as f:\n",
    "        content = []\n",
    "\n",
    "        for line in f.readlines()[128:]: # именно с этой строки начинается сама книга\n",
    "            new_line = line.rstrip()\n",
    "            if (new_line and \n",
    "                not re.match('(PART|CHAPTER) [IV]+', new_line)):\n",
    "                # я посмотрела файл, там максимум 9 глав\\частей\n",
    "                content.append(new_line)\n",
    "\n",
    "        content = \" \".join(content)\n",
    "        sentences = re.split(r'\\. |! |\\? |\\.” |\\?”|!”|\\?’ |!’ |\\?” |!” ', content)\n",
    "    return content, sentences"
   ]
  },
  {
   "cell_type": "code",
   "execution_count": 12,
   "metadata": {},
   "outputs": [],
   "source": [
    "def get_sent_with_names(sentences: list) -> list:\n",
    "    \"\"\"\n",
    "    return:\n",
    "        sent_with_names : list - предложения включающие Имя Отчество \n",
    "    \"\"\"\n",
    "    sent_with_names = []\n",
    "\n",
    "    for sentence in sentences:\n",
    "        if re.search('[A-Z]\\w+\\s[A-Z]\\w+', sentence): # имя отчество\n",
    "            sent_with_names.append(sentence)\n",
    "    return sent_with_names"
   ]
  },
  {
   "cell_type": "code",
   "execution_count": 13,
   "metadata": {},
   "outputs": [],
   "source": [
    "def get_start_with_names(sentences) -> list:\n",
    "    \"\"\"\n",
    "    return:\n",
    "        with_names : list - предложения, начинающиеся с Имени Отчества\n",
    "    \"\"\"\n",
    "    with_names = []\n",
    "    for sentence in sentences:\n",
    "        if re.match(r'[A-Z]\\w+\\s[A-Z]\\w+.[\\w{\\,\\;\\:}\\s]+', sentence):\n",
    "            with_names.append(sentence)\n",
    "    return with_names"
   ]
  },
  {
   "cell_type": "code",
   "execution_count": 14,
   "metadata": {},
   "outputs": [],
   "source": [
    "content, sentences = get_content()\n",
    "# print(content)"
   ]
  },
  {
   "cell_type": "markdown",
   "metadata": {},
   "source": [
    "Отфильтровать только вопросительные предложения"
   ]
  },
  {
   "cell_type": "code",
   "execution_count": 15,
   "metadata": {},
   "outputs": [
    {
     "name": "stdout",
     "output_type": "stream",
     "text": [
      "['Why am I going there now?', 'Am I capable of _that_?', 'Is _that_ serious?', 'If I am so scared now, what would it be if it somehow came to pass that I were really going to do it?', 'What do you want?']\n"
     ]
    }
   ],
   "source": [
    "only_questions = re.findall(r'[A-Z]+[\\w{\\,\\:\\;}\\s]*\\?', content)\n",
    "print(only_questions[:5])"
   ]
  },
  {
   "cell_type": "markdown",
   "metadata": {},
   "source": [
    "Предложения включащие Имя Отчество"
   ]
  },
  {
   "cell_type": "code",
   "execution_count": 17,
   "metadata": {},
   "outputs": [
    {
     "name": "stdout",
     "output_type": "stream",
     "text": [
      "['How much will you give me for the watch, Alyona Ivanovna?', 'Katerina Ivanovna, am I really to do a thing like that?', 'His excellency Ivan Afanasyvitch, do you know him?', 'Oh Lord, why dost Thou receive these men?', 'How are you going to save them from Svidrigaïlovs, from Afanasy Ivanovitch Vahrushin, oh, future millionaire Zeus who would arrange their lives for them?']\n"
     ]
    }
   ],
   "source": [
    "sent_with_names = get_sent_with_names(only_questions)\n",
    "print(sent_with_names[:5])"
   ]
  },
  {
   "cell_type": "markdown",
   "metadata": {},
   "source": [
    "Предложения начинающиеся с Имени Отчества"
   ]
  },
  {
   "cell_type": "code",
   "execution_count": 18,
   "metadata": {},
   "outputs": [
    {
     "data": {
      "text/plain": [
       "['Marfa Petrovna?',\n",
       " 'What Marfa Petrovna?',\n",
       " 'Porfiry Petrovitch?',\n",
       " 'Nikodim Fomitch about me?',\n",
       " 'Did Porfiry wink at me just now?']"
      ]
     },
     "execution_count": 18,
     "metadata": {},
     "output_type": "execute_result"
    }
   ],
   "source": [
    "sent_start_names = get_start_with_names(sent_with_names)\n",
    "sent_start_names[10:15]"
   ]
  },
  {
   "cell_type": "markdown",
   "metadata": {},
   "source": [
    "### Ошибся со временем\n",
    "\n",
    "Вы написали длинное письмо, где описали свои планы на день с указанием конкретных временных промежутков. Однако позже вы осознали, что на самом деле забыли об одном важном деле, и теперь все даты в вашем письме неверные. Напишите программу, которая заменяет все временные указания на строчку TBD\n",
    "\n",
    "*Пример:*\n",
    "\n",
    "`Уважаемый Д.! Если вы к 12:00 вторника не подготовите свой семинар, то уже в 12:00:01 я за себя не отвечаю. \n",
    "Нужно нагененировать хотя бы 6 задач и успеть разобрать в идеале 80:100 из них` \n",
    "\n",
    "->\n",
    "\n",
    "`Уважаемый Д.! Если вы к (TBD) вторника не подготовите свой семинар, то уже в (TBD) я за себя не отвечаю. \n",
    "Нужно нагененировать хотя бы 6 задач и успеть разобрать в идеале 80:100 из них` "
   ]
  },
  {
   "cell_type": "code",
   "execution_count": 77,
   "metadata": {},
   "outputs": [],
   "source": [
    "letter = '''\n",
    "Уважаемый Д.! Если вы к 12:00 вторника не подготовите свой семинар, то уже в 12:00:01 я за себя не отвечаю. \n",
    "Нужно нагененировать хотя бы 6 задач и успеть разобрать в идеале 80:100 из них. Ура! Я вроде успела\n",
    "сделать домашку к 12 ночи! Осталость ее сдать до семинара в 11:01. Ого, часы сломались! Показывают время 60:00\n",
    "'''"
   ]
  },
  {
   "cell_type": "code",
   "execution_count": 78,
   "metadata": {},
   "outputs": [
    {
     "name": "stdout",
     "output_type": "stream",
     "text": [
      "\n",
      "Уважаемый Д.! Если вы к (TBD) вторника не подготовите свой семинар, то уже в (TBD) я за себя не отвечаю. \n",
      "Нужно нагененировать хотя бы 6 задач и успеть разобрать в идеале 80:100 из них. Ура! Я вроде успела\n",
      "сделать домашку к (TBD) ночи! Осталость ее сдать до семинара в (TBD). Ого, часы сломались! Показывают время 60:00\n",
      "\n"
     ]
    }
   ],
   "source": [
    "new_let = re.sub('(?<=\\s)([01][0-9]|2[012])(:[0-5][0-9](:[0-5][0-9])?)?(?=[\\s\\.\\,])', '(TBD)', letter)\n",
    "print(new_let)"
   ]
  }
 ],
 "metadata": {
  "interpreter": {
   "hash": "07efdcd4b820c98a756949507a4d29d7862823915ec7477944641bea022f4f62"
  },
  "kernelspec": {
   "display_name": "Python 3.8.8 64-bit ('base': conda)",
   "language": "python",
   "name": "python3"
  },
  "language_info": {
   "codemirror_mode": {
    "name": "ipython",
    "version": 3
   },
   "file_extension": ".py",
   "mimetype": "text/x-python",
   "name": "python",
   "nbconvert_exporter": "python",
   "pygments_lexer": "ipython3",
   "version": "3.8.8"
  },
  "orig_nbformat": 4
 },
 "nbformat": 4,
 "nbformat_minor": 2
}
